{
 "cells": [
  {
   "cell_type": "code",
   "execution_count": 1,
   "id": "a54ab90f",
   "metadata": {
    "deletable": false,
    "editable": false
   },
   "outputs": [],
   "source": [
    "# Initialize Otter\n",
    "import otter\n",
    "grader = otter.Notebook(\"project1.ipynb\")"
   ]
  },
  {
   "cell_type": "markdown",
   "id": "c7db10fe",
   "metadata": {},
   "source": [
    "<img src=\"data8logo.png\" alt=\"Data 8 Logo\" style=\"width: 15%; float: right; padding: 1%; margin-right: 2%;\"/>\n",
    "\n",
    "# Project 1: World Population and Poverty\n",
    "\n",
    "In this project, you'll explore data from [Gapminder.org](http://gapminder.org), a website dedicated to providing a fact-based view of the world and how it has changed. That site includes several data visualizations and presentations, but also publishes the raw data that we will use in this project to recreate and extend some of their most famous visualizations.\n",
    "\n",
    "The Gapminder website collects data from many sources and compiles them into tables that describe many countries around the world. All of the data they aggregate are published in the [Systema Globalis](https://github.com/open-numbers/ddf--gapminder--systema_globalis/blob/master/README.md). Their goal is \"to compile all public statistics; Social, Economic and Environmental; into a comparable total dataset.\" All data sets in this project are copied directly from the Systema Globalis without any changes.\n",
    "\n",
    "This project is dedicated to [Hans Rosling](https://en.wikipedia.org/wiki/Hans_Rosling) (1948-2017), who championed the use of data to understand and prioritize global development challenges."
   ]
  },
  {
   "cell_type": "markdown",
   "id": "383d99ae",
   "metadata": {},
   "source": [
    "### Logistics\n",
    "\n",
    "**Deadline.**  This project is due at **5:00pm PT on Friday 10/4**. Projects will be accepted up to 1 day (24 hours) late. Projects submitted fewer than 24 hours after the deadline will receive 80% credit. It's **much** better to be early than late, so start working now.\n",
    "\n",
    "**Checkpoint.**  For full credit on the checkpoint, you must complete the questions up to the checkpoint, **pass all _public_ autograder tests** for those sections, and submit to the Gradescope Project 1 Checkpoint assignment by **5:00pm PT on Friday, 9/27**. <span style=\"color: #BC412B\">**The checkpoint is worth 5% of your entire project grade**</span>. After you've submitted the checkpoint, you may still change your project answers before the final project deadline - only your final submission, to the \"Project 1\" assignment, will be graded for correctness. You will have some lab time to work on these questions, but we recommend that you start the project before lab and leave time to finish the checkpoint afterward.\n",
    "\n",
    "**Partners.** You may work with one other partner; your partner must be from your assigned lab section. **<span style=\"color: #BC412B\">Only one partner should submit the project notebook to Gradescope.</span> If both partners submit, you will be docked 10% of your project grade. On Gradescope, the person who submits should also designate their partner so that both of you receive credit.** Once you submit, click into your submission, and there will be an option to Add Group Member in the top right corner. You may also reference [this walkthrough video](https://drive.google.com/file/d/12lBUSu5hFOZCdBE5QTQuBalT0nMgRhyC/view?usp=drive_link) on how to add partners on Gradescope.\n",
    "\n",
    "\n",
    "**Rules.** Don't share your code with anybody but your partner. You are welcome to discuss questions with other students, but don't share the answers. The experience of solving the problems in this project will prepare you for exams (and life). If someone asks you for the answer, resist! Instead, you can demonstrate how you would solve a similar problem.\n",
    "\n",
    "**Support.** You are not alone! Come to office hours, post on Ed, and talk to your classmates. If you want to ask about the details of your solution to a problem, make a private Ed post and the staff will respond. If you're ever feeling overwhelmed or don't know how to make progress, email your TA or tutor for help. You can find contact information for the staff on the [course website](https://www.data8.org/fa24/).\n",
    "\n",
    "**Tests.** <span style=\"color: #BC412B\">The tests that are given are **not comprehensive** and passing the tests for a question **does not** mean that you answered the question correctly.</span> Tests usually only check that your table has the correct column labels. However, more tests will be applied to verify the correctness of your submission in order to assign your final score, so be careful and check your work! You might want to create your own checks along the way to see if your answers make sense. Additionally, before you submit, make sure that none of your cells take a very long time to run (several minutes).\n",
    "\n",
    "**Free Response Questions:** Make sure that you put the answers to the written questions in the indicated cell we provide. **Every free response question should include an explanation** that adequately answers the question.\n",
    "\n",
    "**Tabular Thinking Guide:** Feel free to reference [Tabular Thinking Guide](https://drive.google.com/file/d/1NvbBECCBdI0Ku380oPcTUOcpjH3RI230/view) for extra guidance.\n",
    "\n",
    "**Advice.** Develop your answers incrementally. To perform a complicated table manipulation, break it up into steps, perform each step on a different line, give a new name to each result, and check that each intermediate result is what you expect. You can add any additional names or functions you want to the provided cells. Make sure that you are using distinct and meaningful variable names throughout the notebook. Along that line, **DO NOT** reuse the variable names that we use when we grade your answers. For example, in Question 1 of the Global Poverty section we ask you to assign an answer to `latest`. Do not reassign the variable name `latest` to anything else in your notebook, otherwise there is the chance that our tests grade against what `latest` was reassigned to.\n",
    "\n",
    "You are **never** restricted to using only one line of code to solve a question in this project or any others. Feel free to use intermediate variables and multiple lines as much as you would like!\n",
    "\n",
    "---\n",
    "\n",
    "The point breakdown for this assignment is given in the table below:\n",
    "| Category | Points |\n",
    "| --- | --- |\n",
    "| Autograder (Coding questions) | 60 |\n",
    "| Written | 35 |\n",
    "| Checkpoint | 5 |\n",
    "| **Total** | 100 |\n",
    "\n",
    "---\n",
    "\n",
    "To get started, load `datascience`, `numpy`, `plots`, and `otter`."
   ]
  },
  {
   "cell_type": "code",
   "execution_count": 2,
   "id": "295bacde",
   "metadata": {
    "deletable": false
   },
   "outputs": [],
   "source": [
    "# Run this cell to set up the notebook, but please don't change it. \n",
    "\n",
    "# These lines import the NumPy and Datascience modules.\n",
    "from datascience import *\n",
    "import numpy as np\n",
    "\n",
    "# These lines do some fancy plotting magic.\n",
    "%matplotlib inline\n",
    "import matplotlib.pyplot as plots\n",
    "plots.style.use('fivethirtyeight')\n",
    "\n",
    "from ipywidgets import interact, interactive, fixed, interact_manual\n",
    "import ipywidgets as widgets"
   ]
  },
  {
   "cell_type": "markdown",
   "id": "c4102aa7",
   "metadata": {},
   "source": [
    "<hr style=\"border: 5px solid #003262;\" />\n",
    "<hr style=\"border: 1px solid #fdb515;\" />\n",
    "\n",
    "## 0. Hazards with `.show`\n",
    "\n",
    "As a heads up, please do not run the function `tbl.show()` in this assignment without an argument. For instance if you want to view a table, please type `tbl.show(10)` instead of `tbl.show()`. This may break your notebook and we cannot guarantee what we will have the capacity to aid you in this. Please answer the question below, and set the value to `True` to confirm you have read this and agree."
   ]
  },
  {
   "cell_type": "code",
   "execution_count": 3,
   "id": "a79fa166",
   "metadata": {
    "tags": []
   },
   "outputs": [],
   "source": [
    "i_wont_use_show_without_an_argument = True"
   ]
  },
  {
   "cell_type": "code",
   "execution_count": 4,
   "id": "7fc1dc59",
   "metadata": {
    "deletable": false,
    "editable": false
   },
   "outputs": [
    {
     "data": {
      "text/html": [
       "<p><strong><pre style='display: inline;'>q0</pre></strong> passed! 🍀</p>"
      ],
      "text/plain": [
       "q0 results: All test cases passed!"
      ]
     },
     "execution_count": 4,
     "metadata": {},
     "output_type": "execute_result"
    }
   ],
   "source": [
    "grader.check(\"q0\")"
   ]
  },
  {
   "cell_type": "markdown",
   "id": "61d76700",
   "metadata": {
    "deletable": false,
    "editable": false
   },
   "source": [
    "<hr style=\"border: 5px solid #003262;\" />\n",
    "<hr style=\"border: 1px solid #fdb515;\" />\n",
    "\n",
    "## 1. Global Population Growth\n"
   ]
  },
  {
   "cell_type": "markdown",
   "id": "ac0c22c3",
   "metadata": {
    "deletable": false,
    "editable": false
   },
   "source": [
    "The global population of humans reached 1 billion around 1800, 3 billion around 1960, 7 billion around 2011, and 8 billion around 2022. The potential impact of population growth has concerned scientists, economists, and politicians alike.\n",
    "\n",
    "The United Nations Population Division estimates that the world population will likely continue to grow throughout the 21st century, but at a slower rate, perhaps reaching and stabilizing at 10 billion by 2100. However, the UN does not rule out scenarios of slower or more extreme growth. These projections help us understand long-term population processes, even if they leave out possible global catastrophic events like war or climate crises.\n",
    "\n",
    "<a href=\"https://population.un.org/wpp/Graphs/Probabilistic/POP/TOT/900\"> \n",
    " <img src=\"un_population_projection.png\"/> \n",
    "</a>\n",
    "\n",
    "In this part of the project, we will examine some of the factors that influence population growth and how they have been changing over the years and around the world. There are two main sub-parts of this analysis.\n",
    "\n",
    "- First, we will examine the data for one country, Poland. We will see how factors such as life expectancy, fertility rate, and child mortality have changed over time in Poland, and how they are related to the rate of population growth.\n",
    "- Next, we will examine whether the changes we have observed for Poland are particular to that country or whether they reflect general patterns observable in other countries too. We will study aspects of world population growth and see how they have been changing.\n",
    "\n",
    "The first table we will consider contains the total population of each country over time. Run the cell below.\n"
   ]
  },
  {
   "cell_type": "code",
   "execution_count": 5,
   "id": "fd8d98c0",
   "metadata": {
    "deletable": false,
    "scrolled": true
   },
   "outputs": [
    {
     "data": {
      "text/html": [
       "<table border=\"1\" class=\"dataframe\">\n",
       "    <thead>\n",
       "        <tr>\n",
       "            <th>geo</th> <th>time</th> <th>population_total</th>\n",
       "        </tr>\n",
       "    </thead>\n",
       "    <tbody>\n",
       "        <tr>\n",
       "            <td>afg </td> <td>1800</td> <td>3280000         </td>\n",
       "        </tr>\n",
       "        <tr>\n",
       "            <td>afg </td> <td>1801</td> <td>3280000         </td>\n",
       "        </tr>\n",
       "        <tr>\n",
       "            <td>afg </td> <td>1802</td> <td>3280000         </td>\n",
       "        </tr>\n",
       "    </tbody>\n",
       "</table>\n",
       "<p>... (44322 rows omitted)</p>"
      ],
      "text/plain": [
       "<IPython.core.display.HTML object>"
      ]
     },
     "metadata": {},
     "output_type": "display_data"
    }
   ],
   "source": [
    "population = Table.read_table('population.csv').where(\"time\", are.below(2025))\n",
    "population.show(3)"
   ]
  },
  {
   "cell_type": "markdown",
   "id": "c185446a",
   "metadata": {},
   "source": [
    "**Note:** The population data can also be found [here](https://www.gapminder.org/data/documentation/gd003/).\n"
   ]
  },
  {
   "cell_type": "markdown",
   "id": "02092da9",
   "metadata": {
    "deletable": false
   },
   "source": [
    "### Poland\n",
    "\n",
    "The Central European nation of Poland has undergone many changes over the centuries. In modern times it was (re)created as a democratic republic in 1919 after World War I. It was invaded and divided in World War II between Germany and the Soviet Union. War and the Holocaust had a devastating impact on its people. Poland was constituted in its current borders at the end of World War II (1945) under a communist government. In 1989, with the fall of the Soviet Union, Poland re-established itself as a democratic republic.\n",
    "\n",
    "In this section of the project, we will examine aspects of the population of Poland since 1900. Poland's borders have changed, so we will look at the population within its current (2024) borders.\n",
    "\n",
    "In the `population` table, the `geo` column contains three-letter codes established by the [International Organization for Standardization](https://en.wikipedia.org/wiki/International_Organization_for_Standardization) (ISO) in the [Alpha-3](https://en.wikipedia.org/wiki/ISO_3166-1_alpha-3#Current_codes) standard. **Use the Alpha-3 link to find the 3-letter code for Poland.**\n"
   ]
  },
  {
   "cell_type": "markdown",
   "id": "4b9427ec",
   "metadata": {},
   "source": [
    "---\n",
    "\n",
    "**Question 1.** Create a table called `p_pop` that has two columns labeled `time` and `population_total`. The first column should contain the years from 1900 through 2024 (including both 1900 and 2024) and the second column should contain the population of Poland in each of those years.\n"
   ]
  },
  {
   "cell_type": "code",
   "execution_count": 6,
   "id": "af7c5003",
   "metadata": {
    "deletable": false,
    "tags": []
   },
   "outputs": [
    {
     "data": {
      "text/html": [
       "<table border=\"1\" class=\"dataframe\">\n",
       "    <thead>\n",
       "        <tr>\n",
       "            <th>time</th> <th>population_total</th>\n",
       "        </tr>\n",
       "    </thead>\n",
       "    <tbody>\n",
       "        <tr>\n",
       "            <td>1900</td> <td>24308265        </td>\n",
       "        </tr>\n",
       "        <tr>\n",
       "            <td>1901</td> <td>24485193        </td>\n",
       "        </tr>\n",
       "        <tr>\n",
       "            <td>1902</td> <td>24660489        </td>\n",
       "        </tr>\n",
       "        <tr>\n",
       "            <td>1903</td> <td>24834119        </td>\n",
       "        </tr>\n",
       "        <tr>\n",
       "            <td>1904</td> <td>25008969        </td>\n",
       "        </tr>\n",
       "        <tr>\n",
       "            <td>1905</td> <td>25185047        </td>\n",
       "        </tr>\n",
       "        <tr>\n",
       "            <td>1906</td> <td>25362361        </td>\n",
       "        </tr>\n",
       "        <tr>\n",
       "            <td>1907</td> <td>25540920        </td>\n",
       "        </tr>\n",
       "        <tr>\n",
       "            <td>1908</td> <td>25720733        </td>\n",
       "        </tr>\n",
       "        <tr>\n",
       "            <td>1909</td> <td>25808244        </td>\n",
       "        </tr>\n",
       "    </tbody>\n",
       "</table>\n",
       "<p>... (115 rows omitted)</p>"
      ],
      "text/plain": [
       "time | population_total\n",
       "1900 | 24308265\n",
       "1901 | 24485193\n",
       "1902 | 24660489\n",
       "1903 | 24834119\n",
       "1904 | 25008969\n",
       "1905 | 25185047\n",
       "1906 | 25362361\n",
       "1907 | 25540920\n",
       "1908 | 25720733\n",
       "1909 | 25808244\n",
       "... (115 rows omitted)"
      ]
     },
     "execution_count": 6,
     "metadata": {},
     "output_type": "execute_result"
    }
   ],
   "source": [
    "p_pop = population.where('geo','pol').drop('geo').where('time',are.between_or_equal_to(1900,2024)).drop('geo')\n",
    "p_pop"
   ]
  },
  {
   "cell_type": "code",
   "execution_count": 7,
   "id": "a089432b",
   "metadata": {
    "deletable": false,
    "editable": false
   },
   "outputs": [
    {
     "data": {
      "text/html": [
       "<p><strong><pre style='display: inline;'>q1_1</pre></strong> passed! 🚀</p>"
      ],
      "text/plain": [
       "q1_1 results: All test cases passed!"
      ]
     },
     "execution_count": 7,
     "metadata": {},
     "output_type": "execute_result"
    }
   ],
   "source": [
    "grader.check(\"q1_1\")"
   ]
  },
  {
   "cell_type": "markdown",
   "id": "4c4dd912",
   "metadata": {
    "deletable": false
   },
   "source": [
    "Run the following cell to create a table called `p_five` that has the population of Poland every five years.\n"
   ]
  },
  {
   "cell_type": "code",
   "execution_count": 8,
   "id": "16069c50",
   "metadata": {
    "deletable": false
   },
   "outputs": [
    {
     "data": {
      "text/html": [
       "<table border=\"1\" class=\"dataframe\">\n",
       "    <thead>\n",
       "        <tr>\n",
       "            <th>time</th> <th>population_total</th>\n",
       "        </tr>\n",
       "    </thead>\n",
       "    <tbody>\n",
       "        <tr>\n",
       "            <td>1900</td> <td>24,308,265      </td>\n",
       "        </tr>\n",
       "        <tr>\n",
       "            <td>1905</td> <td>25,185,047      </td>\n",
       "        </tr>\n",
       "        <tr>\n",
       "            <td>1910</td> <td>25,803,855      </td>\n",
       "        </tr>\n",
       "    </tbody>\n",
       "</table>\n",
       "<p>... (22 rows omitted)</p>"
      ],
      "text/plain": [
       "<IPython.core.display.HTML object>"
      ]
     },
     "metadata": {},
     "output_type": "display_data"
    }
   ],
   "source": [
    "p_pop.set_format('population_total', NumberFormatter)\n",
    "\n",
    "fives = np.arange(1900, 2021, 5) # 1900, 1905, 1910, ..., 2020\n",
    "p_five = p_pop.sort('time').where('time', are.contained_in(fives))\n",
    "p_five.show(3)"
   ]
  },
  {
   "cell_type": "markdown",
   "id": "8b219c0d",
   "metadata": {},
   "source": [
    "Run the following cell to visualize the population over time. Following the devastating effects of World War I and World War II, Poland's population increased steadily from 1950 to 2000 and then leveled off. In the following questions we'll investigate this period of population growth.\n"
   ]
  },
  {
   "cell_type": "code",
   "execution_count": 9,
   "id": "52600722",
   "metadata": {},
   "outputs": [
    {
     "data": {
      "image/png": "[encoded data removed]",
      "text/plain": [
       "<Figure size 600x600 with 1 Axes>"
      ]
     },
     "metadata": {},
     "output_type": "display_data"
    }
   ],
   "source": [
    "p_five.plot(0, 1)"
   ]
  },
  {
   "cell_type": "markdown",
   "id": "1305da95",
   "metadata": {},
   "source": [
    "---\n",
    "\n",
    "**Question 2.** Assign `initial` to an array that contains the population for every five year interval from **1900 to 2015** (inclusive). Then, assign `changed` to an array that contains the population for every five year interval from **1905 to 2020** (inclusive). The first array should include both 1900 and 2015, and the second array should include both 1905 and 2020. You should use the `p_five` table to create both arrays, by first filtering the table to only contain the relevant years.\n",
    "\n",
    "The annual growth rate for a time period is equal to:\n",
    "\n",
    "$$\\left(\\left(\\frac{\\text{Population at end of period}}{\\text{Population at start of period}}\\right)^{\\displaystyle\\frac{1}{\\text{number of years}}}\\right) -1$$\n",
    "\n",
    "We have provided the code below that uses `initial` and `changed` in order to add a column to `p_five` called `annual_growth`. **Don't worry about the calculation of the growth rates**; run the test below to test your solution.\n",
    "\n",
    "If you are interested in how we came up with the formula for growth rates, consult the [growth rates](https://inferentialthinking.com/chapters/03/2/1/Growth.html) section of the textbook.\n"
   ]
  },
  {
   "cell_type": "code",
   "execution_count": 10,
   "id": "9d53157f",
   "metadata": {
    "tags": []
   },
   "outputs": [
    {
     "data": {
      "text/html": [
       "<table border=\"1\" class=\"dataframe\">\n",
       "    <thead>\n",
       "        <tr>\n",
       "            <th>time</th> <th>population_total</th> <th>annual_growth</th>\n",
       "        </tr>\n",
       "    </thead>\n",
       "    <tbody>\n",
       "        <tr>\n",
       "            <td>1900</td> <td>24,308,265      </td> <td>0.71%        </td>\n",
       "        </tr>\n",
       "        <tr>\n",
       "            <td>1905</td> <td>25,185,047      </td> <td>0.49%        </td>\n",
       "        </tr>\n",
       "        <tr>\n",
       "            <td>1910</td> <td>25,803,855      </td> <td>-0.87%       </td>\n",
       "        </tr>\n",
       "        <tr>\n",
       "            <td>1915</td> <td>24,696,678      </td> <td>-0.75%       </td>\n",
       "        </tr>\n",
       "        <tr>\n",
       "            <td>1920</td> <td>23,785,820      </td> <td>1.32%        </td>\n",
       "        </tr>\n",
       "        <tr>\n",
       "            <td>1925</td> <td>25,395,008      </td> <td>1.52%        </td>\n",
       "        </tr>\n",
       "        <tr>\n",
       "            <td>1930</td> <td>27,378,955      </td> <td>0.75%        </td>\n",
       "        </tr>\n",
       "        <tr>\n",
       "            <td>1935</td> <td>28,414,953      </td> <td>0.32%        </td>\n",
       "        </tr>\n",
       "        <tr>\n",
       "            <td>1940</td> <td>28,876,472      </td> <td>-1.58%       </td>\n",
       "        </tr>\n",
       "        <tr>\n",
       "            <td>1945</td> <td>26,666,588      </td> <td>-1.46%       </td>\n",
       "        </tr>\n",
       "    </tbody>\n",
       "</table>\n",
       "<p>... (14 rows omitted)</p>"
      ],
      "text/plain": [
       "time | population_total | annual_growth\n",
       "1900 | 24,308,265       | 0.71%\n",
       "1905 | 25,185,047       | 0.49%\n",
       "1910 | 25,803,855       | -0.87%\n",
       "1915 | 24,696,678       | -0.75%\n",
       "1920 | 23,785,820       | 1.32%\n",
       "1925 | 25,395,008       | 1.52%\n",
       "1930 | 27,378,955       | 0.75%\n",
       "1935 | 28,414,953       | 0.32%\n",
       "1940 | 28,876,472       | -1.58%\n",
       "1945 | 26,666,588       | -1.46%\n",
       "... (14 rows omitted)"
      ]
     },
     "execution_count": 10,
     "metadata": {},
     "output_type": "execute_result"
    }
   ],
   "source": [
    "initial = p_five.column(1).take(np.arange(0,24))\n",
    "changed = p_five.column(1).take(np.arange(1,25))\n",
    "\n",
    "p_1900_through_2015 = p_five.where('time', are.below_or_equal_to(2015))\n",
    "p_five_growth = p_1900_through_2015.with_column('annual_growth', (changed/initial)**0.2-1)\n",
    "p_five_growth.set_format('annual_growth', PercentFormatter)"
   ]
  },
  {
   "cell_type": "code",
   "execution_count": 11,
   "id": "43f98cc0",
   "metadata": {
    "deletable": false,
    "editable": false
   },
   "outputs": [
    {
     "data": {
      "text/html": [
       "<p><strong><pre style='display: inline;'>q1_2</pre></strong> passed! 🍀</p>"
      ],
      "text/plain": [
       "q1_2 results: All test cases passed!"
      ]
     },
     "execution_count": 11,
     "metadata": {},
     "output_type": "execute_result"
    }
   ],
   "source": [
    "grader.check(\"q1_2\")"
   ]
  },
  {
   "cell_type": "markdown",
   "id": "f763e012",
   "metadata": {
    "deletable": false
   },
   "source": [
    "The annual growth rate in Poland has been declining since 1950, as shown in the table below.\n"
   ]
  },
  {
   "cell_type": "code",
   "execution_count": 12,
   "id": "38e04e27",
   "metadata": {},
   "outputs": [
    {
     "data": {
      "text/html": [
       "<table border=\"1\" class=\"dataframe\">\n",
       "    <thead>\n",
       "        <tr>\n",
       "            <th>time</th> <th>population_total</th> <th>annual_growth</th>\n",
       "        </tr>\n",
       "    </thead>\n",
       "    <tbody>\n",
       "        <tr>\n",
       "            <td>1950</td> <td>24,780,161      </td> <td>1.78%        </td>\n",
       "        </tr>\n",
       "        <tr>\n",
       "            <td>1955</td> <td>27,063,640      </td> <td>1.79%        </td>\n",
       "        </tr>\n",
       "        <tr>\n",
       "            <td>1960</td> <td>29,575,966      </td> <td>1.13%        </td>\n",
       "        </tr>\n",
       "        <tr>\n",
       "            <td>1965</td> <td>31,288,336      </td> <td>0.79%        </td>\n",
       "        </tr>\n",
       "        <tr>\n",
       "            <td>1970</td> <td>32,542,633      </td> <td>0.86%        </td>\n",
       "        </tr>\n",
       "        <tr>\n",
       "            <td>1975</td> <td>33,964,399      </td> <td>0.93%        </td>\n",
       "        </tr>\n",
       "        <tr>\n",
       "            <td>1980</td> <td>35,576,519      </td> <td>0.90%        </td>\n",
       "        </tr>\n",
       "        <tr>\n",
       "            <td>1985</td> <td>37,200,853      </td> <td>0.46%        </td>\n",
       "        </tr>\n",
       "        <tr>\n",
       "            <td>1990</td> <td>38,055,455      </td> <td>0.16%        </td>\n",
       "        </tr>\n",
       "        <tr>\n",
       "            <td>1995</td> <td>38,364,667      </td> <td>-0.06%       </td>\n",
       "        </tr>\n",
       "        <tr>\n",
       "            <td>2000</td> <td>38,258,071      </td> <td>-0.07%       </td>\n",
       "        </tr>\n",
       "        <tr>\n",
       "            <td>2005</td> <td>38,124,379      </td> <td>-0.02%       </td>\n",
       "        </tr>\n",
       "        <tr>\n",
       "            <td>2010</td> <td>38,095,351      </td> <td>0.09%        </td>\n",
       "        </tr>\n",
       "        <tr>\n",
       "            <td>2015</td> <td>38,266,314      </td> <td>-0.05%       </td>\n",
       "        </tr>\n",
       "    </tbody>\n",
       "</table>"
      ],
      "text/plain": [
       "<IPython.core.display.HTML object>"
      ]
     },
     "metadata": {},
     "output_type": "display_data"
    }
   ],
   "source": [
    "# Run this cell to view annual growth rates in Poland since 1950.\n",
    "p_five_growth.where('time', are.above_or_equal_to(1950)).show()"
   ]
  },
  {
   "cell_type": "markdown",
   "id": "83687e5e",
   "metadata": {},
   "source": [
    "Next, we'll try to understand what has changed in Poland that might explain the slowing population growth rate. Run the next cell to load three additional tables of measurements about countries over time.\n"
   ]
  },
  {
   "cell_type": "code",
   "execution_count": 13,
   "id": "66b82534",
   "metadata": {
    "deletable": false
   },
   "outputs": [],
   "source": [
    "life_expectancy = Table.read_table('life_expectancy.csv').where('time', are.below(2025))\n",
    "child_mortality = Table.read_table('child_mortality.csv').relabel(2, 'child_mortality_under_5_per_1000_born').where('time', are.below(2025))\n",
    "fertility = Table.read_table('fertility.csv').where('time', are.below(2025))"
   ]
  },
  {
   "cell_type": "markdown",
   "id": "3fb38e1b",
   "metadata": {
    "deletable": false,
    "editable": false
   },
   "source": [
    "The `life_expectancy` table contains a statistic that is often used to measure how long people live, called _life expectancy at birth_. This number, for a country in a given year, [does not measure how long babies born in that year are expected to live](http://blogs.worldbank.org/opendata/what-does-life-expectancy-birth-really-mean). Instead, it measures how long someone would live, on average, if the _mortality conditions_ in that year persisted throughout their lifetime. These \"mortality conditions\" describe what fraction of people for each age survived the year. So, it is a way of measuring the proportion of people that are staying alive, aggregated over different age groups in the population.\n"
   ]
  },
  {
   "cell_type": "markdown",
   "id": "637b9974",
   "metadata": {},
   "source": [
    "Run the following cells below to see `life_expectancy`, `child_mortality`, and `fertility`. Refer back to these tables as they will be helpful for answering further questions!\n"
   ]
  },
  {
   "cell_type": "code",
   "execution_count": 14,
   "id": "c1166d5d",
   "metadata": {},
   "outputs": [
    {
     "data": {
      "text/html": [
       "<table border=\"1\" class=\"dataframe\">\n",
       "    <thead>\n",
       "        <tr>\n",
       "            <th>geo</th> <th>time</th> <th>life_expectancy_years</th>\n",
       "        </tr>\n",
       "    </thead>\n",
       "    <tbody>\n",
       "        <tr>\n",
       "            <td>afg </td> <td>1800</td> <td>28.21                </td>\n",
       "        </tr>\n",
       "        <tr>\n",
       "            <td>afg </td> <td>1801</td> <td>28.2                 </td>\n",
       "        </tr>\n",
       "        <tr>\n",
       "            <td>afg </td> <td>1802</td> <td>28.19                </td>\n",
       "        </tr>\n",
       "    </tbody>\n",
       "</table>\n",
       "<p>... (42597 rows omitted)</p>"
      ],
      "text/plain": [
       "<IPython.core.display.HTML object>"
      ]
     },
     "metadata": {},
     "output_type": "display_data"
    }
   ],
   "source": [
    "life_expectancy.show(3)"
   ]
  },
  {
   "cell_type": "code",
   "execution_count": 15,
   "id": "84396029",
   "metadata": {},
   "outputs": [
    {
     "data": {
      "text/html": [
       "<table border=\"1\" class=\"dataframe\">\n",
       "    <thead>\n",
       "        <tr>\n",
       "            <th>geo</th> <th>time</th> <th>child_mortality_under_5_per_1000_born</th>\n",
       "        </tr>\n",
       "    </thead>\n",
       "    <tbody>\n",
       "        <tr>\n",
       "            <td>afg </td> <td>1800</td> <td>468.58                               </td>\n",
       "        </tr>\n",
       "        <tr>\n",
       "            <td>afg </td> <td>1801</td> <td>468.58                               </td>\n",
       "        </tr>\n",
       "        <tr>\n",
       "            <td>afg </td> <td>1802</td> <td>468.58                               </td>\n",
       "        </tr>\n",
       "    </tbody>\n",
       "</table>\n",
       "<p>... (42522 rows omitted)</p>"
      ],
      "text/plain": [
       "<IPython.core.display.HTML object>"
      ]
     },
     "metadata": {},
     "output_type": "display_data"
    }
   ],
   "source": [
    "child_mortality.show(3)"
   ]
  },
  {
   "cell_type": "code",
   "execution_count": 16,
   "id": "d0db9a88",
   "metadata": {},
   "outputs": [
    {
     "data": {
      "text/html": [
       "<table border=\"1\" class=\"dataframe\">\n",
       "    <thead>\n",
       "        <tr>\n",
       "            <th>geo</th> <th>time</th> <th>children_per_woman_total_fertility</th>\n",
       "        </tr>\n",
       "    </thead>\n",
       "    <tbody>\n",
       "        <tr>\n",
       "            <td>afg </td> <td>1800</td> <td>7                                 </td>\n",
       "        </tr>\n",
       "        <tr>\n",
       "            <td>afg </td> <td>1801</td> <td>7                                 </td>\n",
       "        </tr>\n",
       "        <tr>\n",
       "            <td>afg </td> <td>1802</td> <td>7                                 </td>\n",
       "        </tr>\n",
       "    </tbody>\n",
       "</table>\n",
       "<p>... (44322 rows omitted)</p>"
      ],
      "text/plain": [
       "<IPython.core.display.HTML object>"
      ]
     },
     "metadata": {},
     "output_type": "display_data"
    }
   ],
   "source": [
    "fertility.show(3)"
   ]
  },
  {
   "cell_type": "markdown",
   "id": "213a822e",
   "metadata": {},
   "source": [
    "<!-- BEGIN QUESTION -->\n",
    "\n",
    "---\n",
    "\n",
    "**Question 3.** Is population growing more slowly perhaps because people aren’t living as long? Use the `life_expectancy` table to draw a line graph with the years 1950 and later on the horizontal axis that shows how the _life expectancy at birth_ has changed in Poland.\n",
    "\n",
    "_Hint_: Make sure you filter the table properly; otherwise, the graph may look funky!\n"
   ]
  },
  {
   "cell_type": "code",
   "execution_count": 17,
   "id": "4a0477b2",
   "metadata": {
    "deletable": false,
    "manual_grade": true,
    "manual_problem_id": "global_pop_3",
    "tags": []
   },
   "outputs": [
    {
     "data": {
      "text/html": [
       "<table border=\"1\" class=\"dataframe\">\n",
       "    <thead>\n",
       "        <tr>\n",
       "            <th>time</th> <th>life_expectancy_years</th>\n",
       "        </tr>\n",
       "    </thead>\n",
       "    <tbody>\n",
       "        <tr>\n",
       "            <td>1950</td> <td>58.99                </td>\n",
       "        </tr>\n",
       "        <tr>\n",
       "            <td>1951</td> <td>57.9                 </td>\n",
       "        </tr>\n",
       "        <tr>\n",
       "            <td>1952</td> <td>60.15                </td>\n",
       "        </tr>\n",
       "        <tr>\n",
       "            <td>1953</td> <td>62.21                </td>\n",
       "        </tr>\n",
       "        <tr>\n",
       "            <td>1954</td> <td>62.67                </td>\n",
       "        </tr>\n",
       "        <tr>\n",
       "            <td>1955</td> <td>63.42                </td>\n",
       "        </tr>\n",
       "        <tr>\n",
       "            <td>1956</td> <td>64.94                </td>\n",
       "        </tr>\n",
       "        <tr>\n",
       "            <td>1957</td> <td>64.19                </td>\n",
       "        </tr>\n",
       "        <tr>\n",
       "            <td>1958</td> <td>65.77                </td>\n",
       "        </tr>\n",
       "        <tr>\n",
       "            <td>1959</td> <td>65.77                </td>\n",
       "        </tr>\n",
       "    </tbody>\n",
       "</table>\n",
       "<p>... (65 rows omitted)</p>"
      ],
      "text/plain": [
       "time | life_expectancy_years\n",
       "1950 | 58.99\n",
       "1951 | 57.9\n",
       "1952 | 60.15\n",
       "1953 | 62.21\n",
       "1954 | 62.67\n",
       "1955 | 63.42\n",
       "1956 | 64.94\n",
       "1957 | 64.19\n",
       "1958 | 65.77\n",
       "1959 | 65.77\n",
       "... (65 rows omitted)"
      ]
     },
     "execution_count": 17,
     "metadata": {},
     "output_type": "execute_result"
    },
    {
     "data": {
      "image/png": "[encoded data removed]",
      "text/plain": [
       "<Figure size 600x600 with 1 Axes>"
      ]
     },
     "metadata": {},
     "output_type": "display_data"
    }
   ],
   "source": [
    "poland_life_expectancy = life_expectancy.where('geo', 'pol')\n",
    "poland_life_expectancy_1950 = poland_life_expectancy.where('time', are.above_or_equal_to(1950))\n",
    "p_life = poland_life_expectancy_1950.select('time', 'life_expectancy_years')\n",
    "p_life.plot('time', 'life_expectancy_years')\n",
    "p_life"
   ]
  },
  {
   "cell_type": "markdown",
   "id": "06996267",
   "metadata": {},
   "source": [
    "<!-- END QUESTION -->\n",
    "\n",
    "<!-- BEGIN QUESTION -->\n",
    "\n",
    "---\n",
    "\n",
    "**Question 4.** Assuming everything else stays the same, do the trends in life expectancy in the graph above directly explain why the population growth rate decreased since 1950 in Poland? Why or why not?\n"
   ]
  },
  {
   "cell_type": "markdown",
   "id": "ccdb15f2",
   "metadata": {},
   "source": [
    "The graph illustrates a rise in life expectancy in Poland since 1950. However, this upward trend doesn't directly clarify why the population growth rate has slowed, as the graph doesn't account for several other factors. Life expectancy represents the average number of years a person is expected to live and is influenced by aspects like healthcare, living conditions, and overall well-being. While increasing life expectancy signals progress in these areas, it doesn't necessarily correlate with the birth rate, which is a key driver of population growth. Although longer life expectancy is a positive sign of improved health and living standards, it doesn't explain the slowdown in population growth. This decline is more closely tied to factors such as falling birth rates, an aging population, and migration trends."
   ]
  },
  {
   "cell_type": "markdown",
   "id": "64058948",
   "metadata": {
    "deletable": false,
    "editable": false
   },
   "source": [
    "<!-- END QUESTION -->\n",
    "\n",
    "The `fertility` table contains a statistic that is often used to measure how many babies are being born, the _total fertility rate_. This number describes the [number of children a woman would have in her lifetime](https://www.data4impactproject.org/prh/family-planning/fertility/total-fertility-rate/), on average, if the current rates of birth by age of the mother persisted throughout her child bearing years, assuming she survived through age 49.\n"
   ]
  },
  {
   "cell_type": "markdown",
   "id": "56e80d02",
   "metadata": {},
   "source": [
    "---\n",
    "\n",
    "**Question 5.** Complete the function `fertility_over_time`. It takes two input arguments, the Alpha-3 code of a country (denoted as `country_code`) and a year to `start` from (denoted as start). It returns a two-column table with the column labels `Year` and `Children per woman`. These columns can be used to generate a line chart of the country’s fertility rate each year, starting from the year given by `start`. The plot should include the start year and all later years that appear in the fertility table.\n",
    "\n",
    "Then, determine the Alpha-3 code for **Poland**. The code at the very bottom for `poland_code` and the year `1950` are inputted to your `fertility_over_time` function. The function returns a table which we use in order to plot how Poland's fertility rate has changed since `1950`. Note that the function `fertility_over_time` should not return the plot itself – it returns a two column table. The expression that draws the line plot is provided for you; please don’t change it.\n",
    "\n",
    "_Hint_: Read about `tbl.relabeled` in the [Python Reference](https://www.data8.org/fa24/reference/) to rename columns.\n"
   ]
  },
  {
   "cell_type": "code",
   "execution_count": 18,
   "id": "d10b8d98",
   "metadata": {
    "deletable": false,
    "tags": []
   },
   "outputs": [
    {
     "data": {
      "text/html": [
       "<table border=\"1\" class=\"dataframe\">\n",
       "    <thead>\n",
       "        <tr>\n",
       "            <th>Year</th> <th>Children per woman</th>\n",
       "        </tr>\n",
       "    </thead>\n",
       "    <tbody>\n",
       "        <tr>\n",
       "            <td>1950</td> <td>3.66              </td>\n",
       "        </tr>\n",
       "        <tr>\n",
       "            <td>1951</td> <td>3.68              </td>\n",
       "        </tr>\n",
       "        <tr>\n",
       "            <td>1952</td> <td>3.64              </td>\n",
       "        </tr>\n",
       "        <tr>\n",
       "            <td>1953</td> <td>3.6               </td>\n",
       "        </tr>\n",
       "        <tr>\n",
       "            <td>1954</td> <td>3.56              </td>\n",
       "        </tr>\n",
       "        <tr>\n",
       "            <td>1955</td> <td>3.54              </td>\n",
       "        </tr>\n",
       "        <tr>\n",
       "            <td>1956</td> <td>3.45              </td>\n",
       "        </tr>\n",
       "        <tr>\n",
       "            <td>1957</td> <td>3.44              </td>\n",
       "        </tr>\n",
       "        <tr>\n",
       "            <td>1958</td> <td>3.34              </td>\n",
       "        </tr>\n",
       "        <tr>\n",
       "            <td>1959</td> <td>3.21              </td>\n",
       "        </tr>\n",
       "    </tbody>\n",
       "</table>\n",
       "<p>... (65 rows omitted)</p>"
      ],
      "text/plain": [
       "Year | Children per woman\n",
       "1950 | 3.66\n",
       "1951 | 3.68\n",
       "1952 | 3.64\n",
       "1953 | 3.6\n",
       "1954 | 3.56\n",
       "1955 | 3.54\n",
       "1956 | 3.45\n",
       "1957 | 3.44\n",
       "1958 | 3.34\n",
       "1959 | 3.21\n",
       "... (65 rows omitted)"
      ]
     },
     "execution_count": 18,
     "metadata": {},
     "output_type": "execute_result"
    }
   ],
   "source": [
    "def fertility_over_time(country_code, start):\n",
    "    \"\"\"Create a two-column table that describes a country's total fertility rate each year.\"\"\"\n",
    "    # It's a good idea (but not required) to use multiple lines in your solution.\n",
    "    country_fertility = fertility.where('geo',country_code)\n",
    "    country_fertility_after_start = country_fertility.where('time', are.above_or_equal_to(start))\n",
    "    return country_fertility_after_start.select(1, 2).relabel(0,'Year').relabel(1, 'Children per woman')\n",
    "\n",
    "\n",
    "poland_code = 'pol'\n",
    "fertility_over_time(poland_code, 1950)"
   ]
  },
  {
   "cell_type": "code",
   "execution_count": 19,
   "id": "1472c8d6",
   "metadata": {
    "deletable": false,
    "editable": false
   },
   "outputs": [
    {
     "data": {
      "text/html": [
       "<p><strong><pre style='display: inline;'>q1_5</pre></strong> passed! 🌈</p>"
      ],
      "text/plain": [
       "q1_5 results: All test cases passed!"
      ]
     },
     "execution_count": 19,
     "metadata": {},
     "output_type": "execute_result"
    }
   ],
   "source": [
    "grader.check(\"q1_5\")"
   ]
  },
  {
   "cell_type": "markdown",
   "id": "80fb0f8f",
   "metadata": {},
   "source": [
    "Plotting the fertility rate in Poland since 1950, we see a downward trend.\n"
   ]
  },
  {
   "cell_type": "code",
   "execution_count": 20,
   "id": "bd139891",
   "metadata": {},
   "outputs": [
    {
     "data": {
      "image/png": "[encoded data removed]",
      "text/plain": [
       "<Figure size 600x600 with 1 Axes>"
      ]
     },
     "metadata": {},
     "output_type": "display_data"
    }
   ],
   "source": [
    "fertility_over_time(poland_code, 1950).plot(0, 1)"
   ]
  },
  {
   "cell_type": "markdown",
   "id": "c2e95ff5",
   "metadata": {},
   "source": [
    "<!-- BEGIN QUESTION -->\n",
    "\n",
    "---\n",
    "\n",
    "**Question 6.** Assuming everything else is constant, do the trends in fertility in the graph above help directly explain why the population growth rate decreased from 1950 to 2020 in Poland? Why or why not?\n"
   ]
  },
  {
   "cell_type": "markdown",
   "id": "a1e8c2c1",
   "metadata": {},
   "source": [
    "Yes, the trends in the graph above shows that the population growth rate decreased from 1950 to 2020 in Poland. It shows that fewer babies are being born each year. It is not smoothly decreasing. The birth rate was going up again around early 1980, 2015, and 2020. After 2020, it is gooing down again. "
   ]
  },
  {
   "cell_type": "markdown",
   "id": "a94722f5",
   "metadata": {
    "deletable": false
   },
   "source": [
    "<!-- END QUESTION -->\n",
    "\n",
    "It has been [observed](https://www.ageing.ox.ac.uk/download/143) that lower fertility rates are often associated with lower child mortality rates. We can see if this association is evident in Poland by plotting the relationship between total fertility rate and [child mortality rate per 1000 children](https://en.wikipedia.org/wiki/Child_mortality).\n"
   ]
  },
  {
   "cell_type": "markdown",
   "id": "dc71c0de",
   "metadata": {},
   "source": [
    "---\n",
    "\n",
    "**Question 7.** Create a table `poland_since_1950` that contains one row per year starting with 1950 and:\n",
    "\n",
    "- A column `Year` containing the year\n",
    "- A column `Children per woman` describing total fertility in Poland that year\n",
    "- A column `Child deaths per 1000 born` describing child mortality in Poland that year\n"
   ]
  },
  {
   "cell_type": "code",
   "execution_count": 21,
   "id": "8cf1ec6a",
   "metadata": {
    "deletable": false,
    "tags": []
   },
   "outputs": [
    {
     "data": {
      "text/html": [
       "<table border=\"1\" class=\"dataframe\">\n",
       "    <thead>\n",
       "        <tr>\n",
       "            <th>Year</th> <th>Children per woman</th> <th>Child deaths per 1000 born</th>\n",
       "        </tr>\n",
       "    </thead>\n",
       "    <tbody>\n",
       "        <tr>\n",
       "            <td>1950</td> <td>3.66              </td> <td>164.08                    </td>\n",
       "        </tr>\n",
       "        <tr>\n",
       "            <td>1951</td> <td>3.68              </td> <td>177.18                    </td>\n",
       "        </tr>\n",
       "        <tr>\n",
       "            <td>1952</td> <td>3.64              </td> <td>140.16                    </td>\n",
       "        </tr>\n",
       "        <tr>\n",
       "            <td>1953</td> <td>3.6               </td> <td>127.65                    </td>\n",
       "        </tr>\n",
       "        <tr>\n",
       "            <td>1954</td> <td>3.56              </td> <td>118.9                     </td>\n",
       "        </tr>\n",
       "        <tr>\n",
       "            <td>1955</td> <td>3.54              </td> <td>110.38                    </td>\n",
       "        </tr>\n",
       "        <tr>\n",
       "            <td>1956</td> <td>3.45              </td> <td>94.19                     </td>\n",
       "        </tr>\n",
       "        <tr>\n",
       "            <td>1957</td> <td>3.44              </td> <td>86.72                     </td>\n",
       "        </tr>\n",
       "        <tr>\n",
       "            <td>1958</td> <td>3.34              </td> <td>81.28                     </td>\n",
       "        </tr>\n",
       "        <tr>\n",
       "            <td>1959</td> <td>3.21              </td> <td>72.1                      </td>\n",
       "        </tr>\n",
       "    </tbody>\n",
       "</table>\n",
       "<p>... (65 rows omitted)</p>"
      ],
      "text/plain": [
       "Year | Children per woman | Child deaths per 1000 born\n",
       "1950 | 3.66               | 164.08\n",
       "1951 | 3.68               | 177.18\n",
       "1952 | 3.64               | 140.16\n",
       "1953 | 3.6                | 127.65\n",
       "1954 | 3.56               | 118.9\n",
       "1955 | 3.54               | 110.38\n",
       "1956 | 3.45               | 94.19\n",
       "1957 | 3.44               | 86.72\n",
       "1958 | 3.34               | 81.28\n",
       "1959 | 3.21               | 72.1\n",
       "... (65 rows omitted)"
      ]
     },
     "execution_count": 21,
     "metadata": {},
     "output_type": "execute_result"
    }
   ],
   "source": [
    "pol_fertility = fertility_over_time(poland_code, 1950)  # Try starting with the table you built already!\n",
    "# It's a good idea (but not required) to use multiple lines in your solution.\n",
    "pol_child_mortality = child_mortality.where('geo','pol').where('time',are.above_or_equal_to(1950)).sort('time').drop('geo')\n",
    "pol_fertility_and_child_mortality = pol_fertility.with_columns('Child deaths per 1000 born', pol_child_mortality.column('child_mortality_under_5_per_1000_born'))\n",
    "poland_since_1950 = pol_fertility_and_child_mortality\n",
    "poland_since_1950"
   ]
  },
  {
   "cell_type": "code",
   "execution_count": 22,
   "id": "1a493384",
   "metadata": {
    "deletable": false,
    "editable": false
   },
   "outputs": [
    {
     "data": {
      "text/html": [
       "<p><strong><pre style='display: inline;'>q1_7</pre></strong> passed! 🙌</p>"
      ],
      "text/plain": [
       "q1_7 results: All test cases passed!"
      ]
     },
     "execution_count": 22,
     "metadata": {},
     "output_type": "execute_result"
    }
   ],
   "source": [
    "grader.check(\"q1_7\")"
   ]
  },
  {
   "cell_type": "markdown",
   "id": "0406d0a6",
   "metadata": {},
   "source": [
    "Run the following cell to generate a scatter plot from the `poland_since_1950` table you created.\n",
    "\n",
    "The plot uses **color** to encode data about the `Year` column. The colors, ranging from dark blue to white, represent the passing of time between 1950 and 2024. For example, a point on the scatter plot representing data from the 1950s would appear as **dark blue** and a point from the 2010s would appear as **light blue**.\n"
   ]
  },
  {
   "cell_type": "code",
   "execution_count": 23,
   "id": "bad07e6b",
   "metadata": {},
   "outputs": [
    {
     "data": {
      "image/png": "[encoded data removed]",
      "text/plain": [
       "<Figure size 600x600 with 2 Axes>"
      ]
     },
     "metadata": {},
     "output_type": "display_data"
    }
   ],
   "source": [
    "x_births = poland_since_1950.column(\"Children per woman\")\n",
    "y_deaths = poland_since_1950.column(\"Child deaths per 1000 born\")\n",
    "time_colors = poland_since_1950.column(\"Year\")\n",
    "\n",
    "plots.figure(figsize=(6,6))\n",
    "plots.scatter(x_births, y_deaths, c=time_colors, cmap=\"Blues_r\")\n",
    "plots.colorbar()                  \n",
    "plots.xlabel(\"Children per woman\")\n",
    "plots.ylabel(\"Child deaths per 1000 born\");"
   ]
  },
  {
   "cell_type": "markdown",
   "id": "d88c86e4",
   "metadata": {},
   "source": [
    "<!-- BEGIN QUESTION -->\n",
    "\n",
    "---\n",
    "\n",
    "**Question 8.** In one or two sentences, describe the association (if any) that is illustrated by this scatter plot. Does the diagram show any causal relation between between fertility and child mortality?\n"
   ]
  },
  {
   "cell_type": "markdown",
   "id": "6369cdf0",
   "metadata": {},
   "source": [
    "Yes there is a correlation between the birth rate and death rate. When the death rate increases,the birth rate increases because this helps increase the chance of the survival of offsprings. Whenthe death rate decreases, the survival rate increases so people tend to have less children"
   ]
  },
  {
   "cell_type": "markdown",
   "id": "91feaa57",
   "metadata": {},
   "source": [
    "<!-- END QUESTION -->\n",
    "\n",
    "_Optional food for thought_: What other context or information you would need in order to better understand the factors affecting life expectancy, child mortality, and fertility?\n"
   ]
  },
  {
   "attachments": {},
   "cell_type": "markdown",
   "id": "2cba9056",
   "metadata": {},
   "source": [
    "### Checkpoint (due Friday 9/27 by 5:00 PM PT)\n",
    "\n",
    "<img src=\"harvey.png\" alt=\"Close-up photo of a golden retriever looking at the camera\" width=\"300\"/>\n",
    "\n",
    "**WOOOHOO!!!** Harvey wants to congratulate you on reaching the checkpoint!\n",
    "\n",
    "**Run the following cells and submit to the Gradescope assignment corresponding to the checkpoint: <u>Project 1 Checkpoint</u>**\n",
    "\n",
    "**<span style=\"color: #BC412B\">Remember to add your project partner to your submission on Gradescope!</span>** <u>Only one partner should submit to Gradescope.</u>"
   ]
  },
  {
   "cell_type": "markdown",
   "id": "865b8fdf",
   "metadata": {},
   "source": [
    "--- \n",
    "\n",
    "To double check your work, the cell below will rerun all of the autograder tests for Section 1. "
   ]
  },
  {
   "cell_type": "code",
   "execution_count": 24,
   "id": "a4f531b8",
   "metadata": {},
   "outputs": [
    {
     "data": {
      "text/html": [
       "<p><strong><pre style='display: inline;'>q1_1</pre></strong> passed! 🍀</p>"
      ],
      "text/plain": [
       "q1_1 results: All test cases passed!"
      ]
     },
     "metadata": {},
     "output_type": "display_data"
    },
    {
     "data": {
      "text/html": [
       "<p><strong><pre style='display: inline;'>q1_2</pre></strong> passed! 🌈</p>"
      ],
      "text/plain": [
       "q1_2 results: All test cases passed!"
      ]
     },
     "metadata": {},
     "output_type": "display_data"
    },
    {
     "data": {
      "text/html": [
       "<p><strong><pre style='display: inline;'>q1_5</pre></strong> passed! 🙌</p>"
      ],
      "text/plain": [
       "q1_5 results: All test cases passed!"
      ]
     },
     "metadata": {},
     "output_type": "display_data"
    },
    {
     "data": {
      "text/html": [
       "<p><strong><pre style='display: inline;'>q1_7</pre></strong> passed! 💯</p>"
      ],
      "text/plain": [
       "q1_7 results: All test cases passed!"
      ]
     },
     "metadata": {},
     "output_type": "display_data"
    }
   ],
   "source": [
    "checkpoint_tests = [\"q1_1\", \"q1_2\", \"q1_5\", \"q1_7\"]\n",
    "for test in checkpoint_tests:\n",
    "    display(grader.check(test))"
   ]
  },
  {
   "cell_type": "markdown",
   "id": "7922a1c1",
   "metadata": {},
   "source": [
    "## Submission\n",
    "\n",
    "Make sure you have run all cells in your notebook in order before running the cell below, so that all images/graphs appear in the output. The cell below will generate a zip file for you to submit. You only need to submit the zip file for the checkpoint. **Please save before exporting!**"
   ]
  },
  {
   "cell_type": "code",
   "execution_count": 25,
   "id": "123519cf",
   "metadata": {},
   "outputs": [
    {
     "data": {
      "text/html": [
       "\n",
       "            <p>Your submission has been exported. Click <a href=\"project1_2024_10_01T06_37_47_793260.zip\" download=\"project1_2024_10_01T06_37_47_793260.zip\" target=\"_blank\">here</a>\n",
       "            to download the zip file.</p>\n",
       "            "
      ],
      "text/plain": [
       "<IPython.core.display.HTML object>"
      ]
     },
     "metadata": {},
     "output_type": "display_data"
    }
   ],
   "source": [
    "# Save your notebook first, then run this cell to export your submission.\n",
    "grader.export(pdf=False)"
   ]
  },
  {
   "cell_type": "markdown",
   "id": "05072057",
   "metadata": {
    "deletable": false
   },
   "source": [
    "<hr style=\"border: 1px solid #fdb515;\" />\n",
    "\n",
    "### The World\n",
    "\n",
    "The changes observed in Poland can also be observed in many other countries: except during periods of extended war, famine, and social chaos, health services generally improve, life expectancy increases, and child mortality decreases. At the same time, the fertility rate often plummets, and where it does, the population growth rate decreases despite increasing longevity."
   ]
  },
  {
   "cell_type": "markdown",
   "id": "1eec54db",
   "metadata": {
    "deletable": false
   },
   "source": [
    "Run the cell below to generate two overlaid histograms, one for 1962 and one for 2010, that show the distributions of total fertility rates for these two years among all 201 countries in the `fertility` table."
   ]
  },
  {
   "cell_type": "code",
   "execution_count": 26,
   "id": "cb5775b8",
   "metadata": {
    "deletable": false
   },
   "outputs": [
    {
     "data": {
      "image/png": "[encoded data removed]",
      "text/plain": [
       "<Figure size 600x400 with 1 Axes>"
      ]
     },
     "metadata": {},
     "output_type": "display_data"
    }
   ],
   "source": [
    "Table().with_columns( \n",
    "    '1962', fertility.where('time', 1962).column(2),\n",
    "    '2010', fertility.where('time', 2010).column(2)\n",
    ").hist(bins=np.arange(0, 10, 0.5), unit='child per woman')\n",
    "_ = plots.xlabel('Children per woman')\n",
    "_ = plots.ylabel('Percent per children per woman')\n",
    "_ = plots.xticks(np.arange(10))"
   ]
  },
  {
   "cell_type": "markdown",
   "id": "54a02477",
   "metadata": {},
   "source": [
    "---\n",
    "\n",
    "**Question 9.** Assign `fertility_statements` to an **array** of the numbers of each statement below that can be correctly inferred from these histograms.\n",
    "\n",
    "1. About the same number of countries had a fertility rate between 3.5 and 4.5 in both 1962 and 2010.\n",
    "1. In 1962, less than 20% of countries had a fertility rate below 3.\n",
    "1. At least half of countries had a fertility rate between 5 and 8 in 1962.\n",
    "1. In 2010, about 40% of countries had a fertility rate between 1.5 and 2.\n",
    "1. At least half of countries had a fertility rate below 3 in 2010.\n",
    "1. More countries had a fertility rate above 3 in 1962 than in 2010.\n"
   ]
  },
  {
   "cell_type": "code",
   "execution_count": 31,
   "id": "9f02aebe",
   "metadata": {
    "deletable": false,
    "tags": []
   },
   "outputs": [],
   "source": [
    "fertility_statements = np.array([2,3,5,6])"
   ]
  },
  {
   "cell_type": "code",
   "execution_count": 32,
   "id": "ee2f7040",
   "metadata": {
    "deletable": false,
    "editable": false
   },
   "outputs": [
    {
     "data": {
      "text/html": [
       "<p><strong><pre style='display: inline;'>q1_9</pre></strong> passed! 🚀</p>"
      ],
      "text/plain": [
       "q1_9 results: All test cases passed!"
      ]
     },
     "execution_count": 32,
     "metadata": {},
     "output_type": "execute_result"
    }
   ],
   "source": [
    "grader.check(\"q1_9\")"
   ]
  },
  {
   "cell_type": "markdown",
   "id": "184c1d47",
   "metadata": {},
   "source": [
    "<!-- BEGIN QUESTION -->\n",
    "\n",
    "---\n",
    "\n",
    "**Question 10.** Draw a line plot of the **world population** from 1800 through 2024 (inclusive of both endpoints). The world population is the sum of all of the countries' populations. You should use the `population` table defined earlier in the project. \n"
   ]
  },
  {
   "cell_type": "code",
   "execution_count": 33,
   "id": "56cfea4f",
   "metadata": {
    "deletable": false,
    "manual_grade": true,
    "manual_problem_id": "global_pop_10",
    "tags": []
   },
   "outputs": [
    {
     "data": {
      "image/png": "[encoded data removed]",
      "text/plain": [
       "<Figure size 600x600 with 1 Axes>"
      ]
     },
     "metadata": {},
     "output_type": "display_data"
    }
   ],
   "source": [
    "#Fill in code here\n",
    "population.drop('geo').group('time',sum).where('time', are.between_or_equal_to(1800,2024)).plot('time', 'population_total sum')"
   ]
  },
  {
   "attachments": {},
   "cell_type": "markdown",
   "id": "1d02e53a",
   "metadata": {},
   "source": [
    "<!-- END QUESTION -->\n",
    "\n",
    "---\n",
    "\n",
    "**Question 11.** Create a function `stats_for_year` that takes a `year` and returns a table of statistics. The table it returns should have four columns: `geo`, `population_total`, `children_per_woman_total_fertility`, and `child_mortality_under_5_per_1000_born`. Each row should contain one unique Alpha-3 country code and three statistics: population, fertility rate, and child mortality for that `year` from the `population`, `fertility` and `child_mortality` tables. Only include rows for which all three statistics are available for the country and year.\n",
    "\n",
    "In addition, restrict the result to country codes that appears in `big_50`, an array of the 50 most populous countries in 2024. This restriction will speed up computations later in the project.\n",
    "\n",
    "After you write `stats_for_year`, try calling `stats_for_year` on any year between 1960 and 2024. Try to understand the output of stats_for_year.\n",
    "\n",
    "*Hint*: The tests for this question are quite comprehensive, so if you pass the tests, your function is probably correct. However, without calling your function yourself and looking at the output, it will be very difficult to understand any problems you have, so try your best to write the function correctly and check that it works before you rely on the `grader` tests to confirm your work.\n",
    "\n",
    "*Hint*: What do all three tables have in common (pay attention to column names)?\n",
    "\n",
    "*Hint*: Create additional cells before directly writing the function.\n"
   ]
  },
  {
   "cell_type": "code",
   "execution_count": 34,
   "id": "3a9bb6e2",
   "metadata": {
    "deletable": false,
    "tags": []
   },
   "outputs": [
    {
     "data": {
      "text/html": [
       "<table border=\"1\" class=\"dataframe\">\n",
       "    <thead>\n",
       "        <tr>\n",
       "            <th>geo</th> <th>population_total</th> <th>children_per_woman_total_fertility</th> <th>child_mortality_under_5_per_1000_born</th>\n",
       "        </tr>\n",
       "    </thead>\n",
       "    <tbody>\n",
       "        <tr>\n",
       "            <td>afg </td> <td>42647492        </td> <td>4.76                              </td> <td>50.62                                </td>\n",
       "        </tr>\n",
       "        <tr>\n",
       "            <td>ago </td> <td>37885849        </td> <td>5.05                              </td> <td>65.38                                </td>\n",
       "        </tr>\n",
       "        <tr>\n",
       "            <td>arg </td> <td>45696159        </td> <td>1.5                               </td> <td>8.52                                 </td>\n",
       "        </tr>\n",
       "        <tr>\n",
       "            <td>bgd </td> <td>173562364       </td> <td>2.14                              </td> <td>23.44                                </td>\n",
       "        </tr>\n",
       "        <tr>\n",
       "            <td>bra </td> <td>211998573       </td> <td>1.61                              </td> <td>11.91                                </td>\n",
       "        </tr>\n",
       "        <tr>\n",
       "            <td>can </td> <td>39742430        </td> <td>1.34                              </td> <td>4.56                                 </td>\n",
       "        </tr>\n",
       "        <tr>\n",
       "            <td>chn </td> <td>1419321278      </td> <td>1.01                              </td> <td>7.18                                 </td>\n",
       "        </tr>\n",
       "        <tr>\n",
       "            <td>civ </td> <td>31934230        </td> <td>4.23                              </td> <td>70.99                                </td>\n",
       "        </tr>\n",
       "        <tr>\n",
       "            <td>cod </td> <td>109276265       </td> <td>5.98                              </td> <td>78.48                                </td>\n",
       "        </tr>\n",
       "        <tr>\n",
       "            <td>col </td> <td>52886363        </td> <td>1.63                              </td> <td>12.13                                </td>\n",
       "        </tr>\n",
       "    </tbody>\n",
       "</table>\n",
       "<p>... (40 rows omitted)</p>"
      ],
      "text/plain": [
       "geo  | population_total | children_per_woman_total_fertility | child_mortality_under_5_per_1000_born\n",
       "afg  | 42647492         | 4.76                               | 50.62\n",
       "ago  | 37885849         | 5.05                               | 65.38\n",
       "arg  | 45696159         | 1.5                                | 8.52\n",
       "bgd  | 173562364        | 2.14                               | 23.44\n",
       "bra  | 211998573        | 1.61                               | 11.91\n",
       "can  | 39742430         | 1.34                               | 4.56\n",
       "chn  | 1419321278       | 1.01                               | 7.18\n",
       "civ  | 31934230         | 4.23                               | 70.99\n",
       "cod  | 109276265        | 5.98                               | 78.48\n",
       "col  | 52886363         | 1.63                               | 12.13\n",
       "... (40 rows omitted)"
      ]
     },
     "execution_count": 34,
     "metadata": {},
     "output_type": "execute_result"
    }
   ],
   "source": [
    "# We first create a population table that only includes the \n",
    "# 50 countries with the largest 2024 populations. We focus on \n",
    "# these 50 countries only so that plotting later will run faster.\n",
    "big_50 = population.where('time', are.equal_to(2024)).sort(\"population_total\", descending=True).take(np.arange(50)).column('geo')\n",
    "population_of_big_50 = population.where('time', are.above(1959)).where('geo', are.contained_in(big_50))\n",
    "\n",
    "def stats_for_year(year):\n",
    "    \"\"\"Return a table of the stats for each country that year.\"\"\"\n",
    "    p = population_of_big_50.where('time', are.equal_to(year)).drop('time')\n",
    "    f = fertility.where('time', are.equal_to(year)).drop('time')\n",
    "    c = child_mortality.where('time', are.equal_to(year)).drop('time')\n",
    "    stats_for_year = p.join('geo', f, 'geo').join('geo',c ,'geo')\n",
    "    return stats_for_year\n",
    "stats_for_year(2024)"
   ]
  },
  {
   "cell_type": "code",
   "execution_count": 35,
   "id": "bceaccfb",
   "metadata": {
    "deletable": false,
    "editable": false
   },
   "outputs": [
    {
     "data": {
      "text/html": [
       "<p><strong><pre style='display: inline;'>q1_11</pre></strong> passed! 🙌</p>"
      ],
      "text/plain": [
       "q1_11 results: All test cases passed!"
      ]
     },
     "execution_count": 35,
     "metadata": {},
     "output_type": "execute_result"
    }
   ],
   "source": [
    "grader.check(\"q1_11\")"
   ]
  },
  {
   "cell_type": "markdown",
   "id": "ac2e4325",
   "metadata": {},
   "source": [
    "---\n",
    "\n",
    "**Question 12.** Create a table called `pop_by_decade` with two columns called `decade` and `population`, in this order. It has a row for each year that starts a decade, in increasing order starting with 1960 and ending with 2020. For example, 1960 is the start of the 1960's decade. The `population` column contains the total population of all countries included in the result of `stats_for_year(year)` for the first `year` of the decade. You should see that these countries contain most of the world's population.\n",
    "\n",
    "*Hint:* One approach is to define a function `pop_for_year` that computes this total population, then `apply` it to the `decade` column.  **Think about how you can use the `stats_for_year` function** from the previous question if you want to implement `pop_for_year`.\n",
    "\n",
    "This first test is just a sanity check for your helper function if you choose to use it. **You will not lose points for not implementing the function `pop_for_year`**.\n",
    "\n",
    "**Note:** The cell where you will generate the `pop_by_decade` table is below the cell where you can choose to define the helper function `pop_for_year`. You should define your `pop_by_decade` table in the cell that starts with the table `decades` being defined. \n"
   ]
  },
  {
   "cell_type": "code",
   "execution_count": 36,
   "id": "977c9d2c",
   "metadata": {
    "tags": []
   },
   "outputs": [
    {
     "data": {
      "text/plain": [
       "3202277698"
      ]
     },
     "execution_count": 36,
     "metadata": {},
     "output_type": "execute_result"
    }
   ],
   "source": [
    "def pop_for_year(year):\n",
    "    \"\"\"Return the total population for the specified year.\"\"\"\n",
    "    total_pop = sum(stats_for_year(year).column(1))\n",
    "    return total_pop\n",
    "pop_for_year (1970)"
   ]
  },
  {
   "cell_type": "code",
   "execution_count": 37,
   "id": "31108cc8",
   "metadata": {
    "deletable": false,
    "editable": false
   },
   "outputs": [
    {
     "data": {
      "text/html": [
       "<p><strong><pre style='display: inline;'>q1_12_0</pre></strong> passed! 🍀</p>"
      ],
      "text/plain": [
       "q1_12_0 results: All test cases passed!"
      ]
     },
     "execution_count": 37,
     "metadata": {},
     "output_type": "execute_result"
    }
   ],
   "source": [
    "grader.check(\"q1_12_0\")"
   ]
  },
  {
   "cell_type": "markdown",
   "id": "1f5ceab7",
   "metadata": {},
   "source": [
    "---\n",
    "\n",
    "Now that you've defined your helper function (if you've chosen to do so), define the `pop_by_decade` table."
   ]
  },
  {
   "cell_type": "code",
   "execution_count": 38,
   "id": "dac94eff",
   "metadata": {
    "deletable": false,
    "tags": []
   },
   "outputs": [
    {
     "data": {
      "text/html": [
       "<table border=\"1\" class=\"dataframe\">\n",
       "    <thead>\n",
       "        <tr>\n",
       "            <th>decade</th> <th>population</th>\n",
       "        </tr>\n",
       "    </thead>\n",
       "    <tbody>\n",
       "        <tr>\n",
       "            <td>1960  </td> <td>2,604,997,601</td>\n",
       "        </tr>\n",
       "        <tr>\n",
       "            <td>1970  </td> <td>3,202,277,698</td>\n",
       "        </tr>\n",
       "        <tr>\n",
       "            <td>1980  </td> <td>3,863,485,128</td>\n",
       "        </tr>\n",
       "        <tr>\n",
       "            <td>1990  </td> <td>4,639,963,324</td>\n",
       "        </tr>\n",
       "        <tr>\n",
       "            <td>2000  </td> <td>5,381,686,829</td>\n",
       "        </tr>\n",
       "        <tr>\n",
       "            <td>2010  </td> <td>6,107,215,351</td>\n",
       "        </tr>\n",
       "        <tr>\n",
       "            <td>2020  </td> <td>6,840,687,359</td>\n",
       "        </tr>\n",
       "    </tbody>\n",
       "</table>"
      ],
      "text/plain": [
       "decade | population\n",
       "1960   | 2,604,997,601\n",
       "1970   | 3,202,277,698\n",
       "1980   | 3,863,485,128\n",
       "1990   | 4,639,963,324\n",
       "2000   | 5,381,686,829\n",
       "2010   | 6,107,215,351\n",
       "2020   | 6,840,687,359"
      ]
     },
     "execution_count": 38,
     "metadata": {},
     "output_type": "execute_result"
    }
   ],
   "source": [
    "decades = Table().with_column('decade', np.arange(1960, 2021, 10))\n",
    "\n",
    "pop_by_decade = decades.with_column('population', decades.apply(pop_for_year, 'decade'))\n",
    "pop_by_decade.set_format(1, NumberFormatter)"
   ]
  },
  {
   "cell_type": "code",
   "execution_count": 39,
   "id": "402b9433",
   "metadata": {
    "deletable": false,
    "editable": false
   },
   "outputs": [
    {
     "data": {
      "text/html": [
       "<p><strong><pre style='display: inline;'>q1_12</pre></strong> passed! 🙌</p>"
      ],
      "text/plain": [
       "q1_12 results: All test cases passed!"
      ]
     },
     "execution_count": 39,
     "metadata": {},
     "output_type": "execute_result"
    }
   ],
   "source": [
    "grader.check(\"q1_12\")"
   ]
  },
  {
   "cell_type": "markdown",
   "id": "90ce28a4",
   "metadata": {
    "deletable": false,
    "editable": false
   },
   "source": [
    "The `countries` table describes various characteristics of countries. The `country` column contains the same codes as the `geo` column in each of the other data tables (`population`, `fertility`, and `child_mortality`). The `world_6region` column classifies each country into a region of the world. Run the cell below to inspect the data."
   ]
  },
  {
   "cell_type": "code",
   "execution_count": 40,
   "id": "a3252d16",
   "metadata": {},
   "outputs": [
    {
     "data": {
      "text/html": [
       "<table border=\"1\" class=\"dataframe\">\n",
       "    <thead>\n",
       "        <tr>\n",
       "            <th>country</th> <th>name</th> <th>world_6region</th>\n",
       "        </tr>\n",
       "    </thead>\n",
       "    <tbody>\n",
       "        <tr>\n",
       "            <td>afg    </td> <td>Afghanistan         </td> <td>south_asia              </td>\n",
       "        </tr>\n",
       "        <tr>\n",
       "            <td>ago    </td> <td>Angola              </td> <td>sub_saharan_africa      </td>\n",
       "        </tr>\n",
       "        <tr>\n",
       "            <td>alb    </td> <td>Albania             </td> <td>europe_central_asia     </td>\n",
       "        </tr>\n",
       "        <tr>\n",
       "            <td>and    </td> <td>Andorra             </td> <td>europe_central_asia     </td>\n",
       "        </tr>\n",
       "        <tr>\n",
       "            <td>are    </td> <td>United Arab Emirates</td> <td>middle_east_north_africa</td>\n",
       "        </tr>\n",
       "        <tr>\n",
       "            <td>arg    </td> <td>Argentina           </td> <td>america                 </td>\n",
       "        </tr>\n",
       "        <tr>\n",
       "            <td>arm    </td> <td>Armenia             </td> <td>europe_central_asia     </td>\n",
       "        </tr>\n",
       "        <tr>\n",
       "            <td>atg    </td> <td>Antigua and Barbuda </td> <td>america                 </td>\n",
       "        </tr>\n",
       "        <tr>\n",
       "            <td>aus    </td> <td>Australia           </td> <td>east_asia_pacific       </td>\n",
       "        </tr>\n",
       "        <tr>\n",
       "            <td>aut    </td> <td>Austria             </td> <td>europe_central_asia     </td>\n",
       "        </tr>\n",
       "    </tbody>\n",
       "</table>\n",
       "<p>... (187 rows omitted)</p>"
      ],
      "text/plain": [
       "country | name                 | world_6region\n",
       "afg     | Afghanistan          | south_asia\n",
       "ago     | Angola               | sub_saharan_africa\n",
       "alb     | Albania              | europe_central_asia\n",
       "and     | Andorra              | europe_central_asia\n",
       "are     | United Arab Emirates | middle_east_north_africa\n",
       "arg     | Argentina            | america\n",
       "arm     | Armenia              | europe_central_asia\n",
       "atg     | Antigua and Barbuda  | america\n",
       "aus     | Australia            | east_asia_pacific\n",
       "aut     | Austria              | europe_central_asia\n",
       "... (187 rows omitted)"
      ]
     },
     "execution_count": 40,
     "metadata": {},
     "output_type": "execute_result"
    }
   ],
   "source": [
    "countries = Table.read_table('countries.csv').where('country', are.contained_in(population.group('geo').column('geo')))\n",
    "countries.select('country', 'name', 'world_6region')"
   ]
  },
  {
   "cell_type": "markdown",
   "id": "5e1e1eef",
   "metadata": {},
   "source": [
    "---\n",
    "\n",
    "**Question 13.** Create a table called `region_counts`. It should contain two columns called `region` and `count`. The `region` column should contain regions of the world, and the `count` column should contain the number of countries in each region that appears in the result of `stats_for_year(2024)`. \n",
    "\n",
    "For example, one row would have `south_asia` as its `region` value and an integer as its `count` value: the number of large South Asian countries for which we have population, fertility, and child mortality numbers from 2024.\n",
    "\n",
    "*Hint*: You may have to relabel a column to name it `region`. \n"
   ]
  },
  {
   "cell_type": "code",
   "execution_count": 41,
   "id": "3c2b96a6-29b3-445d-a5ea-e164ee638ad8",
   "metadata": {},
   "outputs": [
    {
     "data": {
      "text/html": [
       "<table border=\"1\" class=\"dataframe\">\n",
       "    <thead>\n",
       "        <tr>\n",
       "            <th>region</th> <th>count</th>\n",
       "        </tr>\n",
       "    </thead>\n",
       "    <tbody>\n",
       "        <tr>\n",
       "            <td>america                 </td> <td>7    </td>\n",
       "        </tr>\n",
       "        <tr>\n",
       "            <td>east_asia_pacific       </td> <td>9    </td>\n",
       "        </tr>\n",
       "        <tr>\n",
       "            <td>europe_central_asia     </td> <td>10   </td>\n",
       "        </tr>\n",
       "        <tr>\n",
       "            <td>middle_east_north_africa</td> <td>7    </td>\n",
       "        </tr>\n",
       "        <tr>\n",
       "            <td>south_asia              </td> <td>4    </td>\n",
       "        </tr>\n",
       "        <tr>\n",
       "            <td>sub_saharan_africa      </td> <td>13   </td>\n",
       "        </tr>\n",
       "    </tbody>\n",
       "</table>"
      ],
      "text/plain": [
       "region                   | count\n",
       "america                  | 7\n",
       "east_asia_pacific        | 9\n",
       "europe_central_asia      | 10\n",
       "middle_east_north_africa | 7\n",
       "south_asia               | 4\n",
       "sub_saharan_africa       | 13"
      ]
     },
     "execution_count": 41,
     "metadata": {},
     "output_type": "execute_result"
    }
   ],
   "source": [
    "stats_for_2024 = stats_for_year(2024)\n",
    "region_counts = countries.join('country',stats_for_2024,'geo').select('country','world_6region').group('world_6region').relabeled('world_6region','region')\n",
    "region_counts"
   ]
  },
  {
   "cell_type": "code",
   "execution_count": null,
   "id": "694e8c53",
   "metadata": {
    "deletable": false,
    "tags": []
   },
   "outputs": [],
   "source": []
  },
  {
   "cell_type": "code",
   "execution_count": 42,
   "id": "33815ffb",
   "metadata": {
    "deletable": false,
    "editable": false
   },
   "outputs": [
    {
     "data": {
      "text/html": [
       "<p><strong><pre style='display: inline;'>q1_13</pre></strong> passed! 🎉</p>"
      ],
      "text/plain": [
       "q1_13 results: All test cases passed!"
      ]
     },
     "execution_count": 42,
     "metadata": {},
     "output_type": "execute_result"
    }
   ],
   "source": [
    "grader.check(\"q1_13\")"
   ]
  },
  {
   "cell_type": "markdown",
   "id": "b5748921",
   "metadata": {
    "deletable": false
   },
   "source": [
    "The following scatter diagram compares total fertility rate and child mortality rate for each country in 1960. The area of each dot represents the population of the country, and the color represents its region of the world. Run the cell. Do you think you can identify any of the dots?"
   ]
  },
  {
   "cell_type": "code",
   "execution_count": 43,
   "id": "cbc87dae",
   "metadata": {
    "deletable": false
   },
   "outputs": [
    {
     "data": {
      "image/png": "[encoded data removed]",
      "text/plain": [
       "<Figure size 500x500 with 1 Axes>"
      ]
     },
     "metadata": {},
     "output_type": "display_data"
    }
   ],
   "source": [
    "from functools import lru_cache as cache\n",
    "\n",
    "# This cache annotation makes sure that if the same year\n",
    "# is passed as an argument twice, the work of computing\n",
    "# the result is only carried out once.\n",
    "@cache(None)\n",
    "def stats_relabeled(year):\n",
    "    \"\"\"Relabeled and cached version of stats_for_year.\"\"\"\n",
    "    return stats_for_year(year).relabel(2, 'Children per woman').relabel(3, 'Child deaths per 1000 born')\n",
    "\n",
    "def fertility_vs_child_mortality(year):\n",
    "    \"\"\"Draw a color scatter diagram comparing child mortality and fertility.\"\"\"\n",
    "    with_region = stats_relabeled(year).join('geo', countries.select('country', 'world_6region'), 'country')\n",
    "    with_region.scatter(2, 3, sizes=1, group=4, s=500)\n",
    "    plots.xlim(0,10)\n",
    "    plots.ylim(-50, 500)\n",
    "    plots.title(year)\n",
    "    plots.show()\n",
    "\n",
    "fertility_vs_child_mortality(1960)"
   ]
  },
  {
   "cell_type": "markdown",
   "id": "ed222ada",
   "metadata": {},
   "source": [
    "---\n",
    "\n",
    "**Question 14.** Assign `scatter_statements` to an array of the numbers of each statement below that can be inferred from this scatter diagram for 1960. \n",
    "1. All countries in `europe_central_asia` had uniformly low fertility rates.\n",
    "1. The lowest child mortality rate of any country was from an `east_asia_pacific` country.\n",
    "1. Most countries had a fertility rate above 5.\n",
    "1. There was an association between child mortality and fertility.\n",
    "1. The two largest countries by population also had the two highest child mortality rates.\n"
   ]
  },
  {
   "cell_type": "code",
   "execution_count": 44,
   "id": "5f148f86",
   "metadata": {
    "deletable": false,
    "tags": []
   },
   "outputs": [],
   "source": [
    "scatter_statements = make_array(3,4)"
   ]
  },
  {
   "cell_type": "code",
   "execution_count": 45,
   "id": "d906fd71",
   "metadata": {
    "deletable": false,
    "editable": false
   },
   "outputs": [
    {
     "data": {
      "text/html": [
       "<p><strong><pre style='display: inline;'>q1_14</pre></strong> passed! 💯</p>"
      ],
      "text/plain": [
       "q1_14 results: All test cases passed!"
      ]
     },
     "execution_count": 45,
     "metadata": {},
     "output_type": "execute_result"
    }
   ],
   "source": [
    "grader.check(\"q1_14\")"
   ]
  },
  {
   "cell_type": "markdown",
   "id": "2d1cbf5d",
   "metadata": {
    "deletable": false
   },
   "source": [
    "The result of the cell below is interactive. Drag the slider to the right to see how countries have changed over time. You’ll find that in terms of population growth, the divide between the countries of the global North and global South that existed in the 1960s has shrunk significantly. \n",
    "\n",
    "This shift in fertility rates is the reason that the global population is expected to grow more slowly in the 21st century than it did in the 19th and 20th centuries. Fertility rates change for reasons that include cultural patterns, better prospects for children surviving to adulthood, and family planning (such as contraception and women’s greater control over their reproduction).\n",
    "\n",
    "**Note:** Don't worry if a red warning pops up when running the cell below. You'll still be able to run the cell!"
   ]
  },
  {
   "cell_type": "code",
   "execution_count": 46,
   "id": "77a2142b",
   "metadata": {
    "deletable": false,
    "scrolled": true
   },
   "outputs": [
    {
     "data": {
      "application/vnd.jupyter.widget-view+json": {
       "model_id": "b9df43349f1c4589b0de579ab08f34c7",
       "version_major": 2,
       "version_minor": 0
      },
      "text/plain": [
       "interactive(children=(IntSlider(value=1960, description='year', max=2024, min=1960), Output()), _dom_classes=(…"
      ]
     },
     "metadata": {},
     "output_type": "display_data"
    }
   ],
   "source": [
    "_ = widgets.interact(fertility_vs_child_mortality, \n",
    "                     year=widgets.IntSlider(min=1960, max=2024, value=1960))"
   ]
  },
  {
   "cell_type": "markdown",
   "id": "620e6701",
   "metadata": {
    "deletable": false,
    "editable": false
   },
   "source": [
    "Now is a great time to take a break and watch the same data presented by [Hans Rosling in a 2010 TEDx talk](https://www.gapminder.org/videos/reducing-child-mortality-a-moral-and-environmental-imperative) with smoother animation and witty commentary."
   ]
  },
  {
   "cell_type": "markdown",
   "id": "b78862da",
   "metadata": {},
   "source": [
    "When we look at population and fertility as data scientists, we need to learn about the experiences of people in real life, not just abstractly as data. We should also recognize that population studies have sometimes had political undercurrents. Those undercurrents have included population control, control of women’s reproduction, or fears of shifts between racial groups. To do better as data scientists, we should check our assumptions to avoid unthinkingly reproducing past patterns."
   ]
  },
  {
   "cell_type": "markdown",
   "id": "182e7882",
   "metadata": {
    "deletable": false
   },
   "source": [
    "<hr style=\"border: 5px solid #003262;\" />\n",
    "<hr style=\"border: 1px solid #fdb515;\" />\n",
    "\n",
    "## 2. Global Poverty"
   ]
  },
  {
   "cell_type": "markdown",
   "id": "d7c81fa6",
   "metadata": {
    "deletable": false
   },
   "source": [
    "In 1800, 85% of the world's 1 billion people lived in [extreme poverty](https://en.wikipedia.org/wiki/Extreme_poverty), defined by the United Nations as \"a condition characterized by severe deprivation of basic human needs, including food, safe drinking water, sanitation facilities, health, shelter, education and information.\" At the time when the data in this project were gathered, a common definition of extreme poverty was a person living on less than \\$1.25 a day.\n",
    "\n",
    "In 2018, the proportion of people living in extreme poverty was estimated to be [about 9\\%](https://unstats.un.org/sdgs/report/2019/goal-01/). Although the world rate of extreme poverty has declined consistently for hundreds of years, the number of people living in extreme poverty is still over 600 million. The United Nations adopted an [ambitious goal](http://www.un.org/sustainabledevelopment/poverty/): \"By 2030, eradicate extreme poverty for all people everywhere.\"\n",
    "\n",
    "In this part of the project, we will examine some aspects of global poverty that might affect whether the goal is achievable. The causes of poverty are complex. They include global histories, such as colonialism, as well as factors such as health care, economics, and social inequality in each country."
   ]
  },
  {
   "cell_type": "markdown",
   "id": "aa106c56",
   "metadata": {
    "deletable": false,
    "editable": false
   },
   "source": [
    "First, load the population and poverty rate by country and year and the country descriptions. While the `population` table has values for every recent year for many countries, the `poverty` table only includes certain years for each country in which a measurement of the rate of extreme poverty was available."
   ]
  },
  {
   "cell_type": "code",
   "execution_count": 47,
   "id": "8dc37492",
   "metadata": {},
   "outputs": [
    {
     "data": {
      "text/html": [
       "<table border=\"1\" class=\"dataframe\">\n",
       "    <thead>\n",
       "        <tr>\n",
       "            <th>geo</th> <th>time</th> <th>extreme_poverty_percent_people_below_125_a_day</th>\n",
       "        </tr>\n",
       "    </thead>\n",
       "    <tbody>\n",
       "        <tr>\n",
       "            <td>alb </td> <td>1996</td> <td>0.2                                           </td>\n",
       "        </tr>\n",
       "        <tr>\n",
       "            <td>alb </td> <td>2002</td> <td>0.73                                          </td>\n",
       "        </tr>\n",
       "        <tr>\n",
       "            <td>alb </td> <td>2004</td> <td>0.53                                          </td>\n",
       "        </tr>\n",
       "    </tbody>\n",
       "</table>\n",
       "<p>... (1096 rows omitted)</p>"
      ],
      "text/plain": [
       "<IPython.core.display.HTML object>"
      ]
     },
     "metadata": {},
     "output_type": "display_data"
    }
   ],
   "source": [
    "population = Table.read_table('population.csv') \n",
    "countries = Table.read_table('countries.csv').where('country', are.contained_in(population.group('geo').column('geo')))\n",
    "poverty = Table.read_table('poverty.csv')\n",
    "poverty.show(3)"
   ]
  },
  {
   "cell_type": "markdown",
   "id": "e451c17d",
   "metadata": {},
   "source": [
    "---\n",
    "\n",
    "**Question 1.** Assign `latest_poverty` to a three-column table with one row for each country that appears in the `poverty` table. The first column should contain the 3-letter code for the country. The second column should contain the most recent year for which an extreme poverty rate is available for the country. The third column should contain the poverty rate in that year. **Do not change the last line, so that the labels of your table are set correctly.**\n",
    "\n",
    "*Hint*: think about how ```group``` works: it does a sequential search of the table (from top to bottom) and collects values in the array in the order in which they appear, and then applies a function to that array. The `first` function may be helpful, but you are not required to use it.\n"
   ]
  },
  {
   "cell_type": "code",
   "execution_count": 50,
   "id": "3dc13f45",
   "metadata": {
    "deletable": false,
    "tags": []
   },
   "outputs": [
    {
     "data": {
      "text/html": [
       "<table border=\"1\" class=\"dataframe\">\n",
       "    <thead>\n",
       "        <tr>\n",
       "            <th>geo</th> <th>time</th> <th>poverty_percent</th>\n",
       "        </tr>\n",
       "    </thead>\n",
       "    <tbody>\n",
       "        <tr>\n",
       "            <td>ago </td> <td>2009</td> <td>43.37          </td>\n",
       "        </tr>\n",
       "        <tr>\n",
       "            <td>alb </td> <td>2012</td> <td>0.46           </td>\n",
       "        </tr>\n",
       "        <tr>\n",
       "            <td>arg </td> <td>2011</td> <td>1.41           </td>\n",
       "        </tr>\n",
       "        <tr>\n",
       "            <td>arm </td> <td>2012</td> <td>1.75           </td>\n",
       "        </tr>\n",
       "        <tr>\n",
       "            <td>aus </td> <td>2003</td> <td>1.36           </td>\n",
       "        </tr>\n",
       "        <tr>\n",
       "            <td>aut </td> <td>2004</td> <td>0.34           </td>\n",
       "        </tr>\n",
       "        <tr>\n",
       "            <td>aze </td> <td>2008</td> <td>0.31           </td>\n",
       "        </tr>\n",
       "        <tr>\n",
       "            <td>bdi </td> <td>2006</td> <td>81.32          </td>\n",
       "        </tr>\n",
       "        <tr>\n",
       "            <td>bel </td> <td>2000</td> <td>0.5            </td>\n",
       "        </tr>\n",
       "        <tr>\n",
       "            <td>ben </td> <td>2012</td> <td>51.61          </td>\n",
       "        </tr>\n",
       "    </tbody>\n",
       "</table>\n",
       "<p>... (135 rows omitted)</p>"
      ],
      "text/plain": [
       "geo  | time | poverty_percent\n",
       "ago  | 2009 | 43.37\n",
       "alb  | 2012 | 0.46\n",
       "arg  | 2011 | 1.41\n",
       "arm  | 2012 | 1.75\n",
       "aus  | 2003 | 1.36\n",
       "aut  | 2004 | 0.34\n",
       "aze  | 2008 | 0.31\n",
       "bdi  | 2006 | 81.32\n",
       "bel  | 2000 | 0.5\n",
       "ben  | 2012 | 51.61\n",
       "... (135 rows omitted)"
      ]
     },
     "execution_count": 50,
     "metadata": {},
     "output_type": "execute_result"
    }
   ],
   "source": [
    "def first(values):\n",
    "    return values.item(0)\n",
    "\n",
    "latest_poverty = poverty.sort('geo').take(np.cumsum((poverty.sort('geo').group('geo').column(1)))-1)\n",
    "latest_poverty = latest_poverty.relabeled(0, 'geo').relabeled(1, 'time').relabeled(2, 'poverty_percent') # You should *not* change this line.\n",
    "latest_poverty"
   ]
  },
  {
   "cell_type": "code",
   "execution_count": 51,
   "id": "d9eb148c",
   "metadata": {
    "deletable": false,
    "editable": false
   },
   "outputs": [
    {
     "data": {
      "text/html": [
       "<p><strong><pre style='display: inline;'>q2_1</pre></strong> passed! 🌟</p>"
      ],
      "text/plain": [
       "q2_1 results: All test cases passed!"
      ]
     },
     "execution_count": 51,
     "metadata": {},
     "output_type": "execute_result"
    }
   ],
   "source": [
    "grader.check(\"q2_1\")"
   ]
  },
  {
   "cell_type": "markdown",
   "id": "7113236a",
   "metadata": {},
   "source": [
    "---\n",
    "\n",
    "**Question 2.** Using both `latest_poverty` and `population`, create a four-column table called `recent_poverty_total` with one row for each country in `latest_poverty`. The four columns should have the following labels and contents:\n",
    "1. `geo` contains the 3-letter country code,\n",
    "1. `poverty_percent` contains the most recent poverty percent,\n",
    "1. `population_total` contains the population of the country in 2010,\n",
    "1. `poverty_total` contains the number of people in poverty **rounded to the nearest integer**, based on the 2010 population and most recent poverty rate.\n",
    "\n",
    "*Hint*: You are not required to use `poverty_and_pop`, and you are always welcome to add any additional names. "
   ]
  },
  {
   "cell_type": "code",
   "execution_count": 52,
   "id": "dcab2b20",
   "metadata": {
    "deletable": false,
    "tags": []
   },
   "outputs": [
    {
     "data": {
      "text/html": [
       "<table border=\"1\" class=\"dataframe\">\n",
       "    <thead>\n",
       "        <tr>\n",
       "            <th>geo</th> <th>poverty_percent</th> <th>population_total</th> <th>poverty_total</th>\n",
       "        </tr>\n",
       "    </thead>\n",
       "    <tbody>\n",
       "        <tr>\n",
       "            <td>ago </td> <td>43.37          </td> <td>23294825        </td> <td>1.0103e+07   </td>\n",
       "        </tr>\n",
       "        <tr>\n",
       "            <td>alb </td> <td>0.46           </td> <td>2928722         </td> <td>13472        </td>\n",
       "        </tr>\n",
       "        <tr>\n",
       "            <td>arg </td> <td>1.41           </td> <td>41288694        </td> <td>582171       </td>\n",
       "        </tr>\n",
       "        <tr>\n",
       "            <td>arm </td> <td>1.75           </td> <td>2931078         </td> <td>51294        </td>\n",
       "        </tr>\n",
       "        <tr>\n",
       "            <td>aus </td> <td>1.36           </td> <td>22141581        </td> <td>301126       </td>\n",
       "        </tr>\n",
       "        <tr>\n",
       "            <td>aut </td> <td>0.34           </td> <td>8365092         </td> <td>28441        </td>\n",
       "        </tr>\n",
       "        <tr>\n",
       "            <td>aze </td> <td>0.31           </td> <td>9146851         </td> <td>28355        </td>\n",
       "        </tr>\n",
       "        <tr>\n",
       "            <td>bdi </td> <td>81.32          </td> <td>9376444         </td> <td>7.62492e+06  </td>\n",
       "        </tr>\n",
       "        <tr>\n",
       "            <td>bel </td> <td>0.5            </td> <td>10936626        </td> <td>54683        </td>\n",
       "        </tr>\n",
       "        <tr>\n",
       "            <td>ben </td> <td>51.61          </td> <td>9797484         </td> <td>5.05648e+06  </td>\n",
       "        </tr>\n",
       "    </tbody>\n",
       "</table>\n",
       "<p>... (135 rows omitted)</p>"
      ],
      "text/plain": [
       "geo  | poverty_percent | population_total | poverty_total\n",
       "ago  | 43.37           | 23294825         | 1.0103e+07\n",
       "alb  | 0.46            | 2928722          | 13472\n",
       "arg  | 1.41            | 41288694         | 582171\n",
       "arm  | 1.75            | 2931078          | 51294\n",
       "aus  | 1.36            | 22141581         | 301126\n",
       "aut  | 0.34            | 8365092          | 28441\n",
       "aze  | 0.31            | 9146851          | 28355\n",
       "bdi  | 81.32           | 9376444          | 7.62492e+06\n",
       "bel  | 0.5             | 10936626         | 54683\n",
       "ben  | 51.61           | 9797484          | 5.05648e+06\n",
       "... (135 rows omitted)"
      ]
     },
     "execution_count": 52,
     "metadata": {},
     "output_type": "execute_result"
    }
   ],
   "source": [
    "poverty_and_pop = latest_poverty.drop(1).join('geo', population.where('time', are.equal_to(2010)),'geo').drop(2)\n",
    "poverty_total = (np.round(poverty_and_pop.column(1)/ 100 * poverty_and_pop.column(2)))\n",
    "recent_poverty_total = poverty_and_pop.with_column('poverty_total', poverty_total)\n",
    "recent_poverty_total"
   ]
  },
  {
   "cell_type": "code",
   "execution_count": 53,
   "id": "77973a73",
   "metadata": {
    "deletable": false,
    "editable": false
   },
   "outputs": [
    {
     "data": {
      "text/html": [
       "<p><strong><pre style='display: inline;'>q2_2</pre></strong> passed! 💯</p>"
      ],
      "text/plain": [
       "q2_2 results: All test cases passed!"
      ]
     },
     "execution_count": 53,
     "metadata": {},
     "output_type": "execute_result"
    }
   ],
   "source": [
    "grader.check(\"q2_2\")"
   ]
  },
  {
   "cell_type": "markdown",
   "id": "319e273e",
   "metadata": {},
   "source": [
    "---\n",
    "\n",
    "**Question 3.** Assign the name `poverty_percent` to the known percentage of the world’s 2010 population that were living in extreme poverty. Assume that the `poverty_total` numbers in the `recent_poverty_total` table describe **all** people in 2010 living in extreme poverty. You should get a number that is above the 2018 global estimate of 9%, since many country-specific poverty rates are older than 2018.\n",
    "\n",
    "*Hint*: The sum of the `population_total` column in the `recent_poverty_total` table is not the world population, because only a subset of the world's countries are included in the `recent_poverty_total` table (only some countries have known poverty rates). Use the `population` table to compute the world's 2010 total population.\n",
    "\n",
    "*Hint*: We are computing a percentage (value between 0 and 100), not a proportion (value between 0 and 1).\n"
   ]
  },
  {
   "cell_type": "code",
   "execution_count": 54,
   "id": "bbd63496",
   "metadata": {
    "deletable": false,
    "tags": []
   },
   "outputs": [
    {
     "data": {
      "text/plain": [
       "14.429159949245513"
      ]
     },
     "execution_count": 54,
     "metadata": {},
     "output_type": "execute_result"
    }
   ],
   "source": [
    "poverty_percent = ((sum(recent_poverty_total.column(3))) / sum(population.where('time', are.equal_to(2010)).column(2)))*100\n",
    "poverty_percent"
   ]
  },
  {
   "cell_type": "code",
   "execution_count": 55,
   "id": "ee13a5c5",
   "metadata": {
    "deletable": false,
    "editable": false
   },
   "outputs": [
    {
     "data": {
      "text/html": [
       "<p><strong><pre style='display: inline;'>q2_3</pre></strong> passed! 🚀</p>"
      ],
      "text/plain": [
       "q2_3 results: All test cases passed!"
      ]
     },
     "execution_count": 55,
     "metadata": {},
     "output_type": "execute_result"
    }
   ],
   "source": [
    "grader.check(\"q2_3\")"
   ]
  },
  {
   "cell_type": "markdown",
   "id": "835d199d",
   "metadata": {
    "deletable": false,
    "editable": false
   },
   "source": [
    "The `countries` table includes not only the name and region of countries, but also their positions on the globe."
   ]
  },
  {
   "cell_type": "code",
   "execution_count": 56,
   "id": "eb756946",
   "metadata": {
    "deletable": false,
    "editable": false
   },
   "outputs": [
    {
     "data": {
      "text/html": [
       "<table border=\"1\" class=\"dataframe\">\n",
       "    <thead>\n",
       "        <tr>\n",
       "            <th>country</th> <th>name</th> <th>world_4region</th> <th>latitude</th> <th>longitude</th>\n",
       "        </tr>\n",
       "    </thead>\n",
       "    <tbody>\n",
       "        <tr>\n",
       "            <td>afg    </td> <td>Afghanistan         </td> <td>asia         </td> <td>33      </td> <td>66       </td>\n",
       "        </tr>\n",
       "        <tr>\n",
       "            <td>ago    </td> <td>Angola              </td> <td>africa       </td> <td>-12.5   </td> <td>18.5     </td>\n",
       "        </tr>\n",
       "        <tr>\n",
       "            <td>alb    </td> <td>Albania             </td> <td>europe       </td> <td>41      </td> <td>20       </td>\n",
       "        </tr>\n",
       "        <tr>\n",
       "            <td>and    </td> <td>Andorra             </td> <td>europe       </td> <td>42.5078 </td> <td>1.52109  </td>\n",
       "        </tr>\n",
       "        <tr>\n",
       "            <td>are    </td> <td>United Arab Emirates</td> <td>asia         </td> <td>23.75   </td> <td>54.5     </td>\n",
       "        </tr>\n",
       "        <tr>\n",
       "            <td>arg    </td> <td>Argentina           </td> <td>americas     </td> <td>-34     </td> <td>-64      </td>\n",
       "        </tr>\n",
       "        <tr>\n",
       "            <td>arm    </td> <td>Armenia             </td> <td>europe       </td> <td>40.25   </td> <td>45       </td>\n",
       "        </tr>\n",
       "        <tr>\n",
       "            <td>atg    </td> <td>Antigua and Barbuda </td> <td>americas     </td> <td>17.05   </td> <td>-61.8    </td>\n",
       "        </tr>\n",
       "        <tr>\n",
       "            <td>aus    </td> <td>Australia           </td> <td>asia         </td> <td>-25     </td> <td>135      </td>\n",
       "        </tr>\n",
       "        <tr>\n",
       "            <td>aut    </td> <td>Austria             </td> <td>europe       </td> <td>47.3333 </td> <td>13.3333  </td>\n",
       "        </tr>\n",
       "    </tbody>\n",
       "</table>\n",
       "<p>... (187 rows omitted)</p>"
      ],
      "text/plain": [
       "country | name                 | world_4region | latitude | longitude\n",
       "afg     | Afghanistan          | asia          | 33       | 66\n",
       "ago     | Angola               | africa        | -12.5    | 18.5\n",
       "alb     | Albania              | europe        | 41       | 20\n",
       "and     | Andorra              | europe        | 42.5078  | 1.52109\n",
       "are     | United Arab Emirates | asia          | 23.75    | 54.5\n",
       "arg     | Argentina            | americas      | -34      | -64\n",
       "arm     | Armenia              | europe        | 40.25    | 45\n",
       "atg     | Antigua and Barbuda  | americas      | 17.05    | -61.8\n",
       "aus     | Australia            | asia          | -25      | 135\n",
       "aut     | Austria              | europe        | 47.3333  | 13.3333\n",
       "... (187 rows omitted)"
      ]
     },
     "execution_count": 56,
     "metadata": {},
     "output_type": "execute_result"
    }
   ],
   "source": [
    "countries.select('country', 'name', 'world_4region', 'latitude', 'longitude')"
   ]
  },
  {
   "cell_type": "markdown",
   "id": "389d0272",
   "metadata": {},
   "source": [
    "---\n",
    "\n",
    "**Question 4.** Using both `countries` and `recent_poverty_total`, create a five-column table called `poverty_map` with one row for every country in `recent_poverty_total`.  The five columns should have the following labels and contents, in this order:\n",
    "1. `latitude` contains the country's latitude,\n",
    "1. `longitude` contains the country's longitude,\n",
    "1. `name` contains the country's name,\n",
    "1. `region` contains the country's region from the `world_4region` column of `countries`,\n",
    "1. `poverty_total` contains the country's poverty total.\n"
   ]
  },
  {
   "cell_type": "code",
   "execution_count": 57,
   "id": "66ba5bdb",
   "metadata": {
    "deletable": false,
    "tags": []
   },
   "outputs": [
    {
     "data": {
      "text/html": [
       "<table border=\"1\" class=\"dataframe\">\n",
       "    <thead>\n",
       "        <tr>\n",
       "            <th>latitude</th> <th>longitude</th> <th>name</th> <th>region</th> <th>poverty_total</th>\n",
       "        </tr>\n",
       "    </thead>\n",
       "    <tbody>\n",
       "        <tr>\n",
       "            <td>-12.5   </td> <td>18.5     </td> <td>Angola    </td> <td>africa  </td> <td>1.0103e+07   </td>\n",
       "        </tr>\n",
       "        <tr>\n",
       "            <td>41      </td> <td>20       </td> <td>Albania   </td> <td>europe  </td> <td>13472        </td>\n",
       "        </tr>\n",
       "        <tr>\n",
       "            <td>-34     </td> <td>-64      </td> <td>Argentina </td> <td>americas</td> <td>582171       </td>\n",
       "        </tr>\n",
       "        <tr>\n",
       "            <td>40.25   </td> <td>45       </td> <td>Armenia   </td> <td>europe  </td> <td>51294        </td>\n",
       "        </tr>\n",
       "        <tr>\n",
       "            <td>-25     </td> <td>135      </td> <td>Australia </td> <td>asia    </td> <td>301126       </td>\n",
       "        </tr>\n",
       "        <tr>\n",
       "            <td>47.3333 </td> <td>13.3333  </td> <td>Austria   </td> <td>europe  </td> <td>28441        </td>\n",
       "        </tr>\n",
       "        <tr>\n",
       "            <td>40.5    </td> <td>47.5     </td> <td>Azerbaijan</td> <td>europe  </td> <td>28355        </td>\n",
       "        </tr>\n",
       "        <tr>\n",
       "            <td>-3.5    </td> <td>30       </td> <td>Burundi   </td> <td>africa  </td> <td>7.62492e+06  </td>\n",
       "        </tr>\n",
       "        <tr>\n",
       "            <td>50.75   </td> <td>4.5      </td> <td>Belgium   </td> <td>europe  </td> <td>54683        </td>\n",
       "        </tr>\n",
       "        <tr>\n",
       "            <td>9.5     </td> <td>2.25     </td> <td>Benin     </td> <td>africa  </td> <td>5.05648e+06  </td>\n",
       "        </tr>\n",
       "    </tbody>\n",
       "</table>\n",
       "<p>... (135 rows omitted)</p>"
      ],
      "text/plain": [
       "latitude | longitude | name       | region   | poverty_total\n",
       "-12.5    | 18.5      | Angola     | africa   | 1.0103e+07\n",
       "41       | 20        | Albania    | europe   | 13472\n",
       "-34      | -64       | Argentina  | americas | 582171\n",
       "40.25    | 45        | Armenia    | europe   | 51294\n",
       "-25      | 135       | Australia  | asia     | 301126\n",
       "47.3333  | 13.3333   | Austria    | europe   | 28441\n",
       "40.5     | 47.5      | Azerbaijan | europe   | 28355\n",
       "-3.5     | 30        | Burundi    | africa   | 7.62492e+06\n",
       "50.75    | 4.5       | Belgium    | europe   | 54683\n",
       "9.5      | 2.25      | Benin      | africa   | 5.05648e+06\n",
       "... (135 rows omitted)"
      ]
     },
     "execution_count": 57,
     "metadata": {},
     "output_type": "execute_result"
    }
   ],
   "source": [
    "recent = recent_poverty_total.drop(1,2).join('geo', countries.select('country', 'name','world_4region', 'latitude', 'longitude'), 'country')\n",
    "poverty_map = Table().with_columns('latitude', recent.column(4), 'longitude', recent.column(5), 'name', recent.column(2), 'region', recent.column(3), 'poverty_total', recent.column(1))\n",
    "poverty_map"
   ]
  },
  {
   "cell_type": "code",
   "execution_count": 58,
   "id": "5f522155",
   "metadata": {
    "deletable": false,
    "editable": false
   },
   "outputs": [
    {
     "data": {
      "text/html": [
       "<p><strong><pre style='display: inline;'>q2_4</pre></strong> passed! 🚀</p>"
      ],
      "text/plain": [
       "q2_4 results: All test cases passed!"
      ]
     },
     "execution_count": 58,
     "metadata": {},
     "output_type": "execute_result"
    }
   ],
   "source": [
    "grader.check(\"q2_4\")"
   ]
  },
  {
   "cell_type": "markdown",
   "id": "3d84ed9d",
   "metadata": {
    "deletable": false,
    "editable": false
   },
   "source": [
    "Run the cell below to draw a map of the world in which the areas of circles represent the number of people living in extreme poverty. Double-click on the map to zoom in.\n",
    "\n",
    "> ***Note:*** If the cell below isn't loading, you can view the output [here](https://github.jonathanferrari.com/static/poverty_map.html)"
   ]
  },
  {
   "cell_type": "code",
   "execution_count": 59,
   "id": "48c50f31",
   "metadata": {
    "deletable": false,
    "editable": false,
    "scrolled": true
   },
   "outputs": [
    {
     "data": {
      "text/html": [
       "<div style=\"width:100%;\"><div style=\"position:relative;width:100%;height:0;padding-bottom:60%;\"><span style=\"color:#565656\">Make this Notebook Trusted to load map: File -> Trust Notebook</span><iframe srcdoc=\"&lt;!DOCTYPE html&gt;\n",
       "&lt;html&gt;\n",
       "&lt;head&gt;\n",
       "    \n",
       "    &lt;meta http-equiv=&quot;content-type&quot; content=&quot;text/html; charset=UTF-8&quot; /&gt;\n",
       "    \n",
       "        &lt;script&gt;\n",
       "            L_NO_TOUCH = false;\n",
       "            L_DISABLE_3D = false;\n",
       "        &lt;/script&gt;\n",
       "    \n",
       "    &lt;style&gt;html, body {width: 100%;height: 100%;margin: 0;padding: 0;}&lt;/style&gt;\n",
       "    &lt;style&gt;#map {position:absolute;top:0;bottom:0;right:0;left:0;}&lt;/style&gt;\n",
       "    &lt;script src=&quot;https://cdn.jsdelivr.net/npm/leaflet@1.9.3/dist/leaflet.js&quot;&gt;&lt;/script&gt;\n",
       "    &lt;script src=&quot;https://code.jquery.com/jquery-3.7.1.min.js&quot;&gt;&lt;/script&gt;\n",
       "    &lt;script src=&quot;https://cdn.jsdelivr.net/npm/bootstrap@5.2.2/dist/js/bootstrap.bundle.min.js&quot;&gt;&lt;/script&gt;\n",
       "    &lt;script src=&quot;https://cdnjs.cloudflare.com/ajax/libs/Leaflet.awesome-markers/2.0.2/leaflet.awesome-markers.js&quot;&gt;&lt;/script&gt;\n",
       "    &lt;link rel=&quot;stylesheet&quot; href=&quot;https://cdn.jsdelivr.net/npm/leaflet@1.9.3/dist/leaflet.css&quot;/&gt;\n",
       "    &lt;link rel=&quot;stylesheet&quot; href=&quot;https://cdn.jsdelivr.net/npm/bootstrap@5.2.2/dist/css/bootstrap.min.css&quot;/&gt;\n",
       "    &lt;link rel=&quot;stylesheet&quot; href=&quot;https://netdna.bootstrapcdn.com/bootstrap/3.0.0/css/bootstrap.min.css&quot;/&gt;\n",
       "    &lt;link rel=&quot;stylesheet&quot; href=&quot;https://cdn.jsdelivr.net/npm/@fortawesome/fontawesome-free@6.2.0/css/all.min.css&quot;/&gt;\n",
       "    &lt;link rel=&quot;stylesheet&quot; href=&quot;https://cdnjs.cloudflare.com/ajax/libs/Leaflet.awesome-markers/2.0.2/leaflet.awesome-markers.css&quot;/&gt;\n",
       "    &lt;link rel=&quot;stylesheet&quot; href=&quot;https://cdn.jsdelivr.net/gh/python-visualization/folium/folium/templates/leaflet.awesome.rotate.min.css&quot;/&gt;\n",
       "    \n",
       "            &lt;meta name=&quot;viewport&quot; content=&quot;width=device-width,\n",
       "                initial-scale=1.0, maximum-scale=1.0, user-scalable=no&quot; /&gt;\n",
       "            &lt;style&gt;\n",
       "                #map_21327b43d24416f7d4f2ff4056fa7e63 {\n",
       "                    position: relative;\n",
       "                    width: 960.0px;\n",
       "                    height: 500.0px;\n",
       "                    left: 0.0%;\n",
       "                    top: 0.0%;\n",
       "                }\n",
       "                .leaflet-container { font-size: 1rem; }\n",
       "            &lt;/style&gt;\n",
       "        \n",
       "&lt;/head&gt;\n",
       "&lt;body&gt;\n",
       "    \n",
       "    \n",
       "            &lt;div class=&quot;folium-map&quot; id=&quot;map_21327b43d24416f7d4f2ff4056fa7e63&quot; &gt;&lt;/div&gt;\n",
       "        \n",
       "&lt;/body&gt;\n",
       "&lt;script&gt;\n",
       "    \n",
       "    \n",
       "            var map_21327b43d24416f7d4f2ff4056fa7e63 = L.map(\n",
       "                &quot;map_21327b43d24416f7d4f2ff4056fa7e63&quot;,\n",
       "                {\n",
       "                    center: [15.0, 32.17871],\n",
       "                    crs: L.CRS.EPSG3857,\n",
       "                    zoom: 1,\n",
       "                    zoomControl: true,\n",
       "                    preferCanvas: false,\n",
       "                    clusteredMarker: false,\n",
       "                    includeColorScaleOutliers: true,\n",
       "                    radiusInMeters: false,\n",
       "                }\n",
       "            );\n",
       "\n",
       "            \n",
       "\n",
       "        \n",
       "    \n",
       "            var tile_layer_cfd1fb5e0888b2565a41740b8b921b6e = L.tileLayer(\n",
       "                &quot;https://tile.openstreetmap.org/{z}/{x}/{y}.png&quot;,\n",
       "                {&quot;attribution&quot;: &quot;\\u0026copy; \\u003ca href=\\&quot;https://www.openstreetmap.org/copyright\\&quot;\\u003eOpenStreetMap\\u003c/a\\u003e contributors&quot;, &quot;detectRetina&quot;: false, &quot;maxNativeZoom&quot;: 19, &quot;maxZoom&quot;: 19, &quot;minZoom&quot;: -1, &quot;noWrap&quot;: false, &quot;opacity&quot;: 1, &quot;subdomains&quot;: &quot;abc&quot;, &quot;tms&quot;: false}\n",
       "            );\n",
       "        \n",
       "    \n",
       "            tile_layer_cfd1fb5e0888b2565a41740b8b921b6e.addTo(map_21327b43d24416f7d4f2ff4056fa7e63);\n",
       "        \n",
       "    \n",
       "            var circle_marker_cd3d736cc0c0fa83313995648cbd9585 = L.circleMarker(\n",
       "                [-12.5, 18.5],\n",
       "                {&quot;bubblingMouseEvents&quot;: true, &quot;color&quot;: &quot;blue&quot;, &quot;dashArray&quot;: null, &quot;dashOffset&quot;: null, &quot;fill&quot;: true, &quot;fillColor&quot;: &quot;blue&quot;, &quot;fillOpacity&quot;: 0.2, &quot;fillRule&quot;: &quot;evenodd&quot;, &quot;lineCap&quot;: &quot;round&quot;, &quot;lineJoin&quot;: &quot;round&quot;, &quot;opacity&quot;: 1.0, &quot;radius&quot;: 17.932857991906104, &quot;stroke&quot;: true, &quot;weight&quot;: 3}\n",
       "            ).addTo(map_21327b43d24416f7d4f2ff4056fa7e63);\n",
       "        \n",
       "    \n",
       "        var popup_ccd268ea11f5d2b1031d61bd632695b0 = L.popup({&quot;maxWidth&quot;: &quot;100%&quot;});\n",
       "\n",
       "        \n",
       "            \n",
       "                var html_6a3aa8135badd3acf8c9e8afcdc0def7 = $(`&lt;div id=&quot;html_6a3aa8135badd3acf8c9e8afcdc0def7&quot; style=&quot;width: 100.0%; height: 100.0%;&quot;&gt;Angola&lt;/div&gt;`)[0];\n",
       "                popup_ccd268ea11f5d2b1031d61bd632695b0.setContent(html_6a3aa8135badd3acf8c9e8afcdc0def7);\n",
       "            \n",
       "        \n",
       "\n",
       "        circle_marker_cd3d736cc0c0fa83313995648cbd9585.bindPopup(popup_ccd268ea11f5d2b1031d61bd632695b0)\n",
       "        ;\n",
       "\n",
       "        \n",
       "    \n",
       "    \n",
       "            var circle_marker_25a7823ee8cfe3eaff220179d5233929 = L.circleMarker(\n",
       "                [41.0, 20.0],\n",
       "                {&quot;bubblingMouseEvents&quot;: true, &quot;color&quot;: &quot;black&quot;, &quot;dashArray&quot;: null, &quot;dashOffset&quot;: null, &quot;fill&quot;: true, &quot;fillColor&quot;: &quot;black&quot;, &quot;fillOpacity&quot;: 0.2, &quot;fillRule&quot;: &quot;evenodd&quot;, &quot;lineCap&quot;: &quot;round&quot;, &quot;lineJoin&quot;: &quot;round&quot;, &quot;opacity&quot;: 1.0, &quot;radius&quot;: 0.6548488975838647, &quot;stroke&quot;: true, &quot;weight&quot;: 3}\n",
       "            ).addTo(map_21327b43d24416f7d4f2ff4056fa7e63);\n",
       "        \n",
       "    \n",
       "        var popup_0885a76cc229e4861894b690ab80457f = L.popup({&quot;maxWidth&quot;: &quot;100%&quot;});\n",
       "\n",
       "        \n",
       "            \n",
       "                var html_ff60e0fa1a50cfbf290e0c258d431f04 = $(`&lt;div id=&quot;html_ff60e0fa1a50cfbf290e0c258d431f04&quot; style=&quot;width: 100.0%; height: 100.0%;&quot;&gt;Albania&lt;/div&gt;`)[0];\n",
       "                popup_0885a76cc229e4861894b690ab80457f.setContent(html_ff60e0fa1a50cfbf290e0c258d431f04);\n",
       "            \n",
       "        \n",
       "\n",
       "        circle_marker_25a7823ee8cfe3eaff220179d5233929.bindPopup(popup_0885a76cc229e4861894b690ab80457f)\n",
       "        ;\n",
       "\n",
       "        \n",
       "    \n",
       "    \n",
       "            var circle_marker_9e3a6d4e9af808a9ab6e642a4c48b7f6 = L.circleMarker(\n",
       "                [-34.0, -64.0],\n",
       "                {&quot;bubblingMouseEvents&quot;: true, &quot;color&quot;: &quot;green&quot;, &quot;dashArray&quot;: null, &quot;dashOffset&quot;: null, &quot;fill&quot;: true, &quot;fillColor&quot;: &quot;green&quot;, &quot;fillOpacity&quot;: 0.2, &quot;fillRule&quot;: &quot;evenodd&quot;, &quot;lineCap&quot;: &quot;round&quot;, &quot;lineJoin&quot;: &quot;round&quot;, &quot;opacity&quot;: 1.0, &quot;radius&quot;: 4.304773916821923, &quot;stroke&quot;: true, &quot;weight&quot;: 3}\n",
       "            ).addTo(map_21327b43d24416f7d4f2ff4056fa7e63);\n",
       "        \n",
       "    \n",
       "        var popup_f5495e1bf71d7456094373ca878fc573 = L.popup({&quot;maxWidth&quot;: &quot;100%&quot;});\n",
       "\n",
       "        \n",
       "            \n",
       "                var html_774ba2058df15dfc336015eb0f1a258e = $(`&lt;div id=&quot;html_774ba2058df15dfc336015eb0f1a258e&quot; style=&quot;width: 100.0%; height: 100.0%;&quot;&gt;Argentina&lt;/div&gt;`)[0];\n",
       "                popup_f5495e1bf71d7456094373ca878fc573.setContent(html_774ba2058df15dfc336015eb0f1a258e);\n",
       "            \n",
       "        \n",
       "\n",
       "        circle_marker_9e3a6d4e9af808a9ab6e642a4c48b7f6.bindPopup(popup_f5495e1bf71d7456094373ca878fc573)\n",
       "        ;\n",
       "\n",
       "        \n",
       "    \n",
       "    \n",
       "            var circle_marker_22723326da53016db1bd5c9c8a318be5 = L.circleMarker(\n",
       "                [40.25, 45.0],\n",
       "                {&quot;bubblingMouseEvents&quot;: true, &quot;color&quot;: &quot;black&quot;, &quot;dashArray&quot;: null, &quot;dashOffset&quot;: null, &quot;fill&quot;: true, &quot;fillColor&quot;: &quot;black&quot;, &quot;fillOpacity&quot;: 0.2, &quot;fillRule&quot;: &quot;evenodd&quot;, &quot;lineCap&quot;: &quot;round&quot;, &quot;lineJoin&quot;: &quot;round&quot;, &quot;opacity&quot;: 1.0, &quot;radius&quot;: 1.277786652845903, &quot;stroke&quot;: true, &quot;weight&quot;: 3}\n",
       "            ).addTo(map_21327b43d24416f7d4f2ff4056fa7e63);\n",
       "        \n",
       "    \n",
       "        var popup_a21a3d9c64334b5f0b949b2defe6a448 = L.popup({&quot;maxWidth&quot;: &quot;100%&quot;});\n",
       "\n",
       "        \n",
       "            \n",
       "                var html_bb0951f88a49d4e4d3c49a42015101ac = $(`&lt;div id=&quot;html_bb0951f88a49d4e4d3c49a42015101ac&quot; style=&quot;width: 100.0%; height: 100.0%;&quot;&gt;Armenia&lt;/div&gt;`)[0];\n",
       "                popup_a21a3d9c64334b5f0b949b2defe6a448.setContent(html_bb0951f88a49d4e4d3c49a42015101ac);\n",
       "            \n",
       "        \n",
       "\n",
       "        circle_marker_22723326da53016db1bd5c9c8a318be5.bindPopup(popup_a21a3d9c64334b5f0b949b2defe6a448)\n",
       "        ;\n",
       "\n",
       "        \n",
       "    \n",
       "    \n",
       "            var circle_marker_4902927142c5d2c9dfb8d542fb752916 = L.circleMarker(\n",
       "                [-25.0, 135.0],\n",
       "                {&quot;bubblingMouseEvents&quot;: true, &quot;color&quot;: &quot;red&quot;, &quot;dashArray&quot;: null, &quot;dashOffset&quot;: null, &quot;fill&quot;: true, &quot;fillColor&quot;: &quot;red&quot;, &quot;fillOpacity&quot;: 0.2, &quot;fillRule&quot;: &quot;evenodd&quot;, &quot;lineCap&quot;: &quot;round&quot;, &quot;lineJoin&quot;: &quot;round&quot;, &quot;opacity&quot;: 1.0, &quot;radius&quot;: 3.0959874480847005, &quot;stroke&quot;: true, &quot;weight&quot;: 3}\n",
       "            ).addTo(map_21327b43d24416f7d4f2ff4056fa7e63);\n",
       "        \n",
       "    \n",
       "        var popup_4bd584f4ad95ff5822d9eae7c5d02bf6 = L.popup({&quot;maxWidth&quot;: &quot;100%&quot;});\n",
       "\n",
       "        \n",
       "            \n",
       "                var html_413498f0deeb8db4df31b60c6c84a1cb = $(`&lt;div id=&quot;html_413498f0deeb8db4df31b60c6c84a1cb&quot; style=&quot;width: 100.0%; height: 100.0%;&quot;&gt;Australia&lt;/div&gt;`)[0];\n",
       "                popup_4bd584f4ad95ff5822d9eae7c5d02bf6.setContent(html_413498f0deeb8db4df31b60c6c84a1cb);\n",
       "            \n",
       "        \n",
       "\n",
       "        circle_marker_4902927142c5d2c9dfb8d542fb752916.bindPopup(popup_4bd584f4ad95ff5822d9eae7c5d02bf6)\n",
       "        ;\n",
       "\n",
       "        \n",
       "    \n",
       "    \n",
       "            var circle_marker_e094cc01167a23f321dba0d85299e981 = L.circleMarker(\n",
       "                [47.33333, 13.33333],\n",
       "                {&quot;bubblingMouseEvents&quot;: true, &quot;color&quot;: &quot;black&quot;, &quot;dashArray&quot;: null, &quot;dashOffset&quot;: null, &quot;fill&quot;: true, &quot;fillColor&quot;: &quot;black&quot;, &quot;fillOpacity&quot;: 0.2, &quot;fillRule&quot;: &quot;evenodd&quot;, &quot;lineCap&quot;: &quot;round&quot;, &quot;lineJoin&quot;: &quot;round&quot;, &quot;opacity&quot;: 1.0, &quot;radius&quot;: 0.9514752478626646, &quot;stroke&quot;: true, &quot;weight&quot;: 3}\n",
       "            ).addTo(map_21327b43d24416f7d4f2ff4056fa7e63);\n",
       "        \n",
       "    \n",
       "        var popup_261c6f3b1e177386db4ced951abd60cc = L.popup({&quot;maxWidth&quot;: &quot;100%&quot;});\n",
       "\n",
       "        \n",
       "            \n",
       "                var html_f1ef31d06c50351da68b0998aa8868ef = $(`&lt;div id=&quot;html_f1ef31d06c50351da68b0998aa8868ef&quot; style=&quot;width: 100.0%; height: 100.0%;&quot;&gt;Austria&lt;/div&gt;`)[0];\n",
       "                popup_261c6f3b1e177386db4ced951abd60cc.setContent(html_f1ef31d06c50351da68b0998aa8868ef);\n",
       "            \n",
       "        \n",
       "\n",
       "        circle_marker_e094cc01167a23f321dba0d85299e981.bindPopup(popup_261c6f3b1e177386db4ced951abd60cc)\n",
       "        ;\n",
       "\n",
       "        \n",
       "    \n",
       "    \n",
       "            var circle_marker_fbf07afc87531992b56747f01700a594 = L.circleMarker(\n",
       "                [40.5, 47.5],\n",
       "                {&quot;bubblingMouseEvents&quot;: true, &quot;color&quot;: &quot;black&quot;, &quot;dashArray&quot;: null, &quot;dashOffset&quot;: null, &quot;fill&quot;: true, &quot;fillColor&quot;: &quot;black&quot;, &quot;fillOpacity&quot;: 0.2, &quot;fillRule&quot;: &quot;evenodd&quot;, &quot;lineCap&quot;: &quot;round&quot;, &quot;lineJoin&quot;: &quot;round&quot;, &quot;opacity&quot;: 1.0, &quot;radius&quot;: 0.9500356215817061, &quot;stroke&quot;: true, &quot;weight&quot;: 3}\n",
       "            ).addTo(map_21327b43d24416f7d4f2ff4056fa7e63);\n",
       "        \n",
       "    \n",
       "        var popup_98f8d80fa9517c0c95cf11f69ac02fbc = L.popup({&quot;maxWidth&quot;: &quot;100%&quot;});\n",
       "\n",
       "        \n",
       "            \n",
       "                var html_982670cd941b121d33809e2499e9a68a = $(`&lt;div id=&quot;html_982670cd941b121d33809e2499e9a68a&quot; style=&quot;width: 100.0%; height: 100.0%;&quot;&gt;Azerbaijan&lt;/div&gt;`)[0];\n",
       "                popup_98f8d80fa9517c0c95cf11f69ac02fbc.setContent(html_982670cd941b121d33809e2499e9a68a);\n",
       "            \n",
       "        \n",
       "\n",
       "        circle_marker_fbf07afc87531992b56747f01700a594.bindPopup(popup_98f8d80fa9517c0c95cf11f69ac02fbc)\n",
       "        ;\n",
       "\n",
       "        \n",
       "    \n",
       "    \n",
       "            var circle_marker_52e7cd5b11f8b6f428fcf1d7638cb9d5 = L.circleMarker(\n",
       "                [-3.5, 30.0],\n",
       "                {&quot;bubblingMouseEvents&quot;: true, &quot;color&quot;: &quot;blue&quot;, &quot;dashArray&quot;: null, &quot;dashOffset&quot;: null, &quot;fill&quot;: true, &quot;fillColor&quot;: &quot;blue&quot;, &quot;fillOpacity&quot;: 0.2, &quot;fillRule&quot;: &quot;evenodd&quot;, &quot;lineCap&quot;: &quot;round&quot;, &quot;lineJoin&quot;: &quot;round&quot;, &quot;opacity&quot;: 1.0, &quot;radius&quot;: 15.57911644028651, &quot;stroke&quot;: true, &quot;weight&quot;: 3}\n",
       "            ).addTo(map_21327b43d24416f7d4f2ff4056fa7e63);\n",
       "        \n",
       "    \n",
       "        var popup_2ad9702e0f040dcfd058b745b8fc9568 = L.popup({&quot;maxWidth&quot;: &quot;100%&quot;});\n",
       "\n",
       "        \n",
       "            \n",
       "                var html_69dcd0e9c201253926a2482fd2678407 = $(`&lt;div id=&quot;html_69dcd0e9c201253926a2482fd2678407&quot; style=&quot;width: 100.0%; height: 100.0%;&quot;&gt;Burundi&lt;/div&gt;`)[0];\n",
       "                popup_2ad9702e0f040dcfd058b745b8fc9568.setContent(html_69dcd0e9c201253926a2482fd2678407);\n",
       "            \n",
       "        \n",
       "\n",
       "        circle_marker_52e7cd5b11f8b6f428fcf1d7638cb9d5.bindPopup(popup_2ad9702e0f040dcfd058b745b8fc9568)\n",
       "        ;\n",
       "\n",
       "        \n",
       "    \n",
       "    \n",
       "            var circle_marker_4d0466ebd79bf667a09c543507bbb583 = L.circleMarker(\n",
       "                [50.75, 4.5],\n",
       "                {&quot;bubblingMouseEvents&quot;: true, &quot;color&quot;: &quot;black&quot;, &quot;dashArray&quot;: null, &quot;dashOffset&quot;: null, &quot;fill&quot;: true, &quot;fillColor&quot;: &quot;black&quot;, &quot;fillOpacity&quot;: 0.2, &quot;fillRule&quot;: &quot;evenodd&quot;, &quot;lineCap&quot;: &quot;round&quot;, &quot;lineJoin&quot;: &quot;round&quot;, &quot;opacity&quot;: 1.0, &quot;radius&quot;: 1.3193232926841028, &quot;stroke&quot;: true, &quot;weight&quot;: 3}\n",
       "            ).addTo(map_21327b43d24416f7d4f2ff4056fa7e63);\n",
       "        \n",
       "    \n",
       "        var popup_5898b7c3c994d88e088f24c486b16303 = L.popup({&quot;maxWidth&quot;: &quot;100%&quot;});\n",
       "\n",
       "        \n",
       "            \n",
       "                var html_d274596d8b478ae8922d2e4d3af43ebe = $(`&lt;div id=&quot;html_d274596d8b478ae8922d2e4d3af43ebe&quot; style=&quot;width: 100.0%; height: 100.0%;&quot;&gt;Belgium&lt;/div&gt;`)[0];\n",
       "                popup_5898b7c3c994d88e088f24c486b16303.setContent(html_d274596d8b478ae8922d2e4d3af43ebe);\n",
       "            \n",
       "        \n",
       "\n",
       "        circle_marker_4d0466ebd79bf667a09c543507bbb583.bindPopup(popup_5898b7c3c994d88e088f24c486b16303)\n",
       "        ;\n",
       "\n",
       "        \n",
       "    \n",
       "    \n",
       "            var circle_marker_29ea4c18dcdfb4637502c2eecd73b7b2 = L.circleMarker(\n",
       "                [9.5, 2.25],\n",
       "                {&quot;bubblingMouseEvents&quot;: true, &quot;color&quot;: &quot;blue&quot;, &quot;dashArray&quot;: null, &quot;dashOffset&quot;: null, &quot;fill&quot;: true, &quot;fillColor&quot;: &quot;blue&quot;, &quot;fillOpacity&quot;: 0.2, &quot;fillRule&quot;: &quot;evenodd&quot;, &quot;lineCap&quot;: &quot;round&quot;, &quot;lineJoin&quot;: &quot;round&quot;, &quot;opacity&quot;: 1.0, &quot;radius&quot;: 12.686717036335681, &quot;stroke&quot;: true, &quot;weight&quot;: 3}\n",
       "            ).addTo(map_21327b43d24416f7d4f2ff4056fa7e63);\n",
       "        \n",
       "    \n",
       "        var popup_f4749cc4cb926149b503b6ace3ab90a0 = L.popup({&quot;maxWidth&quot;: &quot;100%&quot;});\n",
       "\n",
       "        \n",
       "            \n",
       "                var html_dc5527b97d5cfc004ac99bf76f551b17 = $(`&lt;div id=&quot;html_dc5527b97d5cfc004ac99bf76f551b17&quot; style=&quot;width: 100.0%; height: 100.0%;&quot;&gt;Benin&lt;/div&gt;`)[0];\n",
       "                popup_f4749cc4cb926149b503b6ace3ab90a0.setContent(html_dc5527b97d5cfc004ac99bf76f551b17);\n",
       "            \n",
       "        \n",
       "\n",
       "        circle_marker_29ea4c18dcdfb4637502c2eecd73b7b2.bindPopup(popup_f4749cc4cb926149b503b6ace3ab90a0)\n",
       "        ;\n",
       "\n",
       "        \n",
       "    \n",
       "    \n",
       "            var circle_marker_f25229b63276b6ef8533537244e43a6e = L.circleMarker(\n",
       "                [12.5, -1.66667],\n",
       "                {&quot;bubblingMouseEvents&quot;: true, &quot;color&quot;: &quot;blue&quot;, &quot;dashArray&quot;: null, &quot;dashOffset&quot;: null, &quot;fill&quot;: true, &quot;fillColor&quot;: &quot;blue&quot;, &quot;fillOpacity&quot;: 0.2, &quot;fillRule&quot;: &quot;evenodd&quot;, &quot;lineCap&quot;: &quot;round&quot;, &quot;lineJoin&quot;: &quot;round&quot;, &quot;opacity&quot;: 1.0, &quot;radius&quot;: 15.130457036837129, &quot;stroke&quot;: true, &quot;weight&quot;: 3}\n",
       "            ).addTo(map_21327b43d24416f7d4f2ff4056fa7e63);\n",
       "        \n",
       "    \n",
       "        var popup_c173c7d1b8f24b661bb0750e5a40cdbc = L.popup({&quot;maxWidth&quot;: &quot;100%&quot;});\n",
       "\n",
       "        \n",
       "            \n",
       "                var html_f16d39f1a0d2fbec31e294769a7c3fb2 = $(`&lt;div id=&quot;html_f16d39f1a0d2fbec31e294769a7c3fb2&quot; style=&quot;width: 100.0%; height: 100.0%;&quot;&gt;Burkina Faso&lt;/div&gt;`)[0];\n",
       "                popup_c173c7d1b8f24b661bb0750e5a40cdbc.setContent(html_f16d39f1a0d2fbec31e294769a7c3fb2);\n",
       "            \n",
       "        \n",
       "\n",
       "        circle_marker_f25229b63276b6ef8533537244e43a6e.bindPopup(popup_c173c7d1b8f24b661bb0750e5a40cdbc)\n",
       "        ;\n",
       "\n",
       "        \n",
       "    \n",
       "    \n",
       "            var circle_marker_6f546173f40956e9229bbcd12041fb5c = L.circleMarker(\n",
       "                [24.0, 90.0],\n",
       "                {&quot;bubblingMouseEvents&quot;: true, &quot;color&quot;: &quot;red&quot;, &quot;dashArray&quot;: null, &quot;dashOffset&quot;: null, &quot;fill&quot;: true, &quot;fillColor&quot;: &quot;red&quot;, &quot;fillOpacity&quot;: 0.2, &quot;fillRule&quot;: &quot;evenodd&quot;, &quot;lineCap&quot;: &quot;round&quot;, &quot;lineJoin&quot;: &quot;round&quot;, &quot;opacity&quot;: 1.0, &quot;radius&quot;: 45.774991550463184, &quot;stroke&quot;: true, &quot;weight&quot;: 3}\n",
       "            ).addTo(map_21327b43d24416f7d4f2ff4056fa7e63);\n",
       "        \n",
       "    \n",
       "        var popup_1492225a8e3fbfcf431fb63d76e7717e = L.popup({&quot;maxWidth&quot;: &quot;100%&quot;});\n",
       "\n",
       "        \n",
       "            \n",
       "                var html_3bf0b084bb481deb3d812b2fd4fc84bf = $(`&lt;div id=&quot;html_3bf0b084bb481deb3d812b2fd4fc84bf&quot; style=&quot;width: 100.0%; height: 100.0%;&quot;&gt;Bangladesh&lt;/div&gt;`)[0];\n",
       "                popup_1492225a8e3fbfcf431fb63d76e7717e.setContent(html_3bf0b084bb481deb3d812b2fd4fc84bf);\n",
       "            \n",
       "        \n",
       "\n",
       "        circle_marker_6f546173f40956e9229bbcd12041fb5c.bindPopup(popup_1492225a8e3fbfcf431fb63d76e7717e)\n",
       "        ;\n",
       "\n",
       "        \n",
       "    \n",
       "    \n",
       "            var circle_marker_2286ce148fa5fc853c5985c9a55448e5 = L.circleMarker(\n",
       "                [42.66667, 25.25],\n",
       "                {&quot;bubblingMouseEvents&quot;: true, &quot;color&quot;: &quot;black&quot;, &quot;dashArray&quot;: null, &quot;dashOffset&quot;: null, &quot;fill&quot;: true, &quot;fillColor&quot;: &quot;black&quot;, &quot;fillOpacity&quot;: 0.2, &quot;fillRule&quot;: &quot;evenodd&quot;, &quot;lineCap&quot;: &quot;round&quot;, &quot;lineJoin&quot;: &quot;round&quot;, &quot;opacity&quot;: 1.0, &quot;radius&quot;: 2.120887626824585, &quot;stroke&quot;: true, &quot;weight&quot;: 3}\n",
       "            ).addTo(map_21327b43d24416f7d4f2ff4056fa7e63);\n",
       "        \n",
       "    \n",
       "        var popup_d0b1836c3ef4fd0f44dd2ebf8e204819 = L.popup({&quot;maxWidth&quot;: &quot;100%&quot;});\n",
       "\n",
       "        \n",
       "            \n",
       "                var html_2d7f6b2358ad99217e52da40838f834b = $(`&lt;div id=&quot;html_2d7f6b2358ad99217e52da40838f834b&quot; style=&quot;width: 100.0%; height: 100.0%;&quot;&gt;Bulgaria&lt;/div&gt;`)[0];\n",
       "                popup_d0b1836c3ef4fd0f44dd2ebf8e204819.setContent(html_2d7f6b2358ad99217e52da40838f834b);\n",
       "            \n",
       "        \n",
       "\n",
       "        circle_marker_2286ce148fa5fc853c5985c9a55448e5.bindPopup(popup_d0b1836c3ef4fd0f44dd2ebf8e204819)\n",
       "        ;\n",
       "\n",
       "        \n",
       "    \n",
       "    \n",
       "            var circle_marker_a36082fdf011288bf70e80b532114634 = L.circleMarker(\n",
       "                [44.25, 17.83333],\n",
       "                {&quot;bubblingMouseEvents&quot;: true, &quot;color&quot;: &quot;black&quot;, &quot;dashArray&quot;: null, &quot;dashOffset&quot;: null, &quot;fill&quot;: true, &quot;fillColor&quot;: &quot;black&quot;, &quot;fillOpacity&quot;: 0.2, &quot;fillRule&quot;: &quot;evenodd&quot;, &quot;lineCap&quot;: &quot;round&quot;, &quot;lineJoin&quot;: &quot;round&quot;, &quot;opacity&quot;: 1.0, &quot;radius&quot;: 0.2203230756026887, &quot;stroke&quot;: true, &quot;weight&quot;: 3}\n",
       "            ).addTo(map_21327b43d24416f7d4f2ff4056fa7e63);\n",
       "        \n",
       "    \n",
       "        var popup_8e78dcf18b35348abb4fbf1d60b7a310 = L.popup({&quot;maxWidth&quot;: &quot;100%&quot;});\n",
       "\n",
       "        \n",
       "            \n",
       "                var html_edb5f5e63452be1421f432e1627f9dca = $(`&lt;div id=&quot;html_edb5f5e63452be1421f432e1627f9dca&quot; style=&quot;width: 100.0%; height: 100.0%;&quot;&gt;Bosnia and Herzegovina&lt;/div&gt;`)[0];\n",
       "                popup_8e78dcf18b35348abb4fbf1d60b7a310.setContent(html_edb5f5e63452be1421f432e1627f9dca);\n",
       "            \n",
       "        \n",
       "\n",
       "        circle_marker_a36082fdf011288bf70e80b532114634.bindPopup(popup_8e78dcf18b35348abb4fbf1d60b7a310)\n",
       "        ;\n",
       "\n",
       "        \n",
       "    \n",
       "    \n",
       "            var circle_marker_137f7831435ded9a64f56fa59fe1c058 = L.circleMarker(\n",
       "                [53.0, 28.0],\n",
       "                {&quot;bubblingMouseEvents&quot;: true, &quot;color&quot;: &quot;black&quot;, &quot;dashArray&quot;: null, &quot;dashOffset&quot;: null, &quot;fill&quot;: true, &quot;fillColor&quot;: &quot;black&quot;, &quot;fillOpacity&quot;: 0.2, &quot;fillRule&quot;: &quot;evenodd&quot;, &quot;lineCap&quot;: &quot;round&quot;, &quot;lineJoin&quot;: &quot;round&quot;, &quot;opacity&quot;: 1.0, &quot;stroke&quot;: true, &quot;weight&quot;: 3}\n",
       "            ).addTo(map_21327b43d24416f7d4f2ff4056fa7e63);\n",
       "        \n",
       "    \n",
       "        var popup_1298bc3d9b27c527f669d4d707143f0f = L.popup({&quot;maxWidth&quot;: &quot;100%&quot;});\n",
       "\n",
       "        \n",
       "            \n",
       "                var html_6d5a5f9dbd7dc73daffe7b5188a70374 = $(`&lt;div id=&quot;html_6d5a5f9dbd7dc73daffe7b5188a70374&quot; style=&quot;width: 100.0%; height: 100.0%;&quot;&gt;Belarus&lt;/div&gt;`)[0];\n",
       "                popup_1298bc3d9b27c527f669d4d707143f0f.setContent(html_6d5a5f9dbd7dc73daffe7b5188a70374);\n",
       "            \n",
       "        \n",
       "\n",
       "        circle_marker_137f7831435ded9a64f56fa59fe1c058.bindPopup(popup_1298bc3d9b27c527f669d4d707143f0f)\n",
       "        ;\n",
       "\n",
       "        \n",
       "    \n",
       "    \n",
       "            var circle_marker_ca21370225f1b43c367d059a26055c86 = L.circleMarker(\n",
       "                [17.49952, -88.19756],\n",
       "                {&quot;bubblingMouseEvents&quot;: true, &quot;color&quot;: &quot;green&quot;, &quot;dashArray&quot;: null, &quot;dashOffset&quot;: null, &quot;fill&quot;: true, &quot;fillColor&quot;: &quot;green&quot;, &quot;fillOpacity&quot;: 0.2, &quot;fillRule&quot;: &quot;evenodd&quot;, &quot;lineCap&quot;: &quot;round&quot;, &quot;lineJoin&quot;: &quot;round&quot;, &quot;opacity&quot;: 1.0, &quot;radius&quot;: 1.115641213363803, &quot;stroke&quot;: true, &quot;weight&quot;: 3}\n",
       "            ).addTo(map_21327b43d24416f7d4f2ff4056fa7e63);\n",
       "        \n",
       "    \n",
       "        var popup_5c421afaf6951b83edc02a482d99afb5 = L.popup({&quot;maxWidth&quot;: &quot;100%&quot;});\n",
       "\n",
       "        \n",
       "            \n",
       "                var html_9404b0fc8b64b005a70513b455bf304e = $(`&lt;div id=&quot;html_9404b0fc8b64b005a70513b455bf304e&quot; style=&quot;width: 100.0%; height: 100.0%;&quot;&gt;Belize&lt;/div&gt;`)[0];\n",
       "                popup_5c421afaf6951b83edc02a482d99afb5.setContent(html_9404b0fc8b64b005a70513b455bf304e);\n",
       "            \n",
       "        \n",
       "\n",
       "        circle_marker_ca21370225f1b43c367d059a26055c86.bindPopup(popup_5c421afaf6951b83edc02a482d99afb5)\n",
       "        ;\n",
       "\n",
       "        \n",
       "    \n",
       "    \n",
       "            var circle_marker_7404c4a3a428fc2be46f03e4a222d0f3 = L.circleMarker(\n",
       "                [-17.0, -65.0],\n",
       "                {&quot;bubblingMouseEvents&quot;: true, &quot;color&quot;: &quot;green&quot;, &quot;dashArray&quot;: null, &quot;dashOffset&quot;: null, &quot;fill&quot;: true, &quot;fillColor&quot;: &quot;green&quot;, &quot;fillOpacity&quot;: 0.2, &quot;fillRule&quot;: &quot;evenodd&quot;, &quot;lineCap&quot;: &quot;round&quot;, &quot;lineJoin&quot;: &quot;round&quot;, &quot;opacity&quot;: 1.0, &quot;radius&quot;: 5.08569578650282, &quot;stroke&quot;: true, &quot;weight&quot;: 3}\n",
       "            ).addTo(map_21327b43d24416f7d4f2ff4056fa7e63);\n",
       "        \n",
       "    \n",
       "        var popup_1893a5b0f3e4c14515ec1f01b9a625c3 = L.popup({&quot;maxWidth&quot;: &quot;100%&quot;});\n",
       "\n",
       "        \n",
       "            \n",
       "                var html_9a9c5a3f9a4cce9acdfe99ad19fb0eaf = $(`&lt;div id=&quot;html_9a9c5a3f9a4cce9acdfe99ad19fb0eaf&quot; style=&quot;width: 100.0%; height: 100.0%;&quot;&gt;Bolivia&lt;/div&gt;`)[0];\n",
       "                popup_1893a5b0f3e4c14515ec1f01b9a625c3.setContent(html_9a9c5a3f9a4cce9acdfe99ad19fb0eaf);\n",
       "            \n",
       "        \n",
       "\n",
       "        circle_marker_7404c4a3a428fc2be46f03e4a222d0f3.bindPopup(popup_1893a5b0f3e4c14515ec1f01b9a625c3)\n",
       "        ;\n",
       "\n",
       "        \n",
       "    \n",
       "    \n",
       "            var circle_marker_33872663f07c25d72dc7e5e168cad03c = L.circleMarker(\n",
       "                [-10.0, -55.0],\n",
       "                {&quot;bubblingMouseEvents&quot;: true, &quot;color&quot;: &quot;green&quot;, &quot;dashArray&quot;: null, &quot;dashOffset&quot;: null, &quot;fill&quot;: true, &quot;fillColor&quot;: &quot;green&quot;, &quot;fillOpacity&quot;: 0.2, &quot;fillRule&quot;: &quot;evenodd&quot;, &quot;lineCap&quot;: &quot;round&quot;, &quot;lineJoin&quot;: &quot;round&quot;, &quot;opacity&quot;: 1.0, &quot;radius&quot;: 15.205743500662225, &quot;stroke&quot;: true, &quot;weight&quot;: 3}\n",
       "            ).addTo(map_21327b43d24416f7d4f2ff4056fa7e63);\n",
       "        \n",
       "    \n",
       "        var popup_89ed2ad9f20328361557f389a0430c1c = L.popup({&quot;maxWidth&quot;: &quot;100%&quot;});\n",
       "\n",
       "        \n",
       "            \n",
       "                var html_d1d02ed604660db119282c89b6af66c3 = $(`&lt;div id=&quot;html_d1d02ed604660db119282c89b6af66c3&quot; style=&quot;width: 100.0%; height: 100.0%;&quot;&gt;Brazil&lt;/div&gt;`)[0];\n",
       "                popup_89ed2ad9f20328361557f389a0430c1c.setContent(html_d1d02ed604660db119282c89b6af66c3);\n",
       "            \n",
       "        \n",
       "\n",
       "        circle_marker_33872663f07c25d72dc7e5e168cad03c.bindPopup(popup_89ed2ad9f20328361557f389a0430c1c)\n",
       "        ;\n",
       "\n",
       "        \n",
       "    \n",
       "    \n",
       "            var circle_marker_881a97e26fad405c51ebe5fabd5098ef = L.circleMarker(\n",
       "                [27.5, 90.5],\n",
       "                {&quot;bubblingMouseEvents&quot;: true, &quot;color&quot;: &quot;red&quot;, &quot;dashArray&quot;: null, &quot;dashOffset&quot;: null, &quot;fill&quot;: true, &quot;fillColor&quot;: &quot;red&quot;, &quot;fillOpacity&quot;: 0.2, &quot;fillRule&quot;: &quot;evenodd&quot;, &quot;lineCap&quot;: &quot;round&quot;, &quot;lineJoin&quot;: &quot;round&quot;, &quot;opacity&quot;: 1.0, &quot;radius&quot;: 0.7290717927188735, &quot;stroke&quot;: true, &quot;weight&quot;: 3}\n",
       "            ).addTo(map_21327b43d24416f7d4f2ff4056fa7e63);\n",
       "        \n",
       "    \n",
       "        var popup_3dfbd0a64fab30bf9627d0139536b9d8 = L.popup({&quot;maxWidth&quot;: &quot;100%&quot;});\n",
       "\n",
       "        \n",
       "            \n",
       "                var html_b9c75d87ec48bc7b03584aacf52d7819 = $(`&lt;div id=&quot;html_b9c75d87ec48bc7b03584aacf52d7819&quot; style=&quot;width: 100.0%; height: 100.0%;&quot;&gt;Bhutan&lt;/div&gt;`)[0];\n",
       "                popup_3dfbd0a64fab30bf9627d0139536b9d8.setContent(html_b9c75d87ec48bc7b03584aacf52d7819);\n",
       "            \n",
       "        \n",
       "\n",
       "        circle_marker_881a97e26fad405c51ebe5fabd5098ef.bindPopup(popup_3dfbd0a64fab30bf9627d0139536b9d8)\n",
       "        ;\n",
       "\n",
       "        \n",
       "    \n",
       "    \n",
       "            var circle_marker_da27016ff846aca874e985f1e03bad7f = L.circleMarker(\n",
       "                [-22.0, 24.0],\n",
       "                {&quot;bubblingMouseEvents&quot;: true, &quot;color&quot;: &quot;blue&quot;, &quot;dashArray&quot;: null, &quot;dashOffset&quot;: null, &quot;fill&quot;: true, &quot;fillColor&quot;: &quot;blue&quot;, &quot;fillOpacity&quot;: 0.2, &quot;fillRule&quot;: &quot;evenodd&quot;, &quot;lineCap&quot;: &quot;round&quot;, &quot;lineJoin&quot;: &quot;round&quot;, &quot;opacity&quot;: 1.0, &quot;radius&quot;: 2.945912547397643, &quot;stroke&quot;: true, &quot;weight&quot;: 3}\n",
       "            ).addTo(map_21327b43d24416f7d4f2ff4056fa7e63);\n",
       "        \n",
       "    \n",
       "        var popup_2718464fa19fc2a4e6df3cc41f0b1844 = L.popup({&quot;maxWidth&quot;: &quot;100%&quot;});\n",
       "\n",
       "        \n",
       "            \n",
       "                var html_e282fd86884724fd1b985dda507cdee1 = $(`&lt;div id=&quot;html_e282fd86884724fd1b985dda507cdee1&quot; style=&quot;width: 100.0%; height: 100.0%;&quot;&gt;Botswana&lt;/div&gt;`)[0];\n",
       "                popup_2718464fa19fc2a4e6df3cc41f0b1844.setContent(html_e282fd86884724fd1b985dda507cdee1);\n",
       "            \n",
       "        \n",
       "\n",
       "        circle_marker_da27016ff846aca874e985f1e03bad7f.bindPopup(popup_2718464fa19fc2a4e6df3cc41f0b1844)\n",
       "        ;\n",
       "\n",
       "        \n",
       "    \n",
       "    \n",
       "            var circle_marker_19fe13a43ad543352601e9db318150e5 = L.circleMarker(\n",
       "                [7.0, 21.0],\n",
       "                {&quot;bubblingMouseEvents&quot;: true, &quot;color&quot;: &quot;blue&quot;, &quot;dashArray&quot;: null, &quot;dashOffset&quot;: null, &quot;fill&quot;: true, &quot;fillColor&quot;: &quot;blue&quot;, &quot;fillOpacity&quot;: 0.2, &quot;fillRule&quot;: &quot;evenodd&quot;, &quot;lineCap&quot;: &quot;round&quot;, &quot;lineJoin&quot;: &quot;round&quot;, &quot;opacity&quot;: 1.0, &quot;radius&quot;: 9.479306804258663, &quot;stroke&quot;: true, &quot;weight&quot;: 3}\n",
       "            ).addTo(map_21327b43d24416f7d4f2ff4056fa7e63);\n",
       "        \n",
       "    \n",
       "        var popup_7e01a79ef5bfc4b5971bd0b1276a3f41 = L.popup({&quot;maxWidth&quot;: &quot;100%&quot;});\n",
       "\n",
       "        \n",
       "            \n",
       "                var html_b2c4a602e96ca2d05a34f42780446169 = $(`&lt;div id=&quot;html_b2c4a602e96ca2d05a34f42780446169&quot; style=&quot;width: 100.0%; height: 100.0%;&quot;&gt;Central African Republic&lt;/div&gt;`)[0];\n",
       "                popup_7e01a79ef5bfc4b5971bd0b1276a3f41.setContent(html_b2c4a602e96ca2d05a34f42780446169);\n",
       "            \n",
       "        \n",
       "\n",
       "        circle_marker_19fe13a43ad543352601e9db318150e5.bindPopup(popup_7e01a79ef5bfc4b5971bd0b1276a3f41)\n",
       "        ;\n",
       "\n",
       "        \n",
       "    \n",
       "    \n",
       "            var circle_marker_cb0de16286b4c49fd8f563ef0b639e69 = L.circleMarker(\n",
       "                [60.10867, -113.64258],\n",
       "                {&quot;bubblingMouseEvents&quot;: true, &quot;color&quot;: &quot;green&quot;, &quot;dashArray&quot;: null, &quot;dashOffset&quot;: null, &quot;fill&quot;: true, &quot;fillColor&quot;: &quot;green&quot;, &quot;fillOpacity&quot;: 0.2, &quot;fillRule&quot;: &quot;evenodd&quot;, &quot;lineCap&quot;: &quot;round&quot;, &quot;lineJoin&quot;: &quot;round&quot;, &quot;opacity&quot;: 1.0, &quot;radius&quot;: 1.9237872064421044, &quot;stroke&quot;: true, &quot;weight&quot;: 3}\n",
       "            ).addTo(map_21327b43d24416f7d4f2ff4056fa7e63);\n",
       "        \n",
       "    \n",
       "        var popup_518ad4246fedc5cdc7c3bdc222feabf2 = L.popup({&quot;maxWidth&quot;: &quot;100%&quot;});\n",
       "\n",
       "        \n",
       "            \n",
       "                var html_2e603e31612473553f8e5ad32e0e0c72 = $(`&lt;div id=&quot;html_2e603e31612473553f8e5ad32e0e0c72&quot; style=&quot;width: 100.0%; height: 100.0%;&quot;&gt;Canada&lt;/div&gt;`)[0];\n",
       "                popup_518ad4246fedc5cdc7c3bdc222feabf2.setContent(html_2e603e31612473553f8e5ad32e0e0c72);\n",
       "            \n",
       "        \n",
       "\n",
       "        circle_marker_cb0de16286b4c49fd8f563ef0b639e69.bindPopup(popup_518ad4246fedc5cdc7c3bdc222feabf2)\n",
       "        ;\n",
       "\n",
       "        \n",
       "    \n",
       "    \n",
       "            var circle_marker_8578507f5b641fdf1baa9ba1d8243313 = L.circleMarker(\n",
       "                [47.00016, 8.01427],\n",
       "                {&quot;bubblingMouseEvents&quot;: true, &quot;color&quot;: &quot;black&quot;, &quot;dashArray&quot;: null, &quot;dashOffset&quot;: null, &quot;fill&quot;: true, &quot;fillColor&quot;: &quot;black&quot;, &quot;fillOpacity&quot;: 0.2, &quot;fillRule&quot;: &quot;evenodd&quot;, &quot;lineCap&quot;: &quot;round&quot;, &quot;lineJoin&quot;: &quot;round&quot;, &quot;opacity&quot;: 1.0, &quot;radius&quot;: 1.2918955941667538, &quot;stroke&quot;: true, &quot;weight&quot;: 3}\n",
       "            ).addTo(map_21327b43d24416f7d4f2ff4056fa7e63);\n",
       "        \n",
       "    \n",
       "        var popup_b41a6fc00725cb028cbdbfb85bc1e66a = L.popup({&quot;maxWidth&quot;: &quot;100%&quot;});\n",
       "\n",
       "        \n",
       "            \n",
       "                var html_eabc0eab8fcc9c6275897476cfaa0086 = $(`&lt;div id=&quot;html_eabc0eab8fcc9c6275897476cfaa0086&quot; style=&quot;width: 100.0%; height: 100.0%;&quot;&gt;Switzerland&lt;/div&gt;`)[0];\n",
       "                popup_b41a6fc00725cb028cbdbfb85bc1e66a.setContent(html_eabc0eab8fcc9c6275897476cfaa0086);\n",
       "            \n",
       "        \n",
       "\n",
       "        circle_marker_8578507f5b641fdf1baa9ba1d8243313.bindPopup(popup_b41a6fc00725cb028cbdbfb85bc1e66a)\n",
       "        ;\n",
       "\n",
       "        \n",
       "    \n",
       "    \n",
       "            var circle_marker_53d4eba7fd5ca9eaa1c7ac7d9b70cf22 = L.circleMarker(\n",
       "                [-33.45694, -70.64827],\n",
       "                {&quot;bubblingMouseEvents&quot;: true, &quot;color&quot;: &quot;green&quot;, &quot;dashArray&quot;: null, &quot;dashOffset&quot;: null, &quot;fill&quot;: true, &quot;fillColor&quot;: &quot;green&quot;, &quot;fillOpacity&quot;: 0.2, &quot;fillRule&quot;: &quot;evenodd&quot;, &quot;lineCap&quot;: &quot;round&quot;, &quot;lineJoin&quot;: &quot;round&quot;, &quot;opacity&quot;: 1.0, &quot;radius&quot;: 2.130560950292802, &quot;stroke&quot;: true, &quot;weight&quot;: 3}\n",
       "            ).addTo(map_21327b43d24416f7d4f2ff4056fa7e63);\n",
       "        \n",
       "    \n",
       "        var popup_820fa38f216ad3bcea176b3417ea8146 = L.popup({&quot;maxWidth&quot;: &quot;100%&quot;});\n",
       "\n",
       "        \n",
       "            \n",
       "                var html_1c28364798d38621dbbff0b08719b71a = $(`&lt;div id=&quot;html_1c28364798d38621dbbff0b08719b71a&quot; style=&quot;width: 100.0%; height: 100.0%;&quot;&gt;Chile&lt;/div&gt;`)[0];\n",
       "                popup_820fa38f216ad3bcea176b3417ea8146.setContent(html_1c28364798d38621dbbff0b08719b71a);\n",
       "            \n",
       "        \n",
       "\n",
       "        circle_marker_53d4eba7fd5ca9eaa1c7ac7d9b70cf22.bindPopup(popup_820fa38f216ad3bcea176b3417ea8146)\n",
       "        ;\n",
       "\n",
       "        \n",
       "    \n",
       "    \n",
       "            var circle_marker_b0eed0ce907ff6c65ae1fa16699ee1ca = L.circleMarker(\n",
       "                [35.0, 105.0],\n",
       "                {&quot;bubblingMouseEvents&quot;: true, &quot;color&quot;: &quot;red&quot;, &quot;dashArray&quot;: null, &quot;dashOffset&quot;: null, &quot;fill&quot;: true, &quot;fillColor&quot;: &quot;red&quot;, &quot;fillOpacity&quot;: 0.2, &quot;fillRule&quot;: &quot;evenodd&quot;, &quot;lineCap&quot;: &quot;round&quot;, &quot;lineJoin&quot;: &quot;round&quot;, &quot;opacity&quot;: 1.0, &quot;radius&quot;: 51.89555240198962, &quot;stroke&quot;: true, &quot;weight&quot;: 3}\n",
       "            ).addTo(map_21327b43d24416f7d4f2ff4056fa7e63);\n",
       "        \n",
       "    \n",
       "        var popup_5c5a9cdce9602208a4107dc3a615e1d0 = L.popup({&quot;maxWidth&quot;: &quot;100%&quot;});\n",
       "\n",
       "        \n",
       "            \n",
       "                var html_5676f37220a1f5fc9a8677437c0c24d2 = $(`&lt;div id=&quot;html_5676f37220a1f5fc9a8677437c0c24d2&quot; style=&quot;width: 100.0%; height: 100.0%;&quot;&gt;China&lt;/div&gt;`)[0];\n",
       "                popup_5c5a9cdce9602208a4107dc3a615e1d0.setContent(html_5676f37220a1f5fc9a8677437c0c24d2);\n",
       "            \n",
       "        \n",
       "\n",
       "        circle_marker_b0eed0ce907ff6c65ae1fa16699ee1ca.bindPopup(popup_5c5a9cdce9602208a4107dc3a615e1d0)\n",
       "        ;\n",
       "\n",
       "        \n",
       "    \n",
       "    \n",
       "            var circle_marker_26103e1df0c40d276330269134dabf55 = L.circleMarker(\n",
       "                [8.0, -5.5],\n",
       "                {&quot;bubblingMouseEvents&quot;: true, &quot;color&quot;: &quot;blue&quot;, &quot;dashArray&quot;: null, &quot;dashOffset&quot;: null, &quot;fill&quot;: true, &quot;fillColor&quot;: &quot;blue&quot;, &quot;fillOpacity&quot;: 0.2, &quot;fillRule&quot;: &quot;evenodd&quot;, &quot;lineCap&quot;: &quot;round&quot;, &quot;lineJoin&quot;: &quot;round&quot;, &quot;opacity&quot;: 1.0, &quot;radius&quot;: 15.837373427210036, &quot;stroke&quot;: true, &quot;weight&quot;: 3}\n",
       "            ).addTo(map_21327b43d24416f7d4f2ff4056fa7e63);\n",
       "        \n",
       "    \n",
       "        var popup_dd1258211fe6e617f520317e191f9b4b = L.popup({&quot;maxWidth&quot;: &quot;100%&quot;});\n",
       "\n",
       "        \n",
       "            \n",
       "                var html_fbd9817d75fbd94a7bddf78d4d6625ab = $(`&lt;div id=&quot;html_fbd9817d75fbd94a7bddf78d4d6625ab&quot; style=&quot;width: 100.0%; height: 100.0%;&quot;&gt;Cote d&#x27;Ivoire&lt;/div&gt;`)[0];\n",
       "                popup_dd1258211fe6e617f520317e191f9b4b.setContent(html_fbd9817d75fbd94a7bddf78d4d6625ab);\n",
       "            \n",
       "        \n",
       "\n",
       "        circle_marker_26103e1df0c40d276330269134dabf55.bindPopup(popup_dd1258211fe6e617f520317e191f9b4b)\n",
       "        ;\n",
       "\n",
       "        \n",
       "    \n",
       "    \n",
       "            var circle_marker_d4e0e67314b3dd872e1628824f5a483c = L.circleMarker(\n",
       "                [6.0, 12.5],\n",
       "                {&quot;bubblingMouseEvents&quot;: true, &quot;color&quot;: &quot;blue&quot;, &quot;dashArray&quot;: null, &quot;dashOffset&quot;: null, &quot;fill&quot;: true, &quot;fillColor&quot;: &quot;blue&quot;, &quot;fillOpacity&quot;: 0.2, &quot;fillRule&quot;: &quot;evenodd&quot;, &quot;lineCap&quot;: &quot;round&quot;, &quot;lineJoin&quot;: &quot;round&quot;, &quot;opacity&quot;: 1.0, &quot;radius&quot;: 13.147376336622475, &quot;stroke&quot;: true, &quot;weight&quot;: 3}\n",
       "            ).addTo(map_21327b43d24416f7d4f2ff4056fa7e63);\n",
       "        \n",
       "    \n",
       "        var popup_4541bfd868ef9f3678e63f8dd305fdd5 = L.popup({&quot;maxWidth&quot;: &quot;100%&quot;});\n",
       "\n",
       "        \n",
       "            \n",
       "                var html_b8837e2887d195b619fd2e865aa1fbd5 = $(`&lt;div id=&quot;html_b8837e2887d195b619fd2e865aa1fbd5&quot; style=&quot;width: 100.0%; height: 100.0%;&quot;&gt;Cameroon&lt;/div&gt;`)[0];\n",
       "                popup_4541bfd868ef9f3678e63f8dd305fdd5.setContent(html_b8837e2887d195b619fd2e865aa1fbd5);\n",
       "            \n",
       "        \n",
       "\n",
       "        circle_marker_d4e0e67314b3dd872e1628824f5a483c.bindPopup(popup_4541bfd868ef9f3678e63f8dd305fdd5)\n",
       "        ;\n",
       "\n",
       "        \n",
       "    \n",
       "    \n",
       "            var circle_marker_5c42944b902fca6b89c0d18ec73bde9a = L.circleMarker(\n",
       "                [-2.5, 23.5],\n",
       "                {&quot;bubblingMouseEvents&quot;: true, &quot;color&quot;: &quot;blue&quot;, &quot;dashArray&quot;: null, &quot;dashOffset&quot;: null, &quot;fill&quot;: true, &quot;fillColor&quot;: &quot;blue&quot;, &quot;fillOpacity&quot;: 0.2, &quot;fillRule&quot;: &quot;evenodd&quot;, &quot;lineCap&quot;: &quot;round&quot;, &quot;lineJoin&quot;: &quot;round&quot;, &quot;opacity&quot;: 1.0, &quot;radius&quot;: 43.754165155748495, &quot;stroke&quot;: true, &quot;weight&quot;: 3}\n",
       "            ).addTo(map_21327b43d24416f7d4f2ff4056fa7e63);\n",
       "        \n",
       "    \n",
       "        var popup_03f3d50586aa70604f5bb5b84b3f8b2a = L.popup({&quot;maxWidth&quot;: &quot;100%&quot;});\n",
       "\n",
       "        \n",
       "            \n",
       "                var html_fe5d91271a9570f4099313a815791efe = $(`&lt;div id=&quot;html_fe5d91271a9570f4099313a815791efe&quot; style=&quot;width: 100.0%; height: 100.0%;&quot;&gt;Congo, Dem. Rep.&lt;/div&gt;`)[0];\n",
       "                popup_03f3d50586aa70604f5bb5b84b3f8b2a.setContent(html_fe5d91271a9570f4099313a815791efe);\n",
       "            \n",
       "        \n",
       "\n",
       "        circle_marker_5c42944b902fca6b89c0d18ec73bde9a.bindPopup(popup_03f3d50586aa70604f5bb5b84b3f8b2a)\n",
       "        ;\n",
       "\n",
       "        \n",
       "    \n",
       "    \n",
       "            var circle_marker_c665e99de0a3eaef64ba8a007c140d50 = L.circleMarker(\n",
       "                [-1.0, 15.5],\n",
       "                {&quot;bubblingMouseEvents&quot;: true, &quot;color&quot;: &quot;blue&quot;, &quot;dashArray&quot;: null, &quot;dashOffset&quot;: null, &quot;fill&quot;: true, &quot;fillColor&quot;: &quot;blue&quot;, &quot;fillOpacity&quot;: 0.2, &quot;fillRule&quot;: &quot;evenodd&quot;, &quot;lineCap&quot;: &quot;round&quot;, &quot;lineJoin&quot;: &quot;round&quot;, &quot;opacity&quot;: 1.0, &quot;radius&quot;: 6.827682386823731, &quot;stroke&quot;: true, &quot;weight&quot;: 3}\n",
       "            ).addTo(map_21327b43d24416f7d4f2ff4056fa7e63);\n",
       "        \n",
       "    \n",
       "        var popup_c41ccb99cc3e25187eb4a737c0e451e6 = L.popup({&quot;maxWidth&quot;: &quot;100%&quot;});\n",
       "\n",
       "        \n",
       "            \n",
       "                var html_42ea8136c3f2df154cc4b8fb19940d8c = $(`&lt;div id=&quot;html_42ea8136c3f2df154cc4b8fb19940d8c&quot; style=&quot;width: 100.0%; height: 100.0%;&quot;&gt;Congo, Rep.&lt;/div&gt;`)[0];\n",
       "                popup_c41ccb99cc3e25187eb4a737c0e451e6.setContent(html_42ea8136c3f2df154cc4b8fb19940d8c);\n",
       "            \n",
       "        \n",
       "\n",
       "        circle_marker_c665e99de0a3eaef64ba8a007c140d50.bindPopup(popup_c41ccb99cc3e25187eb4a737c0e451e6)\n",
       "        ;\n",
       "\n",
       "        \n",
       "    \n",
       "    \n",
       "            var circle_marker_651d376e8ba4f37486157319e4949357 = L.circleMarker(\n",
       "                [4.0, -73.25],\n",
       "                {&quot;bubblingMouseEvents&quot;: true, &quot;color&quot;: &quot;green&quot;, &quot;dashArray&quot;: null, &quot;dashOffset&quot;: null, &quot;fill&quot;: true, &quot;fillColor&quot;: &quot;green&quot;, &quot;fillOpacity&quot;: 0.2, &quot;fillRule&quot;: &quot;evenodd&quot;, &quot;lineCap&quot;: &quot;round&quot;, &quot;lineJoin&quot;: &quot;round&quot;, &quot;opacity&quot;: 1.0, &quot;radius&quot;: 8.957943098745089, &quot;stroke&quot;: true, &quot;weight&quot;: 3}\n",
       "            ).addTo(map_21327b43d24416f7d4f2ff4056fa7e63);\n",
       "        \n",
       "    \n",
       "        var popup_14f1379d1a8c44f955dd4c9d87e2bed8 = L.popup({&quot;maxWidth&quot;: &quot;100%&quot;});\n",
       "\n",
       "        \n",
       "            \n",
       "                var html_cc9e220314394cd9e7ba11a17fdac596 = $(`&lt;div id=&quot;html_cc9e220314394cd9e7ba11a17fdac596&quot; style=&quot;width: 100.0%; height: 100.0%;&quot;&gt;Colombia&lt;/div&gt;`)[0];\n",
       "                popup_14f1379d1a8c44f955dd4c9d87e2bed8.setContent(html_cc9e220314394cd9e7ba11a17fdac596);\n",
       "            \n",
       "        \n",
       "\n",
       "        circle_marker_651d376e8ba4f37486157319e4949357.bindPopup(popup_14f1379d1a8c44f955dd4c9d87e2bed8)\n",
       "        ;\n",
       "\n",
       "        \n",
       "    \n",
       "    \n",
       "            var circle_marker_a350cd8b683054b23e24996986585341 = L.circleMarker(\n",
       "                [-12.23333, 44.44553],\n",
       "                {&quot;bubblingMouseEvents&quot;: true, &quot;color&quot;: &quot;blue&quot;, &quot;dashArray&quot;: null, &quot;dashOffset&quot;: null, &quot;fill&quot;: true, &quot;fillColor&quot;: &quot;blue&quot;, &quot;fillOpacity&quot;: 0.2, &quot;fillRule&quot;: &quot;evenodd&quot;, &quot;lineCap&quot;: &quot;round&quot;, &quot;lineJoin&quot;: &quot;round&quot;, &quot;opacity&quot;: 1.0, &quot;radius&quot;: 3.1001948097460694, &quot;stroke&quot;: true, &quot;weight&quot;: 3}\n",
       "            ).addTo(map_21327b43d24416f7d4f2ff4056fa7e63);\n",
       "        \n",
       "    \n",
       "        var popup_23a51500c9d7f58164e607a0b693fc5b = L.popup({&quot;maxWidth&quot;: &quot;100%&quot;});\n",
       "\n",
       "        \n",
       "            \n",
       "                var html_5ef46e7707d6367a427e51366e6559c8 = $(`&lt;div id=&quot;html_5ef46e7707d6367a427e51366e6559c8&quot; style=&quot;width: 100.0%; height: 100.0%;&quot;&gt;Comoros&lt;/div&gt;`)[0];\n",
       "                popup_23a51500c9d7f58164e607a0b693fc5b.setContent(html_5ef46e7707d6367a427e51366e6559c8);\n",
       "            \n",
       "        \n",
       "\n",
       "        circle_marker_a350cd8b683054b23e24996986585341.bindPopup(popup_23a51500c9d7f58164e607a0b693fc5b)\n",
       "        ;\n",
       "\n",
       "        \n",
       "    \n",
       "    \n",
       "            var circle_marker_0a04bff1a67af714c4e3bc2c30edfc41 = L.circleMarker(\n",
       "                [16.0, -24.0],\n",
       "                {&quot;bubblingMouseEvents&quot;: true, &quot;color&quot;: &quot;blue&quot;, &quot;dashArray&quot;: null, &quot;dashOffset&quot;: null, &quot;fill&quot;: true, &quot;fillColor&quot;: &quot;blue&quot;, &quot;fillOpacity&quot;: 0.2, &quot;fillRule&quot;: &quot;evenodd&quot;, &quot;lineCap&quot;: &quot;round&quot;, &quot;lineJoin&quot;: &quot;round&quot;, &quot;opacity&quot;: 1.0, &quot;radius&quot;: 1.4920867957148702, &quot;stroke&quot;: true, &quot;weight&quot;: 3}\n",
       "            ).addTo(map_21327b43d24416f7d4f2ff4056fa7e63);\n",
       "        \n",
       "    \n",
       "        var popup_6935a2475b7c7402c25d71bef5b1db9a = L.popup({&quot;maxWidth&quot;: &quot;100%&quot;});\n",
       "\n",
       "        \n",
       "            \n",
       "                var html_87e0fb981c012ecdbed887d9fc7b659d = $(`&lt;div id=&quot;html_87e0fb981c012ecdbed887d9fc7b659d&quot; style=&quot;width: 100.0%; height: 100.0%;&quot;&gt;Cape Verde&lt;/div&gt;`)[0];\n",
       "                popup_6935a2475b7c7402c25d71bef5b1db9a.setContent(html_87e0fb981c012ecdbed887d9fc7b659d);\n",
       "            \n",
       "        \n",
       "\n",
       "        circle_marker_0a04bff1a67af714c4e3bc2c30edfc41.bindPopup(popup_6935a2475b7c7402c25d71bef5b1db9a)\n",
       "        ;\n",
       "\n",
       "        \n",
       "    \n",
       "    \n",
       "            var circle_marker_c4ae6d87c28dfc91077de1d887946d83 = L.circleMarker(\n",
       "                [10.0, -84.0],\n",
       "                {&quot;bubblingMouseEvents&quot;: true, &quot;color&quot;: &quot;green&quot;, &quot;dashArray&quot;: null, &quot;dashOffset&quot;: null, &quot;fill&quot;: true, &quot;fillColor&quot;: &quot;green&quot;, &quot;fillOpacity&quot;: 0.2, &quot;fillRule&quot;: &quot;evenodd&quot;, &quot;lineCap&quot;: &quot;round&quot;, &quot;lineJoin&quot;: &quot;round&quot;, &quot;opacity&quot;: 1.0, &quot;radius&quot;: 1.3992015419421908, &quot;stroke&quot;: true, &quot;weight&quot;: 3}\n",
       "            ).addTo(map_21327b43d24416f7d4f2ff4056fa7e63);\n",
       "        \n",
       "    \n",
       "        var popup_0cceffd46c4171ac8c046f6420f55bea = L.popup({&quot;maxWidth&quot;: &quot;100%&quot;});\n",
       "\n",
       "        \n",
       "            \n",
       "                var html_6cad7a6e8cc2367cd3965f106c4005c1 = $(`&lt;div id=&quot;html_6cad7a6e8cc2367cd3965f106c4005c1&quot; style=&quot;width: 100.0%; height: 100.0%;&quot;&gt;Costa Rica&lt;/div&gt;`)[0];\n",
       "                popup_0cceffd46c4171ac8c046f6420f55bea.setContent(html_6cad7a6e8cc2367cd3965f106c4005c1);\n",
       "            \n",
       "        \n",
       "\n",
       "        circle_marker_c4ae6d87c28dfc91077de1d887946d83.bindPopup(popup_0cceffd46c4171ac8c046f6420f55bea)\n",
       "        ;\n",
       "\n",
       "        \n",
       "    \n",
       "    \n",
       "            var circle_marker_255b76f9d48d5f1b1848b47b6a2dcad2 = L.circleMarker(\n",
       "                [49.75, 15.0],\n",
       "                {&quot;bubblingMouseEvents&quot;: true, &quot;color&quot;: &quot;black&quot;, &quot;dashArray&quot;: null, &quot;dashOffset&quot;: null, &quot;fill&quot;: true, &quot;fillColor&quot;: &quot;black&quot;, &quot;fillOpacity&quot;: 0.2, &quot;fillRule&quot;: &quot;evenodd&quot;, &quot;lineCap&quot;: &quot;round&quot;, &quot;lineJoin&quot;: &quot;round&quot;, &quot;opacity&quot;: 1.0, &quot;radius&quot;: 0.3160972528717893, &quot;stroke&quot;: true, &quot;weight&quot;: 3}\n",
       "            ).addTo(map_21327b43d24416f7d4f2ff4056fa7e63);\n",
       "        \n",
       "    \n",
       "        var popup_26bbd9e59dbacd774b196f6e6c96cb5f = L.popup({&quot;maxWidth&quot;: &quot;100%&quot;});\n",
       "\n",
       "        \n",
       "            \n",
       "                var html_5c6ee534a898aca6ec1f4de5b5d1457e = $(`&lt;div id=&quot;html_5c6ee534a898aca6ec1f4de5b5d1457e&quot; style=&quot;width: 100.0%; height: 100.0%;&quot;&gt;Czech Republic&lt;/div&gt;`)[0];\n",
       "                popup_26bbd9e59dbacd774b196f6e6c96cb5f.setContent(html_5c6ee534a898aca6ec1f4de5b5d1457e);\n",
       "            \n",
       "        \n",
       "\n",
       "        circle_marker_255b76f9d48d5f1b1848b47b6a2dcad2.bindPopup(popup_26bbd9e59dbacd774b196f6e6c96cb5f)\n",
       "        ;\n",
       "\n",
       "        \n",
       "    \n",
       "    \n",
       "            var circle_marker_2f270a7e023ed7e42bc19d5b163fdbef = L.circleMarker(\n",
       "                [51.5, 10.5],\n",
       "                {&quot;bubblingMouseEvents&quot;: true, &quot;color&quot;: &quot;black&quot;, &quot;dashArray&quot;: null, &quot;dashOffset&quot;: null, &quot;fill&quot;: true, &quot;fillColor&quot;: &quot;black&quot;, &quot;fillOpacity&quot;: 0.2, &quot;fillRule&quot;: &quot;evenodd&quot;, &quot;lineCap&quot;: &quot;round&quot;, &quot;lineJoin&quot;: &quot;round&quot;, &quot;opacity&quot;: 1.0, &quot;radius&quot;: 2.957693602631285, &quot;stroke&quot;: true, &quot;weight&quot;: 3}\n",
       "            ).addTo(map_21327b43d24416f7d4f2ff4056fa7e63);\n",
       "        \n",
       "    \n",
       "        var popup_1090c1d9cfa30a44f709768f5c961ab4 = L.popup({&quot;maxWidth&quot;: &quot;100%&quot;});\n",
       "\n",
       "        \n",
       "            \n",
       "                var html_0243731a3bf214e5936324f015062ce8 = $(`&lt;div id=&quot;html_0243731a3bf214e5936324f015062ce8&quot; style=&quot;width: 100.0%; height: 100.0%;&quot;&gt;Germany&lt;/div&gt;`)[0];\n",
       "                popup_1090c1d9cfa30a44f709768f5c961ab4.setContent(html_0243731a3bf214e5936324f015062ce8);\n",
       "            \n",
       "        \n",
       "\n",
       "        circle_marker_2f270a7e023ed7e42bc19d5b163fdbef.bindPopup(popup_1090c1d9cfa30a44f709768f5c961ab4)\n",
       "        ;\n",
       "\n",
       "        \n",
       "    \n",
       "    \n",
       "            var circle_marker_07765e23efc0a6faf8941878839e0ed2 = L.circleMarker(\n",
       "                [11.58901, 43.14503],\n",
       "                {&quot;bubblingMouseEvents&quot;: true, &quot;color&quot;: &quot;blue&quot;, &quot;dashArray&quot;: null, &quot;dashOffset&quot;: null, &quot;fill&quot;: true, &quot;fillColor&quot;: &quot;blue&quot;, &quot;fillOpacity&quot;: 0.2, &quot;fillRule&quot;: &quot;evenodd&quot;, &quot;lineCap&quot;: &quot;round&quot;, &quot;lineJoin&quot;: &quot;round&quot;, &quot;opacity&quot;: 1.0, &quot;radius&quot;: 2.3612934913574355, &quot;stroke&quot;: true, &quot;weight&quot;: 3}\n",
       "            ).addTo(map_21327b43d24416f7d4f2ff4056fa7e63);\n",
       "        \n",
       "    \n",
       "        var popup_091856a098dfb702bb2f41eed097e623 = L.popup({&quot;maxWidth&quot;: &quot;100%&quot;});\n",
       "\n",
       "        \n",
       "            \n",
       "                var html_588551904473598f4b40925796910bef = $(`&lt;div id=&quot;html_588551904473598f4b40925796910bef&quot; style=&quot;width: 100.0%; height: 100.0%;&quot;&gt;Djibouti&lt;/div&gt;`)[0];\n",
       "                popup_091856a098dfb702bb2f41eed097e623.setContent(html_588551904473598f4b40925796910bef);\n",
       "            \n",
       "        \n",
       "\n",
       "        circle_marker_07765e23efc0a6faf8941878839e0ed2.bindPopup(popup_091856a098dfb702bb2f41eed097e623)\n",
       "        ;\n",
       "\n",
       "        \n",
       "    \n",
       "    \n",
       "            var circle_marker_8c7400b5cae488598cbe32ccfd853414 = L.circleMarker(\n",
       "                [56.0, 10.0],\n",
       "                {&quot;bubblingMouseEvents&quot;: true, &quot;color&quot;: &quot;black&quot;, &quot;dashArray&quot;: null, &quot;dashOffset&quot;: null, &quot;fill&quot;: true, &quot;fillColor&quot;: &quot;black&quot;, &quot;fillOpacity&quot;: 0.2, &quot;fillRule&quot;: &quot;evenodd&quot;, &quot;lineCap&quot;: &quot;round&quot;, &quot;lineJoin&quot;: &quot;round&quot;, &quot;opacity&quot;: 1.0, &quot;radius&quot;: 1.0877452265736534, &quot;stroke&quot;: true, &quot;weight&quot;: 3}\n",
       "            ).addTo(map_21327b43d24416f7d4f2ff4056fa7e63);\n",
       "        \n",
       "    \n",
       "        var popup_c908727df5ba9427653452775d9d967d = L.popup({&quot;maxWidth&quot;: &quot;100%&quot;});\n",
       "\n",
       "        \n",
       "            \n",
       "                var html_1212430d22085cd41f1187b8133c94a5 = $(`&lt;div id=&quot;html_1212430d22085cd41f1187b8133c94a5&quot; style=&quot;width: 100.0%; height: 100.0%;&quot;&gt;Denmark&lt;/div&gt;`)[0];\n",
       "                popup_c908727df5ba9427653452775d9d967d.setContent(html_1212430d22085cd41f1187b8133c94a5);\n",
       "            \n",
       "        \n",
       "\n",
       "        circle_marker_8c7400b5cae488598cbe32ccfd853414.bindPopup(popup_c908727df5ba9427653452775d9d967d)\n",
       "        ;\n",
       "\n",
       "        \n",
       "    \n",
       "    \n",
       "            var circle_marker_0ceac4c4338941bdc277472229f9bfa7 = L.circleMarker(\n",
       "                [19.0, -70.66667],\n",
       "                {&quot;bubblingMouseEvents&quot;: true, &quot;color&quot;: &quot;green&quot;, &quot;dashArray&quot;: null, &quot;dashOffset&quot;: null, &quot;fill&quot;: true, &quot;fillColor&quot;: &quot;green&quot;, &quot;fillOpacity&quot;: 0.2, &quot;fillRule&quot;: &quot;evenodd&quot;, &quot;lineCap&quot;: &quot;round&quot;, &quot;lineJoin&quot;: &quot;round&quot;, &quot;opacity&quot;: 1.0, &quot;radius&quot;: 2.6520151317791023, &quot;stroke&quot;: true, &quot;weight&quot;: 3}\n",
       "            ).addTo(map_21327b43d24416f7d4f2ff4056fa7e63);\n",
       "        \n",
       "    \n",
       "        var popup_0a4cf98481b819b7b711d24abc44f72d = L.popup({&quot;maxWidth&quot;: &quot;100%&quot;});\n",
       "\n",
       "        \n",
       "            \n",
       "                var html_5c9b474c0b2e223203f60c32e8c670a0 = $(`&lt;div id=&quot;html_5c9b474c0b2e223203f60c32e8c670a0&quot; style=&quot;width: 100.0%; height: 100.0%;&quot;&gt;Dominican Republic&lt;/div&gt;`)[0];\n",
       "                popup_0a4cf98481b819b7b711d24abc44f72d.setContent(html_5c9b474c0b2e223203f60c32e8c670a0);\n",
       "            \n",
       "        \n",
       "\n",
       "        circle_marker_0ceac4c4338941bdc277472229f9bfa7.bindPopup(popup_0a4cf98481b819b7b711d24abc44f72d)\n",
       "        ;\n",
       "\n",
       "        \n",
       "    \n",
       "    \n",
       "            var circle_marker_38d98c7769485fbe265717a978845b63 = L.circleMarker(\n",
       "                [28.0, 3.0],\n",
       "                {&quot;bubblingMouseEvents&quot;: true, &quot;color&quot;: &quot;blue&quot;, &quot;dashArray&quot;: null, &quot;dashOffset&quot;: null, &quot;fill&quot;: true, &quot;fillColor&quot;: &quot;blue&quot;, &quot;fillOpacity&quot;: 0.2, &quot;fillRule&quot;: &quot;evenodd&quot;, &quot;lineCap&quot;: &quot;round&quot;, &quot;lineJoin&quot;: &quot;round&quot;, &quot;opacity&quot;: 1.0, &quot;radius&quot;: 8.572728445542362, &quot;stroke&quot;: true, &quot;weight&quot;: 3}\n",
       "            ).addTo(map_21327b43d24416f7d4f2ff4056fa7e63);\n",
       "        \n",
       "    \n",
       "        var popup_73f291f812c83d066c8a25b09eddea32 = L.popup({&quot;maxWidth&quot;: &quot;100%&quot;});\n",
       "\n",
       "        \n",
       "            \n",
       "                var html_ea533db05540da0b581e79e73f29a6a1 = $(`&lt;div id=&quot;html_ea533db05540da0b581e79e73f29a6a1&quot; style=&quot;width: 100.0%; height: 100.0%;&quot;&gt;Algeria&lt;/div&gt;`)[0];\n",
       "                popup_73f291f812c83d066c8a25b09eddea32.setContent(html_ea533db05540da0b581e79e73f29a6a1);\n",
       "            \n",
       "        \n",
       "\n",
       "        circle_marker_38d98c7769485fbe265717a978845b63.bindPopup(popup_73f291f812c83d066c8a25b09eddea32)\n",
       "        ;\n",
       "\n",
       "        \n",
       "    \n",
       "    \n",
       "            var circle_marker_d5457986461853dda14dcb1cbae56c46 = L.circleMarker(\n",
       "                [-1.25, -78.25],\n",
       "                {&quot;bubblingMouseEvents&quot;: true, &quot;color&quot;: &quot;green&quot;, &quot;dashArray&quot;: null, &quot;dashOffset&quot;: null, &quot;fill&quot;: true, &quot;fillColor&quot;: &quot;green&quot;, &quot;fillOpacity&quot;: 0.2, &quot;fillRule&quot;: &quot;evenodd&quot;, &quot;lineCap&quot;: &quot;round&quot;, &quot;lineJoin&quot;: &quot;round&quot;, &quot;opacity&quot;: 1.0, &quot;radius&quot;: 4.353880662227051, &quot;stroke&quot;: true, &quot;weight&quot;: 3}\n",
       "            ).addTo(map_21327b43d24416f7d4f2ff4056fa7e63);\n",
       "        \n",
       "    \n",
       "        var popup_6e2a0a196e53f7385ec9292808020cc0 = L.popup({&quot;maxWidth&quot;: &quot;100%&quot;});\n",
       "\n",
       "        \n",
       "            \n",
       "                var html_028191e25a6e0447594c41f6dd48d067 = $(`&lt;div id=&quot;html_028191e25a6e0447594c41f6dd48d067&quot; style=&quot;width: 100.0%; height: 100.0%;&quot;&gt;Ecuador&lt;/div&gt;`)[0];\n",
       "                popup_6e2a0a196e53f7385ec9292808020cc0.setContent(html_028191e25a6e0447594c41f6dd48d067);\n",
       "            \n",
       "        \n",
       "\n",
       "        circle_marker_d5457986461853dda14dcb1cbae56c46.bindPopup(popup_6e2a0a196e53f7385ec9292808020cc0)\n",
       "        ;\n",
       "\n",
       "        \n",
       "    \n",
       "    \n",
       "            var circle_marker_e8dd6ee4a3c3b8bf674f9cf7825349bb = L.circleMarker(\n",
       "                [27.0, 30.0],\n",
       "                {&quot;bubblingMouseEvents&quot;: true, &quot;color&quot;: &quot;blue&quot;, &quot;dashArray&quot;: null, &quot;dashOffset&quot;: null, &quot;fill&quot;: true, &quot;fillColor&quot;: &quot;blue&quot;, &quot;fillOpacity&quot;: 0.2, &quot;fillRule&quot;: &quot;evenodd&quot;, &quot;lineCap&quot;: &quot;round&quot;, &quot;lineJoin&quot;: &quot;round&quot;, &quot;opacity&quot;: 1.0, &quot;radius&quot;: 6.906413357069596, &quot;stroke&quot;: true, &quot;weight&quot;: 3}\n",
       "            ).addTo(map_21327b43d24416f7d4f2ff4056fa7e63);\n",
       "        \n",
       "    \n",
       "        var popup_332d98e6ea7529e5294c38f5ca009b62 = L.popup({&quot;maxWidth&quot;: &quot;100%&quot;});\n",
       "\n",
       "        \n",
       "            \n",
       "                var html_7bb61cacbf9044dc426fad1b90480e99 = $(`&lt;div id=&quot;html_7bb61cacbf9044dc426fad1b90480e99&quot; style=&quot;width: 100.0%; height: 100.0%;&quot;&gt;Egypt&lt;/div&gt;`)[0];\n",
       "                popup_332d98e6ea7529e5294c38f5ca009b62.setContent(html_7bb61cacbf9044dc426fad1b90480e99);\n",
       "            \n",
       "        \n",
       "\n",
       "        circle_marker_e8dd6ee4a3c3b8bf674f9cf7825349bb.bindPopup(popup_332d98e6ea7529e5294c38f5ca009b62)\n",
       "        ;\n",
       "\n",
       "        \n",
       "    \n",
       "    \n",
       "            var circle_marker_1dedfa653ce3604209692ec4f7bbc5ee = L.circleMarker(\n",
       "                [40.0, -4.0],\n",
       "                {&quot;bubblingMouseEvents&quot;: true, &quot;color&quot;: &quot;black&quot;, &quot;dashArray&quot;: null, &quot;dashOffset&quot;: null, &quot;fill&quot;: true, &quot;fillColor&quot;: &quot;black&quot;, &quot;fillOpacity&quot;: 0.2, &quot;fillRule&quot;: &quot;evenodd&quot;, &quot;lineCap&quot;: &quot;round&quot;, &quot;lineJoin&quot;: &quot;round&quot;, &quot;opacity&quot;: 1.0, &quot;radius&quot;: 5.906682334608904, &quot;stroke&quot;: true, &quot;weight&quot;: 3}\n",
       "            ).addTo(map_21327b43d24416f7d4f2ff4056fa7e63);\n",
       "        \n",
       "    \n",
       "        var popup_28729bf9657f1c4a99c2ba46a040cbd4 = L.popup({&quot;maxWidth&quot;: &quot;100%&quot;});\n",
       "\n",
       "        \n",
       "            \n",
       "                var html_e383c9346007e9c1059eecd5385d4aa6 = $(`&lt;div id=&quot;html_e383c9346007e9c1059eecd5385d4aa6&quot; style=&quot;width: 100.0%; height: 100.0%;&quot;&gt;Spain&lt;/div&gt;`)[0];\n",
       "                popup_28729bf9657f1c4a99c2ba46a040cbd4.setContent(html_e383c9346007e9c1059eecd5385d4aa6);\n",
       "            \n",
       "        \n",
       "\n",
       "        circle_marker_1dedfa653ce3604209692ec4f7bbc5ee.bindPopup(popup_28729bf9657f1c4a99c2ba46a040cbd4)\n",
       "        ;\n",
       "\n",
       "        \n",
       "    \n",
       "    \n",
       "            var circle_marker_b25adcb2f9d5c7142247e579e82e9d98 = L.circleMarker(\n",
       "                [59.0, 26.0],\n",
       "                {&quot;bubblingMouseEvents&quot;: true, &quot;color&quot;: &quot;black&quot;, &quot;dashArray&quot;: null, &quot;dashOffset&quot;: null, &quot;fill&quot;: true, &quot;fillColor&quot;: &quot;black&quot;, &quot;fillOpacity&quot;: 0.2, &quot;fillRule&quot;: &quot;evenodd&quot;, &quot;lineCap&quot;: &quot;round&quot;, &quot;lineJoin&quot;: &quot;round&quot;, &quot;opacity&quot;: 1.0, &quot;radius&quot;: 0.6444615888418875, &quot;stroke&quot;: true, &quot;weight&quot;: 3}\n",
       "            ).addTo(map_21327b43d24416f7d4f2ff4056fa7e63);\n",
       "        \n",
       "    \n",
       "        var popup_d88f861759d0a8f55d1467bd1878de84 = L.popup({&quot;maxWidth&quot;: &quot;100%&quot;});\n",
       "\n",
       "        \n",
       "            \n",
       "                var html_c2f524168246a182b27adc5dc8af1b2d = $(`&lt;div id=&quot;html_c2f524168246a182b27adc5dc8af1b2d&quot; style=&quot;width: 100.0%; height: 100.0%;&quot;&gt;Estonia&lt;/div&gt;`)[0];\n",
       "                popup_d88f861759d0a8f55d1467bd1878de84.setContent(html_c2f524168246a182b27adc5dc8af1b2d);\n",
       "            \n",
       "        \n",
       "\n",
       "        circle_marker_b25adcb2f9d5c7142247e579e82e9d98.bindPopup(popup_d88f861759d0a8f55d1467bd1878de84)\n",
       "        ;\n",
       "\n",
       "        \n",
       "    \n",
       "    \n",
       "            var circle_marker_979d85f140d33c1c2794f5ac27f3c4ef = L.circleMarker(\n",
       "                [9.0, 39.5],\n",
       "                {&quot;bubblingMouseEvents&quot;: true, &quot;color&quot;: &quot;blue&quot;, &quot;dashArray&quot;: null, &quot;dashOffset&quot;: null, &quot;fill&quot;: true, &quot;fillColor&quot;: &quot;blue&quot;, &quot;fillOpacity&quot;: 0.2, &quot;fillRule&quot;: &quot;evenodd&quot;, &quot;lineCap&quot;: &quot;round&quot;, &quot;lineJoin&quot;: &quot;round&quot;, &quot;opacity&quot;: 1.0, &quot;radius&quot;: 32.561667460024736, &quot;stroke&quot;: true, &quot;weight&quot;: 3}\n",
       "            ).addTo(map_21327b43d24416f7d4f2ff4056fa7e63);\n",
       "        \n",
       "    \n",
       "        var popup_fdb38efb07adffa112983fea105fb32e = L.popup({&quot;maxWidth&quot;: &quot;100%&quot;});\n",
       "\n",
       "        \n",
       "            \n",
       "                var html_39d428690360b06e37da6baf61ae4300 = $(`&lt;div id=&quot;html_39d428690360b06e37da6baf61ae4300&quot; style=&quot;width: 100.0%; height: 100.0%;&quot;&gt;Ethiopia&lt;/div&gt;`)[0];\n",
       "                popup_fdb38efb07adffa112983fea105fb32e.setContent(html_39d428690360b06e37da6baf61ae4300);\n",
       "            \n",
       "        \n",
       "\n",
       "        circle_marker_979d85f140d33c1c2794f5ac27f3c4ef.bindPopup(popup_fdb38efb07adffa112983fea105fb32e)\n",
       "        ;\n",
       "\n",
       "        \n",
       "    \n",
       "    \n",
       "            var circle_marker_2f3c66cb5592532cbc4c68a3d9bafd0a = L.circleMarker(\n",
       "                [64.0, 26.0],\n",
       "                {&quot;bubblingMouseEvents&quot;: true, &quot;color&quot;: &quot;black&quot;, &quot;dashArray&quot;: null, &quot;dashOffset&quot;: null, &quot;fill&quot;: true, &quot;fillColor&quot;: &quot;black&quot;, &quot;fillOpacity&quot;: 0.2, &quot;fillRule&quot;: &quot;evenodd&quot;, &quot;lineCap&quot;: &quot;round&quot;, &quot;lineJoin&quot;: &quot;round&quot;, &quot;opacity&quot;: 1.0, &quot;stroke&quot;: true, &quot;weight&quot;: 3}\n",
       "            ).addTo(map_21327b43d24416f7d4f2ff4056fa7e63);\n",
       "        \n",
       "    \n",
       "        var popup_8270a6dd8fb1669e843c043a8196643a = L.popup({&quot;maxWidth&quot;: &quot;100%&quot;});\n",
       "\n",
       "        \n",
       "            \n",
       "                var html_9a2ad186c3b808f6bf000e87cbf8d62f = $(`&lt;div id=&quot;html_9a2ad186c3b808f6bf000e87cbf8d62f&quot; style=&quot;width: 100.0%; height: 100.0%;&quot;&gt;Finland&lt;/div&gt;`)[0];\n",
       "                popup_8270a6dd8fb1669e843c043a8196643a.setContent(html_9a2ad186c3b808f6bf000e87cbf8d62f);\n",
       "            \n",
       "        \n",
       "\n",
       "        circle_marker_2f3c66cb5592532cbc4c68a3d9bafd0a.bindPopup(popup_8270a6dd8fb1669e843c043a8196643a)\n",
       "        ;\n",
       "\n",
       "        \n",
       "    \n",
       "    \n",
       "            var circle_marker_96b846b059b2c2e72da51e736f642083 = L.circleMarker(\n",
       "                [-18.0, 178.0],\n",
       "                {&quot;bubblingMouseEvents&quot;: true, &quot;color&quot;: &quot;red&quot;, &quot;dashArray&quot;: null, &quot;dashOffset&quot;: null, &quot;fill&quot;: true, &quot;fillColor&quot;: &quot;red&quot;, &quot;fillOpacity&quot;: 0.2, &quot;fillRule&quot;: &quot;evenodd&quot;, &quot;lineCap&quot;: &quot;round&quot;, &quot;lineJoin&quot;: &quot;round&quot;, &quot;opacity&quot;: 1.0, &quot;radius&quot;: 1.305376694179763, &quot;stroke&quot;: true, &quot;weight&quot;: 3}\n",
       "            ).addTo(map_21327b43d24416f7d4f2ff4056fa7e63);\n",
       "        \n",
       "    \n",
       "        var popup_143529e8ddfd3a0a6931e97af6b71364 = L.popup({&quot;maxWidth&quot;: &quot;100%&quot;});\n",
       "\n",
       "        \n",
       "            \n",
       "                var html_995ff14e60797d81e9abb9482d2afb35 = $(`&lt;div id=&quot;html_995ff14e60797d81e9abb9482d2afb35&quot; style=&quot;width: 100.0%; height: 100.0%;&quot;&gt;Fiji&lt;/div&gt;`)[0];\n",
       "                popup_143529e8ddfd3a0a6931e97af6b71364.setContent(html_995ff14e60797d81e9abb9482d2afb35);\n",
       "            \n",
       "        \n",
       "\n",
       "        circle_marker_96b846b059b2c2e72da51e736f642083.bindPopup(popup_143529e8ddfd3a0a6931e97af6b71364)\n",
       "        ;\n",
       "\n",
       "        \n",
       "    \n",
       "    \n",
       "            var circle_marker_e033b5bc6b8c602f022d23c9bc0987f1 = L.circleMarker(\n",
       "                [46.0, 2.0],\n",
       "                {&quot;bubblingMouseEvents&quot;: true, &quot;color&quot;: &quot;black&quot;, &quot;dashArray&quot;: null, &quot;dashOffset&quot;: null, &quot;fill&quot;: true, &quot;fillColor&quot;: &quot;black&quot;, &quot;fillOpacity&quot;: 0.2, &quot;fillRule&quot;: &quot;evenodd&quot;, &quot;lineCap&quot;: &quot;round&quot;, &quot;lineJoin&quot;: &quot;round&quot;, &quot;opacity&quot;: 1.0, &quot;radius&quot;: 2.5809869827429424, &quot;stroke&quot;: true, &quot;weight&quot;: 3}\n",
       "            ).addTo(map_21327b43d24416f7d4f2ff4056fa7e63);\n",
       "        \n",
       "    \n",
       "        var popup_3ca4854e34aabda23af3659cd513e458 = L.popup({&quot;maxWidth&quot;: &quot;100%&quot;});\n",
       "\n",
       "        \n",
       "            \n",
       "                var html_1713f323adffa7bdeb46bc2a3cf463ba = $(`&lt;div id=&quot;html_1713f323adffa7bdeb46bc2a3cf463ba&quot; style=&quot;width: 100.0%; height: 100.0%;&quot;&gt;France&lt;/div&gt;`)[0];\n",
       "                popup_3ca4854e34aabda23af3659cd513e458.setContent(html_1713f323adffa7bdeb46bc2a3cf463ba);\n",
       "            \n",
       "        \n",
       "\n",
       "        circle_marker_e033b5bc6b8c602f022d23c9bc0987f1.bindPopup(popup_3ca4854e34aabda23af3659cd513e458)\n",
       "        ;\n",
       "\n",
       "        \n",
       "    \n",
       "    \n",
       "            var circle_marker_c83ec2dc7b1412b800e063699862ae85 = L.circleMarker(\n",
       "                [6.924, 158.162],\n",
       "                {&quot;bubblingMouseEvents&quot;: true, &quot;color&quot;: &quot;red&quot;, &quot;dashArray&quot;: null, &quot;dashOffset&quot;: null, &quot;fill&quot;: true, &quot;fillColor&quot;: &quot;red&quot;, &quot;fillOpacity&quot;: 0.2, &quot;fillRule&quot;: &quot;evenodd&quot;, &quot;lineCap&quot;: &quot;round&quot;, &quot;lineJoin&quot;: &quot;round&quot;, &quot;opacity&quot;: 1.0, &quot;radius&quot;: 1.0326210765460293, &quot;stroke&quot;: true, &quot;weight&quot;: 3}\n",
       "            ).addTo(map_21327b43d24416f7d4f2ff4056fa7e63);\n",
       "        \n",
       "    \n",
       "        var popup_dee101958528446d9dd933741bfa95e9 = L.popup({&quot;maxWidth&quot;: &quot;100%&quot;});\n",
       "\n",
       "        \n",
       "            \n",
       "                var html_1c0fd93bed660fdcb4df2afbd3cef874 = $(`&lt;div id=&quot;html_1c0fd93bed660fdcb4df2afbd3cef874&quot; style=&quot;width: 100.0%; height: 100.0%;&quot;&gt;Micronesia, Fed. Sts.&lt;/div&gt;`)[0];\n",
       "                popup_dee101958528446d9dd933741bfa95e9.setContent(html_1c0fd93bed660fdcb4df2afbd3cef874);\n",
       "            \n",
       "        \n",
       "\n",
       "        circle_marker_c83ec2dc7b1412b800e063699862ae85.bindPopup(popup_dee101958528446d9dd933741bfa95e9)\n",
       "        ;\n",
       "\n",
       "        \n",
       "    \n",
       "    \n",
       "            var circle_marker_9b7c1ef5333306453fee074afb370749 = L.circleMarker(\n",
       "                [-1.0, 11.75],\n",
       "                {&quot;bubblingMouseEvents&quot;: true, &quot;color&quot;: &quot;blue&quot;, &quot;dashArray&quot;: null, &quot;dashOffset&quot;: null, &quot;fill&quot;: true, &quot;fillColor&quot;: &quot;blue&quot;, &quot;fillOpacity&quot;: 0.2, &quot;fillRule&quot;: &quot;evenodd&quot;, &quot;lineCap&quot;: &quot;round&quot;, &quot;lineJoin&quot;: &quot;round&quot;, &quot;opacity&quot;: 1.0, &quot;radius&quot;: 1.8259270464280992, &quot;stroke&quot;: true, &quot;weight&quot;: 3}\n",
       "            ).addTo(map_21327b43d24416f7d4f2ff4056fa7e63);\n",
       "        \n",
       "    \n",
       "        var popup_495a62e6e172aff8cf159f49ee68fd67 = L.popup({&quot;maxWidth&quot;: &quot;100%&quot;});\n",
       "\n",
       "        \n",
       "            \n",
       "                var html_6d01b8335d0c5c6db83d52e62ee1e727 = $(`&lt;div id=&quot;html_6d01b8335d0c5c6db83d52e62ee1e727&quot; style=&quot;width: 100.0%; height: 100.0%;&quot;&gt;Gabon&lt;/div&gt;`)[0];\n",
       "                popup_495a62e6e172aff8cf159f49ee68fd67.setContent(html_6d01b8335d0c5c6db83d52e62ee1e727);\n",
       "            \n",
       "        \n",
       "\n",
       "        circle_marker_9b7c1ef5333306453fee074afb370749.bindPopup(popup_495a62e6e172aff8cf159f49ee68fd67)\n",
       "        ;\n",
       "\n",
       "        \n",
       "    \n",
       "    \n",
       "            var circle_marker_f1c4f51f3013acffd777450d7636d402 = L.circleMarker(\n",
       "                [54.75844, -2.69531],\n",
       "                {&quot;bubblingMouseEvents&quot;: true, &quot;color&quot;: &quot;black&quot;, &quot;dashArray&quot;: null, &quot;dashOffset&quot;: null, &quot;fill&quot;: true, &quot;fillColor&quot;: &quot;black&quot;, &quot;fillOpacity&quot;: 0.2, &quot;fillRule&quot;: &quot;evenodd&quot;, &quot;lineCap&quot;: &quot;round&quot;, &quot;lineJoin&quot;: &quot;round&quot;, &quot;opacity&quot;: 1.0, &quot;radius&quot;: 4.500680734303956, &quot;stroke&quot;: true, &quot;weight&quot;: 3}\n",
       "            ).addTo(map_21327b43d24416f7d4f2ff4056fa7e63);\n",
       "        \n",
       "    \n",
       "        var popup_fa835d926bcff45b4bd02733b6580ca7 = L.popup({&quot;maxWidth&quot;: &quot;100%&quot;});\n",
       "\n",
       "        \n",
       "            \n",
       "                var html_0e967599893b6661580d9c5a70d64b54 = $(`&lt;div id=&quot;html_0e967599893b6661580d9c5a70d64b54&quot; style=&quot;width: 100.0%; height: 100.0%;&quot;&gt;United Kingdom&lt;/div&gt;`)[0];\n",
       "                popup_fa835d926bcff45b4bd02733b6580ca7.setContent(html_0e967599893b6661580d9c5a70d64b54);\n",
       "            \n",
       "        \n",
       "\n",
       "        circle_marker_f1c4f51f3013acffd777450d7636d402.bindPopup(popup_fa835d926bcff45b4bd02733b6580ca7)\n",
       "        ;\n",
       "\n",
       "        \n",
       "    \n",
       "    \n",
       "            var circle_marker_ed754f49785d3b65fb03852d7608382b = L.circleMarker(\n",
       "                [41.99998, 43.4999],\n",
       "                {&quot;bubblingMouseEvents&quot;: true, &quot;color&quot;: &quot;black&quot;, &quot;dashArray&quot;: null, &quot;dashOffset&quot;: null, &quot;fill&quot;: true, &quot;fillColor&quot;: &quot;black&quot;, &quot;fillOpacity&quot;: 0.2, &quot;fillRule&quot;: &quot;evenodd&quot;, &quot;lineCap&quot;: &quot;round&quot;, &quot;lineJoin&quot;: &quot;round&quot;, &quot;opacity&quot;: 1.0, &quot;radius&quot;: 4.187503114511933, &quot;stroke&quot;: true, &quot;weight&quot;: 3}\n",
       "            ).addTo(map_21327b43d24416f7d4f2ff4056fa7e63);\n",
       "        \n",
       "    \n",
       "        var popup_c981c3d980bebf801029b9d4b4f6e080 = L.popup({&quot;maxWidth&quot;: &quot;100%&quot;});\n",
       "\n",
       "        \n",
       "            \n",
       "                var html_1ba2e50b819afa82628acba3f489699f = $(`&lt;div id=&quot;html_1ba2e50b819afa82628acba3f489699f&quot; style=&quot;width: 100.0%; height: 100.0%;&quot;&gt;Georgia&lt;/div&gt;`)[0];\n",
       "                popup_c981c3d980bebf801029b9d4b4f6e080.setContent(html_1ba2e50b819afa82628acba3f489699f);\n",
       "            \n",
       "        \n",
       "\n",
       "        circle_marker_ed754f49785d3b65fb03852d7608382b.bindPopup(popup_c981c3d980bebf801029b9d4b4f6e080)\n",
       "        ;\n",
       "\n",
       "        \n",
       "    \n",
       "    \n",
       "            var circle_marker_c9d4cd1bc1dba15aeb1ae76eab963808 = L.circleMarker(\n",
       "                [8.1, -1.2],\n",
       "                {&quot;bubblingMouseEvents&quot;: true, &quot;color&quot;: &quot;blue&quot;, &quot;dashArray&quot;: null, &quot;dashOffset&quot;: null, &quot;fill&quot;: true, &quot;fillColor&quot;: &quot;blue&quot;, &quot;fillOpacity&quot;: 0.2, &quot;fillRule&quot;: &quot;evenodd&quot;, &quot;lineCap&quot;: &quot;round&quot;, &quot;lineJoin&quot;: &quot;round&quot;, &quot;opacity&quot;: 1.0, &quot;radius&quot;: 15.226118061910228, &quot;stroke&quot;: true, &quot;weight&quot;: 3}\n",
       "            ).addTo(map_21327b43d24416f7d4f2ff4056fa7e63);\n",
       "        \n",
       "    \n",
       "        var popup_c6811ed497e3c5a55854452dac493813 = L.popup({&quot;maxWidth&quot;: &quot;100%&quot;});\n",
       "\n",
       "        \n",
       "            \n",
       "                var html_64bb64bd08d8f8cb6dfbf73f8744b896 = $(`&lt;div id=&quot;html_64bb64bd08d8f8cb6dfbf73f8744b896&quot; style=&quot;width: 100.0%; height: 100.0%;&quot;&gt;Ghana&lt;/div&gt;`)[0];\n",
       "                popup_c6811ed497e3c5a55854452dac493813.setContent(html_64bb64bd08d8f8cb6dfbf73f8744b896);\n",
       "            \n",
       "        \n",
       "\n",
       "        circle_marker_c9d4cd1bc1dba15aeb1ae76eab963808.bindPopup(popup_c6811ed497e3c5a55854452dac493813)\n",
       "        ;\n",
       "\n",
       "        \n",
       "    \n",
       "    \n",
       "            var circle_marker_968f24770aa76ffeccd685ae6958dfe7 = L.circleMarker(\n",
       "                [10.83333, -10.66667],\n",
       "                {&quot;bubblingMouseEvents&quot;: true, &quot;color&quot;: &quot;blue&quot;, &quot;dashArray&quot;: null, &quot;dashOffset&quot;: null, &quot;fill&quot;: true, &quot;fillColor&quot;: &quot;blue&quot;, &quot;fillOpacity&quot;: 0.2, &quot;fillRule&quot;: &quot;evenodd&quot;, &quot;lineCap&quot;: &quot;round&quot;, &quot;lineJoin&quot;: &quot;round&quot;, &quot;opacity&quot;: 1.0, &quot;radius&quot;: 11.629533564200177, &quot;stroke&quot;: true, &quot;weight&quot;: 3}\n",
       "            ).addTo(map_21327b43d24416f7d4f2ff4056fa7e63);\n",
       "        \n",
       "    \n",
       "        var popup_4bc18487731b72ce3b08df915c5467c7 = L.popup({&quot;maxWidth&quot;: &quot;100%&quot;});\n",
       "\n",
       "        \n",
       "            \n",
       "                var html_a351a4855b5eace4b89bf0320acfa95d = $(`&lt;div id=&quot;html_a351a4855b5eace4b89bf0320acfa95d&quot; style=&quot;width: 100.0%; height: 100.0%;&quot;&gt;Guinea&lt;/div&gt;`)[0];\n",
       "                popup_4bc18487731b72ce3b08df915c5467c7.setContent(html_a351a4855b5eace4b89bf0320acfa95d);\n",
       "            \n",
       "        \n",
       "\n",
       "        circle_marker_968f24770aa76ffeccd685ae6958dfe7.bindPopup(popup_4bc18487731b72ce3b08df915c5467c7)\n",
       "        ;\n",
       "\n",
       "        \n",
       "    \n",
       "    \n",
       "            var circle_marker_e68ab2ba4bb35d2572205aa859ec5788 = L.circleMarker(\n",
       "                [13.5, -15.5],\n",
       "                {&quot;bubblingMouseEvents&quot;: true, &quot;color&quot;: &quot;blue&quot;, &quot;dashArray&quot;: null, &quot;dashOffset&quot;: null, &quot;fill&quot;: true, &quot;fillColor&quot;: &quot;blue&quot;, &quot;fillOpacity&quot;: 0.2, &quot;fillRule&quot;: &quot;evenodd&quot;, &quot;lineCap&quot;: &quot;round&quot;, &quot;lineJoin&quot;: &quot;round&quot;, &quot;opacity&quot;: 1.0, &quot;radius&quot;: 4.541379210278732, &quot;stroke&quot;: true, &quot;weight&quot;: 3}\n",
       "            ).addTo(map_21327b43d24416f7d4f2ff4056fa7e63);\n",
       "        \n",
       "    \n",
       "        var popup_f7d4549ea10df43f5c63da854660fea9 = L.popup({&quot;maxWidth&quot;: &quot;100%&quot;});\n",
       "\n",
       "        \n",
       "            \n",
       "                var html_4fda7e04e870427312908f782c0a0580 = $(`&lt;div id=&quot;html_4fda7e04e870427312908f782c0a0580&quot; style=&quot;width: 100.0%; height: 100.0%;&quot;&gt;Gambia&lt;/div&gt;`)[0];\n",
       "                popup_f7d4549ea10df43f5c63da854660fea9.setContent(html_4fda7e04e870427312908f782c0a0580);\n",
       "            \n",
       "        \n",
       "\n",
       "        circle_marker_e68ab2ba4bb35d2572205aa859ec5788.bindPopup(popup_f7d4549ea10df43f5c63da854660fea9)\n",
       "        ;\n",
       "\n",
       "        \n",
       "    \n",
       "    \n",
       "            var circle_marker_bbdb34e4a91100a99fee2da0c5945931 = L.circleMarker(\n",
       "                [12.0, -15.0],\n",
       "                {&quot;bubblingMouseEvents&quot;: true, &quot;color&quot;: &quot;blue&quot;, &quot;dashArray&quot;: null, &quot;dashOffset&quot;: null, &quot;fill&quot;: true, &quot;fillColor&quot;: &quot;blue&quot;, &quot;fillOpacity&quot;: 0.2, &quot;fillRule&quot;: &quot;evenodd&quot;, &quot;lineCap&quot;: &quot;round&quot;, &quot;lineJoin&quot;: &quot;round&quot;, &quot;opacity&quot;: 1.0, &quot;radius&quot;: 4.937687185952117, &quot;stroke&quot;: true, &quot;weight&quot;: 3}\n",
       "            ).addTo(map_21327b43d24416f7d4f2ff4056fa7e63);\n",
       "        \n",
       "    \n",
       "        var popup_83efad1eba8f99f2634a46ec0ca6c815 = L.popup({&quot;maxWidth&quot;: &quot;100%&quot;});\n",
       "\n",
       "        \n",
       "            \n",
       "                var html_566b918a4815b0af77709d38dba5b3ab = $(`&lt;div id=&quot;html_566b918a4815b0af77709d38dba5b3ab&quot; style=&quot;width: 100.0%; height: 100.0%;&quot;&gt;Guinea-Bissau&lt;/div&gt;`)[0];\n",
       "                popup_83efad1eba8f99f2634a46ec0ca6c815.setContent(html_566b918a4815b0af77709d38dba5b3ab);\n",
       "            \n",
       "        \n",
       "\n",
       "        circle_marker_bbdb34e4a91100a99fee2da0c5945931.bindPopup(popup_83efad1eba8f99f2634a46ec0ca6c815)\n",
       "        ;\n",
       "\n",
       "        \n",
       "    \n",
       "    \n",
       "            var circle_marker_feeef12cc7d49fddcd5da8dbe9707e60 = L.circleMarker(\n",
       "                [39.0, 22.0],\n",
       "                {&quot;bubblingMouseEvents&quot;: true, &quot;color&quot;: &quot;black&quot;, &quot;dashArray&quot;: null, &quot;dashOffset&quot;: null, &quot;fill&quot;: true, &quot;fillColor&quot;: &quot;black&quot;, &quot;fillOpacity&quot;: 0.2, &quot;fillRule&quot;: &quot;evenodd&quot;, &quot;lineCap&quot;: &quot;round&quot;, &quot;lineJoin&quot;: &quot;round&quot;, &quot;opacity&quot;: 1.0, &quot;radius&quot;: 2.202566074684235, &quot;stroke&quot;: true, &quot;weight&quot;: 3}\n",
       "            ).addTo(map_21327b43d24416f7d4f2ff4056fa7e63);\n",
       "        \n",
       "    \n",
       "        var popup_0e0ce1e3439a5c9f403c42ea5e508794 = L.popup({&quot;maxWidth&quot;: &quot;100%&quot;});\n",
       "\n",
       "        \n",
       "            \n",
       "                var html_7dcc82c5c7aaea8b14580d6a6cca1a71 = $(`&lt;div id=&quot;html_7dcc82c5c7aaea8b14580d6a6cca1a71&quot; style=&quot;width: 100.0%; height: 100.0%;&quot;&gt;Greece&lt;/div&gt;`)[0];\n",
       "                popup_0e0ce1e3439a5c9f403c42ea5e508794.setContent(html_7dcc82c5c7aaea8b14580d6a6cca1a71);\n",
       "            \n",
       "        \n",
       "\n",
       "        circle_marker_feeef12cc7d49fddcd5da8dbe9707e60.bindPopup(popup_0e0ce1e3439a5c9f403c42ea5e508794)\n",
       "        ;\n",
       "\n",
       "        \n",
       "    \n",
       "    \n",
       "            var circle_marker_24ce46e6f82b71bec868e4c601654e87 = L.circleMarker(\n",
       "                [14.64072, -90.51327],\n",
       "                {&quot;bubblingMouseEvents&quot;: true, &quot;color&quot;: &quot;green&quot;, &quot;dashArray&quot;: null, &quot;dashOffset&quot;: null, &quot;fill&quot;: true, &quot;fillColor&quot;: &quot;green&quot;, &quot;fillOpacity&quot;: 0.2, &quot;fillRule&quot;: &quot;evenodd&quot;, &quot;lineCap&quot;: &quot;round&quot;, &quot;lineJoin&quot;: &quot;round&quot;, &quot;opacity&quot;: 1.0, &quot;radius&quot;: 7.951901430176263, &quot;stroke&quot;: true, &quot;weight&quot;: 3}\n",
       "            ).addTo(map_21327b43d24416f7d4f2ff4056fa7e63);\n",
       "        \n",
       "    \n",
       "        var popup_494be6c9d6b846dae51c82ca83a46171 = L.popup({&quot;maxWidth&quot;: &quot;100%&quot;});\n",
       "\n",
       "        \n",
       "            \n",
       "                var html_3a3a76e28fd202cfb4879a9657b98562 = $(`&lt;div id=&quot;html_3a3a76e28fd202cfb4879a9657b98562&quot; style=&quot;width: 100.0%; height: 100.0%;&quot;&gt;Guatemala&lt;/div&gt;`)[0];\n",
       "                popup_494be6c9d6b846dae51c82ca83a46171.setContent(html_3a3a76e28fd202cfb4879a9657b98562);\n",
       "            \n",
       "        \n",
       "\n",
       "        circle_marker_24ce46e6f82b71bec868e4c601654e87.bindPopup(popup_494be6c9d6b846dae51c82ca83a46171)\n",
       "        ;\n",
       "\n",
       "        \n",
       "    \n",
       "    \n",
       "            var circle_marker_52044b5d7fe367592df63ea1cc4ddd8a = L.circleMarker(\n",
       "                [5.0, -59.0],\n",
       "                {&quot;bubblingMouseEvents&quot;: true, &quot;color&quot;: &quot;green&quot;, &quot;dashArray&quot;: null, &quot;dashOffset&quot;: null, &quot;fill&quot;: true, &quot;fillColor&quot;: &quot;green&quot;, &quot;fillOpacity&quot;: 0.2, &quot;fillRule&quot;: &quot;evenodd&quot;, &quot;lineCap&quot;: &quot;round&quot;, &quot;lineJoin&quot;: &quot;round&quot;, &quot;opacity&quot;: 1.0, &quot;radius&quot;: 1.4404523571048922, &quot;stroke&quot;: true, &quot;weight&quot;: 3}\n",
       "            ).addTo(map_21327b43d24416f7d4f2ff4056fa7e63);\n",
       "        \n",
       "    \n",
       "        var popup_16fc30bbee7b970b190c59fe4160805f = L.popup({&quot;maxWidth&quot;: &quot;100%&quot;});\n",
       "\n",
       "        \n",
       "            \n",
       "                var html_09f586737918b3bc76e2aff62fb264d2 = $(`&lt;div id=&quot;html_09f586737918b3bc76e2aff62fb264d2&quot; style=&quot;width: 100.0%; height: 100.0%;&quot;&gt;Guyana&lt;/div&gt;`)[0];\n",
       "                popup_16fc30bbee7b970b190c59fe4160805f.setContent(html_09f586737918b3bc76e2aff62fb264d2);\n",
       "            \n",
       "        \n",
       "\n",
       "        circle_marker_52044b5d7fe367592df63ea1cc4ddd8a.bindPopup(popup_16fc30bbee7b970b190c59fe4160805f)\n",
       "        ;\n",
       "\n",
       "        \n",
       "    \n",
       "    \n",
       "            var circle_marker_7741e0edecb3f97f29ce01cec103d65a = L.circleMarker(\n",
       "                [15.0, -86.5],\n",
       "                {&quot;bubblingMouseEvents&quot;: true, &quot;color&quot;: &quot;green&quot;, &quot;dashArray&quot;: null, &quot;dashOffset&quot;: null, &quot;fill&quot;: true, &quot;fillColor&quot;: &quot;green&quot;, &quot;fillOpacity&quot;: 0.2, &quot;fillRule&quot;: &quot;evenodd&quot;, &quot;lineCap&quot;: &quot;round&quot;, &quot;lineJoin&quot;: &quot;round&quot;, &quot;opacity&quot;: 1.0, &quot;radius&quot;: 6.624597234186647, &quot;stroke&quot;: true, &quot;weight&quot;: 3}\n",
       "            ).addTo(map_21327b43d24416f7d4f2ff4056fa7e63);\n",
       "        \n",
       "    \n",
       "        var popup_858fd8defbea142839dc60f344509da0 = L.popup({&quot;maxWidth&quot;: &quot;100%&quot;});\n",
       "\n",
       "        \n",
       "            \n",
       "                var html_4a81de591c775f6226464a3cf8bc0340 = $(`&lt;div id=&quot;html_4a81de591c775f6226464a3cf8bc0340&quot; style=&quot;width: 100.0%; height: 100.0%;&quot;&gt;Honduras&lt;/div&gt;`)[0];\n",
       "                popup_858fd8defbea142839dc60f344509da0.setContent(html_4a81de591c775f6226464a3cf8bc0340);\n",
       "            \n",
       "        \n",
       "\n",
       "        circle_marker_7741e0edecb3f97f29ce01cec103d65a.bindPopup(popup_858fd8defbea142839dc60f344509da0)\n",
       "        ;\n",
       "\n",
       "        \n",
       "    \n",
       "    \n",
       "            var circle_marker_9bd196a88ffdafdb362c0be97a1be2dc = L.circleMarker(\n",
       "                [45.16667, 15.5],\n",
       "                {&quot;bubblingMouseEvents&quot;: true, &quot;color&quot;: &quot;black&quot;, &quot;dashArray&quot;: null, &quot;dashOffset&quot;: null, &quot;fill&quot;: true, &quot;fillColor&quot;: &quot;black&quot;, &quot;fillOpacity&quot;: 0.2, &quot;fillRule&quot;: &quot;evenodd&quot;, &quot;lineCap&quot;: &quot;round&quot;, &quot;lineJoin&quot;: &quot;round&quot;, &quot;opacity&quot;: 1.0, &quot;stroke&quot;: true, &quot;weight&quot;: 3}\n",
       "            ).addTo(map_21327b43d24416f7d4f2ff4056fa7e63);\n",
       "        \n",
       "    \n",
       "        var popup_8b50706258d47e317544673a9de8a791 = L.popup({&quot;maxWidth&quot;: &quot;100%&quot;});\n",
       "\n",
       "        \n",
       "            \n",
       "                var html_1a8948b323f6dde33654d7c7011bdb70 = $(`&lt;div id=&quot;html_1a8948b323f6dde33654d7c7011bdb70&quot; style=&quot;width: 100.0%; height: 100.0%;&quot;&gt;Croatia&lt;/div&gt;`)[0];\n",
       "                popup_8b50706258d47e317544673a9de8a791.setContent(html_1a8948b323f6dde33654d7c7011bdb70);\n",
       "            \n",
       "        \n",
       "\n",
       "        circle_marker_9bd196a88ffdafdb362c0be97a1be2dc.bindPopup(popup_8b50706258d47e317544673a9de8a791)\n",
       "        ;\n",
       "\n",
       "        \n",
       "    \n",
       "    \n",
       "            var circle_marker_9b8139915f4e30c266dfc6057be9b4d4 = L.circleMarker(\n",
       "                [19.0, -72.41667],\n",
       "                {&quot;bubblingMouseEvents&quot;: true, &quot;color&quot;: &quot;green&quot;, &quot;dashArray&quot;: null, &quot;dashOffset&quot;: null, &quot;fill&quot;: true, &quot;fillColor&quot;: &quot;green&quot;, &quot;fillOpacity&quot;: 0.2, &quot;fillRule&quot;: &quot;evenodd&quot;, &quot;lineCap&quot;: &quot;round&quot;, &quot;lineJoin&quot;: &quot;round&quot;, &quot;opacity&quot;: 1.0, &quot;radius&quot;: 13.87678502206466, &quot;stroke&quot;: true, &quot;weight&quot;: 3}\n",
       "            ).addTo(map_21327b43d24416f7d4f2ff4056fa7e63);\n",
       "        \n",
       "    \n",
       "        var popup_55ce5769f5932c5bdc285431c512fa63 = L.popup({&quot;maxWidth&quot;: &quot;100%&quot;});\n",
       "\n",
       "        \n",
       "            \n",
       "                var html_06c29a1e38b74ae2732fbf11342e3920 = $(`&lt;div id=&quot;html_06c29a1e38b74ae2732fbf11342e3920&quot; style=&quot;width: 100.0%; height: 100.0%;&quot;&gt;Haiti&lt;/div&gt;`)[0];\n",
       "                popup_55ce5769f5932c5bdc285431c512fa63.setContent(html_06c29a1e38b74ae2732fbf11342e3920);\n",
       "            \n",
       "        \n",
       "\n",
       "        circle_marker_9b8139915f4e30c266dfc6057be9b4d4.bindPopup(popup_55ce5769f5932c5bdc285431c512fa63)\n",
       "        ;\n",
       "\n",
       "        \n",
       "    \n",
       "    \n",
       "            var circle_marker_e204e09601ff0e768594710d7005a25d = L.circleMarker(\n",
       "                [47.0, 20.0],\n",
       "                {&quot;bubblingMouseEvents&quot;: true, &quot;color&quot;: &quot;black&quot;, &quot;dashArray&quot;: null, &quot;dashOffset&quot;: null, &quot;fill&quot;: true, &quot;fillColor&quot;: &quot;black&quot;, &quot;fillOpacity&quot;: 0.2, &quot;fillRule&quot;: &quot;evenodd&quot;, &quot;lineCap&quot;: &quot;round&quot;, &quot;lineJoin&quot;: &quot;round&quot;, &quot;opacity&quot;: 1.0, &quot;radius&quot;: 0.39854313845017025, &quot;stroke&quot;: true, &quot;weight&quot;: 3}\n",
       "            ).addTo(map_21327b43d24416f7d4f2ff4056fa7e63);\n",
       "        \n",
       "    \n",
       "        var popup_815cbdb469d2400cae86cefda92c773a = L.popup({&quot;maxWidth&quot;: &quot;100%&quot;});\n",
       "\n",
       "        \n",
       "            \n",
       "                var html_899d88481e3338fed2d842730a0a5b7b = $(`&lt;div id=&quot;html_899d88481e3338fed2d842730a0a5b7b&quot; style=&quot;width: 100.0%; height: 100.0%;&quot;&gt;Hungary&lt;/div&gt;`)[0];\n",
       "                popup_815cbdb469d2400cae86cefda92c773a.setContent(html_899d88481e3338fed2d842730a0a5b7b);\n",
       "            \n",
       "        \n",
       "\n",
       "        circle_marker_e204e09601ff0e768594710d7005a25d.bindPopup(popup_815cbdb469d2400cae86cefda92c773a)\n",
       "        ;\n",
       "\n",
       "        \n",
       "    \n",
       "    \n",
       "            var circle_marker_71cb45683c35c287eef27d37c323eb45 = L.circleMarker(\n",
       "                [-5.0, 120.0],\n",
       "                {&quot;bubblingMouseEvents&quot;: true, &quot;color&quot;: &quot;red&quot;, &quot;dashArray&quot;: null, &quot;dashOffset&quot;: null, &quot;fill&quot;: true, &quot;fillColor&quot;: &quot;red&quot;, &quot;fillOpacity&quot;: 0.2, &quot;fillRule&quot;: &quot;evenodd&quot;, &quot;lineCap&quot;: &quot;round&quot;, &quot;lineJoin&quot;: &quot;round&quot;, &quot;opacity&quot;: 1.0, &quot;radius&quot;: 35.63850421634843, &quot;stroke&quot;: true, &quot;weight&quot;: 3}\n",
       "            ).addTo(map_21327b43d24416f7d4f2ff4056fa7e63);\n",
       "        \n",
       "    \n",
       "        var popup_bdba76114f3b642214f7331d5fd66f57 = L.popup({&quot;maxWidth&quot;: &quot;100%&quot;});\n",
       "\n",
       "        \n",
       "            \n",
       "                var html_3fb0c11d7678873f736130382fec7361 = $(`&lt;div id=&quot;html_3fb0c11d7678873f736130382fec7361&quot; style=&quot;width: 100.0%; height: 100.0%;&quot;&gt;Indonesia&lt;/div&gt;`)[0];\n",
       "                popup_bdba76114f3b642214f7331d5fd66f57.setContent(html_3fb0c11d7678873f736130382fec7361);\n",
       "            \n",
       "        \n",
       "\n",
       "        circle_marker_71cb45683c35c287eef27d37c323eb45.bindPopup(popup_bdba76114f3b642214f7331d5fd66f57)\n",
       "        ;\n",
       "\n",
       "        \n",
       "    \n",
       "    \n",
       "            var circle_marker_a00c9c5919ca95fd1dc9b911f4d97083 = L.circleMarker(\n",
       "                [22.0, 79.0],\n",
       "                {&quot;bubblingMouseEvents&quot;: true, &quot;color&quot;: &quot;red&quot;, &quot;dashArray&quot;: null, &quot;dashOffset&quot;: null, &quot;fill&quot;: true, &quot;fillColor&quot;: &quot;red&quot;, &quot;fillOpacity&quot;: 0.2, &quot;fillRule&quot;: &quot;evenodd&quot;, &quot;lineCap&quot;: &quot;round&quot;, &quot;lineJoin&quot;: &quot;round&quot;, &quot;opacity&quot;: 1.0, &quot;radius&quot;: 96.71116171569287, &quot;stroke&quot;: true, &quot;weight&quot;: 3}\n",
       "            ).addTo(map_21327b43d24416f7d4f2ff4056fa7e63);\n",
       "        \n",
       "    \n",
       "        var popup_80ac3e1c23a29f63161987ab54293b68 = L.popup({&quot;maxWidth&quot;: &quot;100%&quot;});\n",
       "\n",
       "        \n",
       "            \n",
       "                var html_b0111f733719026539f510082bc3c6d9 = $(`&lt;div id=&quot;html_b0111f733719026539f510082bc3c6d9&quot; style=&quot;width: 100.0%; height: 100.0%;&quot;&gt;India&lt;/div&gt;`)[0];\n",
       "                popup_80ac3e1c23a29f63161987ab54293b68.setContent(html_b0111f733719026539f510082bc3c6d9);\n",
       "            \n",
       "        \n",
       "\n",
       "        circle_marker_a00c9c5919ca95fd1dc9b911f4d97083.bindPopup(popup_80ac3e1c23a29f63161987ab54293b68)\n",
       "        ;\n",
       "\n",
       "        \n",
       "    \n",
       "    \n",
       "            var circle_marker_230ae2ee2d2ab4f59dade61f73d2cc78 = L.circleMarker(\n",
       "                [53.0, -8.0],\n",
       "                {&quot;bubblingMouseEvents&quot;: true, &quot;color&quot;: &quot;black&quot;, &quot;dashArray&quot;: null, &quot;dashOffset&quot;: null, &quot;fill&quot;: true, &quot;fillColor&quot;: &quot;black&quot;, &quot;fillOpacity&quot;: 0.2, &quot;fillRule&quot;: &quot;evenodd&quot;, &quot;lineCap&quot;: &quot;round&quot;, &quot;lineJoin&quot;: &quot;round&quot;, &quot;opacity&quot;: 1.0, &quot;radius&quot;: 0.7228015053895888, &quot;stroke&quot;: true, &quot;weight&quot;: 3}\n",
       "            ).addTo(map_21327b43d24416f7d4f2ff4056fa7e63);\n",
       "        \n",
       "    \n",
       "        var popup_2f7e162254e9dba8148fdc00be66d981 = L.popup({&quot;maxWidth&quot;: &quot;100%&quot;});\n",
       "\n",
       "        \n",
       "            \n",
       "                var html_f055a1a906b940d7ede94cb558576f90 = $(`&lt;div id=&quot;html_f055a1a906b940d7ede94cb558576f90&quot; style=&quot;width: 100.0%; height: 100.0%;&quot;&gt;Ireland&lt;/div&gt;`)[0];\n",
       "                popup_2f7e162254e9dba8148fdc00be66d981.setContent(html_f055a1a906b940d7ede94cb558576f90);\n",
       "            \n",
       "        \n",
       "\n",
       "        circle_marker_230ae2ee2d2ab4f59dade61f73d2cc78.bindPopup(popup_2f7e162254e9dba8148fdc00be66d981)\n",
       "        ;\n",
       "\n",
       "        \n",
       "    \n",
       "    \n",
       "            var circle_marker_3c3390cc41e7ce3603d404e971d88018 = L.circleMarker(\n",
       "                [32.0, 53.0],\n",
       "                {&quot;bubblingMouseEvents&quot;: true, &quot;color&quot;: &quot;red&quot;, &quot;dashArray&quot;: null, &quot;dashOffset&quot;: null, &quot;fill&quot;: true, &quot;fillColor&quot;: &quot;red&quot;, &quot;fillOpacity&quot;: 0.2, &quot;fillRule&quot;: &quot;evenodd&quot;, &quot;lineCap&quot;: &quot;round&quot;, &quot;lineJoin&quot;: &quot;round&quot;, &quot;opacity&quot;: 1.0, &quot;radius&quot;: 5.977753046502472, &quot;stroke&quot;: true, &quot;weight&quot;: 3}\n",
       "            ).addTo(map_21327b43d24416f7d4f2ff4056fa7e63);\n",
       "        \n",
       "    \n",
       "        var popup_e2e82f082f4b30d9bd04ef5c7e70ad42 = L.popup({&quot;maxWidth&quot;: &quot;100%&quot;});\n",
       "\n",
       "        \n",
       "            \n",
       "                var html_d4ea565ee5eedc00e35003911206a34c = $(`&lt;div id=&quot;html_d4ea565ee5eedc00e35003911206a34c&quot; style=&quot;width: 100.0%; height: 100.0%;&quot;&gt;Iran&lt;/div&gt;`)[0];\n",
       "                popup_e2e82f082f4b30d9bd04ef5c7e70ad42.setContent(html_d4ea565ee5eedc00e35003911206a34c);\n",
       "            \n",
       "        \n",
       "\n",
       "        circle_marker_3c3390cc41e7ce3603d404e971d88018.bindPopup(popup_e2e82f082f4b30d9bd04ef5c7e70ad42)\n",
       "        ;\n",
       "\n",
       "        \n",
       "    \n",
       "    \n",
       "            var circle_marker_2bc035b3a24f91d2fede2f694a8324b7 = L.circleMarker(\n",
       "                [33.0, 44.0],\n",
       "                {&quot;bubblingMouseEvents&quot;: true, &quot;color&quot;: &quot;red&quot;, &quot;dashArray&quot;: null, &quot;dashOffset&quot;: null, &quot;fill&quot;: true, &quot;fillColor&quot;: &quot;red&quot;, &quot;fillOpacity&quot;: 0.2, &quot;fillRule&quot;: &quot;evenodd&quot;, &quot;lineCap&quot;: &quot;round&quot;, &quot;lineJoin&quot;: &quot;round&quot;, &quot;opacity&quot;: 1.0, &quot;radius&quot;: 6.216012345398477, &quot;stroke&quot;: true, &quot;weight&quot;: 3}\n",
       "            ).addTo(map_21327b43d24416f7d4f2ff4056fa7e63);\n",
       "        \n",
       "    \n",
       "        var popup_7447d6513b2b7ea7c552df72e5effade = L.popup({&quot;maxWidth&quot;: &quot;100%&quot;});\n",
       "\n",
       "        \n",
       "            \n",
       "                var html_538f0086bb9e41a34f01e8200813f277 = $(`&lt;div id=&quot;html_538f0086bb9e41a34f01e8200813f277&quot; style=&quot;width: 100.0%; height: 100.0%;&quot;&gt;Iraq&lt;/div&gt;`)[0];\n",
       "                popup_7447d6513b2b7ea7c552df72e5effade.setContent(html_538f0086bb9e41a34f01e8200813f277);\n",
       "            \n",
       "        \n",
       "\n",
       "        circle_marker_2bc035b3a24f91d2fede2f694a8324b7.bindPopup(popup_7447d6513b2b7ea7c552df72e5effade)\n",
       "        ;\n",
       "\n",
       "        \n",
       "    \n",
       "    \n",
       "            var circle_marker_1c522bad8ee11b01eb1ba5101e8c2aa6 = L.circleMarker(\n",
       "                [31.5, 34.75],\n",
       "                {&quot;bubblingMouseEvents&quot;: true, &quot;color&quot;: &quot;red&quot;, &quot;dashArray&quot;: null, &quot;dashOffset&quot;: null, &quot;fill&quot;: true, &quot;fillColor&quot;: &quot;red&quot;, &quot;fillOpacity&quot;: 0.2, &quot;fillRule&quot;: &quot;evenodd&quot;, &quot;lineCap&quot;: &quot;round&quot;, &quot;lineJoin&quot;: &quot;round&quot;, &quot;opacity&quot;: 1.0, &quot;radius&quot;: 0.954347985452728, &quot;stroke&quot;: true, &quot;weight&quot;: 3}\n",
       "            ).addTo(map_21327b43d24416f7d4f2ff4056fa7e63);\n",
       "        \n",
       "    \n",
       "        var popup_37f3c1109c35885e6d059117cde3b848 = L.popup({&quot;maxWidth&quot;: &quot;100%&quot;});\n",
       "\n",
       "        \n",
       "            \n",
       "                var html_310813ec47e1fe89e3edde82dc3982b2 = $(`&lt;div id=&quot;html_310813ec47e1fe89e3edde82dc3982b2&quot; style=&quot;width: 100.0%; height: 100.0%;&quot;&gt;Israel&lt;/div&gt;`)[0];\n",
       "                popup_37f3c1109c35885e6d059117cde3b848.setContent(html_310813ec47e1fe89e3edde82dc3982b2);\n",
       "            \n",
       "        \n",
       "\n",
       "        circle_marker_1c522bad8ee11b01eb1ba5101e8c2aa6.bindPopup(popup_37f3c1109c35885e6d059117cde3b848)\n",
       "        ;\n",
       "\n",
       "        \n",
       "    \n",
       "    \n",
       "            var circle_marker_ab6a0dd7e69a92fb301fbac740863e4f = L.circleMarker(\n",
       "                [42.83333, 12.83333],\n",
       "                {&quot;bubblingMouseEvents&quot;: true, &quot;color&quot;: &quot;black&quot;, &quot;dashArray&quot;: null, &quot;dashOffset&quot;: null, &quot;fill&quot;: true, &quot;fillColor&quot;: &quot;black&quot;, &quot;fillOpacity&quot;: 0.2, &quot;fillRule&quot;: &quot;evenodd&quot;, &quot;lineCap&quot;: &quot;round&quot;, &quot;lineJoin&quot;: &quot;round&quot;, &quot;opacity&quot;: 1.0, &quot;radius&quot;: 5.08465043859005, &quot;stroke&quot;: true, &quot;weight&quot;: 3}\n",
       "            ).addTo(map_21327b43d24416f7d4f2ff4056fa7e63);\n",
       "        \n",
       "    \n",
       "        var popup_19ec133cd3ef7841e377c2a9f9f511eb = L.popup({&quot;maxWidth&quot;: &quot;100%&quot;});\n",
       "\n",
       "        \n",
       "            \n",
       "                var html_e3395be9c024fdaf3976648def0c227f = $(`&lt;div id=&quot;html_e3395be9c024fdaf3976648def0c227f&quot; style=&quot;width: 100.0%; height: 100.0%;&quot;&gt;Italy&lt;/div&gt;`)[0];\n",
       "                popup_19ec133cd3ef7841e377c2a9f9f511eb.setContent(html_e3395be9c024fdaf3976648def0c227f);\n",
       "            \n",
       "        \n",
       "\n",
       "        circle_marker_ab6a0dd7e69a92fb301fbac740863e4f.bindPopup(popup_19ec133cd3ef7841e377c2a9f9f511eb)\n",
       "        ;\n",
       "\n",
       "        \n",
       "    \n",
       "    \n",
       "            var circle_marker_0233b573e730f22107e504027e0892cd = L.circleMarker(\n",
       "                [18.16667, -77.25],\n",
       "                {&quot;bubblingMouseEvents&quot;: true, &quot;color&quot;: &quot;green&quot;, &quot;dashArray&quot;: null, &quot;dashOffset&quot;: null, &quot;fill&quot;: true, &quot;fillColor&quot;: &quot;green&quot;, &quot;fillOpacity&quot;: 0.2, &quot;fillRule&quot;: &quot;evenodd&quot;, &quot;lineCap&quot;: &quot;round&quot;, &quot;lineJoin&quot;: &quot;round&quot;, &quot;opacity&quot;: 1.0, &quot;radius&quot;: 0.45824560217796606, &quot;stroke&quot;: true, &quot;weight&quot;: 3}\n",
       "            ).addTo(map_21327b43d24416f7d4f2ff4056fa7e63);\n",
       "        \n",
       "    \n",
       "        var popup_6124384212a8da985103540917c37e0b = L.popup({&quot;maxWidth&quot;: &quot;100%&quot;});\n",
       "\n",
       "        \n",
       "            \n",
       "                var html_dad5fd7ee2295bce631fdaa1270c0d6b = $(`&lt;div id=&quot;html_dad5fd7ee2295bce631fdaa1270c0d6b&quot; style=&quot;width: 100.0%; height: 100.0%;&quot;&gt;Jamaica&lt;/div&gt;`)[0];\n",
       "                popup_6124384212a8da985103540917c37e0b.setContent(html_dad5fd7ee2295bce631fdaa1270c0d6b);\n",
       "            \n",
       "        \n",
       "\n",
       "        circle_marker_0233b573e730f22107e504027e0892cd.bindPopup(popup_6124384212a8da985103540917c37e0b)\n",
       "        ;\n",
       "\n",
       "        \n",
       "    \n",
       "    \n",
       "            var circle_marker_700e76c98d779d061e03a7144627b72c = L.circleMarker(\n",
       "                [31.0, 36.0],\n",
       "                {&quot;bubblingMouseEvents&quot;: true, &quot;color&quot;: &quot;red&quot;, &quot;dashArray&quot;: null, &quot;dashOffset&quot;: null, &quot;fill&quot;: true, &quot;fillColor&quot;: &quot;red&quot;, &quot;fillOpacity&quot;: 0.2, &quot;fillRule&quot;: &quot;evenodd&quot;, &quot;lineCap&quot;: &quot;round&quot;, &quot;lineJoin&quot;: &quot;round&quot;, &quot;opacity&quot;: 1.0, &quot;radius&quot;: 0.4310792404582909, &quot;stroke&quot;: true, &quot;weight&quot;: 3}\n",
       "            ).addTo(map_21327b43d24416f7d4f2ff4056fa7e63);\n",
       "        \n",
       "    \n",
       "        var popup_7187d214162ed2d08dd4d0c6cfa6ec0c = L.popup({&quot;maxWidth&quot;: &quot;100%&quot;});\n",
       "\n",
       "        \n",
       "            \n",
       "                var html_20289489ed38badb5cf37f841130c606 = $(`&lt;div id=&quot;html_20289489ed38badb5cf37f841130c606&quot; style=&quot;width: 100.0%; height: 100.0%;&quot;&gt;Jordan&lt;/div&gt;`)[0];\n",
       "                popup_7187d214162ed2d08dd4d0c6cfa6ec0c.setContent(html_20289489ed38badb5cf37f841130c606);\n",
       "            \n",
       "        \n",
       "\n",
       "        circle_marker_700e76c98d779d061e03a7144627b72c.bindPopup(popup_7187d214162ed2d08dd4d0c6cfa6ec0c)\n",
       "        ;\n",
       "\n",
       "        \n",
       "    \n",
       "    \n",
       "            var circle_marker_d069d5160e210c0f30c073814ff96025 = L.circleMarker(\n",
       "                [35.68536, 139.75309],\n",
       "                {&quot;bubblingMouseEvents&quot;: true, &quot;color&quot;: &quot;red&quot;, &quot;dashArray&quot;: null, &quot;dashOffset&quot;: null, &quot;fill&quot;: true, &quot;fillColor&quot;: &quot;red&quot;, &quot;fillOpacity&quot;: 0.2, &quot;fillRule&quot;: &quot;evenodd&quot;, &quot;lineCap&quot;: &quot;round&quot;, &quot;lineJoin&quot;: &quot;round&quot;, &quot;opacity&quot;: 1.0, &quot;radius&quot;: 3.7790090475756384, &quot;stroke&quot;: true, &quot;weight&quot;: 3}\n",
       "            ).addTo(map_21327b43d24416f7d4f2ff4056fa7e63);\n",
       "        \n",
       "    \n",
       "        var popup_99db35f4ec73bc1b8a5d13934cb5b82b = L.popup({&quot;maxWidth&quot;: &quot;100%&quot;});\n",
       "\n",
       "        \n",
       "            \n",
       "                var html_7a9dd6e3565fe560ac80211d8ac1ea38 = $(`&lt;div id=&quot;html_7a9dd6e3565fe560ac80211d8ac1ea38&quot; style=&quot;width: 100.0%; height: 100.0%;&quot;&gt;Japan&lt;/div&gt;`)[0];\n",
       "                popup_99db35f4ec73bc1b8a5d13934cb5b82b.setContent(html_7a9dd6e3565fe560ac80211d8ac1ea38);\n",
       "            \n",
       "        \n",
       "\n",
       "        circle_marker_d069d5160e210c0f30c073814ff96025.bindPopup(popup_99db35f4ec73bc1b8a5d13934cb5b82b)\n",
       "        ;\n",
       "\n",
       "        \n",
       "    \n",
       "    \n",
       "            var circle_marker_456735bebdff132383be48779f6033b0 = L.circleMarker(\n",
       "                [48.0, 68.0],\n",
       "                {&quot;bubblingMouseEvents&quot;: true, &quot;color&quot;: &quot;red&quot;, &quot;dashArray&quot;: null, &quot;dashOffset&quot;: null, &quot;fill&quot;: true, &quot;fillColor&quot;: &quot;red&quot;, &quot;fillOpacity&quot;: 0.2, &quot;fillRule&quot;: &quot;evenodd&quot;, &quot;lineCap&quot;: &quot;round&quot;, &quot;lineJoin&quot;: &quot;round&quot;, &quot;opacity&quot;: 1.0, &quot;radius&quot;: 0.5670596503216089, &quot;stroke&quot;: true, &quot;weight&quot;: 3}\n",
       "            ).addTo(map_21327b43d24416f7d4f2ff4056fa7e63);\n",
       "        \n",
       "    \n",
       "        var popup_3d36e7ff17ae8fe4b41679b4b865e477 = L.popup({&quot;maxWidth&quot;: &quot;100%&quot;});\n",
       "\n",
       "        \n",
       "            \n",
       "                var html_945989a2cd86a8b74d3b8c197122060f = $(`&lt;div id=&quot;html_945989a2cd86a8b74d3b8c197122060f&quot; style=&quot;width: 100.0%; height: 100.0%;&quot;&gt;Kazakhstan&lt;/div&gt;`)[0];\n",
       "                popup_3d36e7ff17ae8fe4b41679b4b865e477.setContent(html_945989a2cd86a8b74d3b8c197122060f);\n",
       "            \n",
       "        \n",
       "\n",
       "        circle_marker_456735bebdff132383be48779f6033b0.bindPopup(popup_3d36e7ff17ae8fe4b41679b4b865e477)\n",
       "        ;\n",
       "\n",
       "        \n",
       "    \n",
       "    \n",
       "            var circle_marker_259e85f2cead915201cae49a45fa9873 = L.circleMarker(\n",
       "                [1.0, 38.0],\n",
       "                {&quot;bubblingMouseEvents&quot;: true, &quot;color&quot;: &quot;blue&quot;, &quot;dashArray&quot;: null, &quot;dashOffset&quot;: null, &quot;fill&quot;: true, &quot;fillColor&quot;: &quot;blue&quot;, &quot;fillOpacity&quot;: 0.2, &quot;fillRule&quot;: &quot;evenodd&quot;, &quot;lineCap&quot;: &quot;round&quot;, &quot;lineJoin&quot;: &quot;round&quot;, &quot;opacity&quot;: 1.0, &quot;radius&quot;: 23.96398095329267, &quot;stroke&quot;: true, &quot;weight&quot;: 3}\n",
       "            ).addTo(map_21327b43d24416f7d4f2ff4056fa7e63);\n",
       "        \n",
       "    \n",
       "        var popup_ec490f5fe6e998b607c163a110fd200e = L.popup({&quot;maxWidth&quot;: &quot;100%&quot;});\n",
       "\n",
       "        \n",
       "            \n",
       "                var html_3634503da3a817b7f7847bec7aca8709 = $(`&lt;div id=&quot;html_3634503da3a817b7f7847bec7aca8709&quot; style=&quot;width: 100.0%; height: 100.0%;&quot;&gt;Kenya&lt;/div&gt;`)[0];\n",
       "                popup_ec490f5fe6e998b607c163a110fd200e.setContent(html_3634503da3a817b7f7847bec7aca8709);\n",
       "            \n",
       "        \n",
       "\n",
       "        circle_marker_259e85f2cead915201cae49a45fa9873.bindPopup(popup_ec490f5fe6e998b607c163a110fd200e)\n",
       "        ;\n",
       "\n",
       "        \n",
       "    \n",
       "    \n",
       "            var circle_marker_c62c1d4488732164afb75cc839714949 = L.circleMarker(\n",
       "                [41.5, 75.0],\n",
       "                {&quot;bubblingMouseEvents&quot;: true, &quot;color&quot;: &quot;red&quot;, &quot;dashArray&quot;: null, &quot;dashOffset&quot;: null, &quot;fill&quot;: true, &quot;fillColor&quot;: &quot;red&quot;, &quot;fillOpacity&quot;: 0.2, &quot;fillRule&quot;: &quot;evenodd&quot;, &quot;lineCap&quot;: &quot;round&quot;, &quot;lineJoin&quot;: &quot;round&quot;, &quot;opacity&quot;: 1.0, &quot;radius&quot;: 2.988762035523588, &quot;stroke&quot;: true, &quot;weight&quot;: 3}\n",
       "            ).addTo(map_21327b43d24416f7d4f2ff4056fa7e63);\n",
       "        \n",
       "    \n",
       "        var popup_190cc751317c6889c33bad49dd8402fd = L.popup({&quot;maxWidth&quot;: &quot;100%&quot;});\n",
       "\n",
       "        \n",
       "            \n",
       "                var html_a50bb83657a6b9e2e1beb22483b3d5f8 = $(`&lt;div id=&quot;html_a50bb83657a6b9e2e1beb22483b3d5f8&quot; style=&quot;width: 100.0%; height: 100.0%;&quot;&gt;Kyrgyz Republic&lt;/div&gt;`)[0];\n",
       "                popup_190cc751317c6889c33bad49dd8402fd.setContent(html_a50bb83657a6b9e2e1beb22483b3d5f8);\n",
       "            \n",
       "        \n",
       "\n",
       "        circle_marker_c62c1d4488732164afb75cc839714949.bindPopup(popup_190cc751317c6889c33bad49dd8402fd)\n",
       "        ;\n",
       "\n",
       "        \n",
       "    \n",
       "    \n",
       "            var circle_marker_8e800c38eed3f6087448d6ad67560555 = L.circleMarker(\n",
       "                [13.0, 105.0],\n",
       "                {&quot;bubblingMouseEvents&quot;: true, &quot;color&quot;: &quot;red&quot;, &quot;dashArray&quot;: null, &quot;dashOffset&quot;: null, &quot;fill&quot;: true, &quot;fillColor&quot;: &quot;red&quot;, &quot;fillOpacity&quot;: 0.2, &quot;fillRule&quot;: &quot;evenodd&quot;, &quot;lineCap&quot;: &quot;round&quot;, &quot;lineJoin&quot;: &quot;round&quot;, &quot;opacity&quot;: 1.0, &quot;radius&quot;: 6.810875995516438, &quot;stroke&quot;: true, &quot;weight&quot;: 3}\n",
       "            ).addTo(map_21327b43d24416f7d4f2ff4056fa7e63);\n",
       "        \n",
       "    \n",
       "        var popup_9a31ca5d0a49310501a2331f8f0f6247 = L.popup({&quot;maxWidth&quot;: &quot;100%&quot;});\n",
       "\n",
       "        \n",
       "            \n",
       "                var html_4094501e7e121a8ba8f05d8313a7d7b8 = $(`&lt;div id=&quot;html_4094501e7e121a8ba8f05d8313a7d7b8&quot; style=&quot;width: 100.0%; height: 100.0%;&quot;&gt;Cambodia&lt;/div&gt;`)[0];\n",
       "                popup_9a31ca5d0a49310501a2331f8f0f6247.setContent(html_4094501e7e121a8ba8f05d8313a7d7b8);\n",
       "            \n",
       "        \n",
       "\n",
       "        circle_marker_8e800c38eed3f6087448d6ad67560555.bindPopup(popup_9a31ca5d0a49310501a2331f8f0f6247)\n",
       "        ;\n",
       "\n",
       "        \n",
       "    \n",
       "    \n",
       "            var circle_marker_43f57af26fe98e6bf0072815951892b5 = L.circleMarker(\n",
       "                [18.0, 105.0],\n",
       "                {&quot;bubblingMouseEvents&quot;: true, &quot;color&quot;: &quot;red&quot;, &quot;dashArray&quot;: null, &quot;dashOffset&quot;: null, &quot;fill&quot;: true, &quot;fillColor&quot;: &quot;red&quot;, &quot;fillOpacity&quot;: 0.2, &quot;fillRule&quot;: &quot;evenodd&quot;, &quot;lineCap&quot;: &quot;round&quot;, &quot;lineJoin&quot;: &quot;round&quot;, &quot;opacity&quot;: 1.0, &quot;radius&quot;: 7.810974031549449, &quot;stroke&quot;: true, &quot;weight&quot;: 3}\n",
       "            ).addTo(map_21327b43d24416f7d4f2ff4056fa7e63);\n",
       "        \n",
       "    \n",
       "        var popup_5057a106adf1ccc35f0ee3afb9521f5c = L.popup({&quot;maxWidth&quot;: &quot;100%&quot;});\n",
       "\n",
       "        \n",
       "            \n",
       "                var html_032d9de522500cb2ce18eadc6e244522 = $(`&lt;div id=&quot;html_032d9de522500cb2ce18eadc6e244522&quot; style=&quot;width: 100.0%; height: 100.0%;&quot;&gt;Lao&lt;/div&gt;`)[0];\n",
       "                popup_5057a106adf1ccc35f0ee3afb9521f5c.setContent(html_032d9de522500cb2ce18eadc6e244522);\n",
       "            \n",
       "        \n",
       "\n",
       "        circle_marker_43f57af26fe98e6bf0072815951892b5.bindPopup(popup_5057a106adf1ccc35f0ee3afb9521f5c)\n",
       "        ;\n",
       "\n",
       "        \n",
       "    \n",
       "    \n",
       "            var circle_marker_5205c2b520dab9a12d32def3ff772f1c = L.circleMarker(\n",
       "                [6.5, -9.5],\n",
       "                {&quot;bubblingMouseEvents&quot;: true, &quot;color&quot;: &quot;blue&quot;, &quot;dashArray&quot;: null, &quot;dashOffset&quot;: null, &quot;fill&quot;: true, &quot;fillColor&quot;: &quot;blue&quot;, &quot;fillOpacity&quot;: 0.2, &quot;fillRule&quot;: &quot;evenodd&quot;, &quot;lineCap&quot;: &quot;round&quot;, &quot;lineJoin&quot;: &quot;round&quot;, &quot;opacity&quot;: 1.0, &quot;radius&quot;: 10.402722701851058, &quot;stroke&quot;: true, &quot;weight&quot;: 3}\n",
       "            ).addTo(map_21327b43d24416f7d4f2ff4056fa7e63);\n",
       "        \n",
       "    \n",
       "        var popup_2df8cdcb241a1f39ba71c5f6ce99f461 = L.popup({&quot;maxWidth&quot;: &quot;100%&quot;});\n",
       "\n",
       "        \n",
       "            \n",
       "                var html_a0a552d10c612b98d282318cecae43b1 = $(`&lt;div id=&quot;html_a0a552d10c612b98d282318cecae43b1&quot; style=&quot;width: 100.0%; height: 100.0%;&quot;&gt;Liberia&lt;/div&gt;`)[0];\n",
       "                popup_2df8cdcb241a1f39ba71c5f6ce99f461.setContent(html_a0a552d10c612b98d282318cecae43b1);\n",
       "            \n",
       "        \n",
       "\n",
       "        circle_marker_5205c2b520dab9a12d32def3ff772f1c.bindPopup(popup_2df8cdcb241a1f39ba71c5f6ce99f461)\n",
       "        ;\n",
       "\n",
       "        \n",
       "    \n",
       "    \n",
       "            var circle_marker_6a413ad1c2f9fb33117ccbfc6c85f243 = L.circleMarker(\n",
       "                [13.88333, -60.96667],\n",
       "                {&quot;bubblingMouseEvents&quot;: true, &quot;color&quot;: &quot;green&quot;, &quot;dashArray&quot;: null, &quot;dashOffset&quot;: null, &quot;fill&quot;: true, &quot;fillColor&quot;: &quot;green&quot;, &quot;fillOpacity&quot;: 0.2, &quot;fillRule&quot;: &quot;evenodd&quot;, &quot;lineCap&quot;: &quot;round&quot;, &quot;lineJoin&quot;: &quot;round&quot;, &quot;opacity&quot;: 1.0, &quot;radius&quot;: 1.0678247394996874, &quot;stroke&quot;: true, &quot;weight&quot;: 3}\n",
       "            ).addTo(map_21327b43d24416f7d4f2ff4056fa7e63);\n",
       "        \n",
       "    \n",
       "        var popup_ba9f3ff693994ce11eaddb5143c1a98d = L.popup({&quot;maxWidth&quot;: &quot;100%&quot;});\n",
       "\n",
       "        \n",
       "            \n",
       "                var html_2270c320d088499bf7e8b776aec46844 = $(`&lt;div id=&quot;html_2270c320d088499bf7e8b776aec46844&quot; style=&quot;width: 100.0%; height: 100.0%;&quot;&gt;St. Lucia&lt;/div&gt;`)[0];\n",
       "                popup_ba9f3ff693994ce11eaddb5143c1a98d.setContent(html_2270c320d088499bf7e8b776aec46844);\n",
       "            \n",
       "        \n",
       "\n",
       "        circle_marker_6a413ad1c2f9fb33117ccbfc6c85f243.bindPopup(popup_ba9f3ff693994ce11eaddb5143c1a98d)\n",
       "        ;\n",
       "\n",
       "        \n",
       "    \n",
       "    \n",
       "            var circle_marker_197ccb964dcfb7895d50f8f8d8876c77 = L.circleMarker(\n",
       "                [7.75, 80.75],\n",
       "                {&quot;bubblingMouseEvents&quot;: true, &quot;color&quot;: &quot;red&quot;, &quot;dashArray&quot;: null, &quot;dashOffset&quot;: null, &quot;fill&quot;: true, &quot;fillColor&quot;: &quot;red&quot;, &quot;fillOpacity&quot;: 0.2, &quot;fillRule&quot;: &quot;evenodd&quot;, &quot;lineCap&quot;: &quot;round&quot;, &quot;lineJoin&quot;: &quot;round&quot;, &quot;opacity&quot;: 1.0, &quot;radius&quot;: 5.2263905416719725, &quot;stroke&quot;: true, &quot;weight&quot;: 3}\n",
       "            ).addTo(map_21327b43d24416f7d4f2ff4056fa7e63);\n",
       "        \n",
       "    \n",
       "        var popup_f1857390fe327fe75560748180cf3ed1 = L.popup({&quot;maxWidth&quot;: &quot;100%&quot;});\n",
       "\n",
       "        \n",
       "            \n",
       "                var html_8a51546c2f30118405ad375ef21eb7fb = $(`&lt;div id=&quot;html_8a51546c2f30118405ad375ef21eb7fb&quot; style=&quot;width: 100.0%; height: 100.0%;&quot;&gt;Sri Lanka&lt;/div&gt;`)[0];\n",
       "                popup_f1857390fe327fe75560748180cf3ed1.setContent(html_8a51546c2f30118405ad375ef21eb7fb);\n",
       "            \n",
       "        \n",
       "\n",
       "        circle_marker_197ccb964dcfb7895d50f8f8d8876c77.bindPopup(popup_f1857390fe327fe75560748180cf3ed1)\n",
       "        ;\n",
       "\n",
       "        \n",
       "    \n",
       "    \n",
       "            var circle_marker_3219224462700fdf17ac60d028dfafb2 = L.circleMarker(\n",
       "                [-29.5, 28.25],\n",
       "                {&quot;bubblingMouseEvents&quot;: true, &quot;color&quot;: &quot;blue&quot;, &quot;dashArray&quot;: null, &quot;dashOffset&quot;: null, &quot;fill&quot;: true, &quot;fillColor&quot;: &quot;blue&quot;, &quot;fillOpacity&quot;: 0.2, &quot;fillRule&quot;: &quot;evenodd&quot;, &quot;lineCap&quot;: &quot;round&quot;, &quot;lineJoin&quot;: &quot;round&quot;, &quot;opacity&quot;: 1.0, &quot;radius&quot;: 5.9769276286816355, &quot;stroke&quot;: true, &quot;weight&quot;: 3}\n",
       "            ).addTo(map_21327b43d24416f7d4f2ff4056fa7e63);\n",
       "        \n",
       "    \n",
       "        var popup_5699828e403e9bd3af8a240b48e3ef9a = L.popup({&quot;maxWidth&quot;: &quot;100%&quot;});\n",
       "\n",
       "        \n",
       "            \n",
       "                var html_1ed19d1a283703609b264dfd33bce688 = $(`&lt;div id=&quot;html_1ed19d1a283703609b264dfd33bce688&quot; style=&quot;width: 100.0%; height: 100.0%;&quot;&gt;Lesotho&lt;/div&gt;`)[0];\n",
       "                popup_5699828e403e9bd3af8a240b48e3ef9a.setContent(html_1ed19d1a283703609b264dfd33bce688);\n",
       "            \n",
       "        \n",
       "\n",
       "        circle_marker_3219224462700fdf17ac60d028dfafb2.bindPopup(popup_5699828e403e9bd3af8a240b48e3ef9a)\n",
       "        ;\n",
       "\n",
       "        \n",
       "    \n",
       "    \n",
       "            var circle_marker_b09c1ca6c12460dd303bfe7ea25474be = L.circleMarker(\n",
       "                [55.41667, 24.0],\n",
       "                {&quot;bubblingMouseEvents&quot;: true, &quot;color&quot;: &quot;black&quot;, &quot;dashArray&quot;: null, &quot;dashOffset&quot;: null, &quot;fill&quot;: true, &quot;fillColor&quot;: &quot;black&quot;, &quot;fillOpacity&quot;: 0.2, &quot;fillRule&quot;: &quot;evenodd&quot;, &quot;lineCap&quot;: &quot;round&quot;, &quot;lineJoin&quot;: &quot;round&quot;, &quot;opacity&quot;: 1.0, &quot;radius&quot;: 0.9046582494882497, &quot;stroke&quot;: true, &quot;weight&quot;: 3}\n",
       "            ).addTo(map_21327b43d24416f7d4f2ff4056fa7e63);\n",
       "        \n",
       "    \n",
       "        var popup_27f156524f0c02cba2f1975b1621ac85 = L.popup({&quot;maxWidth&quot;: &quot;100%&quot;});\n",
       "\n",
       "        \n",
       "            \n",
       "                var html_3f68d0bfe21db7f01eba5ff3269a7918 = $(`&lt;div id=&quot;html_3f68d0bfe21db7f01eba5ff3269a7918&quot; style=&quot;width: 100.0%; height: 100.0%;&quot;&gt;Lithuania&lt;/div&gt;`)[0];\n",
       "                popup_27f156524f0c02cba2f1975b1621ac85.setContent(html_3f68d0bfe21db7f01eba5ff3269a7918);\n",
       "            \n",
       "        \n",
       "\n",
       "        circle_marker_b09c1ca6c12460dd303bfe7ea25474be.bindPopup(popup_27f156524f0c02cba2f1975b1621ac85)\n",
       "        ;\n",
       "\n",
       "        \n",
       "    \n",
       "    \n",
       "            var circle_marker_cbce83116d556f4e2a6173f573f76716 = L.circleMarker(\n",
       "                [57.0, 25.0],\n",
       "                {&quot;bubblingMouseEvents&quot;: true, &quot;color&quot;: &quot;black&quot;, &quot;dashArray&quot;: null, &quot;dashOffset&quot;: null, &quot;fill&quot;: true, &quot;fillColor&quot;: &quot;black&quot;, &quot;fillOpacity&quot;: 0.2, &quot;fillRule&quot;: &quot;evenodd&quot;, &quot;lineCap&quot;: &quot;round&quot;, &quot;lineJoin&quot;: &quot;round&quot;, &quot;opacity&quot;: 1.0, &quot;radius&quot;: 0.8452870527322389, &quot;stroke&quot;: true, &quot;weight&quot;: 3}\n",
       "            ).addTo(map_21327b43d24416f7d4f2ff4056fa7e63);\n",
       "        \n",
       "    \n",
       "        var popup_2e49b0323fcb49324d9c72c6da6c5757 = L.popup({&quot;maxWidth&quot;: &quot;100%&quot;});\n",
       "\n",
       "        \n",
       "            \n",
       "                var html_cc8047da879539dfb5a86d5832afbe1b = $(`&lt;div id=&quot;html_cc8047da879539dfb5a86d5832afbe1b&quot; style=&quot;width: 100.0%; height: 100.0%;&quot;&gt;Latvia&lt;/div&gt;`)[0];\n",
       "                popup_2e49b0323fcb49324d9c72c6da6c5757.setContent(html_cc8047da879539dfb5a86d5832afbe1b);\n",
       "            \n",
       "        \n",
       "\n",
       "        circle_marker_cbce83116d556f4e2a6173f573f76716.bindPopup(popup_2e49b0323fcb49324d9c72c6da6c5757)\n",
       "        ;\n",
       "\n",
       "        \n",
       "    \n",
       "    \n",
       "            var circle_marker_8f100a13d7a93a58f042ac17fa94d49c = L.circleMarker(\n",
       "                [32.0, -6.0],\n",
       "                {&quot;bubblingMouseEvents&quot;: true, &quot;color&quot;: &quot;blue&quot;, &quot;dashArray&quot;: null, &quot;dashOffset&quot;: null, &quot;fill&quot;: true, &quot;fillColor&quot;: &quot;blue&quot;, &quot;fillOpacity&quot;: 0.2, &quot;fillRule&quot;: &quot;evenodd&quot;, &quot;lineCap&quot;: &quot;round&quot;, &quot;lineJoin&quot;: &quot;round&quot;, &quot;opacity&quot;: 1.0, &quot;radius&quot;: 5.153624022486771, &quot;stroke&quot;: true, &quot;weight&quot;: 3}\n",
       "            ).addTo(map_21327b43d24416f7d4f2ff4056fa7e63);\n",
       "        \n",
       "    \n",
       "        var popup_0a55649539ae1fbf57db15e376a65409 = L.popup({&quot;maxWidth&quot;: &quot;100%&quot;});\n",
       "\n",
       "        \n",
       "            \n",
       "                var html_de6c27ea583037934e77626be4725100 = $(`&lt;div id=&quot;html_de6c27ea583037934e77626be4725100&quot; style=&quot;width: 100.0%; height: 100.0%;&quot;&gt;Morocco&lt;/div&gt;`)[0];\n",
       "                popup_0a55649539ae1fbf57db15e376a65409.setContent(html_de6c27ea583037934e77626be4725100);\n",
       "            \n",
       "        \n",
       "\n",
       "        circle_marker_8f100a13d7a93a58f042ac17fa94d49c.bindPopup(popup_0a55649539ae1fbf57db15e376a65409)\n",
       "        ;\n",
       "\n",
       "        \n",
       "    \n",
       "    \n",
       "            var circle_marker_cfc65f582c01cb819091193c3c41dd59 = L.circleMarker(\n",
       "                [47.25, 28.58333],\n",
       "                {&quot;bubblingMouseEvents&quot;: true, &quot;color&quot;: &quot;black&quot;, &quot;dashArray&quot;: null, &quot;dashOffset&quot;: null, &quot;fill&quot;: true, &quot;fillColor&quot;: &quot;black&quot;, &quot;fillOpacity&quot;: 0.2, &quot;fillRule&quot;: &quot;evenodd&quot;, &quot;lineCap&quot;: &quot;round&quot;, &quot;lineJoin&quot;: &quot;round&quot;, &quot;opacity&quot;: 1.0, &quot;radius&quot;: 0.5156705139116825, &quot;stroke&quot;: true, &quot;weight&quot;: 3}\n",
       "            ).addTo(map_21327b43d24416f7d4f2ff4056fa7e63);\n",
       "        \n",
       "    \n",
       "        var popup_21eb275098d549143b324b2c7f3024be = L.popup({&quot;maxWidth&quot;: &quot;100%&quot;});\n",
       "\n",
       "        \n",
       "            \n",
       "                var html_791f1da98b735c2a70c702b9a9d1a258 = $(`&lt;div id=&quot;html_791f1da98b735c2a70c702b9a9d1a258&quot; style=&quot;width: 100.0%; height: 100.0%;&quot;&gt;Moldova&lt;/div&gt;`)[0];\n",
       "                popup_21eb275098d549143b324b2c7f3024be.setContent(html_791f1da98b735c2a70c702b9a9d1a258);\n",
       "            \n",
       "        \n",
       "\n",
       "        circle_marker_cfc65f582c01cb819091193c3c41dd59.bindPopup(popup_21eb275098d549143b324b2c7f3024be)\n",
       "        ;\n",
       "\n",
       "        \n",
       "    \n",
       "    \n",
       "            var circle_marker_031d82e3002e5edea505077d7216bf6c = L.circleMarker(\n",
       "                [-20.0, 47.0],\n",
       "                {&quot;bubblingMouseEvents&quot;: true, &quot;color&quot;: &quot;blue&quot;, &quot;dashArray&quot;: null, &quot;dashOffset&quot;: null, &quot;fill&quot;: true, &quot;fillColor&quot;: &quot;blue&quot;, &quot;fillOpacity&quot;: 0.2, &quot;fillRule&quot;: &quot;evenodd&quot;, &quot;lineCap&quot;: &quot;round&quot;, &quot;lineJoin&quot;: &quot;round&quot;, &quot;opacity&quot;: 1.0, &quot;radius&quot;: 24.880782383251354, &quot;stroke&quot;: true, &quot;weight&quot;: 3}\n",
       "            ).addTo(map_21327b43d24416f7d4f2ff4056fa7e63);\n",
       "        \n",
       "    \n",
       "        var popup_5f58fefad2b9acf96854d948960ddca4 = L.popup({&quot;maxWidth&quot;: &quot;100%&quot;});\n",
       "\n",
       "        \n",
       "            \n",
       "                var html_e7c15667eb43d4e12293021ed55c8c46 = $(`&lt;div id=&quot;html_e7c15667eb43d4e12293021ed55c8c46&quot; style=&quot;width: 100.0%; height: 100.0%;&quot;&gt;Madagascar&lt;/div&gt;`)[0];\n",
       "                popup_5f58fefad2b9acf96854d948960ddca4.setContent(html_e7c15667eb43d4e12293021ed55c8c46);\n",
       "            \n",
       "        \n",
       "\n",
       "        circle_marker_031d82e3002e5edea505077d7216bf6c.bindPopup(popup_5f58fefad2b9acf96854d948960ddca4)\n",
       "        ;\n",
       "\n",
       "        \n",
       "    \n",
       "    \n",
       "            var circle_marker_fdabeab89c83a12a39509e74c6ecf56f = L.circleMarker(\n",
       "                [3.2, 73.0],\n",
       "                {&quot;bubblingMouseEvents&quot;: true, &quot;color&quot;: &quot;red&quot;, &quot;dashArray&quot;: null, &quot;dashOffset&quot;: null, &quot;fill&quot;: true, &quot;fillColor&quot;: &quot;red&quot;, &quot;fillOpacity&quot;: 0.2, &quot;fillRule&quot;: &quot;evenodd&quot;, &quot;lineCap&quot;: &quot;round&quot;, &quot;lineJoin&quot;: &quot;round&quot;, &quot;opacity&quot;: 1.0, &quot;radius&quot;: 0.41228325120254916, &quot;stroke&quot;: true, &quot;weight&quot;: 3}\n",
       "            ).addTo(map_21327b43d24416f7d4f2ff4056fa7e63);\n",
       "        \n",
       "    \n",
       "        var popup_02c21fcaa51a984e0d76aab3bf100edb = L.popup({&quot;maxWidth&quot;: &quot;100%&quot;});\n",
       "\n",
       "        \n",
       "            \n",
       "                var html_896798d5f95af21f91370f5724b5fb06 = $(`&lt;div id=&quot;html_896798d5f95af21f91370f5724b5fb06&quot; style=&quot;width: 100.0%; height: 100.0%;&quot;&gt;Maldives&lt;/div&gt;`)[0];\n",
       "                popup_02c21fcaa51a984e0d76aab3bf100edb.setContent(html_896798d5f95af21f91370f5724b5fb06);\n",
       "            \n",
       "        \n",
       "\n",
       "        circle_marker_fdabeab89c83a12a39509e74c6ecf56f.bindPopup(popup_02c21fcaa51a984e0d76aab3bf100edb)\n",
       "        ;\n",
       "\n",
       "        \n",
       "    \n",
       "    \n",
       "            var circle_marker_7ce76c49832bb7c854d2ac69dd29e00a = L.circleMarker(\n",
       "                [19.42847, -99.12766],\n",
       "                {&quot;bubblingMouseEvents&quot;: true, &quot;color&quot;: &quot;green&quot;, &quot;dashArray&quot;: null, &quot;dashOffset&quot;: null, &quot;fill&quot;: true, &quot;fillColor&quot;: &quot;green&quot;, &quot;fillOpacity&quot;: 0.2, &quot;fillRule&quot;: &quot;evenodd&quot;, &quot;lineCap&quot;: &quot;round&quot;, &quot;lineJoin&quot;: &quot;round&quot;, &quot;opacity&quot;: 1.0, &quot;radius&quot;: 6.103493555808272, &quot;stroke&quot;: true, &quot;weight&quot;: 3}\n",
       "            ).addTo(map_21327b43d24416f7d4f2ff4056fa7e63);\n",
       "        \n",
       "    \n",
       "        var popup_212b4e1d29bdb77ca199728660d7795a = L.popup({&quot;maxWidth&quot;: &quot;100%&quot;});\n",
       "\n",
       "        \n",
       "            \n",
       "                var html_15916e10893a3d6c12d89447c791b8cc = $(`&lt;div id=&quot;html_15916e10893a3d6c12d89447c791b8cc&quot; style=&quot;width: 100.0%; height: 100.0%;&quot;&gt;Mexico&lt;/div&gt;`)[0];\n",
       "                popup_212b4e1d29bdb77ca199728660d7795a.setContent(html_15916e10893a3d6c12d89447c791b8cc);\n",
       "            \n",
       "        \n",
       "\n",
       "        circle_marker_7ce76c49832bb7c854d2ac69dd29e00a.bindPopup(popup_212b4e1d29bdb77ca199728660d7795a)\n",
       "        ;\n",
       "\n",
       "        \n",
       "    \n",
       "    \n",
       "            var circle_marker_da252e55573e3396149d9d490d896e6c = L.circleMarker(\n",
       "                [41.66667, 21.75],\n",
       "                {&quot;bubblingMouseEvents&quot;: true, &quot;color&quot;: &quot;black&quot;, &quot;dashArray&quot;: null, &quot;dashOffset&quot;: null, &quot;fill&quot;: true, &quot;fillColor&quot;: &quot;black&quot;, &quot;fillOpacity&quot;: 0.2, &quot;fillRule&quot;: &quot;evenodd&quot;, &quot;lineCap&quot;: &quot;round&quot;, &quot;lineJoin&quot;: &quot;round&quot;, &quot;opacity&quot;: 1.0, &quot;radius&quot;: 0.4275946662716566, &quot;stroke&quot;: true, &quot;weight&quot;: 3}\n",
       "            ).addTo(map_21327b43d24416f7d4f2ff4056fa7e63);\n",
       "        \n",
       "    \n",
       "        var popup_1a2a88e5e3d616069487ff4180785821 = L.popup({&quot;maxWidth&quot;: &quot;100%&quot;});\n",
       "\n",
       "        \n",
       "            \n",
       "                var html_3d7a564a302d8857ba3fe250ecf973c5 = $(`&lt;div id=&quot;html_3d7a564a302d8857ba3fe250ecf973c5&quot; style=&quot;width: 100.0%; height: 100.0%;&quot;&gt;North Macedonia&lt;/div&gt;`)[0];\n",
       "                popup_1a2a88e5e3d616069487ff4180785821.setContent(html_3d7a564a302d8857ba3fe250ecf973c5);\n",
       "            \n",
       "        \n",
       "\n",
       "        circle_marker_da252e55573e3396149d9d490d896e6c.bindPopup(popup_1a2a88e5e3d616069487ff4180785821)\n",
       "        ;\n",
       "\n",
       "        \n",
       "    \n",
       "    \n",
       "            var circle_marker_2b42c86d2877fa26bf4d58216f1d6271 = L.circleMarker(\n",
       "                [18.0, -2.0],\n",
       "                {&quot;bubblingMouseEvents&quot;: true, &quot;color&quot;: &quot;blue&quot;, &quot;dashArray&quot;: null, &quot;dashOffset&quot;: null, &quot;fill&quot;: true, &quot;fillColor&quot;: &quot;blue&quot;, &quot;fillOpacity&quot;: 0.2, &quot;fillRule&quot;: &quot;evenodd&quot;, &quot;lineCap&quot;: &quot;round&quot;, &quot;lineJoin&quot;: &quot;round&quot;, &quot;opacity&quot;: 1.0, &quot;radius&quot;: 16.027220001199698, &quot;stroke&quot;: true, &quot;weight&quot;: 3}\n",
       "            ).addTo(map_21327b43d24416f7d4f2ff4056fa7e63);\n",
       "        \n",
       "    \n",
       "        var popup_ef3241b3185f159e8f6fba44b3885e22 = L.popup({&quot;maxWidth&quot;: &quot;100%&quot;});\n",
       "\n",
       "        \n",
       "            \n",
       "                var html_96cddc5bb233574114e7b99b8de19584 = $(`&lt;div id=&quot;html_96cddc5bb233574114e7b99b8de19584&quot; style=&quot;width: 100.0%; height: 100.0%;&quot;&gt;Mali&lt;/div&gt;`)[0];\n",
       "                popup_ef3241b3185f159e8f6fba44b3885e22.setContent(html_96cddc5bb233574114e7b99b8de19584);\n",
       "            \n",
       "        \n",
       "\n",
       "        circle_marker_2b42c86d2877fa26bf4d58216f1d6271.bindPopup(popup_ef3241b3185f159e8f6fba44b3885e22)\n",
       "        ;\n",
       "\n",
       "        \n",
       "    \n",
       "    \n",
       "            var circle_marker_c8b928b59d203311967724a006477e05 = L.circleMarker(\n",
       "                [42.75, 19.25],\n",
       "                {&quot;bubblingMouseEvents&quot;: true, &quot;color&quot;: &quot;black&quot;, &quot;dashArray&quot;: null, &quot;dashOffset&quot;: null, &quot;fill&quot;: true, &quot;fillColor&quot;: &quot;black&quot;, &quot;fillOpacity&quot;: 0.2, &quot;fillRule&quot;: &quot;evenodd&quot;, &quot;lineCap&quot;: &quot;round&quot;, &quot;lineJoin&quot;: &quot;round&quot;, &quot;opacity&quot;: 1.0, &quot;radius&quot;: 0.20552304468499152, &quot;stroke&quot;: true, &quot;weight&quot;: 3}\n",
       "            ).addTo(map_21327b43d24416f7d4f2ff4056fa7e63);\n",
       "        \n",
       "    \n",
       "        var popup_e9ca4d8981ccc359008e44612b499306 = L.popup({&quot;maxWidth&quot;: &quot;100%&quot;});\n",
       "\n",
       "        \n",
       "            \n",
       "                var html_c9db909b16e28c0321c7e18df8a27376 = $(`&lt;div id=&quot;html_c9db909b16e28c0321c7e18df8a27376&quot; style=&quot;width: 100.0%; height: 100.0%;&quot;&gt;Montenegro&lt;/div&gt;`)[0];\n",
       "                popup_e9ca4d8981ccc359008e44612b499306.setContent(html_c9db909b16e28c0321c7e18df8a27376);\n",
       "            \n",
       "        \n",
       "\n",
       "        circle_marker_c8b928b59d203311967724a006477e05.bindPopup(popup_e9ca4d8981ccc359008e44612b499306)\n",
       "        ;\n",
       "\n",
       "        \n",
       "    \n",
       "    \n",
       "            var circle_marker_98857509730b901bd7fc24ad5044d104 = L.circleMarker(\n",
       "                [-18.25, 35.0],\n",
       "                {&quot;bubblingMouseEvents&quot;: true, &quot;color&quot;: &quot;blue&quot;, &quot;dashArray&quot;: null, &quot;dashOffset&quot;: null, &quot;fill&quot;: true, &quot;fillColor&quot;: &quot;blue&quot;, &quot;fillOpacity&quot;: 0.2, &quot;fillRule&quot;: &quot;evenodd&quot;, &quot;lineCap&quot;: &quot;round&quot;, &quot;lineJoin&quot;: &quot;round&quot;, &quot;opacity&quot;: 1.0, &quot;radius&quot;: 21.082003552705647, &quot;stroke&quot;: true, &quot;weight&quot;: 3}\n",
       "            ).addTo(map_21327b43d24416f7d4f2ff4056fa7e63);\n",
       "        \n",
       "    \n",
       "        var popup_3922e2207a57eb3f9a51a1b478f5ed3e = L.popup({&quot;maxWidth&quot;: &quot;100%&quot;});\n",
       "\n",
       "        \n",
       "            \n",
       "                var html_068536db9c3e5535e3f63e0b9593b6d3 = $(`&lt;div id=&quot;html_068536db9c3e5535e3f63e0b9593b6d3&quot; style=&quot;width: 100.0%; height: 100.0%;&quot;&gt;Mozambique&lt;/div&gt;`)[0];\n",
       "                popup_3922e2207a57eb3f9a51a1b478f5ed3e.setContent(html_068536db9c3e5535e3f63e0b9593b6d3);\n",
       "            \n",
       "        \n",
       "\n",
       "        circle_marker_98857509730b901bd7fc24ad5044d104.bindPopup(popup_3922e2207a57eb3f9a51a1b478f5ed3e)\n",
       "        ;\n",
       "\n",
       "        \n",
       "    \n",
       "    \n",
       "            var circle_marker_349c4f2bc03352f376506bb6b9dba035 = L.circleMarker(\n",
       "                [20.25, -10.5],\n",
       "                {&quot;bubblingMouseEvents&quot;: true, &quot;color&quot;: &quot;blue&quot;, &quot;dashArray&quot;: null, &quot;dashOffset&quot;: null, &quot;fill&quot;: true, &quot;fillColor&quot;: &quot;blue&quot;, &quot;fillOpacity&quot;: 0.2, &quot;fillRule&quot;: &quot;evenodd&quot;, &quot;lineCap&quot;: &quot;round&quot;, &quot;lineJoin&quot;: &quot;round&quot;, &quot;opacity&quot;: 1.0, &quot;radius&quot;: 5.028898085094589, &quot;stroke&quot;: true, &quot;weight&quot;: 3}\n",
       "            ).addTo(map_21327b43d24416f7d4f2ff4056fa7e63);\n",
       "        \n",
       "    \n",
       "        var popup_72948eae1bccdf240d6573604ad35114 = L.popup({&quot;maxWidth&quot;: &quot;100%&quot;});\n",
       "\n",
       "        \n",
       "            \n",
       "                var html_c0737e093c0563794aee1ccff142708b = $(`&lt;div id=&quot;html_c0737e093c0563794aee1ccff142708b&quot; style=&quot;width: 100.0%; height: 100.0%;&quot;&gt;Mauritania&lt;/div&gt;`)[0];\n",
       "                popup_72948eae1bccdf240d6573604ad35114.setContent(html_c0737e093c0563794aee1ccff142708b);\n",
       "            \n",
       "        \n",
       "\n",
       "        circle_marker_349c4f2bc03352f376506bb6b9dba035.bindPopup(popup_72948eae1bccdf240d6573604ad35114)\n",
       "        ;\n",
       "\n",
       "        \n",
       "    \n",
       "    \n",
       "            var circle_marker_c180fdac2c1332ab7606c5a040fd0d4a = L.circleMarker(\n",
       "                [-13.5, 34.0],\n",
       "                {&quot;bubblingMouseEvents&quot;: true, &quot;color&quot;: &quot;blue&quot;, &quot;dashArray&quot;: null, &quot;dashOffset&quot;: null, &quot;fill&quot;: true, &quot;fillColor&quot;: &quot;blue&quot;, &quot;fillOpacity&quot;: 0.2, &quot;fillRule&quot;: &quot;evenodd&quot;, &quot;lineCap&quot;: &quot;round&quot;, &quot;lineJoin&quot;: &quot;round&quot;, &quot;opacity&quot;: 1.0, &quot;radius&quot;: 18.4540677653082, &quot;stroke&quot;: true, &quot;weight&quot;: 3}\n",
       "            ).addTo(map_21327b43d24416f7d4f2ff4056fa7e63);\n",
       "        \n",
       "    \n",
       "        var popup_5590c5e641fca85be51fdc383a0c828e = L.popup({&quot;maxWidth&quot;: &quot;100%&quot;});\n",
       "\n",
       "        \n",
       "            \n",
       "                var html_94a95835fa90bb15fed091e505f77889 = $(`&lt;div id=&quot;html_94a95835fa90bb15fed091e505f77889&quot; style=&quot;width: 100.0%; height: 100.0%;&quot;&gt;Malawi&lt;/div&gt;`)[0];\n",
       "                popup_5590c5e641fca85be51fdc383a0c828e.setContent(html_94a95835fa90bb15fed091e505f77889);\n",
       "            \n",
       "        \n",
       "\n",
       "        circle_marker_c180fdac2c1332ab7606c5a040fd0d4a.bindPopup(popup_5590c5e641fca85be51fdc383a0c828e)\n",
       "        ;\n",
       "\n",
       "        \n",
       "    \n",
       "    \n",
       "            var circle_marker_1c6f21edcff36388acc8576e9c5feda6 = L.circleMarker(\n",
       "                [2.5, 112.5],\n",
       "                {&quot;bubblingMouseEvents&quot;: true, &quot;color&quot;: &quot;red&quot;, &quot;dashArray&quot;: null, &quot;dashOffset&quot;: null, &quot;fill&quot;: true, &quot;fillColor&quot;: &quot;red&quot;, &quot;fillOpacity&quot;: 0.2, &quot;fillRule&quot;: &quot;evenodd&quot;, &quot;lineCap&quot;: &quot;round&quot;, &quot;lineJoin&quot;: &quot;round&quot;, &quot;opacity&quot;: 1.0, &quot;stroke&quot;: true, &quot;weight&quot;: 3}\n",
       "            ).addTo(map_21327b43d24416f7d4f2ff4056fa7e63);\n",
       "        \n",
       "    \n",
       "        var popup_4b7d408e19bf449a17077e9ad3836300 = L.popup({&quot;maxWidth&quot;: &quot;100%&quot;});\n",
       "\n",
       "        \n",
       "            \n",
       "                var html_d9c052e9ef9009f8aee96bacbb64e2af = $(`&lt;div id=&quot;html_d9c052e9ef9009f8aee96bacbb64e2af&quot; style=&quot;width: 100.0%; height: 100.0%;&quot;&gt;Malaysia&lt;/div&gt;`)[0];\n",
       "                popup_4b7d408e19bf449a17077e9ad3836300.setContent(html_d9c052e9ef9009f8aee96bacbb64e2af);\n",
       "            \n",
       "        \n",
       "\n",
       "        circle_marker_1c6f21edcff36388acc8576e9c5feda6.bindPopup(popup_4b7d408e19bf449a17077e9ad3836300)\n",
       "        ;\n",
       "\n",
       "        \n",
       "    \n",
       "    \n",
       "            var circle_marker_76d3c261a55a545f6e4184629977dbb9 = L.circleMarker(\n",
       "                [-22.0, 17.0],\n",
       "                {&quot;bubblingMouseEvents&quot;: true, &quot;color&quot;: &quot;blue&quot;, &quot;dashArray&quot;: null, &quot;dashOffset&quot;: null, &quot;fill&quot;: true, &quot;fillColor&quot;: &quot;blue&quot;, &quot;fillOpacity&quot;: 0.2, &quot;fillRule&quot;: &quot;evenodd&quot;, &quot;lineCap&quot;: &quot;round&quot;, &quot;lineJoin&quot;: &quot;round&quot;, &quot;opacity&quot;: 1.0, &quot;radius&quot;: 3.976035776664738, &quot;stroke&quot;: true, &quot;weight&quot;: 3}\n",
       "            ).addTo(map_21327b43d24416f7d4f2ff4056fa7e63);\n",
       "        \n",
       "    \n",
       "        var popup_242d78d403cd5da62bf52255129556de = L.popup({&quot;maxWidth&quot;: &quot;100%&quot;});\n",
       "\n",
       "        \n",
       "            \n",
       "                var html_13d0230748bf52e75474dc791cfb2630 = $(`&lt;div id=&quot;html_13d0230748bf52e75474dc791cfb2630&quot; style=&quot;width: 100.0%; height: 100.0%;&quot;&gt;Namibia&lt;/div&gt;`)[0];\n",
       "                popup_242d78d403cd5da62bf52255129556de.setContent(html_13d0230748bf52e75474dc791cfb2630);\n",
       "            \n",
       "        \n",
       "\n",
       "        circle_marker_76d3c261a55a545f6e4184629977dbb9.bindPopup(popup_242d78d403cd5da62bf52255129556de)\n",
       "        ;\n",
       "\n",
       "        \n",
       "    \n",
       "    \n",
       "            var circle_marker_09e05617c1ae0b4efc7a936698f01747 = L.circleMarker(\n",
       "                [18.0, 9.0],\n",
       "                {&quot;bubblingMouseEvents&quot;: true, &quot;color&quot;: &quot;blue&quot;, &quot;dashArray&quot;: null, &quot;dashOffset&quot;: null, &quot;fill&quot;: true, &quot;fillColor&quot;: &quot;blue&quot;, &quot;fillOpacity&quot;: 0.2, &quot;fillRule&quot;: &quot;evenodd&quot;, &quot;lineCap&quot;: &quot;round&quot;, &quot;lineJoin&quot;: &quot;round&quot;, &quot;opacity&quot;: 1.0, &quot;radius&quot;: 14.661961946251004, &quot;stroke&quot;: true, &quot;weight&quot;: 3}\n",
       "            ).addTo(map_21327b43d24416f7d4f2ff4056fa7e63);\n",
       "        \n",
       "    \n",
       "        var popup_a54b1b4537b05506f0ed292495a5a218 = L.popup({&quot;maxWidth&quot;: &quot;100%&quot;});\n",
       "\n",
       "        \n",
       "            \n",
       "                var html_71b6c38706a9d9952704ef017eba9581 = $(`&lt;div id=&quot;html_71b6c38706a9d9952704ef017eba9581&quot; style=&quot;width: 100.0%; height: 100.0%;&quot;&gt;Niger&lt;/div&gt;`)[0];\n",
       "                popup_a54b1b4537b05506f0ed292495a5a218.setContent(html_71b6c38706a9d9952704ef017eba9581);\n",
       "            \n",
       "        \n",
       "\n",
       "        circle_marker_09e05617c1ae0b4efc7a936698f01747.bindPopup(popup_a54b1b4537b05506f0ed292495a5a218)\n",
       "        ;\n",
       "\n",
       "        \n",
       "    \n",
       "    \n",
       "            var circle_marker_2bd93af32bd3bfbef51b641b54573110 = L.circleMarker(\n",
       "                [10.0, 8.0],\n",
       "                {&quot;bubblingMouseEvents&quot;: true, &quot;color&quot;: &quot;blue&quot;, &quot;dashArray&quot;: null, &quot;dashOffset&quot;: null, &quot;fill&quot;: true, &quot;fillColor&quot;: &quot;blue&quot;, &quot;fillOpacity&quot;: 0.2, &quot;fillRule&quot;: &quot;evenodd&quot;, &quot;lineCap&quot;: &quot;round&quot;, &quot;lineJoin&quot;: &quot;round&quot;, &quot;opacity&quot;: 1.0, &quot;radius&quot;: 57.36134723958271, &quot;stroke&quot;: true, &quot;weight&quot;: 3}\n",
       "            ).addTo(map_21327b43d24416f7d4f2ff4056fa7e63);\n",
       "        \n",
       "    \n",
       "        var popup_69244097a5e601c90869b562504244f9 = L.popup({&quot;maxWidth&quot;: &quot;100%&quot;});\n",
       "\n",
       "        \n",
       "            \n",
       "                var html_d0112b0379cc6ca09eb66855e4b95856 = $(`&lt;div id=&quot;html_d0112b0379cc6ca09eb66855e4b95856&quot; style=&quot;width: 100.0%; height: 100.0%;&quot;&gt;Nigeria&lt;/div&gt;`)[0];\n",
       "                popup_69244097a5e601c90869b562504244f9.setContent(html_d0112b0379cc6ca09eb66855e4b95856);\n",
       "            \n",
       "        \n",
       "\n",
       "        circle_marker_2bd93af32bd3bfbef51b641b54573110.bindPopup(popup_69244097a5e601c90869b562504244f9)\n",
       "        ;\n",
       "\n",
       "        \n",
       "    \n",
       "    \n",
       "            var circle_marker_8c7d4b187d58f2a62e7c5c1fc7193337 = L.circleMarker(\n",
       "                [13.0, -85.0],\n",
       "                {&quot;bubblingMouseEvents&quot;: true, &quot;color&quot;: &quot;green&quot;, &quot;dashArray&quot;: null, &quot;dashOffset&quot;: null, &quot;fill&quot;: true, &quot;fillColor&quot;: &quot;green&quot;, &quot;fillOpacity&quot;: 0.2, &quot;fillRule&quot;: &quot;evenodd&quot;, &quot;lineCap&quot;: &quot;round&quot;, &quot;lineJoin&quot;: &quot;round&quot;, &quot;opacity&quot;: 1.0, &quot;radius&quot;: 3.9492384254759982, &quot;stroke&quot;: true, &quot;weight&quot;: 3}\n",
       "            ).addTo(map_21327b43d24416f7d4f2ff4056fa7e63);\n",
       "        \n",
       "    \n",
       "        var popup_6e16a727a13bf74d6816f7494479db48 = L.popup({&quot;maxWidth&quot;: &quot;100%&quot;});\n",
       "\n",
       "        \n",
       "            \n",
       "                var html_cb283c98fae4e629fa621b3f7cc77b8c = $(`&lt;div id=&quot;html_cb283c98fae4e629fa621b3f7cc77b8c&quot; style=&quot;width: 100.0%; height: 100.0%;&quot;&gt;Nicaragua&lt;/div&gt;`)[0];\n",
       "                popup_6e16a727a13bf74d6816f7494479db48.setContent(html_cb283c98fae4e629fa621b3f7cc77b8c);\n",
       "            \n",
       "        \n",
       "\n",
       "        circle_marker_8c7d4b187d58f2a62e7c5c1fc7193337.bindPopup(popup_6e16a727a13bf74d6816f7494479db48)\n",
       "        ;\n",
       "\n",
       "        \n",
       "    \n",
       "    \n",
       "            var circle_marker_32fa062edbe2905687914226a633bd5f = L.circleMarker(\n",
       "                [52.25, 5.75],\n",
       "                {&quot;bubblingMouseEvents&quot;: true, &quot;color&quot;: &quot;black&quot;, &quot;dashArray&quot;: null, &quot;dashOffset&quot;: null, &quot;fill&quot;: true, &quot;fillColor&quot;: &quot;black&quot;, &quot;fillOpacity&quot;: 0.2, &quot;fillRule&quot;: &quot;evenodd&quot;, &quot;lineCap&quot;: &quot;round&quot;, &quot;lineJoin&quot;: &quot;round&quot;, &quot;opacity&quot;: 1.0, &quot;radius&quot;: 1.3669115556283198, &quot;stroke&quot;: true, &quot;weight&quot;: 3}\n",
       "            ).addTo(map_21327b43d24416f7d4f2ff4056fa7e63);\n",
       "        \n",
       "    \n",
       "        var popup_c74437a041f3801e820b366062ece221 = L.popup({&quot;maxWidth&quot;: &quot;100%&quot;});\n",
       "\n",
       "        \n",
       "            \n",
       "                var html_b1f0b64f40e56b22e15951219ca82d1c = $(`&lt;div id=&quot;html_b1f0b64f40e56b22e15951219ca82d1c&quot; style=&quot;width: 100.0%; height: 100.0%;&quot;&gt;Netherlands&lt;/div&gt;`)[0];\n",
       "                popup_c74437a041f3801e820b366062ece221.setContent(html_b1f0b64f40e56b22e15951219ca82d1c);\n",
       "            \n",
       "        \n",
       "\n",
       "        circle_marker_32fa062edbe2905687914226a633bd5f.bindPopup(popup_c74437a041f3801e820b366062ece221)\n",
       "        ;\n",
       "\n",
       "        \n",
       "    \n",
       "    \n",
       "            var circle_marker_8de6f443fbbd389f1fb77728301499ff = L.circleMarker(\n",
       "                [62.0, 10.0],\n",
       "                {&quot;bubblingMouseEvents&quot;: true, &quot;color&quot;: &quot;black&quot;, &quot;dashArray&quot;: null, &quot;dashOffset&quot;: null, &quot;fill&quot;: true, &quot;fillColor&quot;: &quot;black&quot;, &quot;fillOpacity&quot;: 0.2, &quot;fillRule&quot;: &quot;evenodd&quot;, &quot;lineCap&quot;: &quot;round&quot;, &quot;lineJoin&quot;: &quot;round&quot;, &quot;opacity&quot;: 1.0, &quot;radius&quot;: 1.0211208029279608, &quot;stroke&quot;: true, &quot;weight&quot;: 3}\n",
       "            ).addTo(map_21327b43d24416f7d4f2ff4056fa7e63);\n",
       "        \n",
       "    \n",
       "        var popup_704ac5b0f70db69320e01ceeeb563cbf = L.popup({&quot;maxWidth&quot;: &quot;100%&quot;});\n",
       "\n",
       "        \n",
       "            \n",
       "                var html_3e9b40914f3085ecb65eee1ca1bc272e = $(`&lt;div id=&quot;html_3e9b40914f3085ecb65eee1ca1bc272e&quot; style=&quot;width: 100.0%; height: 100.0%;&quot;&gt;Norway&lt;/div&gt;`)[0];\n",
       "                popup_704ac5b0f70db69320e01ceeeb563cbf.setContent(html_3e9b40914f3085ecb65eee1ca1bc272e);\n",
       "            \n",
       "        \n",
       "\n",
       "        circle_marker_8de6f443fbbd389f1fb77728301499ff.bindPopup(popup_704ac5b0f70db69320e01ceeeb563cbf)\n",
       "        ;\n",
       "\n",
       "        \n",
       "    \n",
       "    \n",
       "            var circle_marker_87d2c888a720e5fac50c725da0673914 = L.circleMarker(\n",
       "                [28.0, 84.0],\n",
       "                {&quot;bubblingMouseEvents&quot;: true, &quot;color&quot;: &quot;red&quot;, &quot;dashArray&quot;: null, &quot;dashOffset&quot;: null, &quot;fill&quot;: true, &quot;fillColor&quot;: &quot;red&quot;, &quot;fillOpacity&quot;: 0.2, &quot;fillRule&quot;: &quot;evenodd&quot;, &quot;lineCap&quot;: &quot;round&quot;, &quot;lineJoin&quot;: &quot;round&quot;, &quot;opacity&quot;: 1.0, &quot;radius&quot;: 14.374083576741077, &quot;stroke&quot;: true, &quot;weight&quot;: 3}\n",
       "            ).addTo(map_21327b43d24416f7d4f2ff4056fa7e63);\n",
       "        \n",
       "    \n",
       "        var popup_566aa1b0323bcb6dace06350069bd58b = L.popup({&quot;maxWidth&quot;: &quot;100%&quot;});\n",
       "\n",
       "        \n",
       "            \n",
       "                var html_13c5a08dc05c295180c1d34c0a4b195e = $(`&lt;div id=&quot;html_13c5a08dc05c295180c1d34c0a4b195e&quot; style=&quot;width: 100.0%; height: 100.0%;&quot;&gt;Nepal&lt;/div&gt;`)[0];\n",
       "                popup_566aa1b0323bcb6dace06350069bd58b.setContent(html_13c5a08dc05c295180c1d34c0a4b195e);\n",
       "            \n",
       "        \n",
       "\n",
       "        circle_marker_87d2c888a720e5fac50c725da0673914.bindPopup(popup_566aa1b0323bcb6dace06350069bd58b)\n",
       "        ;\n",
       "\n",
       "        \n",
       "    \n",
       "    \n",
       "            var circle_marker_7faf91263b598e6ef6566a44a994b8ea = L.circleMarker(\n",
       "                [30.0, 70.0],\n",
       "                {&quot;bubblingMouseEvents&quot;: true, &quot;color&quot;: &quot;red&quot;, &quot;dashArray&quot;: null, &quot;dashOffset&quot;: null, &quot;fill&quot;: true, &quot;fillColor&quot;: &quot;red&quot;, &quot;fillOpacity&quot;: 0.2, &quot;fillRule&quot;: &quot;evenodd&quot;, &quot;lineCap&quot;: &quot;round&quot;, &quot;lineJoin&quot;: &quot;round&quot;, &quot;opacity&quot;: 1.0, &quot;radius&quot;: 28.424773258632865, &quot;stroke&quot;: true, &quot;weight&quot;: 3}\n",
       "            ).addTo(map_21327b43d24416f7d4f2ff4056fa7e63);\n",
       "        \n",
       "    \n",
       "        var popup_f8b64c499231192056b85cb0da369340 = L.popup({&quot;maxWidth&quot;: &quot;100%&quot;});\n",
       "\n",
       "        \n",
       "            \n",
       "                var html_04fc2a4a607c97478d4a805656fba2c3 = $(`&lt;div id=&quot;html_04fc2a4a607c97478d4a805656fba2c3&quot; style=&quot;width: 100.0%; height: 100.0%;&quot;&gt;Pakistan&lt;/div&gt;`)[0];\n",
       "                popup_f8b64c499231192056b85cb0da369340.setContent(html_04fc2a4a607c97478d4a805656fba2c3);\n",
       "            \n",
       "        \n",
       "\n",
       "        circle_marker_7faf91263b598e6ef6566a44a994b8ea.bindPopup(popup_f8b64c499231192056b85cb0da369340)\n",
       "        ;\n",
       "\n",
       "        \n",
       "    \n",
       "    \n",
       "            var circle_marker_2d506861c928636a023268b669d2d32f = L.circleMarker(\n",
       "                [8.9936, -79.51973],\n",
       "                {&quot;bubblingMouseEvents&quot;: true, &quot;color&quot;: &quot;green&quot;, &quot;dashArray&quot;: null, &quot;dashOffset&quot;: null, &quot;fill&quot;: true, &quot;fillColor&quot;: &quot;green&quot;, &quot;fillOpacity&quot;: 0.2, &quot;fillRule&quot;: &quot;evenodd&quot;, &quot;lineCap&quot;: &quot;round&quot;, &quot;lineJoin&quot;: &quot;round&quot;, &quot;opacity&quot;: 1.0, &quot;radius&quot;: 2.146732098139007, &quot;stroke&quot;: true, &quot;weight&quot;: 3}\n",
       "            ).addTo(map_21327b43d24416f7d4f2ff4056fa7e63);\n",
       "        \n",
       "    \n",
       "        var popup_aa32b18196472c4fa2313a289410ca52 = L.popup({&quot;maxWidth&quot;: &quot;100%&quot;});\n",
       "\n",
       "        \n",
       "            \n",
       "                var html_4990227407f20620915c60d7b798d9b0 = $(`&lt;div id=&quot;html_4990227407f20620915c60d7b798d9b0&quot; style=&quot;width: 100.0%; height: 100.0%;&quot;&gt;Panama&lt;/div&gt;`)[0];\n",
       "                popup_aa32b18196472c4fa2313a289410ca52.setContent(html_4990227407f20620915c60d7b798d9b0);\n",
       "            \n",
       "        \n",
       "\n",
       "        circle_marker_2d506861c928636a023268b669d2d32f.bindPopup(popup_aa32b18196472c4fa2313a289410ca52)\n",
       "        ;\n",
       "\n",
       "        \n",
       "    \n",
       "    \n",
       "            var circle_marker_cc0fa8fc86f790a2a271843e23d508c2 = L.circleMarker(\n",
       "                [-10.0, -75.25],\n",
       "                {&quot;bubblingMouseEvents&quot;: true, &quot;color&quot;: &quot;green&quot;, &quot;dashArray&quot;: null, &quot;dashOffset&quot;: null, &quot;fill&quot;: true, &quot;fillColor&quot;: &quot;green&quot;, &quot;fillOpacity&quot;: 0.2, &quot;fillRule&quot;: &quot;evenodd&quot;, &quot;lineCap&quot;: &quot;round&quot;, &quot;lineJoin&quot;: &quot;round&quot;, &quot;opacity&quot;: 1.0, &quot;radius&quot;: 5.1726862845883845, &quot;stroke&quot;: true, &quot;weight&quot;: 3}\n",
       "            ).addTo(map_21327b43d24416f7d4f2ff4056fa7e63);\n",
       "        \n",
       "    \n",
       "        var popup_c75e80e01f3e3de73abae4a73ac9b0f5 = L.popup({&quot;maxWidth&quot;: &quot;100%&quot;});\n",
       "\n",
       "        \n",
       "            \n",
       "                var html_433e6de6e4357677aa84211b280bdc9f = $(`&lt;div id=&quot;html_433e6de6e4357677aa84211b280bdc9f&quot; style=&quot;width: 100.0%; height: 100.0%;&quot;&gt;Peru&lt;/div&gt;`)[0];\n",
       "                popup_c75e80e01f3e3de73abae4a73ac9b0f5.setContent(html_433e6de6e4357677aa84211b280bdc9f);\n",
       "            \n",
       "        \n",
       "\n",
       "        circle_marker_cc0fa8fc86f790a2a271843e23d508c2.bindPopup(popup_c75e80e01f3e3de73abae4a73ac9b0f5)\n",
       "        ;\n",
       "\n",
       "        \n",
       "    \n",
       "    \n",
       "            var circle_marker_1731e5d82674abd7d38d74c1075df37b = L.circleMarker(\n",
       "                [13.0, 122.0],\n",
       "                {&quot;bubblingMouseEvents&quot;: true, &quot;color&quot;: &quot;red&quot;, &quot;dashArray&quot;: null, &quot;dashOffset&quot;: null, &quot;fill&quot;: true, &quot;fillColor&quot;: &quot;red&quot;, &quot;fillOpacity&quot;: 0.2, &quot;fillRule&quot;: &quot;evenodd&quot;, &quot;lineCap&quot;: &quot;round&quot;, &quot;lineJoin&quot;: &quot;round&quot;, &quot;opacity&quot;: 1.0, &quot;radius&quot;: 24.11243511961798, &quot;stroke&quot;: true, &quot;weight&quot;: 3}\n",
       "            ).addTo(map_21327b43d24416f7d4f2ff4056fa7e63);\n",
       "        \n",
       "    \n",
       "        var popup_6d1bea369270f1be7b74d165cee5b66c = L.popup({&quot;maxWidth&quot;: &quot;100%&quot;});\n",
       "\n",
       "        \n",
       "            \n",
       "                var html_547288f10c474386466b9f7b1122ce67 = $(`&lt;div id=&quot;html_547288f10c474386466b9f7b1122ce67&quot; style=&quot;width: 100.0%; height: 100.0%;&quot;&gt;Philippines&lt;/div&gt;`)[0];\n",
       "                popup_6d1bea369270f1be7b74d165cee5b66c.setContent(html_547288f10c474386466b9f7b1122ce67);\n",
       "            \n",
       "        \n",
       "\n",
       "        circle_marker_1731e5d82674abd7d38d74c1075df37b.bindPopup(popup_6d1bea369270f1be7b74d165cee5b66c)\n",
       "        ;\n",
       "\n",
       "        \n",
       "    \n",
       "    \n",
       "            var circle_marker_c246c299a198b9626133fa66c012d0e2 = L.circleMarker(\n",
       "                [-6.0, 147.0],\n",
       "                {&quot;bubblingMouseEvents&quot;: true, &quot;color&quot;: &quot;red&quot;, &quot;dashArray&quot;: null, &quot;dashOffset&quot;: null, &quot;fill&quot;: true, &quot;fillColor&quot;: &quot;red&quot;, &quot;fillOpacity&quot;: 0.2, &quot;fillRule&quot;: &quot;evenodd&quot;, &quot;lineCap&quot;: &quot;round&quot;, &quot;lineJoin&quot;: &quot;round&quot;, &quot;opacity&quot;: 1.0, &quot;radius&quot;: 9.325420659840452, &quot;stroke&quot;: true, &quot;weight&quot;: 3}\n",
       "            ).addTo(map_21327b43d24416f7d4f2ff4056fa7e63);\n",
       "        \n",
       "    \n",
       "        var popup_154914c1aecb9faeeef95c3429e36bf9 = L.popup({&quot;maxWidth&quot;: &quot;100%&quot;});\n",
       "\n",
       "        \n",
       "            \n",
       "                var html_ade28a4c8b2fd0bc7772168c0c089a92 = $(`&lt;div id=&quot;html_ade28a4c8b2fd0bc7772168c0c089a92&quot; style=&quot;width: 100.0%; height: 100.0%;&quot;&gt;Papua New Guinea&lt;/div&gt;`)[0];\n",
       "                popup_154914c1aecb9faeeef95c3429e36bf9.setContent(html_ade28a4c8b2fd0bc7772168c0c089a92);\n",
       "            \n",
       "        \n",
       "\n",
       "        circle_marker_c246c299a198b9626133fa66c012d0e2.bindPopup(popup_154914c1aecb9faeeef95c3429e36bf9)\n",
       "        ;\n",
       "\n",
       "        \n",
       "    \n",
       "    \n",
       "            var circle_marker_1b9911bcd13cd5cdc366e392e794584b = L.circleMarker(\n",
       "                [52.0, 20.0],\n",
       "                {&quot;bubblingMouseEvents&quot;: true, &quot;color&quot;: &quot;black&quot;, &quot;dashArray&quot;: null, &quot;dashOffset&quot;: null, &quot;fill&quot;: true, &quot;fillColor&quot;: &quot;black&quot;, &quot;fillOpacity&quot;: 0.2, &quot;fillRule&quot;: &quot;evenodd&quot;, &quot;lineCap&quot;: &quot;round&quot;, &quot;lineJoin&quot;: &quot;round&quot;, &quot;opacity&quot;: 1.0, &quot;stroke&quot;: true, &quot;weight&quot;: 3}\n",
       "            ).addTo(map_21327b43d24416f7d4f2ff4056fa7e63);\n",
       "        \n",
       "    \n",
       "        var popup_092643b35f212b1c40705bcec87eb0b5 = L.popup({&quot;maxWidth&quot;: &quot;100%&quot;});\n",
       "\n",
       "        \n",
       "            \n",
       "                var html_77eae9a59ef715dc882a4f1ad7a25f13 = $(`&lt;div id=&quot;html_77eae9a59ef715dc882a4f1ad7a25f13&quot; style=&quot;width: 100.0%; height: 100.0%;&quot;&gt;Poland&lt;/div&gt;`)[0];\n",
       "                popup_092643b35f212b1c40705bcec87eb0b5.setContent(html_77eae9a59ef715dc882a4f1ad7a25f13);\n",
       "            \n",
       "        \n",
       "\n",
       "        circle_marker_1b9911bcd13cd5cdc366e392e794584b.bindPopup(popup_092643b35f212b1c40705bcec87eb0b5)\n",
       "        ;\n",
       "\n",
       "        \n",
       "    \n",
       "    \n",
       "            var circle_marker_caca8425c511a9c9b5de0f7f9a56bd9b = L.circleMarker(\n",
       "                [-23.33333, -58.0],\n",
       "                {&quot;bubblingMouseEvents&quot;: true, &quot;color&quot;: &quot;green&quot;, &quot;dashArray&quot;: null, &quot;dashOffset&quot;: null, &quot;fill&quot;: true, &quot;fillColor&quot;: &quot;green&quot;, &quot;fillOpacity&quot;: 0.2, &quot;fillRule&quot;: &quot;evenodd&quot;, &quot;lineCap&quot;: &quot;round&quot;, &quot;lineJoin&quot;: &quot;round&quot;, &quot;opacity&quot;: 1.0, &quot;radius&quot;: 2.3524811396013368, &quot;stroke&quot;: true, &quot;weight&quot;: 3}\n",
       "            ).addTo(map_21327b43d24416f7d4f2ff4056fa7e63);\n",
       "        \n",
       "    \n",
       "        var popup_e42ea25a4e41ca133eedb721563eec79 = L.popup({&quot;maxWidth&quot;: &quot;100%&quot;});\n",
       "\n",
       "        \n",
       "            \n",
       "                var html_dd82e5ffa90e868ef8cd91adfaaec4be = $(`&lt;div id=&quot;html_dd82e5ffa90e868ef8cd91adfaaec4be&quot; style=&quot;width: 100.0%; height: 100.0%;&quot;&gt;Paraguay&lt;/div&gt;`)[0];\n",
       "                popup_e42ea25a4e41ca133eedb721563eec79.setContent(html_dd82e5ffa90e868ef8cd91adfaaec4be);\n",
       "            \n",
       "        \n",
       "\n",
       "        circle_marker_caca8425c511a9c9b5de0f7f9a56bd9b.bindPopup(popup_e42ea25a4e41ca133eedb721563eec79)\n",
       "        ;\n",
       "\n",
       "        \n",
       "    \n",
       "    \n",
       "            var circle_marker_5f8a9928c8cf8e8cea1a9f6e4ede8f8a = L.circleMarker(\n",
       "                [31.92157, 35.20329],\n",
       "                {&quot;bubblingMouseEvents&quot;: true, &quot;color&quot;: &quot;red&quot;, &quot;dashArray&quot;: null, &quot;dashOffset&quot;: null, &quot;fill&quot;: true, &quot;fillColor&quot;: &quot;red&quot;, &quot;fillOpacity&quot;: 0.2, &quot;fillRule&quot;: &quot;evenodd&quot;, &quot;lineCap&quot;: &quot;round&quot;, &quot;lineJoin&quot;: &quot;round&quot;, &quot;opacity&quot;: 1.0, &quot;radius&quot;: 0.3198512113772126, &quot;stroke&quot;: true, &quot;weight&quot;: 3}\n",
       "            ).addTo(map_21327b43d24416f7d4f2ff4056fa7e63);\n",
       "        \n",
       "    \n",
       "        var popup_67f1cf9e2a5a6464454d339e2eecd1e0 = L.popup({&quot;maxWidth&quot;: &quot;100%&quot;});\n",
       "\n",
       "        \n",
       "            \n",
       "                var html_7f612eb9ef3961002f6d864cd8a269ee = $(`&lt;div id=&quot;html_7f612eb9ef3961002f6d864cd8a269ee&quot; style=&quot;width: 100.0%; height: 100.0%;&quot;&gt;Palestine&lt;/div&gt;`)[0];\n",
       "                popup_67f1cf9e2a5a6464454d339e2eecd1e0.setContent(html_7f612eb9ef3961002f6d864cd8a269ee);\n",
       "            \n",
       "        \n",
       "\n",
       "        circle_marker_5f8a9928c8cf8e8cea1a9f6e4ede8f8a.bindPopup(popup_67f1cf9e2a5a6464454d339e2eecd1e0)\n",
       "        ;\n",
       "\n",
       "        \n",
       "    \n",
       "    \n",
       "            var circle_marker_033f4b802736802033d537d9597802c9 = L.circleMarker(\n",
       "                [46.0, 25.0],\n",
       "                {&quot;bubblingMouseEvents&quot;: true, &quot;color&quot;: &quot;black&quot;, &quot;dashArray&quot;: null, &quot;dashOffset&quot;: null, &quot;fill&quot;: true, &quot;fillColor&quot;: &quot;black&quot;, &quot;fillOpacity&quot;: 0.2, &quot;fillRule&quot;: &quot;evenodd&quot;, &quot;lineCap&quot;: &quot;round&quot;, &quot;lineJoin&quot;: &quot;round&quot;, &quot;opacity&quot;: 1.0, &quot;stroke&quot;: true, &quot;weight&quot;: 3}\n",
       "            ).addTo(map_21327b43d24416f7d4f2ff4056fa7e63);\n",
       "        \n",
       "    \n",
       "        var popup_3cc0691fdf7f8b8245d954a9e6b363b4 = L.popup({&quot;maxWidth&quot;: &quot;100%&quot;});\n",
       "\n",
       "        \n",
       "            \n",
       "                var html_5b3906140a6875af9336dfa6f7128523 = $(`&lt;div id=&quot;html_5b3906140a6875af9336dfa6f7128523&quot; style=&quot;width: 100.0%; height: 100.0%;&quot;&gt;Romania&lt;/div&gt;`)[0];\n",
       "                popup_3cc0691fdf7f8b8245d954a9e6b363b4.setContent(html_5b3906140a6875af9336dfa6f7128523);\n",
       "            \n",
       "        \n",
       "\n",
       "        circle_marker_033f4b802736802033d537d9597802c9.bindPopup(popup_3cc0691fdf7f8b8245d954a9e6b363b4)\n",
       "        ;\n",
       "\n",
       "        \n",
       "    \n",
       "    \n",
       "            var circle_marker_22a1de8d7cef0d81928a1c05f3aa069a = L.circleMarker(\n",
       "                [60.0, 100.0],\n",
       "                {&quot;bubblingMouseEvents&quot;: true, &quot;color&quot;: &quot;black&quot;, &quot;dashArray&quot;: null, &quot;dashOffset&quot;: null, &quot;fill&quot;: true, &quot;fillColor&quot;: &quot;black&quot;, &quot;fillOpacity&quot;: 0.2, &quot;fillRule&quot;: &quot;evenodd&quot;, &quot;lineCap&quot;: &quot;round&quot;, &quot;lineJoin&quot;: &quot;round&quot;, &quot;opacity&quot;: 1.0, &quot;radius&quot;: 1.1723745513024446, &quot;stroke&quot;: true, &quot;weight&quot;: 3}\n",
       "            ).addTo(map_21327b43d24416f7d4f2ff4056fa7e63);\n",
       "        \n",
       "    \n",
       "        var popup_0c222b08eed68ae417ba9b57d02e09c5 = L.popup({&quot;maxWidth&quot;: &quot;100%&quot;});\n",
       "\n",
       "        \n",
       "            \n",
       "                var html_6738545586458f764c8787e4c6bb3a80 = $(`&lt;div id=&quot;html_6738545586458f764c8787e4c6bb3a80&quot; style=&quot;width: 100.0%; height: 100.0%;&quot;&gt;Russia&lt;/div&gt;`)[0];\n",
       "                popup_0c222b08eed68ae417ba9b57d02e09c5.setContent(html_6738545586458f764c8787e4c6bb3a80);\n",
       "            \n",
       "        \n",
       "\n",
       "        circle_marker_22a1de8d7cef0d81928a1c05f3aa069a.bindPopup(popup_0c222b08eed68ae417ba9b57d02e09c5)\n",
       "        ;\n",
       "\n",
       "        \n",
       "    \n",
       "    \n",
       "            var circle_marker_1b262130eb18046bc47f23b0c48569d7 = L.circleMarker(\n",
       "                [-2.0, 30.0],\n",
       "                {&quot;bubblingMouseEvents&quot;: true, &quot;color&quot;: &quot;blue&quot;, &quot;dashArray&quot;: null, &quot;dashOffset&quot;: null, &quot;fill&quot;: true, &quot;fillColor&quot;: &quot;blue&quot;, &quot;fillOpacity&quot;: 0.2, &quot;fillRule&quot;: &quot;evenodd&quot;, &quot;lineCap&quot;: &quot;round&quot;, &quot;lineJoin&quot;: &quot;round&quot;, &quot;opacity&quot;: 1.0, &quot;radius&quot;: 14.386416210346209, &quot;stroke&quot;: true, &quot;weight&quot;: 3}\n",
       "            ).addTo(map_21327b43d24416f7d4f2ff4056fa7e63);\n",
       "        \n",
       "    \n",
       "        var popup_80c8562b030ad2cb0f1b84d13cfd179c = L.popup({&quot;maxWidth&quot;: &quot;100%&quot;});\n",
       "\n",
       "        \n",
       "            \n",
       "                var html_49f1c1e7605b5de9c260767e3a6ae699 = $(`&lt;div id=&quot;html_49f1c1e7605b5de9c260767e3a6ae699&quot; style=&quot;width: 100.0%; height: 100.0%;&quot;&gt;Rwanda&lt;/div&gt;`)[0];\n",
       "                popup_80c8562b030ad2cb0f1b84d13cfd179c.setContent(html_49f1c1e7605b5de9c260767e3a6ae699);\n",
       "            \n",
       "        \n",
       "\n",
       "        circle_marker_1b262130eb18046bc47f23b0c48569d7.bindPopup(popup_80c8562b030ad2cb0f1b84d13cfd179c)\n",
       "        ;\n",
       "\n",
       "        \n",
       "    \n",
       "    \n",
       "            var circle_marker_322c5f2d41cca37748db83c65ef0561d = L.circleMarker(\n",
       "                [16.0, 30.0],\n",
       "                {&quot;bubblingMouseEvents&quot;: true, &quot;color&quot;: &quot;blue&quot;, &quot;dashArray&quot;: null, &quot;dashOffset&quot;: null, &quot;fill&quot;: true, &quot;fillColor&quot;: &quot;blue&quot;, &quot;fillOpacity&quot;: 0.2, &quot;fillRule&quot;: &quot;evenodd&quot;, &quot;lineCap&quot;: &quot;round&quot;, &quot;lineJoin&quot;: &quot;round&quot;, &quot;opacity&quot;: 1.0, &quot;radius&quot;: 14.939896772484527, &quot;stroke&quot;: true, &quot;weight&quot;: 3}\n",
       "            ).addTo(map_21327b43d24416f7d4f2ff4056fa7e63);\n",
       "        \n",
       "    \n",
       "        var popup_dc9dc89263383436d23bcebad98a4ffd = L.popup({&quot;maxWidth&quot;: &quot;100%&quot;});\n",
       "\n",
       "        \n",
       "            \n",
       "                var html_7c826b35a567b09ecb6e86310afaa770 = $(`&lt;div id=&quot;html_7c826b35a567b09ecb6e86310afaa770&quot; style=&quot;width: 100.0%; height: 100.0%;&quot;&gt;Sudan&lt;/div&gt;`)[0];\n",
       "                popup_dc9dc89263383436d23bcebad98a4ffd.setContent(html_7c826b35a567b09ecb6e86310afaa770);\n",
       "            \n",
       "        \n",
       "\n",
       "        circle_marker_322c5f2d41cca37748db83c65ef0561d.bindPopup(popup_dc9dc89263383436d23bcebad98a4ffd)\n",
       "        ;\n",
       "\n",
       "        \n",
       "    \n",
       "    \n",
       "            var circle_marker_fb71c0758c7f185114926d417c9891bb = L.circleMarker(\n",
       "                [14.5, -14.25],\n",
       "                {&quot;bubblingMouseEvents&quot;: true, &quot;color&quot;: &quot;blue&quot;, &quot;dashArray&quot;: null, &quot;dashOffset&quot;: null, &quot;fill&quot;: true, &quot;fillColor&quot;: &quot;blue&quot;, &quot;fillOpacity&quot;: 0.2, &quot;fillRule&quot;: &quot;evenodd&quot;, &quot;lineCap&quot;: &quot;round&quot;, &quot;lineJoin&quot;: &quot;round&quot;, &quot;opacity&quot;: 1.0, &quot;radius&quot;: 11.704210477422464, &quot;stroke&quot;: true, &quot;weight&quot;: 3}\n",
       "            ).addTo(map_21327b43d24416f7d4f2ff4056fa7e63);\n",
       "        \n",
       "    \n",
       "        var popup_003416c2d00f60217ad1c2b1a5e31321 = L.popup({&quot;maxWidth&quot;: &quot;100%&quot;});\n",
       "\n",
       "        \n",
       "            \n",
       "                var html_f633bd02368a962ceef3d1370a7ceafc = $(`&lt;div id=&quot;html_f633bd02368a962ceef3d1370a7ceafc&quot; style=&quot;width: 100.0%; height: 100.0%;&quot;&gt;Senegal&lt;/div&gt;`)[0];\n",
       "                popup_003416c2d00f60217ad1c2b1a5e31321.setContent(html_f633bd02368a962ceef3d1370a7ceafc);\n",
       "            \n",
       "        \n",
       "\n",
       "        circle_marker_fb71c0758c7f185114926d417c9891bb.bindPopup(popup_003416c2d00f60217ad1c2b1a5e31321)\n",
       "        ;\n",
       "\n",
       "        \n",
       "    \n",
       "    \n",
       "            var circle_marker_bc8ee5066a798a2e2f8c0e0e41610610 = L.circleMarker(\n",
       "                [8.5, -11.5],\n",
       "                {&quot;bubblingMouseEvents&quot;: true, &quot;color&quot;: &quot;blue&quot;, &quot;dashArray&quot;: null, &quot;dashOffset&quot;: null, &quot;fill&quot;: true, &quot;fillColor&quot;: &quot;blue&quot;, &quot;fillOpacity&quot;: 0.2, &quot;fillRule&quot;: &quot;evenodd&quot;, &quot;lineCap&quot;: &quot;round&quot;, &quot;lineJoin&quot;: &quot;round&quot;, &quot;opacity&quot;: 1.0, &quot;radius&quot;: 10.591031720519217, &quot;stroke&quot;: true, &quot;weight&quot;: 3}\n",
       "            ).addTo(map_21327b43d24416f7d4f2ff4056fa7e63);\n",
       "        \n",
       "    \n",
       "        var popup_f65581599a4354888956e892aef04335 = L.popup({&quot;maxWidth&quot;: &quot;100%&quot;});\n",
       "\n",
       "        \n",
       "            \n",
       "                var html_8232104e15afd65b991d457f08ed1833 = $(`&lt;div id=&quot;html_8232104e15afd65b991d457f08ed1833&quot; style=&quot;width: 100.0%; height: 100.0%;&quot;&gt;Sierra Leone&lt;/div&gt;`)[0];\n",
       "                popup_f65581599a4354888956e892aef04335.setContent(html_8232104e15afd65b991d457f08ed1833);\n",
       "            \n",
       "        \n",
       "\n",
       "        circle_marker_bc8ee5066a798a2e2f8c0e0e41610610.bindPopup(popup_f65581599a4354888956e892aef04335)\n",
       "        ;\n",
       "\n",
       "        \n",
       "    \n",
       "    \n",
       "            var circle_marker_6d818856b8ad903585d4e658106056a2 = L.circleMarker(\n",
       "                [13.83333, -88.91667],\n",
       "                {&quot;bubblingMouseEvents&quot;: true, &quot;color&quot;: &quot;green&quot;, &quot;dashArray&quot;: null, &quot;dashOffset&quot;: null, &quot;fill&quot;: true, &quot;fillColor&quot;: &quot;green&quot;, &quot;fillOpacity&quot;: 0.2, &quot;fillRule&quot;: &quot;evenodd&quot;, &quot;lineCap&quot;: &quot;round&quot;, &quot;lineJoin&quot;: &quot;round&quot;, &quot;opacity&quot;: 1.0, &quot;radius&quot;: 2.210637055152628, &quot;stroke&quot;: true, &quot;weight&quot;: 3}\n",
       "            ).addTo(map_21327b43d24416f7d4f2ff4056fa7e63);\n",
       "        \n",
       "    \n",
       "        var popup_77a73c7c02213f6b1c32ec4391d383a1 = L.popup({&quot;maxWidth&quot;: &quot;100%&quot;});\n",
       "\n",
       "        \n",
       "            \n",
       "                var html_be17c606f6707e4fac126ecf96415ace = $(`&lt;div id=&quot;html_be17c606f6707e4fac126ecf96415ace&quot; style=&quot;width: 100.0%; height: 100.0%;&quot;&gt;El Salvador&lt;/div&gt;`)[0];\n",
       "                popup_77a73c7c02213f6b1c32ec4391d383a1.setContent(html_be17c606f6707e4fac126ecf96415ace);\n",
       "            \n",
       "        \n",
       "\n",
       "        circle_marker_6d818856b8ad903585d4e658106056a2.bindPopup(popup_77a73c7c02213f6b1c32ec4391d383a1)\n",
       "        ;\n",
       "\n",
       "        \n",
       "    \n",
       "    \n",
       "            var circle_marker_1c33ad0d79b2749477d340d2a98fed8e = L.circleMarker(\n",
       "                [44.81892, 20.45998],\n",
       "                {&quot;bubblingMouseEvents&quot;: true, &quot;color&quot;: &quot;black&quot;, &quot;dashArray&quot;: null, &quot;dashOffset&quot;: null, &quot;fill&quot;: true, &quot;fillColor&quot;: &quot;black&quot;, &quot;fillOpacity&quot;: 0.2, &quot;fillRule&quot;: &quot;evenodd&quot;, &quot;lineCap&quot;: &quot;round&quot;, &quot;lineJoin&quot;: &quot;round&quot;, &quot;opacity&quot;: 1.0, &quot;radius&quot;: 0.3430903611452321, &quot;stroke&quot;: true, &quot;weight&quot;: 3}\n",
       "            ).addTo(map_21327b43d24416f7d4f2ff4056fa7e63);\n",
       "        \n",
       "    \n",
       "        var popup_36d1fd89671521a04e982d3d06c91d94 = L.popup({&quot;maxWidth&quot;: &quot;100%&quot;});\n",
       "\n",
       "        \n",
       "            \n",
       "                var html_115a4ac19a58d879510da77327a1c89f = $(`&lt;div id=&quot;html_115a4ac19a58d879510da77327a1c89f&quot; style=&quot;width: 100.0%; height: 100.0%;&quot;&gt;Serbia&lt;/div&gt;`)[0];\n",
       "                popup_36d1fd89671521a04e982d3d06c91d94.setContent(html_115a4ac19a58d879510da77327a1c89f);\n",
       "            \n",
       "        \n",
       "\n",
       "        circle_marker_1c33ad0d79b2749477d340d2a98fed8e.bindPopup(popup_36d1fd89671521a04e982d3d06c91d94)\n",
       "        ;\n",
       "\n",
       "        \n",
       "    \n",
       "    \n",
       "            var circle_marker_e563c72ba41c36532a7d95891952106f = L.circleMarker(\n",
       "                [1.0, 7.0],\n",
       "                {&quot;bubblingMouseEvents&quot;: true, &quot;color&quot;: &quot;blue&quot;, &quot;dashArray&quot;: null, &quot;dashOffset&quot;: null, &quot;fill&quot;: true, &quot;fillColor&quot;: &quot;blue&quot;, &quot;fillOpacity&quot;: 0.2, &quot;fillRule&quot;: &quot;evenodd&quot;, &quot;lineCap&quot;: &quot;round&quot;, &quot;lineJoin&quot;: &quot;round&quot;, &quot;opacity&quot;: 1.0, &quot;radius&quot;: 1.5871486311247862, &quot;stroke&quot;: true, &quot;weight&quot;: 3}\n",
       "            ).addTo(map_21327b43d24416f7d4f2ff4056fa7e63);\n",
       "        \n",
       "    \n",
       "        var popup_5476292b0152c798a5eb624924d287b9 = L.popup({&quot;maxWidth&quot;: &quot;100%&quot;});\n",
       "\n",
       "        \n",
       "            \n",
       "                var html_d36866ecdf83c44c40f8fa4f6b708868 = $(`&lt;div id=&quot;html_d36866ecdf83c44c40f8fa4f6b708868&quot; style=&quot;width: 100.0%; height: 100.0%;&quot;&gt;Sao Tome and Principe&lt;/div&gt;`)[0];\n",
       "                popup_5476292b0152c798a5eb624924d287b9.setContent(html_d36866ecdf83c44c40f8fa4f6b708868);\n",
       "            \n",
       "        \n",
       "\n",
       "        circle_marker_e563c72ba41c36532a7d95891952106f.bindPopup(popup_5476292b0152c798a5eb624924d287b9)\n",
       "        ;\n",
       "\n",
       "        \n",
       "    \n",
       "    \n",
       "            var circle_marker_40cc90ba59445735fb93ee161373156d = L.circleMarker(\n",
       "                [4.0, -56.0],\n",
       "                {&quot;bubblingMouseEvents&quot;: true, &quot;color&quot;: &quot;green&quot;, &quot;dashArray&quot;: null, &quot;dashOffset&quot;: null, &quot;fill&quot;: true, &quot;fillColor&quot;: &quot;green&quot;, &quot;fillOpacity&quot;: 0.2, &quot;fillRule&quot;: &quot;evenodd&quot;, &quot;lineCap&quot;: &quot;round&quot;, &quot;lineJoin&quot;: &quot;round&quot;, &quot;opacity&quot;: 1.0, &quot;radius&quot;: 1.6493067105148873, &quot;stroke&quot;: true, &quot;weight&quot;: 3}\n",
       "            ).addTo(map_21327b43d24416f7d4f2ff4056fa7e63);\n",
       "        \n",
       "    \n",
       "        var popup_4914d6cb824979885ebf9eeee79aa6d8 = L.popup({&quot;maxWidth&quot;: &quot;100%&quot;});\n",
       "\n",
       "        \n",
       "            \n",
       "                var html_7ccbd9865a7b051748df9c2c179a596e = $(`&lt;div id=&quot;html_7ccbd9865a7b051748df9c2c179a596e&quot; style=&quot;width: 100.0%; height: 100.0%;&quot;&gt;Suriname&lt;/div&gt;`)[0];\n",
       "                popup_4914d6cb824979885ebf9eeee79aa6d8.setContent(html_7ccbd9865a7b051748df9c2c179a596e);\n",
       "            \n",
       "        \n",
       "\n",
       "        circle_marker_40cc90ba59445735fb93ee161373156d.bindPopup(popup_4914d6cb824979885ebf9eeee79aa6d8)\n",
       "        ;\n",
       "\n",
       "        \n",
       "    \n",
       "    \n",
       "            var circle_marker_ca2a583f2ad6fb6d9f864f98dc641244 = L.circleMarker(\n",
       "                [48.66667, 19.5],\n",
       "                {&quot;bubblingMouseEvents&quot;: true, &quot;color&quot;: &quot;black&quot;, &quot;dashArray&quot;: null, &quot;dashOffset&quot;: null, &quot;fill&quot;: true, &quot;fillColor&quot;: &quot;black&quot;, &quot;fillOpacity&quot;: 0.2, &quot;fillRule&quot;: &quot;evenodd&quot;, &quot;lineCap&quot;: &quot;round&quot;, &quot;lineJoin&quot;: &quot;round&quot;, &quot;opacity&quot;: 1.0, &quot;radius&quot;: 0.7175639845274426, &quot;stroke&quot;: true, &quot;weight&quot;: 3}\n",
       "            ).addTo(map_21327b43d24416f7d4f2ff4056fa7e63);\n",
       "        \n",
       "    \n",
       "        var popup_bec8daf40efbf06b7df6d80d87d4155b = L.popup({&quot;maxWidth&quot;: &quot;100%&quot;});\n",
       "\n",
       "        \n",
       "            \n",
       "                var html_076d325d107289b5b9ad0f69b4a23a9d = $(`&lt;div id=&quot;html_076d325d107289b5b9ad0f69b4a23a9d&quot; style=&quot;width: 100.0%; height: 100.0%;&quot;&gt;Slovak Republic&lt;/div&gt;`)[0];\n",
       "                popup_bec8daf40efbf06b7df6d80d87d4155b.setContent(html_076d325d107289b5b9ad0f69b4a23a9d);\n",
       "            \n",
       "        \n",
       "\n",
       "        circle_marker_ca2a583f2ad6fb6d9f864f98dc641244.bindPopup(popup_bec8daf40efbf06b7df6d80d87d4155b)\n",
       "        ;\n",
       "\n",
       "        \n",
       "    \n",
       "    \n",
       "            var circle_marker_e1bc0fe416194f53c872bce5a05b6b9e = L.circleMarker(\n",
       "                [46.08333, 15.0],\n",
       "                {&quot;bubblingMouseEvents&quot;: true, &quot;color&quot;: &quot;black&quot;, &quot;dashArray&quot;: null, &quot;dashOffset&quot;: null, &quot;fill&quot;: true, &quot;fillColor&quot;: &quot;black&quot;, &quot;fillOpacity&quot;: 0.2, &quot;fillRule&quot;: &quot;evenodd&quot;, &quot;lineCap&quot;: &quot;round&quot;, &quot;lineJoin&quot;: &quot;round&quot;, &quot;opacity&quot;: 1.0, &quot;stroke&quot;: true, &quot;weight&quot;: 3}\n",
       "            ).addTo(map_21327b43d24416f7d4f2ff4056fa7e63);\n",
       "        \n",
       "    \n",
       "        var popup_add1334612882e7a346855460b74dce7 = L.popup({&quot;maxWidth&quot;: &quot;100%&quot;});\n",
       "\n",
       "        \n",
       "            \n",
       "                var html_d0f717d265c19bff16f5201abf6b0deb = $(`&lt;div id=&quot;html_d0f717d265c19bff16f5201abf6b0deb&quot; style=&quot;width: 100.0%; height: 100.0%;&quot;&gt;Slovenia&lt;/div&gt;`)[0];\n",
       "                popup_add1334612882e7a346855460b74dce7.setContent(html_d0f717d265c19bff16f5201abf6b0deb);\n",
       "            \n",
       "        \n",
       "\n",
       "        circle_marker_e1bc0fe416194f53c872bce5a05b6b9e.bindPopup(popup_add1334612882e7a346855460b74dce7)\n",
       "        ;\n",
       "\n",
       "        \n",
       "    \n",
       "    \n",
       "            var circle_marker_12017e04ada1c509da16938bbde7340f = L.circleMarker(\n",
       "                [62.0, 15.0],\n",
       "                {&quot;bubblingMouseEvents&quot;: true, &quot;color&quot;: &quot;black&quot;, &quot;dashArray&quot;: null, &quot;dashOffset&quot;: null, &quot;fill&quot;: true, &quot;fillColor&quot;: &quot;black&quot;, &quot;fillOpacity&quot;: 0.2, &quot;fillRule&quot;: &quot;evenodd&quot;, &quot;lineCap&quot;: &quot;round&quot;, &quot;lineJoin&quot;: &quot;round&quot;, &quot;opacity&quot;: 1.0, &quot;radius&quot;: 1.0221645515325184, &quot;stroke&quot;: true, &quot;weight&quot;: 3}\n",
       "            ).addTo(map_21327b43d24416f7d4f2ff4056fa7e63);\n",
       "        \n",
       "    \n",
       "        var popup_5150c27498491ddd1ea3170575478546 = L.popup({&quot;maxWidth&quot;: &quot;100%&quot;});\n",
       "\n",
       "        \n",
       "            \n",
       "                var html_970c606fed6a7c7908db403f0e8ebe59 = $(`&lt;div id=&quot;html_970c606fed6a7c7908db403f0e8ebe59&quot; style=&quot;width: 100.0%; height: 100.0%;&quot;&gt;Sweden&lt;/div&gt;`)[0];\n",
       "                popup_5150c27498491ddd1ea3170575478546.setContent(html_970c606fed6a7c7908db403f0e8ebe59);\n",
       "            \n",
       "        \n",
       "\n",
       "        circle_marker_12017e04ada1c509da16938bbde7340f.bindPopup(popup_5150c27498491ddd1ea3170575478546)\n",
       "        ;\n",
       "\n",
       "        \n",
       "    \n",
       "    \n",
       "            var circle_marker_8d86e1fb71c0234da02ec25d6601fe29 = L.circleMarker(\n",
       "                [-26.5, 31.5],\n",
       "                {&quot;bubblingMouseEvents&quot;: true, &quot;color&quot;: &quot;blue&quot;, &quot;dashArray&quot;: null, &quot;dashOffset&quot;: null, &quot;fill&quot;: true, &quot;fillColor&quot;: &quot;blue&quot;, &quot;fillOpacity&quot;: 0.2, &quot;fillRule&quot;: &quot;evenodd&quot;, &quot;lineCap&quot;: &quot;round&quot;, &quot;lineJoin&quot;: &quot;round&quot;, &quot;opacity&quot;: 1.0, &quot;radius&quot;: 3.7291096317512857, &quot;stroke&quot;: true, &quot;weight&quot;: 3}\n",
       "            ).addTo(map_21327b43d24416f7d4f2ff4056fa7e63);\n",
       "        \n",
       "    \n",
       "        var popup_b20454b0922a78ee000afdbd06697ef5 = L.popup({&quot;maxWidth&quot;: &quot;100%&quot;});\n",
       "\n",
       "        \n",
       "            \n",
       "                var html_7a61a7a4b1fa943b390fe7583d2bb460 = $(`&lt;div id=&quot;html_7a61a7a4b1fa943b390fe7583d2bb460&quot; style=&quot;width: 100.0%; height: 100.0%;&quot;&gt;Swaziland&lt;/div&gt;`)[0];\n",
       "                popup_b20454b0922a78ee000afdbd06697ef5.setContent(html_7a61a7a4b1fa943b390fe7583d2bb460);\n",
       "            \n",
       "        \n",
       "\n",
       "        circle_marker_8d86e1fb71c0234da02ec25d6601fe29.bindPopup(popup_b20454b0922a78ee000afdbd06697ef5)\n",
       "        ;\n",
       "\n",
       "        \n",
       "    \n",
       "    \n",
       "            var circle_marker_b3da558e4d7d67b242b1fc77f5f0109c = L.circleMarker(\n",
       "                [-4.58333, 55.66667],\n",
       "                {&quot;bubblingMouseEvents&quot;: true, &quot;color&quot;: &quot;blue&quot;, &quot;dashArray&quot;: null, &quot;dashOffset&quot;: null, &quot;fill&quot;: true, &quot;fillColor&quot;: &quot;blue&quot;, &quot;fillOpacity&quot;: 0.2, &quot;fillRule&quot;: &quot;evenodd&quot;, &quot;lineCap&quot;: &quot;round&quot;, &quot;lineJoin&quot;: &quot;round&quot;, &quot;opacity&quot;: 1.0, &quot;radius&quot;: 0.08685588237163813, &quot;stroke&quot;: true, &quot;weight&quot;: 3}\n",
       "            ).addTo(map_21327b43d24416f7d4f2ff4056fa7e63);\n",
       "        \n",
       "    \n",
       "        var popup_3f2fab6e7afefdd30a7a0e46bd4c00e7 = L.popup({&quot;maxWidth&quot;: &quot;100%&quot;});\n",
       "\n",
       "        \n",
       "            \n",
       "                var html_c6eb556f71a41cffce26d7ee40ac24f8 = $(`&lt;div id=&quot;html_c6eb556f71a41cffce26d7ee40ac24f8&quot; style=&quot;width: 100.0%; height: 100.0%;&quot;&gt;Seychelles&lt;/div&gt;`)[0];\n",
       "                popup_3f2fab6e7afefdd30a7a0e46bd4c00e7.setContent(html_c6eb556f71a41cffce26d7ee40ac24f8);\n",
       "            \n",
       "        \n",
       "\n",
       "        circle_marker_b3da558e4d7d67b242b1fc77f5f0109c.bindPopup(popup_3f2fab6e7afefdd30a7a0e46bd4c00e7)\n",
       "        ;\n",
       "\n",
       "        \n",
       "    \n",
       "    \n",
       "            var circle_marker_5766eb3f824c0acdda94fb5325ebb59b = L.circleMarker(\n",
       "                [35.0, 38.0],\n",
       "                {&quot;bubblingMouseEvents&quot;: true, &quot;color&quot;: &quot;red&quot;, &quot;dashArray&quot;: null, &quot;dashOffset&quot;: null, &quot;fill&quot;: true, &quot;fillColor&quot;: &quot;red&quot;, &quot;fillOpacity&quot;: 0.2, &quot;fillRule&quot;: &quot;evenodd&quot;, &quot;lineCap&quot;: &quot;round&quot;, &quot;lineJoin&quot;: &quot;round&quot;, &quot;opacity&quot;: 1.0, &quot;radius&quot;: 3.4981983567755583, &quot;stroke&quot;: true, &quot;weight&quot;: 3}\n",
       "            ).addTo(map_21327b43d24416f7d4f2ff4056fa7e63);\n",
       "        \n",
       "    \n",
       "        var popup_cb35ca55795665f0e7e7b7eb765df7f6 = L.popup({&quot;maxWidth&quot;: &quot;100%&quot;});\n",
       "\n",
       "        \n",
       "            \n",
       "                var html_3bcd60160a27157fff664c0d4f97ef71 = $(`&lt;div id=&quot;html_3bcd60160a27157fff664c0d4f97ef71&quot; style=&quot;width: 100.0%; height: 100.0%;&quot;&gt;Syria&lt;/div&gt;`)[0];\n",
       "                popup_cb35ca55795665f0e7e7b7eb765df7f6.setContent(html_3bcd60160a27157fff664c0d4f97ef71);\n",
       "            \n",
       "        \n",
       "\n",
       "        circle_marker_5766eb3f824c0acdda94fb5325ebb59b.bindPopup(popup_cb35ca55795665f0e7e7b7eb765df7f6)\n",
       "        ;\n",
       "\n",
       "        \n",
       "    \n",
       "    \n",
       "            var circle_marker_697d683a647b56bc5f73bec0feb37f07 = L.circleMarker(\n",
       "                [15.0, 19.0],\n",
       "                {&quot;bubblingMouseEvents&quot;: true, &quot;color&quot;: &quot;blue&quot;, &quot;dashArray&quot;: null, &quot;dashOffset&quot;: null, &quot;fill&quot;: true, &quot;fillColor&quot;: &quot;blue&quot;, &quot;fillOpacity&quot;: 0.2, &quot;fillRule&quot;: &quot;evenodd&quot;, &quot;lineCap&quot;: &quot;round&quot;, &quot;lineJoin&quot;: &quot;round&quot;, &quot;opacity&quot;: 1.0, &quot;radius&quot;: 11.963682356780861, &quot;stroke&quot;: true, &quot;weight&quot;: 3}\n",
       "            ).addTo(map_21327b43d24416f7d4f2ff4056fa7e63);\n",
       "        \n",
       "    \n",
       "        var popup_f6e606a34c38d6f02fb8ea042315f1dd = L.popup({&quot;maxWidth&quot;: &quot;100%&quot;});\n",
       "\n",
       "        \n",
       "            \n",
       "                var html_910ad586c4f47e78c43a7b50e7f446cc = $(`&lt;div id=&quot;html_910ad586c4f47e78c43a7b50e7f446cc&quot; style=&quot;width: 100.0%; height: 100.0%;&quot;&gt;Chad&lt;/div&gt;`)[0];\n",
       "                popup_f6e606a34c38d6f02fb8ea042315f1dd.setContent(html_910ad586c4f47e78c43a7b50e7f446cc);\n",
       "            \n",
       "        \n",
       "\n",
       "        circle_marker_697d683a647b56bc5f73bec0feb37f07.bindPopup(popup_f6e606a34c38d6f02fb8ea042315f1dd)\n",
       "        ;\n",
       "\n",
       "        \n",
       "    \n",
       "    \n",
       "            var circle_marker_ff6e1352eeecb45e3d8f3d210df7ae97 = L.circleMarker(\n",
       "                [8.66667, 1.08333],\n",
       "                {&quot;bubblingMouseEvents&quot;: true, &quot;color&quot;: &quot;blue&quot;, &quot;dashArray&quot;: null, &quot;dashOffset&quot;: null, &quot;fill&quot;: true, &quot;fillColor&quot;: &quot;blue&quot;, &quot;fillOpacity&quot;: 0.2, &quot;fillRule&quot;: &quot;evenodd&quot;, &quot;lineCap&quot;: &quot;round&quot;, &quot;lineJoin&quot;: &quot;round&quot;, &quot;opacity&quot;: 1.0, &quot;radius&quot;: 10.603037764153232, &quot;stroke&quot;: true, &quot;weight&quot;: 3}\n",
       "            ).addTo(map_21327b43d24416f7d4f2ff4056fa7e63);\n",
       "        \n",
       "    \n",
       "        var popup_01a820c8a068ebde3991af02f5d1bc05 = L.popup({&quot;maxWidth&quot;: &quot;100%&quot;});\n",
       "\n",
       "        \n",
       "            \n",
       "                var html_27e74c59bf646ed5d25665ed705b5c1e = $(`&lt;div id=&quot;html_27e74c59bf646ed5d25665ed705b5c1e&quot; style=&quot;width: 100.0%; height: 100.0%;&quot;&gt;Togo&lt;/div&gt;`)[0];\n",
       "                popup_01a820c8a068ebde3991af02f5d1bc05.setContent(html_27e74c59bf646ed5d25665ed705b5c1e);\n",
       "            \n",
       "        \n",
       "\n",
       "        circle_marker_ff6e1352eeecb45e3d8f3d210df7ae97.bindPopup(popup_01a820c8a068ebde3991af02f5d1bc05)\n",
       "        ;\n",
       "\n",
       "        \n",
       "    \n",
       "    \n",
       "            var circle_marker_572afa5c3a9dce74f5e66a45fd4901c5 = L.circleMarker(\n",
       "                [15.5, 101.0],\n",
       "                {&quot;bubblingMouseEvents&quot;: true, &quot;color&quot;: &quot;red&quot;, &quot;dashArray&quot;: null, &quot;dashOffset&quot;: null, &quot;fill&quot;: true, &quot;fillColor&quot;: &quot;red&quot;, &quot;fillOpacity&quot;: 0.2, &quot;fillRule&quot;: &quot;evenodd&quot;, &quot;lineCap&quot;: &quot;round&quot;, &quot;lineJoin&quot;: &quot;round&quot;, &quot;opacity&quot;: 1.0, &quot;radius&quot;: 2.601372879137652, &quot;stroke&quot;: true, &quot;weight&quot;: 3}\n",
       "            ).addTo(map_21327b43d24416f7d4f2ff4056fa7e63);\n",
       "        \n",
       "    \n",
       "        var popup_51e3f18df80ffd7d1264789dcae71168 = L.popup({&quot;maxWidth&quot;: &quot;100%&quot;});\n",
       "\n",
       "        \n",
       "            \n",
       "                var html_d26b041f7f841a8376e8fcfe9869a808 = $(`&lt;div id=&quot;html_d26b041f7f841a8376e8fcfe9869a808&quot; style=&quot;width: 100.0%; height: 100.0%;&quot;&gt;Thailand&lt;/div&gt;`)[0];\n",
       "                popup_51e3f18df80ffd7d1264789dcae71168.setContent(html_d26b041f7f841a8376e8fcfe9869a808);\n",
       "            \n",
       "        \n",
       "\n",
       "        circle_marker_572afa5c3a9dce74f5e66a45fd4901c5.bindPopup(popup_51e3f18df80ffd7d1264789dcae71168)\n",
       "        ;\n",
       "\n",
       "        \n",
       "    \n",
       "    \n",
       "            var circle_marker_76610fa41d810cd0812512cb735f40c3 = L.circleMarker(\n",
       "                [39.0, 71.0],\n",
       "                {&quot;bubblingMouseEvents&quot;: true, &quot;color&quot;: &quot;red&quot;, &quot;dashArray&quot;: null, &quot;dashOffset&quot;: null, &quot;fill&quot;: true, &quot;fillColor&quot;: &quot;red&quot;, &quot;fillOpacity&quot;: 0.2, &quot;fillRule&quot;: &quot;evenodd&quot;, &quot;lineCap&quot;: &quot;round&quot;, &quot;lineJoin&quot;: &quot;round&quot;, &quot;opacity&quot;: 1.0, &quot;radius&quot;: 3.969802448362861, &quot;stroke&quot;: true, &quot;weight&quot;: 3}\n",
       "            ).addTo(map_21327b43d24416f7d4f2ff4056fa7e63);\n",
       "        \n",
       "    \n",
       "        var popup_14f26a1cb8f7e3706123fcee2fb7972f = L.popup({&quot;maxWidth&quot;: &quot;100%&quot;});\n",
       "\n",
       "        \n",
       "            \n",
       "                var html_f5ec80d64b24d821cdfd651be3a9394e = $(`&lt;div id=&quot;html_f5ec80d64b24d821cdfd651be3a9394e&quot; style=&quot;width: 100.0%; height: 100.0%;&quot;&gt;Tajikistan&lt;/div&gt;`)[0];\n",
       "                popup_14f26a1cb8f7e3706123fcee2fb7972f.setContent(html_f5ec80d64b24d821cdfd651be3a9394e);\n",
       "            \n",
       "        \n",
       "\n",
       "        circle_marker_76610fa41d810cd0812512cb735f40c3.bindPopup(popup_14f26a1cb8f7e3706123fcee2fb7972f)\n",
       "        ;\n",
       "\n",
       "        \n",
       "    \n",
       "    \n",
       "            var circle_marker_87e1c9343975ddcfd21aa40d3f73dc37 = L.circleMarker(\n",
       "                [39.75, 59.66667],\n",
       "                {&quot;bubblingMouseEvents&quot;: true, &quot;color&quot;: &quot;red&quot;, &quot;dashArray&quot;: null, &quot;dashOffset&quot;: null, &quot;fill&quot;: true, &quot;fillColor&quot;: &quot;red&quot;, &quot;fillOpacity&quot;: 0.2, &quot;fillRule&quot;: &quot;evenodd&quot;, &quot;lineCap&quot;: &quot;round&quot;, &quot;lineJoin&quot;: &quot;round&quot;, &quot;opacity&quot;: 1.0, &quot;radius&quot;: 6.630303080866714, &quot;stroke&quot;: true, &quot;weight&quot;: 3}\n",
       "            ).addTo(map_21327b43d24416f7d4f2ff4056fa7e63);\n",
       "        \n",
       "    \n",
       "        var popup_c6cbc8b99d24b313a2807bf0682e7c57 = L.popup({&quot;maxWidth&quot;: &quot;100%&quot;});\n",
       "\n",
       "        \n",
       "            \n",
       "                var html_87988d41a40aa21e3353b9a0332b56f3 = $(`&lt;div id=&quot;html_87988d41a40aa21e3353b9a0332b56f3&quot; style=&quot;width: 100.0%; height: 100.0%;&quot;&gt;Turkmenistan&lt;/div&gt;`)[0];\n",
       "                popup_c6cbc8b99d24b313a2807bf0682e7c57.setContent(html_87988d41a40aa21e3353b9a0332b56f3);\n",
       "            \n",
       "        \n",
       "\n",
       "        circle_marker_87e1c9343975ddcfd21aa40d3f73dc37.bindPopup(popup_c6cbc8b99d24b313a2807bf0682e7c57)\n",
       "        ;\n",
       "\n",
       "        \n",
       "    \n",
       "    \n",
       "            var circle_marker_bbf236471419338d09f73ab16ed20c10 = L.circleMarker(\n",
       "                [-8.83333, 125.75],\n",
       "                {&quot;bubblingMouseEvents&quot;: true, &quot;color&quot;: &quot;red&quot;, &quot;dashArray&quot;: null, &quot;dashOffset&quot;: null, &quot;fill&quot;: true, &quot;fillColor&quot;: &quot;red&quot;, &quot;fillOpacity&quot;: 0.2, &quot;fillRule&quot;: &quot;evenodd&quot;, &quot;lineCap&quot;: &quot;round&quot;, &quot;lineJoin&quot;: &quot;round&quot;, &quot;opacity&quot;: 1.0, &quot;radius&quot;: 3.4697796995129644, &quot;stroke&quot;: true, &quot;weight&quot;: 3}\n",
       "            ).addTo(map_21327b43d24416f7d4f2ff4056fa7e63);\n",
       "        \n",
       "    \n",
       "        var popup_2758af19b3eb4f64e6a95eefd7e008eb = L.popup({&quot;maxWidth&quot;: &quot;100%&quot;});\n",
       "\n",
       "        \n",
       "            \n",
       "                var html_137c2cafd21a084c799b495298a35e8b = $(`&lt;div id=&quot;html_137c2cafd21a084c799b495298a35e8b&quot; style=&quot;width: 100.0%; height: 100.0%;&quot;&gt;Timor-Leste&lt;/div&gt;`)[0];\n",
       "                popup_2758af19b3eb4f64e6a95eefd7e008eb.setContent(html_137c2cafd21a084c799b495298a35e8b);\n",
       "            \n",
       "        \n",
       "\n",
       "        circle_marker_bbf236471419338d09f73ab16ed20c10.bindPopup(popup_2758af19b3eb4f64e6a95eefd7e008eb)\n",
       "        ;\n",
       "\n",
       "        \n",
       "    \n",
       "    \n",
       "            var circle_marker_feb93ec85cff306db8cb72c6c536b0bf = L.circleMarker(\n",
       "                [11.0, -61.0],\n",
       "                {&quot;bubblingMouseEvents&quot;: true, &quot;color&quot;: &quot;green&quot;, &quot;dashArray&quot;: null, &quot;dashOffset&quot;: null, &quot;fill&quot;: true, &quot;fillColor&quot;: &quot;green&quot;, &quot;fillOpacity&quot;: 0.2, &quot;fillRule&quot;: &quot;evenodd&quot;, &quot;lineCap&quot;: &quot;round&quot;, &quot;lineJoin&quot;: &quot;round&quot;, &quot;opacity&quot;: 1.0, &quot;radius&quot;: 1.3550537179208788, &quot;stroke&quot;: true, &quot;weight&quot;: 3}\n",
       "            ).addTo(map_21327b43d24416f7d4f2ff4056fa7e63);\n",
       "        \n",
       "    \n",
       "        var popup_3354d2089365b7f124bc7116e6221c5c = L.popup({&quot;maxWidth&quot;: &quot;100%&quot;});\n",
       "\n",
       "        \n",
       "            \n",
       "                var html_528efebd21fed5db92a03e657222d4b6 = $(`&lt;div id=&quot;html_528efebd21fed5db92a03e657222d4b6&quot; style=&quot;width: 100.0%; height: 100.0%;&quot;&gt;Trinidad and Tobago&lt;/div&gt;`)[0];\n",
       "                popup_3354d2089365b7f124bc7116e6221c5c.setContent(html_528efebd21fed5db92a03e657222d4b6);\n",
       "            \n",
       "        \n",
       "\n",
       "        circle_marker_feb93ec85cff306db8cb72c6c536b0bf.bindPopup(popup_3354d2089365b7f124bc7116e6221c5c)\n",
       "        ;\n",
       "\n",
       "        \n",
       "    \n",
       "    \n",
       "            var circle_marker_9b26f5c324ddd2b219817f388b79fdce = L.circleMarker(\n",
       "                [34.0, 9.0],\n",
       "                {&quot;bubblingMouseEvents&quot;: true, &quot;color&quot;: &quot;blue&quot;, &quot;dashArray&quot;: null, &quot;dashOffset&quot;: null, &quot;fill&quot;: true, &quot;fillColor&quot;: &quot;blue&quot;, &quot;fillOpacity&quot;: 0.2, &quot;fillRule&quot;: &quot;evenodd&quot;, &quot;lineCap&quot;: &quot;round&quot;, &quot;lineJoin&quot;: &quot;round&quot;, &quot;opacity&quot;: 1.0, &quot;radius&quot;: 1.5924544581397058, &quot;stroke&quot;: true, &quot;weight&quot;: 3}\n",
       "            ).addTo(map_21327b43d24416f7d4f2ff4056fa7e63);\n",
       "        \n",
       "    \n",
       "        var popup_52103b0a3eaadf59f72898f084388bae = L.popup({&quot;maxWidth&quot;: &quot;100%&quot;});\n",
       "\n",
       "        \n",
       "            \n",
       "                var html_8664d35317049f373e72d96da6528a79 = $(`&lt;div id=&quot;html_8664d35317049f373e72d96da6528a79&quot; style=&quot;width: 100.0%; height: 100.0%;&quot;&gt;Tunisia&lt;/div&gt;`)[0];\n",
       "                popup_52103b0a3eaadf59f72898f084388bae.setContent(html_8664d35317049f373e72d96da6528a79);\n",
       "            \n",
       "        \n",
       "\n",
       "        circle_marker_9b26f5c324ddd2b219817f388b79fdce.bindPopup(popup_52103b0a3eaadf59f72898f084388bae)\n",
       "        ;\n",
       "\n",
       "        \n",
       "    \n",
       "    \n",
       "            var circle_marker_9b4f48eeb985f435cd78af0ebd685a03 = L.circleMarker(\n",
       "                [39.0, 35.0],\n",
       "                {&quot;bubblingMouseEvents&quot;: true, &quot;color&quot;: &quot;black&quot;, &quot;dashArray&quot;: null, &quot;dashOffset&quot;: null, &quot;fill&quot;: true, &quot;fillColor&quot;: &quot;black&quot;, &quot;fillOpacity&quot;: 0.2, &quot;fillRule&quot;: &quot;evenodd&quot;, &quot;lineCap&quot;: &quot;round&quot;, &quot;lineJoin&quot;: &quot;round&quot;, &quot;opacity&quot;: 1.0, &quot;radius&quot;: 1.3666553768820537, &quot;stroke&quot;: true, &quot;weight&quot;: 3}\n",
       "            ).addTo(map_21327b43d24416f7d4f2ff4056fa7e63);\n",
       "        \n",
       "    \n",
       "        var popup_622f33d547d370016a9efa8c86b8bff3 = L.popup({&quot;maxWidth&quot;: &quot;100%&quot;});\n",
       "\n",
       "        \n",
       "            \n",
       "                var html_054c6f0d44a1cadd811d82757d0eadd9 = $(`&lt;div id=&quot;html_054c6f0d44a1cadd811d82757d0eadd9&quot; style=&quot;width: 100.0%; height: 100.0%;&quot;&gt;Turkey&lt;/div&gt;`)[0];\n",
       "                popup_622f33d547d370016a9efa8c86b8bff3.setContent(html_054c6f0d44a1cadd811d82757d0eadd9);\n",
       "            \n",
       "        \n",
       "\n",
       "        circle_marker_9b4f48eeb985f435cd78af0ebd685a03.bindPopup(popup_622f33d547d370016a9efa8c86b8bff3)\n",
       "        ;\n",
       "\n",
       "        \n",
       "    \n",
       "    \n",
       "            var circle_marker_7111551b72a297c2868c24395268894c = L.circleMarker(\n",
       "                [-6.0, 35.0],\n",
       "                {&quot;bubblingMouseEvents&quot;: true, &quot;color&quot;: &quot;blue&quot;, &quot;dashArray&quot;: null, &quot;dashOffset&quot;: null, &quot;fill&quot;: true, &quot;fillColor&quot;: &quot;blue&quot;, &quot;fillOpacity&quot;: 0.2, &quot;fillRule&quot;: &quot;evenodd&quot;, &quot;lineCap&quot;: &quot;round&quot;, &quot;lineJoin&quot;: &quot;round&quot;, &quot;opacity&quot;: 1.0, &quot;radius&quot;: 24.88900526383844, &quot;stroke&quot;: true, &quot;weight&quot;: 3}\n",
       "            ).addTo(map_21327b43d24416f7d4f2ff4056fa7e63);\n",
       "        \n",
       "    \n",
       "        var popup_4bfdc747279ae378dbbd4f43c1ac81d2 = L.popup({&quot;maxWidth&quot;: &quot;100%&quot;});\n",
       "\n",
       "        \n",
       "            \n",
       "                var html_75fba609412587ab5f15664935df74e1 = $(`&lt;div id=&quot;html_75fba609412587ab5f15664935df74e1&quot; style=&quot;width: 100.0%; height: 100.0%;&quot;&gt;Tanzania&lt;/div&gt;`)[0];\n",
       "                popup_4bfdc747279ae378dbbd4f43c1ac81d2.setContent(html_75fba609412587ab5f15664935df74e1);\n",
       "            \n",
       "        \n",
       "\n",
       "        circle_marker_7111551b72a297c2868c24395268894c.bindPopup(popup_4bfdc747279ae378dbbd4f43c1ac81d2)\n",
       "        ;\n",
       "\n",
       "        \n",
       "    \n",
       "    \n",
       "            var circle_marker_7471216bd57ba36b4d6a8aa1ef14623c = L.circleMarker(\n",
       "                [1.25, 32.5],\n",
       "                {&quot;bubblingMouseEvents&quot;: true, &quot;color&quot;: &quot;blue&quot;, &quot;dashArray&quot;: null, &quot;dashOffset&quot;: null, &quot;fill&quot;: true, &quot;fillColor&quot;: &quot;blue&quot;, &quot;fillOpacity&quot;: 0.2, &quot;fillRule&quot;: &quot;evenodd&quot;, &quot;lineCap&quot;: &quot;round&quot;, &quot;lineJoin&quot;: &quot;round&quot;, &quot;opacity&quot;: 1.0, &quot;radius&quot;: 19.736352406544533, &quot;stroke&quot;: true, &quot;weight&quot;: 3}\n",
       "            ).addTo(map_21327b43d24416f7d4f2ff4056fa7e63);\n",
       "        \n",
       "    \n",
       "        var popup_a59be83bb297e93a95626fb54d1cd285 = L.popup({&quot;maxWidth&quot;: &quot;100%&quot;});\n",
       "\n",
       "        \n",
       "            \n",
       "                var html_1961afe8e7d1f1d0a94a308a105fd83b = $(`&lt;div id=&quot;html_1961afe8e7d1f1d0a94a308a105fd83b&quot; style=&quot;width: 100.0%; height: 100.0%;&quot;&gt;Uganda&lt;/div&gt;`)[0];\n",
       "                popup_a59be83bb297e93a95626fb54d1cd285.setContent(html_1961afe8e7d1f1d0a94a308a105fd83b);\n",
       "            \n",
       "        \n",
       "\n",
       "        circle_marker_7471216bd57ba36b4d6a8aa1ef14623c.bindPopup(popup_a59be83bb297e93a95626fb54d1cd285)\n",
       "        ;\n",
       "\n",
       "        \n",
       "    \n",
       "    \n",
       "            var circle_marker_767678e659381672af04cb6cbcd6d9e4 = L.circleMarker(\n",
       "                [49.0, 32.0],\n",
       "                {&quot;bubblingMouseEvents&quot;: true, &quot;color&quot;: &quot;black&quot;, &quot;dashArray&quot;: null, &quot;dashOffset&quot;: null, &quot;fill&quot;: true, &quot;fillColor&quot;: &quot;black&quot;, &quot;fillOpacity&quot;: 0.2, &quot;fillRule&quot;: &quot;evenodd&quot;, &quot;lineCap&quot;: &quot;round&quot;, &quot;lineJoin&quot;: &quot;round&quot;, &quot;opacity&quot;: 1.0, &quot;stroke&quot;: true, &quot;weight&quot;: 3}\n",
       "            ).addTo(map_21327b43d24416f7d4f2ff4056fa7e63);\n",
       "        \n",
       "    \n",
       "        var popup_cf4ccc207927cf8f96306d2ae4af6b72 = L.popup({&quot;maxWidth&quot;: &quot;100%&quot;});\n",
       "\n",
       "        \n",
       "            \n",
       "                var html_68ac0384b3c02dbe5b0de38829955dc1 = $(`&lt;div id=&quot;html_68ac0384b3c02dbe5b0de38829955dc1&quot; style=&quot;width: 100.0%; height: 100.0%;&quot;&gt;Ukraine&lt;/div&gt;`)[0];\n",
       "                popup_cf4ccc207927cf8f96306d2ae4af6b72.setContent(html_68ac0384b3c02dbe5b0de38829955dc1);\n",
       "            \n",
       "        \n",
       "\n",
       "        circle_marker_767678e659381672af04cb6cbcd6d9e4.bindPopup(popup_cf4ccc207927cf8f96306d2ae4af6b72)\n",
       "        ;\n",
       "\n",
       "        \n",
       "    \n",
       "    \n",
       "            var circle_marker_659de2bd9230120ccb6dfaaeed2276ba = L.circleMarker(\n",
       "                [-33.0, -56.0],\n",
       "                {&quot;bubblingMouseEvents&quot;: true, &quot;color&quot;: &quot;green&quot;, &quot;dashArray&quot;: null, &quot;dashOffset&quot;: null, &quot;fill&quot;: true, &quot;fillColor&quot;: &quot;green&quot;, &quot;fillOpacity&quot;: 0.2, &quot;fillRule&quot;: &quot;evenodd&quot;, &quot;lineCap&quot;: &quot;round&quot;, &quot;lineJoin&quot;: &quot;round&quot;, &quot;opacity&quot;: 1.0, &quot;radius&quot;: 0.5722562458426154, &quot;stroke&quot;: true, &quot;weight&quot;: 3}\n",
       "            ).addTo(map_21327b43d24416f7d4f2ff4056fa7e63);\n",
       "        \n",
       "    \n",
       "        var popup_3c2f0af89edef88cfcdd0ad27c38321c = L.popup({&quot;maxWidth&quot;: &quot;100%&quot;});\n",
       "\n",
       "        \n",
       "            \n",
       "                var html_abc04248265333f9cc23c138705a1f3d = $(`&lt;div id=&quot;html_abc04248265333f9cc23c138705a1f3d&quot; style=&quot;width: 100.0%; height: 100.0%;&quot;&gt;Uruguay&lt;/div&gt;`)[0];\n",
       "                popup_3c2f0af89edef88cfcdd0ad27c38321c.setContent(html_abc04248265333f9cc23c138705a1f3d);\n",
       "            \n",
       "        \n",
       "\n",
       "        circle_marker_659de2bd9230120ccb6dfaaeed2276ba.bindPopup(popup_3c2f0af89edef88cfcdd0ad27c38321c)\n",
       "        ;\n",
       "\n",
       "        \n",
       "    \n",
       "    \n",
       "            var circle_marker_067d07d4a5aa0ce14c8d8d646f8c9d0f = L.circleMarker(\n",
       "                [39.76, -98.5],\n",
       "                {&quot;bubblingMouseEvents&quot;: true, &quot;color&quot;: &quot;green&quot;, &quot;dashArray&quot;: null, &quot;dashOffset&quot;: null, &quot;fill&quot;: true, &quot;fillColor&quot;: &quot;green&quot;, &quot;fillOpacity&quot;: 0.2, &quot;fillRule&quot;: &quot;evenodd&quot;, &quot;lineCap&quot;: &quot;round&quot;, &quot;lineJoin&quot;: &quot;round&quot;, &quot;opacity&quot;: 1.0, &quot;radius&quot;: 12.859004483020296, &quot;stroke&quot;: true, &quot;weight&quot;: 3}\n",
       "            ).addTo(map_21327b43d24416f7d4f2ff4056fa7e63);\n",
       "        \n",
       "    \n",
       "        var popup_f6bc6531e0d7782931c60794442bcb86 = L.popup({&quot;maxWidth&quot;: &quot;100%&quot;});\n",
       "\n",
       "        \n",
       "            \n",
       "                var html_1a77e0a85c03095036e40fcce3e2def4 = $(`&lt;div id=&quot;html_1a77e0a85c03095036e40fcce3e2def4&quot; style=&quot;width: 100.0%; height: 100.0%;&quot;&gt;United States&lt;/div&gt;`)[0];\n",
       "                popup_f6bc6531e0d7782931c60794442bcb86.setContent(html_1a77e0a85c03095036e40fcce3e2def4);\n",
       "            \n",
       "        \n",
       "\n",
       "        circle_marker_067d07d4a5aa0ce14c8d8d646f8c9d0f.bindPopup(popup_f6bc6531e0d7782931c60794442bcb86)\n",
       "        ;\n",
       "\n",
       "        \n",
       "    \n",
       "    \n",
       "            var circle_marker_aa21500541a7f0af4fb21e1af014e071 = L.circleMarker(\n",
       "                [8.0, -66.0],\n",
       "                {&quot;bubblingMouseEvents&quot;: true, &quot;color&quot;: &quot;green&quot;, &quot;dashArray&quot;: null, &quot;dashOffset&quot;: null, &quot;fill&quot;: true, &quot;fillColor&quot;: &quot;green&quot;, &quot;fillOpacity&quot;: 0.2, &quot;fillRule&quot;: &quot;evenodd&quot;, &quot;lineCap&quot;: &quot;round&quot;, &quot;lineJoin&quot;: &quot;round&quot;, &quot;opacity&quot;: 1.0, &quot;radius&quot;: 7.797885869682058, &quot;stroke&quot;: true, &quot;weight&quot;: 3}\n",
       "            ).addTo(map_21327b43d24416f7d4f2ff4056fa7e63);\n",
       "        \n",
       "    \n",
       "        var popup_a24162a4f336e6499b24588419f743a9 = L.popup({&quot;maxWidth&quot;: &quot;100%&quot;});\n",
       "\n",
       "        \n",
       "            \n",
       "                var html_49ed4cd48036f22340702d9ce501723a = $(`&lt;div id=&quot;html_49ed4cd48036f22340702d9ce501723a&quot; style=&quot;width: 100.0%; height: 100.0%;&quot;&gt;Venezuela&lt;/div&gt;`)[0];\n",
       "                popup_a24162a4f336e6499b24588419f743a9.setContent(html_49ed4cd48036f22340702d9ce501723a);\n",
       "            \n",
       "        \n",
       "\n",
       "        circle_marker_aa21500541a7f0af4fb21e1af014e071.bindPopup(popup_a24162a4f336e6499b24588419f743a9)\n",
       "        ;\n",
       "\n",
       "        \n",
       "    \n",
       "    \n",
       "            var circle_marker_b8023af46b224707ff42f4374516c5f0 = L.circleMarker(\n",
       "                [16.16667, 107.83333],\n",
       "                {&quot;bubblingMouseEvents&quot;: true, &quot;color&quot;: &quot;red&quot;, &quot;dashArray&quot;: null, &quot;dashOffset&quot;: null, &quot;fill&quot;: true, &quot;fillColor&quot;: &quot;red&quot;, &quot;fillOpacity&quot;: 0.2, &quot;fillRule&quot;: &quot;evenodd&quot;, &quot;lineCap&quot;: &quot;round&quot;, &quot;lineJoin&quot;: &quot;round&quot;, &quot;opacity&quot;: 1.0, &quot;radius&quot;: 8.241622267411362, &quot;stroke&quot;: true, &quot;weight&quot;: 3}\n",
       "            ).addTo(map_21327b43d24416f7d4f2ff4056fa7e63);\n",
       "        \n",
       "    \n",
       "        var popup_e2e22cf3fe2d422143c8161f01f57cc0 = L.popup({&quot;maxWidth&quot;: &quot;100%&quot;});\n",
       "\n",
       "        \n",
       "            \n",
       "                var html_4a4a5695493d50392ef3ec33b472d81d = $(`&lt;div id=&quot;html_4a4a5695493d50392ef3ec33b472d81d&quot; style=&quot;width: 100.0%; height: 100.0%;&quot;&gt;Vietnam&lt;/div&gt;`)[0];\n",
       "                popup_e2e22cf3fe2d422143c8161f01f57cc0.setContent(html_4a4a5695493d50392ef3ec33b472d81d);\n",
       "            \n",
       "        \n",
       "\n",
       "        circle_marker_b8023af46b224707ff42f4374516c5f0.bindPopup(popup_e2e22cf3fe2d422143c8161f01f57cc0)\n",
       "        ;\n",
       "\n",
       "        \n",
       "    \n",
       "    \n",
       "            var circle_marker_6f5ec2e5f9998c02dd95d5d39c6aa58c = L.circleMarker(\n",
       "                [15.5, 47.5],\n",
       "                {&quot;bubblingMouseEvents&quot;: true, &quot;color&quot;: &quot;red&quot;, &quot;dashArray&quot;: null, &quot;dashOffset&quot;: null, &quot;fill&quot;: true, &quot;fillColor&quot;: &quot;red&quot;, &quot;fillOpacity&quot;: 0.2, &quot;fillRule&quot;: &quot;evenodd&quot;, &quot;lineCap&quot;: &quot;round&quot;, &quot;lineJoin&quot;: &quot;round&quot;, &quot;opacity&quot;: 1.0, &quot;radius&quot;: 9.126242182195787, &quot;stroke&quot;: true, &quot;weight&quot;: 3}\n",
       "            ).addTo(map_21327b43d24416f7d4f2ff4056fa7e63);\n",
       "        \n",
       "    \n",
       "        var popup_c6eb1e1152ca19532686e4155b03193b = L.popup({&quot;maxWidth&quot;: &quot;100%&quot;});\n",
       "\n",
       "        \n",
       "            \n",
       "                var html_47732708552282b8d2e8e3f981c0b871 = $(`&lt;div id=&quot;html_47732708552282b8d2e8e3f981c0b871&quot; style=&quot;width: 100.0%; height: 100.0%;&quot;&gt;Yemen&lt;/div&gt;`)[0];\n",
       "                popup_c6eb1e1152ca19532686e4155b03193b.setContent(html_47732708552282b8d2e8e3f981c0b871);\n",
       "            \n",
       "        \n",
       "\n",
       "        circle_marker_6f5ec2e5f9998c02dd95d5d39c6aa58c.bindPopup(popup_c6eb1e1152ca19532686e4155b03193b)\n",
       "        ;\n",
       "\n",
       "        \n",
       "    \n",
       "    \n",
       "            var circle_marker_9ac23dd920babe4f470f9152d76cd9dd = L.circleMarker(\n",
       "                [-29.0, 24.0],\n",
       "                {&quot;bubblingMouseEvents&quot;: true, &quot;color&quot;: &quot;blue&quot;, &quot;dashArray&quot;: null, &quot;dashOffset&quot;: null, &quot;fill&quot;: true, &quot;fillColor&quot;: &quot;blue&quot;, &quot;fillOpacity&quot;: 0.2, &quot;fillRule&quot;: &quot;evenodd&quot;, &quot;lineCap&quot;: &quot;round&quot;, &quot;lineJoin&quot;: &quot;round&quot;, &quot;opacity&quot;: 1.0, &quot;radius&quot;: 12.528070760870953, &quot;stroke&quot;: true, &quot;weight&quot;: 3}\n",
       "            ).addTo(map_21327b43d24416f7d4f2ff4056fa7e63);\n",
       "        \n",
       "    \n",
       "        var popup_dd44d998a82de6d45fdaef609d98f6bd = L.popup({&quot;maxWidth&quot;: &quot;100%&quot;});\n",
       "\n",
       "        \n",
       "            \n",
       "                var html_1e3b6a435dda336ed193a1003c4e5ded = $(`&lt;div id=&quot;html_1e3b6a435dda336ed193a1003c4e5ded&quot; style=&quot;width: 100.0%; height: 100.0%;&quot;&gt;South Africa&lt;/div&gt;`)[0];\n",
       "                popup_dd44d998a82de6d45fdaef609d98f6bd.setContent(html_1e3b6a435dda336ed193a1003c4e5ded);\n",
       "            \n",
       "        \n",
       "\n",
       "        circle_marker_9ac23dd920babe4f470f9152d76cd9dd.bindPopup(popup_dd44d998a82de6d45fdaef609d98f6bd)\n",
       "        ;\n",
       "\n",
       "        \n",
       "    \n",
       "    \n",
       "            var circle_marker_87074a465e0ef59f50e62c84a5d93069 = L.circleMarker(\n",
       "                [-14.33333, 28.5],\n",
       "                {&quot;bubblingMouseEvents&quot;: true, &quot;color&quot;: &quot;blue&quot;, &quot;dashArray&quot;: null, &quot;dashOffset&quot;: null, &quot;fill&quot;: true, &quot;fillColor&quot;: &quot;blue&quot;, &quot;fillOpacity&quot;: 0.2, &quot;fillRule&quot;: &quot;evenodd&quot;, &quot;lineCap&quot;: &quot;round&quot;, &quot;lineJoin&quot;: &quot;round&quot;, &quot;opacity&quot;: 1.0, &quot;radius&quot;: 18.176389084924157, &quot;stroke&quot;: true, &quot;weight&quot;: 3}\n",
       "            ).addTo(map_21327b43d24416f7d4f2ff4056fa7e63);\n",
       "        \n",
       "    \n",
       "        var popup_d036cee0fda2714c5772bc87f0b57c76 = L.popup({&quot;maxWidth&quot;: &quot;100%&quot;});\n",
       "\n",
       "        \n",
       "            \n",
       "                var html_2fe85929ed7931e3e8cb99020ca720da = $(`&lt;div id=&quot;html_2fe85929ed7931e3e8cb99020ca720da&quot; style=&quot;width: 100.0%; height: 100.0%;&quot;&gt;Zambia&lt;/div&gt;`)[0];\n",
       "                popup_d036cee0fda2714c5772bc87f0b57c76.setContent(html_2fe85929ed7931e3e8cb99020ca720da);\n",
       "            \n",
       "        \n",
       "\n",
       "        circle_marker_87074a465e0ef59f50e62c84a5d93069.bindPopup(popup_d036cee0fda2714c5772bc87f0b57c76)\n",
       "        ;\n",
       "\n",
       "        \n",
       "    \n",
       "&lt;/script&gt;\n",
       "&lt;/html&gt;\" style=\"position:absolute;width:100%;height:100%;left:0;top:0;border:none !important;\" allowfullscreen webkitallowfullscreen mozallowfullscreen></iframe></div></div>"
      ],
      "text/plain": [
       "<datascience.maps.Map at 0x7f0e8b43ee90>"
      ]
     },
     "execution_count": 59,
     "metadata": {},
     "output_type": "execute_result"
    }
   ],
   "source": [
    "# It may take a few seconds to generate this map.\n",
    "colors = {'africa': 'blue', 'europe': 'black', 'asia': 'red', 'americas': 'green'}\n",
    "scaled = poverty_map.with_columns(\n",
    "    'labels', poverty_map.column('name'),\n",
    "    'colors', poverty_map.apply(colors.get, 'region'),\n",
    "    'areas', 1e-4 * poverty_map.column('poverty_total')\n",
    ").drop('name', 'region', 'poverty_total')\n",
    "\n",
    "Circle.map_table(scaled)"
   ]
  },
  {
   "cell_type": "markdown",
   "id": "71352610",
   "metadata": {
    "deletable": false,
    "editable": false
   },
   "source": [
    "Although people lived in extreme poverty throughout the world in 2010 (with more than 5 million in the United States), the largest numbers were in Asia and Africa."
   ]
  },
  {
   "cell_type": "markdown",
   "id": "52eaed86",
   "metadata": {},
   "source": [
    "---\n",
    "\n",
    "**Question 5.** Assign `largest` to a two-column table with the `name` (not the 3-letter code) and `poverty_total` of the 10 countries with the largest number of people living in extreme poverty.\n",
    "\n",
    "*Hint*: How can we use `take` and `np.arange` in conjunction with each other?\n"
   ]
  },
  {
   "cell_type": "code",
   "execution_count": 60,
   "id": "9170a622",
   "metadata": {
    "deletable": false,
    "tags": []
   },
   "outputs": [
    {
     "data": {
      "text/html": [
       "<table border=\"1\" class=\"dataframe\">\n",
       "    <thead>\n",
       "        <tr>\n",
       "            <th>name</th> <th>poverty_total</th>\n",
       "        </tr>\n",
       "    </thead>\n",
       "    <tbody>\n",
       "        <tr>\n",
       "            <td>India           </td> <td>293,834,694.00</td>\n",
       "        </tr>\n",
       "        <tr>\n",
       "            <td>Nigeria         </td> <td>103,368,582.00</td>\n",
       "        </tr>\n",
       "        <tr>\n",
       "            <td>China           </td> <td>84,607,751.00 </td>\n",
       "        </tr>\n",
       "        <tr>\n",
       "            <td>Bangladesh      </td> <td>65,827,357.00 </td>\n",
       "        </tr>\n",
       "        <tr>\n",
       "            <td>Congo, Dem. Rep.</td> <td>60,143,497.00 </td>\n",
       "        </tr>\n",
       "        <tr>\n",
       "            <td>Indonesia       </td> <td>39,901,462.00 </td>\n",
       "        </tr>\n",
       "        <tr>\n",
       "            <td>Ethiopia        </td> <td>33,309,119.00 </td>\n",
       "        </tr>\n",
       "        <tr>\n",
       "            <td>Pakistan        </td> <td>25,383,055.00 </td>\n",
       "        </tr>\n",
       "        <tr>\n",
       "            <td>Tanzania        </td> <td>19,460,991.00 </td>\n",
       "        </tr>\n",
       "        <tr>\n",
       "            <td>Madagascar      </td> <td>19,448,134.00 </td>\n",
       "        </tr>\n",
       "    </tbody>\n",
       "</table>"
      ],
      "text/plain": [
       "name             | poverty_total\n",
       "India            | 293,834,694.00\n",
       "Nigeria          | 103,368,582.00\n",
       "China            | 84,607,751.00\n",
       "Bangladesh       | 65,827,357.00\n",
       "Congo, Dem. Rep. | 60,143,497.00\n",
       "Indonesia        | 39,901,462.00\n",
       "Ethiopia         | 33,309,119.00\n",
       "Pakistan         | 25,383,055.00\n",
       "Tanzania         | 19,460,991.00\n",
       "Madagascar       | 19,448,134.00"
      ]
     },
     "execution_count": 60,
     "metadata": {},
     "output_type": "execute_result"
    }
   ],
   "source": [
    "pre_largest = recent.sort('poverty_total', descending = True).take(np.arange(0,10)).drop(0,3,4,5)\n",
    "largest = Table().with_columns('name', pre_largest.column(1), 'poverty_total', pre_largest.column(0))\n",
    "largest.set_format('poverty_total', NumberFormatter)"
   ]
  },
  {
   "cell_type": "code",
   "execution_count": 61,
   "id": "430df062",
   "metadata": {
    "deletable": false,
    "editable": false
   },
   "outputs": [
    {
     "data": {
      "text/html": [
       "<p><strong><pre style='display: inline;'>q2_5</pre></strong> passed! 💯</p>"
      ],
      "text/plain": [
       "q2_5 results: All test cases passed!"
      ]
     },
     "execution_count": 61,
     "metadata": {},
     "output_type": "execute_result"
    }
   ],
   "source": [
    "grader.check(\"q2_5\")"
   ]
  },
  {
   "cell_type": "markdown",
   "id": "4ec77ea8",
   "metadata": {},
   "source": [
    "<!-- BEGIN QUESTION -->\n",
    "\n",
    "---\n",
    "\n",
    "**Question 6.** It is important to study the absolute number of people living in poverty, not just the percent. The absolute number is an important factor in determining the amount of resources needed to support people living in poverty. In the next two questions you will explore this.\n",
    "\n",
    "In Question 7, you will be asked to write a function called `poverty_timeline` that takes **the name of a country** as its argument (not the Alpha-3 country code). It should draw a line plot of the number of people living in poverty in that country with time on the horizontal axis. The line plot should have a point for each row in the poverty table for that country. To compute the population living in poverty from a poverty percentage, multiply by the population of the country **in that year**.\n",
    "\n",
    "For this question, write out a generalized process for Question 7. Make sure to answer/include the following: \n",
    "- What should this function output? \n",
    "- Additionally, **make a numbered list** of the steps you take within the function body. If you added/edited, say, 5 lines in the function body, then it would be good to see the numbers 1 through 5 describing what you did (i.e. what functions/methods you used) in each line and why.\n",
    "\n",
    "As a tip, after finishing question 7, we recommend polishing up your description of the steps for this question. This question will be graded for correctness."
   ]
  },
  {
   "cell_type": "markdown",
   "id": "70dbd6c9",
   "metadata": {},
   "source": [
    "The output is a line plot showing the number of people living in poverty over time for the specified country. in the X-axis, it shows the 'year' and in the Y-axis shows 'the number in poverty'. \n",
    "\n",
    "1. Extract the Alpha-3 country code for the given country name.\n",
    "2. Filter the poverty table for data specific to the selected country.\n",
    "3. Create a new table with the 'Year' and 'Number in poverty' columns, using calculations to convert percentages into absolute numbers.\n",
    "4. Set the plot's title to the country name.\n",
    "5. Set the y-axis limit and display the plot.\n"
   ]
  },
  {
   "cell_type": "markdown",
   "id": "005de258",
   "metadata": {
    "deletable": false
   },
   "source": [
    "<!-- END QUESTION -->\n",
    "\n",
    "<!-- BEGIN QUESTION -->\n",
    "\n",
    "---\n",
    "\n",
    "**Question 7.** Now, we'll actually write the function called `poverty_timeline`. Recall that `poverty_timeline` takes **the name of a country** as its argument (not the Alpha-3 country code). It should draw a line plot of the number of people living in poverty in that country with time on the horizontal axis. The line plot should have a point for each row in the `poverty` table for that country. To compute the population living in poverty from a poverty percentage, multiply by the population of the country **in that year**.\n",
    "\n",
    "**Note:** You **should <u>not</u>** return anything from your function. Simply call `plots.show()` at the end of your function body.\n",
    "\n",
    "*Hint 1:* This question is long. Feel free to create cells and experiment. You can create cells by going to the toolbar and hitting the `+` button.\n",
    "\n",
    "*Hint 2:* Consider using `join` in your code.\n",
    "\n",
    "Feel free to use the markdown cell below to plan out your answer, but you needn't fill it in."
   ]
  },
  {
   "cell_type": "markdown",
   "id": "de96a734",
   "metadata": {},
   "source": [
    "The output shows the line plots showing the number of people living in poverty over time for the specified country. The X-axis shows'Year', and Y-axis shows 'Number in poverty'\n",
    "\n",
    "1. Extract the Alpha-3 country code for the given country name.\n",
    "2. Filter the poverty table for data specific to the selected country.\n",
    "3. Create a new table with the 'Year' and 'Number in poverty' columns, using calculations to convert percentages into absolute numbers.\n",
    "4. Set the plot's title to the country name.\n",
    "5. Set the y-axis limit and display the plot."
   ]
  },
  {
   "cell_type": "code",
   "execution_count": 62,
   "id": "9c099f20",
   "metadata": {
    "tags": []
   },
   "outputs": [],
   "source": [
    "def population_for_country_in_year(row_of_poverty_table):\n",
    "\n",
    "    return population.where('time', row_of_poverty_table.item('time')).where('geo', row_of_poverty_table.item('geo')).column('population_total').item(0) # SOLUTION\n",
    "def poverty_timeline(country):\n",
    "\n",
    "    geo = countries.where('name', country).column('country').item(0) \n",
    "    country_poverty = poverty.where('geo', geo) # SOLUTION\n",
    "    Table().with_columns('Year', country_poverty.column(1), 'Number in poverty', country_poverty.column(2) / 100 * country_poverty.apply(population_for_country_in_year)).plot(0, 1) # SOLUTION\n",
    "    # This solution will take multiple lines of code. Use as many as you need\n",
    "    ...\n",
    "    # Don't change anything below this line. \n",
    "    plots.title(country)\n",
    "    plots.ylim(bottom=0)\n",
    "    plots.show() # This should be the last line of your function. "
   ]
  },
  {
   "cell_type": "code",
   "execution_count": 63,
   "id": "91c8328f",
   "metadata": {
    "deletable": false,
    "tags": []
   },
   "outputs": [
    {
     "data": {
      "image/png": "[encoded data removed]",
      "text/plain": [
       "<Figure size 600x600 with 1 Axes>"
      ]
     },
     "metadata": {},
     "output_type": "display_data"
    },
    {
     "data": {
      "image/png": "[encoded data removed]",
      "text/plain": [
       "<Figure size 600x600 with 1 Axes>"
      ]
     },
     "metadata": {},
     "output_type": "display_data"
    },
    {
     "data": {
      "image/png": "[encoded data removed]",
      "text/plain": [
       "<Figure size 600x600 with 1 Axes>"
      ]
     },
     "metadata": {},
     "output_type": "display_data"
    },
    {
     "data": {
      "image/png": "[encoded data removed]",
      "text/plain": [
       "<Figure size 600x600 with 1 Axes>"
      ]
     },
     "metadata": {},
     "output_type": "display_data"
    },
    {
     "data": {
      "image/png": "[encoded data removed]",
      "text/plain": [
       "<Figure size 600x600 with 1 Axes>"
      ]
     },
     "metadata": {},
     "output_type": "display_data"
    },
    {
     "data": {
      "image/png": "[encoded data removed]",
      "text/plain": [
       "<Figure size 600x600 with 1 Axes>"
      ]
     },
     "metadata": {},
     "output_type": "display_data"
    }
   ],
   "source": [
    "poverty_timeline('Poland')\n",
    "poverty_timeline('India')\n",
    "poverty_timeline('Nigeria')\n",
    "poverty_timeline('China')\n",
    "poverty_timeline('Colombia')\n",
    "poverty_timeline('United States')"
   ]
  },
  {
   "cell_type": "markdown",
   "id": "108ca1ca",
   "metadata": {
    "deletable": false
   },
   "source": [
    "<!-- END QUESTION -->\n",
    "\n",
    "Although the number of people living in extreme poverty increased in some countries including Nigeria and the United States, the decreases in other countries, most notably the massive decreases in China and India, have shaped the overall trend that extreme poverty is decreasing worldwide, both in percentage and in absolute number. \n",
    "\n",
    "To learn more, watch [Hans Rosling in a 2015 film](https://www.gapminder.org/videos/dont-panic-end-poverty/) about the UN goal of eradicating extreme poverty from the world. \n",
    "\n",
    "Below, we've also added an interactive dropdown menu for you to visualize `poverty_timeline` graphs for other countries. Note that each dropdown menu selection may take a few seconds to run."
   ]
  },
  {
   "cell_type": "code",
   "execution_count": 64,
   "id": "f4a5b1b1",
   "metadata": {
    "deletable": false,
    "editable": false
   },
   "outputs": [
    {
     "data": {
      "application/vnd.jupyter.widget-view+json": {
       "model_id": "f33be095a6344257b05bb07458905cb5",
       "version_major": 2,
       "version_minor": 0
      },
      "text/plain": [
       "interactive(children=(Dropdown(description='country', options=('Angola', 'Albania', 'Argentina', 'Armenia', 'A…"
      ]
     },
     "metadata": {},
     "output_type": "display_data"
    }
   ],
   "source": [
    "# Just run this cell\n",
    "\n",
    "all_countries = poverty_map.column('name')\n",
    "_ = widgets.interact(poverty_timeline, country=list(all_countries))"
   ]
  },
  {
   "cell_type": "markdown",
   "id": "45724841",
   "metadata": {
    "deletable": false
   },
   "source": [
    "\n",
    "\n",
    "<img src=\"panda.jpg\" alt=\"drawing\" width=\"300\"/>\n",
    "\n",
    "**Panda wants to tell you, you're finished!** Congratulations on discovering many important facts about global poverty and demonstrating your mastery of table manipulation and data visualization. Time to submit.\n",
    "\n",
    "**<span style=\"color: #BC412B\">Remember to add your project partner to your submission on Gradescope!</span>** <u>Only one partner should submit to Gradescope.</u>"
   ]
  },
  {
   "cell_type": "markdown",
   "id": "0bee1470",
   "metadata": {},
   "source": [
    "## Submission\n",
    "\n",
    "Below, you will see two cells. Running the first cell will automatically generate a PDF of all questions that need to be manually graded, and running the second cell will automatically generate a zip with your autograded answers. You are responsible for submitting both the coding portion (the zip) and the written portion (the PDF) to their respective Gradescope portals. **Please save before exporting!**\n",
    "\n",
    "> **Important: You must correctly assign the pages of your PDF after you submit to the correct gradescope assignment. If your pages are not correctly assigned and/or not in the correct PDF format by the deadline, we reserve the right to award no points for your written work.**\n",
    "\n",
    "If there are issues with automatically generating the PDF in the first cell, you can try downloading the notebook as a PDF by colicking on `File -> Save and Export Notebook As... -> PDF`. If that doesn't work either, you can manually take screenshots of your answers to the manually graded questions and submit those. Either way, **you are responsible for ensuring your submision follows our requirements, we will NOT be granting regrade requests for submissions that don't follow instructions.**\n",
    "\n",
    "**You must submit the PDF generated via one of these methods, we will not accept screenshots or Word documents.**"
   ]
  },
  {
   "cell_type": "code",
   "execution_count": 65,
   "id": "8cafb1bd",
   "metadata": {},
   "outputs": [
    {
     "data": {
      "text/html": [
       "Download your PDF <a href='project1.pdf' download>here</a>."
      ],
      "text/plain": [
       "<IPython.core.display.HTML object>"
      ]
     },
     "metadata": {},
     "output_type": "display_data"
    }
   ],
   "source": [
    "from otter.export import export_notebook\n",
    "from os import path\n",
    "from IPython.display import display, HTML\n",
    "name = 'project1'\n",
    "export_notebook(f\"{name}.ipynb\", filtering=True, pagebreaks=True)\n",
    "if(path.exists(f'{name}.pdf')):\n",
    "    display(HTML(f\"Download your PDF <a href='{name}.pdf' download>here</a>.\"))\n",
    "else:\n",
    "    print(\"\\n Pdf generation failed, please try the other methods described above\")"
   ]
  },
  {
   "cell_type": "markdown",
   "id": "b9de230d",
   "metadata": {
    "deletable": false,
    "editable": false
   },
   "source": [
    "## Submission\n",
    "\n",
    "Make sure you have run all cells in your notebook in order before running the cell below, so that all images/graphs appear in the output. The cell below will generate a zip file for you to submit. **Please save before exporting!**"
   ]
  },
  {
   "cell_type": "code",
   "execution_count": 66,
   "id": "1e747bbe",
   "metadata": {
    "deletable": false,
    "editable": false
   },
   "outputs": [
    {
     "name": "stdout",
     "output_type": "stream",
     "text": [
      "Running your submission against local test cases...\n",
      "\n",
      "\n",
      "\n",
      "Your submission received the following results when run against available test cases:\n",
      "\n",
      "    q0 results: All test cases passed!\n",
      "\n",
      "    q1_1 results: All test cases passed!\n",
      "\n",
      "    q1_2 results: All test cases passed!\n",
      "\n",
      "    q1_5 results: All test cases passed!\n",
      "\n",
      "    q1_7 results: All test cases passed!\n",
      "\n",
      "    q1_9 results: All test cases passed!\n",
      "\n",
      "    q1_11 results: All test cases passed!\n",
      "\n",
      "    q1_12_0 results: All test cases passed!\n",
      "\n",
      "    q1_12 results: All test cases passed!\n",
      "\n",
      "    q1_13 results: All test cases passed!\n",
      "\n",
      "    q1_14 results: All test cases passed!\n",
      "\n",
      "    q2_1 results: All test cases passed!\n",
      "\n",
      "    q2_2 results: All test cases passed!\n",
      "\n",
      "    q2_3 results: All test cases passed!\n",
      "\n",
      "    q2_4 results: All test cases passed!\n",
      "\n",
      "    q2_5 results: All test cases passed!\n"
     ]
    },
    {
     "data": {
      "text/html": [
       "\n",
       "            <p>Your submission has been exported. Click <a href=\"project1_2024_10_01T05_58_03_626373.zip\" download=\"project1_2024_10_01T05_58_03_626373.zip\" target=\"_blank\">here</a>\n",
       "            to download the zip file.</p>\n",
       "            "
      ],
      "text/plain": [
       "<IPython.core.display.HTML object>"
      ]
     },
     "metadata": {},
     "output_type": "display_data"
    }
   ],
   "source": [
    "# Save your notebook first, then run this cell to export your submission.\n",
    "grader.export(pdf=False, run_tests=True)"
   ]
  },
  {
   "cell_type": "markdown",
   "id": "972a8312",
   "metadata": {},
   "source": [
    " "
   ]
  },
  {
   "cell_type": "code",
   "execution_count": null,
   "id": "9485db7f-1d22-4902-9846-65704c0e6aa9",
   "metadata": {},
   "outputs": [],
   "source": []
  }
 ],
 "metadata": {
  "kernelspec": {
   "display_name": "Python 3 (ipykernel)",
   "language": "python",
   "name": "python3"
  },
  "language_info": {
   "codemirror_mode": {
    "name": "ipython",
    "version": 3
   },
   "file_extension": ".py",
   "mimetype": "text/x-python",
   "name": "python",
   "nbconvert_exporter": "python",
   "pygments_lexer": "ipython3",
   "version": "3.11.10"
  },
  "otter": {
   "OK_FORMAT": true,
   "tests": {
    "q0": {
     "name": "q0",
     "points": [
      0
     ],
     "suites": [
      {
       "cases": [
        {
         "code": ">>> i_wont_use_show_without_an_argument == True\nTrue",
         "hidden": false,
         "locked": false
        }
       ],
       "scored": true,
       "setup": "",
       "teardown": "",
       "type": "doctest"
      }
     ]
    },
    "q1_1": {
     "name": "q1_1",
     "points": [
      0,
      0
     ],
     "suites": [
      {
       "cases": [
        {
         "code": ">>> # Check your column labels and spelling\n>>> p_pop.labels == ('time', 'population_total')\nTrue",
         "hidden": false,
         "locked": false
        },
        {
         "code": ">>> # Times should range from 1900 through 2024\n>>> all(p_pop.sort(\"time\").column(\"time\") == np.arange(1900, 2025))\nTrue",
         "hidden": false,
         "locked": false
        }
       ],
       "scored": true,
       "setup": "",
       "teardown": "",
       "type": "doctest"
      }
     ]
    },
    "q1_11": {
     "name": "q1_11",
     "points": [
      0,
      0,
      0,
      4
     ],
     "suites": [
      {
       "cases": [
        {
         "code": ">>> # Incorrect labels for columns\n>>> t = stats_for_year(1990)\n>>> t.labels == ('geo', 'population_total', 'children_per_woman_total_fertility', 'child_mortality_under_5_per_1000_born')\nTrue",
         "hidden": false,
         "locked": false
        },
        {
         "code": ">>> # Incorrect number of rows\n>>> t = stats_for_year(1990)\n>>> t.num_rows\n50",
         "hidden": false,
         "locked": false
        },
        {
         "code": ">>> print(stats_for_year(1960).sort('geo').take(np.arange(5, 50, 5)))\ngeo  | population_total | children_per_woman_total_fertility | child_mortality_under_5_per_1000_born\ncan  | 17898790         | 3.84                               | 32.6\ndeu  | 72811640         | 2.39                               | 40.47\nfra  | 46428134         | 2.74                               | 28.5\nirn  | 21470434         | 7.37                               | 326.94\nkor  | 26115379         | 5.99                               | 112.18\nmoz  | 6713695          | 6.38                               | 277.4\nphl  | 27891897         | 7.03                               | 103.65\ntha  | 26851747         | 6.28                               | 146.46\nusa  | 180274555        | 3.72                               | 30.05\n",
         "hidden": false,
         "locked": false
        },
        {
         "code": ">>> print(stats_for_year(2010).sort('geo').take(np.arange(3, 50, 5)))\ngeo  | population_total | children_per_woman_total_fertility | child_mortality_under_5_per_1000_born\nbgd  | 152201981        | 2.38                               | 49.1\ncod  | 68563038         | 6.59                               | 115.29\nesp  | 46840471         | 1.37                               | 3.85\nidn  | 246305322        | 2.46                               | 34.12\njpn  | 128185275        | 1.36                               | 3.2\nmex  | 113623895        | 2.34                               | 17.36\npak  | 199239047        | 4.4                                | 87.51\nsau  | 25157128         | 2.81                               | 12.08\nuga  | 32390802         | 6.02                               | 77.39\nyem  | 26754387         | 4.81                               | 55.96\n",
         "hidden": false,
         "locked": false
        }
       ],
       "scored": true,
       "setup": "",
       "teardown": "",
       "type": "doctest"
      }
     ]
    },
    "q1_12": {
     "name": "q1_12",
     "points": [
      0,
      0
     ],
     "suites": [
      {
       "cases": [
        {
         "code": ">>> # Check your column labels and spelling\n>>> pop_by_decade.labels == ('decade', 'population')\nTrue",
         "hidden": false,
         "locked": false
        },
        {
         "code": ">>> # The first year of the 1960's is 1960.\n>>> pop_by_decade.column(0).item(0) == 1960\nTrue",
         "hidden": false,
         "locked": false
        }
       ],
       "scored": true,
       "setup": "",
       "teardown": "",
       "type": "doctest"
      }
     ]
    },
    "q1_12_0": {
     "name": "q1_12_0",
     "points": [
      0,
      0,
      0
     ],
     "suites": [
      {
       "cases": [
        {
         "code": ">>> pop_for_year(1972) == 3334568709\nTrue",
         "hidden": false,
         "locked": false
        },
        {
         "code": ">>> pop_for_year(2020) == 6840687359\nTrue",
         "hidden": false,
         "locked": false
        },
        {
         "code": ">>> pop_for_year(1989) == 4556698997\nTrue",
         "hidden": false,
         "locked": false
        }
       ],
       "scored": true,
       "setup": "",
       "teardown": "",
       "type": "doctest"
      }
     ]
    },
    "q1_13": {
     "name": "q1_13",
     "points": [
      0,
      0
     ],
     "suites": [
      {
       "cases": [
        {
         "code": ">>> # Check your column labels and spelling\n>>> region_counts.labels == ('region', 'count')\nTrue",
         "hidden": false,
         "locked": false
        },
        {
         "code": ">>> # Counts must sum to 50\n>>> sum(region_counts.column('count')) == 50\nTrue",
         "hidden": false,
         "locked": false
        }
       ],
       "scored": true,
       "setup": "",
       "teardown": "",
       "type": "doctest"
      }
     ]
    },
    "q1_14": {
     "name": "q1_14",
     "points": [
      0
     ],
     "suites": [
      {
       "cases": [
        {
         "code": ">>> # Please use a list of integers from 1 to 5\n>>> all(x in range(1, 6) for x in set(scatter_statements))\nTrue",
         "hidden": false,
         "locked": false
        }
       ],
       "scored": true,
       "setup": "",
       "teardown": "",
       "type": "doctest"
      }
     ]
    },
    "q1_2": {
     "name": "q1_2",
     "points": [
      0,
      0
     ],
     "suites": [
      {
       "cases": [
        {
         "code": ">>> first = round(p_five_growth.sort(0).column(2).item(0), 8)\n>>> 0.005 <= first <= 0.5\nTrue",
         "hidden": false,
         "locked": false
        },
        {
         "code": ">>> # Compute the annual exponential growth rate\n>>> max(p_five_growth.column(2)) < 0.03\nTrue",
         "hidden": false,
         "locked": false
        }
       ],
       "scored": true,
       "setup": "",
       "teardown": "",
       "type": "doctest"
      }
     ]
    },
    "q1_5": {
     "name": "q1_5",
     "points": [
      0,
      0,
      0
     ],
     "suites": [
      {
       "cases": [
        {
         "code": ">>> # Check your column labels and spelling\n>>> fertility_over_time('usa', 2010).labels == ('Year', 'Children per woman')\nTrue",
         "hidden": false,
         "locked": false
        },
        {
         "code": ">>> # Check that you use the start year to determine the data range.\n>>> all(fertility_over_time('usa', 2010).column('Year') == np.arange(2010, 2025))\nTrue",
         "hidden": false,
         "locked": false
        },
        {
         "code": ">>> # Check that you use the start year to determine the data range.\n>>> all(fertility_over_time('usa', 2005).column('Year') == np.arange(2005, 2025))\nTrue",
         "hidden": false,
         "locked": false
        }
       ],
       "scored": true,
       "setup": "",
       "teardown": "",
       "type": "doctest"
      }
     ]
    },
    "q1_7": {
     "name": "q1_7",
     "points": [
      0,
      0
     ],
     "suites": [
      {
       "cases": [
        {
         "code": ">>> # Make sure you are using the date range 1950-2024\n>>> poland_since_1950.num_rows\n75",
         "hidden": false,
         "locked": false
        },
        {
         "code": ">>> # Check your column labels and spelling\n>>> all([label in poland_since_1950.labels for label in ['Children per woman', 'Child deaths per 1000 born']])\nTrue",
         "hidden": false,
         "locked": false
        }
       ],
       "scored": true,
       "setup": "",
       "teardown": "",
       "type": "doctest"
      }
     ]
    },
    "q1_9": {
     "name": "q1_9",
     "points": [
      0
     ],
     "suites": [
      {
       "cases": [
        {
         "code": ">>> # Please use a list of integers from 1 to 6\n>>> all(x in range(1, 7) for x in set(fertility_statements))\nTrue",
         "hidden": false,
         "locked": false
        }
       ],
       "scored": true,
       "setup": "",
       "teardown": "",
       "type": "doctest"
      }
     ]
    },
    "q2_1": {
     "name": "q2_1",
     "points": [
      0,
      0
     ],
     "suites": [
      {
       "cases": [
        {
         "code": ">>> # Please don't edit the last line.\n>>> latest_poverty.labels == ('geo', 'time', 'poverty_percent')\nTrue",
         "hidden": false,
         "locked": false
        },
        {
         "code": ">>> # The result should have one row per country.\n>>> latest_poverty.num_rows\n145",
         "hidden": false,
         "locked": false
        }
       ],
       "scored": true,
       "setup": "",
       "teardown": "",
       "type": "doctest"
      }
     ]
    },
    "q2_2": {
     "name": "q2_2",
     "points": [
      0,
      0,
      0
     ],
     "suites": [
      {
       "cases": [
        {
         "code": ">>> # Check your column labels and spelling\n>>> recent_poverty_total.labels == ('geo', 'poverty_percent', 'population_total', 'poverty_total')\nTrue",
         "hidden": false,
         "locked": false
        },
        {
         "code": ">>> # Careful, the population of Australia in 2010 was 22,141,581\n>>> float(recent_poverty_total.where('geo', 'aus').column(2).item(0)) == 22141581\nTrue",
         "hidden": false,
         "locked": false
        },
        {
         "code": ">>> # The number of people estimated to be living in extreme poverty\n>>> # in Australia should be 301,126. That's 22,141,581 * 0.0136\n>>> # rounded to the nearest integer.\n>>> float(recent_poverty_total.where('geo', 'aus').column(3).item(0)) == 301126\nTrue",
         "hidden": false,
         "locked": false
        }
       ],
       "scored": true,
       "setup": "",
       "teardown": "",
       "type": "doctest"
      }
     ]
    },
    "q2_3": {
     "name": "q2_3",
     "points": [
      0
     ],
     "suites": [
      {
       "cases": [
        {
         "code": ">>> 10 <= poverty_percent <= 20\nTrue",
         "hidden": false,
         "locked": false
        }
       ],
       "scored": true,
       "setup": "",
       "teardown": "",
       "type": "doctest"
      }
     ]
    },
    "q2_4": {
     "name": "q2_4",
     "points": [
      0,
      0
     ],
     "suites": [
      {
       "cases": [
        {
         "code": ">>> # Check your column labels and spelling\n>>> poverty_map.labels == ('latitude', 'longitude', 'name', 'region', 'poverty_total')\nTrue",
         "hidden": false,
         "locked": false
        },
        {
         "code": ">>> # Something is wrong with your region column.\n>>> list(np.sort(np.unique(poverty_map.column('region'))))\n['africa', 'americas', 'asia', 'europe']",
         "hidden": false,
         "locked": false
        }
       ],
       "scored": true,
       "setup": "",
       "teardown": "",
       "type": "doctest"
      }
     ]
    },
    "q2_5": {
     "name": "q2_5",
     "points": [
      0,
      0,
      0
     ],
     "suites": [
      {
       "cases": [
        {
         "code": ">>> # Check your column labels and spelling\n>>> largest.labels == ('name', 'poverty_total')\nTrue",
         "hidden": false,
         "locked": false
        },
        {
         "code": ">>> # India is the country with the largest number of people living\n>>> # in extreme poverty.\n>>> largest.column(0).item(0)\n'India'",
         "hidden": false,
         "locked": false
        },
        {
         "code": ">>> # The table should contain exactly 10 rows.\n>>> largest.num_rows\n10",
         "hidden": false,
         "locked": false
        }
       ],
       "scored": true,
       "setup": "",
       "teardown": "",
       "type": "doctest"
      }
     ]
    }
   }
  }
 },
 "nbformat": 4,
 "nbformat_minor": 5
}
